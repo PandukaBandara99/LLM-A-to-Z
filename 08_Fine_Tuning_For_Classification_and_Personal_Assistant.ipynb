{
  "cells": [
    {
      "cell_type": "markdown",
      "metadata": {
        "id": "QZMPSq1gIZQz"
      },
      "source": [
        "# **IMPLEMENTING A GPT MODEL FROM SCRATCH TO GENERATE TEXT**"
      ]
    },
    {
      "cell_type": "code",
      "execution_count": null,
      "metadata": {
        "id": "pzsQklDLIZQz"
      },
      "outputs": [],
      "source": [
        "GPT_CONFIG_124M = {\n",
        "    \"vocab_size\": 50257,    # Vocabulary size\n",
        "    \"context_length\": 1024, # Context length\n",
        "    \"emb_dim\": 768,         # Embedding dimension\n",
        "    \"n_heads\": 12,          # Number of attention heads\n",
        "    \"n_layers\": 12,         # Number of layers\n",
        "    \"drop_rate\": 0.1,       # Dropout rate\n",
        "    \"qkv_bias\": False       # Query-Key-Value bias\n",
        "}\n",
        "\n"
      ]
    },
    {
      "cell_type": "code",
      "source": [
        "class MultiHeadAttention(nn.Module):\n",
        "    def __init__(self, d_in, d_out, context_length, dropout, num_heads, qkv_bias=False):\n",
        "        super().__init__()\n",
        "        assert (d_out % num_heads == 0), \\\n",
        "            \"d_out must be divisible by num_heads\"\n",
        "\n",
        "        self.d_out = d_out\n",
        "        self.num_heads = num_heads\n",
        "        self.head_dim = d_out // num_heads # Reduce the projection dim to match desired output dim\n",
        "\n",
        "        self.W_query = nn.Linear(d_in, d_out, bias=qkv_bias)\n",
        "        self.W_key = nn.Linear(d_in, d_out, bias=qkv_bias)\n",
        "        self.W_value = nn.Linear(d_in, d_out, bias=qkv_bias)\n",
        "        self.out_proj = nn.Linear(d_out, d_out)  # Linear layer to combine head outputs\n",
        "        self.dropout = nn.Dropout(dropout)\n",
        "        self.register_buffer(\n",
        "            \"mask\",\n",
        "            torch.triu(torch.ones(context_length, context_length),\n",
        "                       diagonal=1)\n",
        "        )\n",
        "\n",
        "    def forward(self, x):\n",
        "        b, num_tokens, d_in = x.shape\n",
        "\n",
        "        keys = self.W_key(x) # Shape: (b, num_tokens, d_out)\n",
        "        queries = self.W_query(x)\n",
        "        values = self.W_value(x)\n",
        "\n",
        "        # We implicitly split the matrix by adding a `num_heads` dimension\n",
        "        # Unroll last dim: (b, num_tokens, d_out) -> (b, num_tokens, num_heads, head_dim)\n",
        "        keys = keys.view(b, num_tokens, self.num_heads, self.head_dim)\n",
        "        values = values.view(b, num_tokens, self.num_heads, self.head_dim)\n",
        "        queries = queries.view(b, num_tokens, self.num_heads, self.head_dim)\n",
        "\n",
        "        # Transpose: (b, num_tokens, num_heads, head_dim) -> (b, num_heads, num_tokens, head_dim)\n",
        "        keys = keys.transpose(1, 2)\n",
        "        queries = queries.transpose(1, 2)\n",
        "        values = values.transpose(1, 2)\n",
        "\n",
        "        # Compute scaled dot-product attention (aka self-attention) with a causal mask\n",
        "        attn_scores = queries @ keys.transpose(2, 3)  # Dot product for each head\n",
        "\n",
        "        # Original mask truncated to the number of tokens and converted to boolean\n",
        "        mask_bool = self.mask.bool()[:num_tokens, :num_tokens]\n",
        "\n",
        "        # Use the mask to fill attention scores\n",
        "        attn_scores.masked_fill_(mask_bool, -torch.inf)\n",
        "\n",
        "        attn_weights = torch.softmax(attn_scores / keys.shape[-1]**0.5, dim=-1)\n",
        "        attn_weights = self.dropout(attn_weights)\n",
        "\n",
        "        # Shape: (b, num_tokens, num_heads, head_dim)\n",
        "        context_vec = (attn_weights @ values).transpose(1, 2)\n",
        "\n",
        "        # Combine heads, where self.d_out = self.num_heads * self.head_dim\n",
        "        context_vec = context_vec.contiguous().view(b, num_tokens, self.d_out)\n",
        "        context_vec = self.out_proj(context_vec) # optional projection\n",
        "\n",
        "        return context_vec"
      ],
      "metadata": {
        "id": "m17xR3rfUmTb"
      },
      "execution_count": null,
      "outputs": []
    },
    {
      "cell_type": "markdown",
      "metadata": {
        "id": "02GtSAIsIZQz"
      },
      "source": [
        "## **GPT ARCHITECTURE PART 1: DUMMY GPT MODEL CLASS**"
      ]
    },
    {
      "cell_type": "markdown",
      "metadata": {
        "id": "4PHnrEzGIZQz"
      },
      "source": [
        "Step 1: Use a placeholder for TransformerBlock\n",
        "\n",
        "Step 2: Use a placeholder for LayerNorm"
      ]
    },
    {
      "cell_type": "code",
      "execution_count": null,
      "metadata": {
        "id": "ZPcyWGCiIZQz"
      },
      "outputs": [],
      "source": [
        "import torch\n",
        "import torch.nn as nn\n",
        "\n",
        "# ===============================\n",
        "# DummyGPTModel — A minimal GPT-like model structure\n",
        "# ===============================\n",
        "class DummyGPTModel(nn.Module):\n",
        "    def __init__(self, cfg):\n",
        "        \"\"\"\n",
        "        Initialize the DummyGPTModel using the given configuration dictionary.\n",
        "\n",
        "        Args:\n",
        "            cfg (dict): A configuration dictionary containing model hyperparameters:\n",
        "                - \"vocab_size\": Size of the token vocabulary.\n",
        "                - \"emb_dim\": Dimensionality of token and positional embeddings.\n",
        "                - \"context_length\": Maximum sequence length (number of positions).\n",
        "                - \"drop_rate\": Dropout probability for embeddings.\n",
        "                - \"n_layers\": Number of Transformer blocks.\n",
        "        \"\"\"\n",
        "        super().__init__()\n",
        "\n",
        "        # Embedding layer for tokens (converts token IDs into embedding vectors)\n",
        "        self.tok_emb = nn.Embedding(cfg[\"vocab_size\"], cfg[\"emb_dim\"])\n",
        "\n",
        "        # Embedding layer for positional encodings (represents token position in sequence)\n",
        "        self.pos_emb = nn.Embedding(cfg[\"context_length\"], cfg[\"emb_dim\"])\n",
        "\n",
        "        # Dropout layer applied after combining token and positional embeddings\n",
        "        self.drop_emb = nn.Dropout(cfg[\"drop_rate\"])\n",
        "\n",
        "        # A stack of \"Transformer blocks\" — here they are dummy placeholders\n",
        "        # Each block would normally contain self-attention + feedforward layers.\n",
        "        self.trf_blocks = nn.Sequential(\n",
        "            *[DummyTransformerBlock(cfg) for _ in range(cfg[\"n_layers\"])]\n",
        "        )\n",
        "\n",
        "        # A final normalization layer (placeholder)\n",
        "        self.final_norm = DummyLayerNorm(cfg[\"emb_dim\"])\n",
        "\n",
        "        # Output layer that maps from embedding dimension to vocabulary size\n",
        "        # Used to generate logits for each token in the vocabulary.\n",
        "        self.out_head = nn.Linear(cfg[\"emb_dim\"], cfg[\"vocab_size\"], bias=False)\n",
        "\n",
        "    def forward(self, in_idx):\n",
        "        \"\"\"\n",
        "        Forward pass of the DummyGPTModel.\n",
        "\n",
        "        Args:\n",
        "            in_idx (torch.Tensor): Tensor of token indices with shape (batch_size, seq_len)\n",
        "\n",
        "        Returns:\n",
        "            logits (torch.Tensor): Output predictions (unnormalized probabilities)\n",
        "                                   of shape (batch_size, seq_len, vocab_size)\n",
        "        \"\"\"\n",
        "        # Extract batch size and sequence length from input\n",
        "        batch_size, seq_len = in_idx.shape\n",
        "\n",
        "        # Token embeddings: Convert token IDs to embedding vectors\n",
        "        tok_embeds = self.tok_emb(in_idx)\n",
        "\n",
        "        # Positional embeddings: Create embeddings for each position in the sequence\n",
        "        pos_embeds = self.pos_emb(torch.arange(seq_len, device=in_idx.device))\n",
        "\n",
        "        # Combine token embeddings with positional embeddings (broadcasting adds position info)\n",
        "        x = tok_embeds + pos_embeds\n",
        "\n",
        "        # Apply dropout regularization\n",
        "        x = self.drop_emb(x)\n",
        "\n",
        "        # Pass through a series of Transformer blocks (here, they do nothing)\n",
        "        x = self.trf_blocks(x)\n",
        "\n",
        "        # Apply final normalization (dummy layer)\n",
        "        x = self.final_norm(x)\n",
        "\n",
        "        # Compute output logits for each token position\n",
        "        logits = self.out_head(x)\n",
        "\n",
        "        return logits\n",
        "\n",
        "\n",
        "# ===============================\n",
        "# DummyTransformerBlock — Placeholder for a real Transformer block\n",
        "# ===============================\n",
        "class DummyTransformerBlock(nn.Module):\n",
        "    def __init__(self, cfg):\n",
        "        \"\"\"\n",
        "        Placeholder Transformer block.\n",
        "        In a real model, this would include:\n",
        "            - Multi-head self-attention\n",
        "            - Feed-forward neural network\n",
        "            - Layer normalization\n",
        "            - Residual connections\n",
        "        \"\"\"\n",
        "        super().__init__()\n",
        "        # No real operations here — just a placeholder for architecture structure\n",
        "\n",
        "    def forward(self, x):\n",
        "        \"\"\"\n",
        "        Forward pass through the dummy Transformer block.\n",
        "        Simply returns the input tensor unchanged.\n",
        "        \"\"\"\n",
        "        return x\n",
        "\n",
        "\n",
        "# ===============================\n",
        "# DummyLayerNorm — Placeholder for Layer Normalization\n",
        "# ===============================\n",
        "class DummyLayerNorm(nn.Module):\n",
        "    def __init__(self, normalized_shape, eps=1e-5):\n",
        "        \"\"\"\n",
        "        Dummy LayerNorm initialization.\n",
        "        In a real implementation, this would compute normalization over features.\n",
        "\n",
        "        Args:\n",
        "            normalized_shape (int): Number of features in the input tensor to normalize.\n",
        "            eps (float): Small constant added to denominator for numerical stability.\n",
        "        \"\"\"\n",
        "        super().__init__()\n",
        "        # Placeholder — does not actually normalize the input\n",
        "\n",
        "    def forward(self, x):\n",
        "        \"\"\"\n",
        "        Forward pass through the dummy normalization layer.\n",
        "        Simply returns the input tensor unchanged.\n",
        "        \"\"\"\n",
        "        return x\n"
      ]
    },
    {
      "cell_type": "markdown",
      "metadata": {
        "id": "QGGOyl0OIZQz"
      },
      "source": [
        "The DummyGPTModel class in this code defines a simplified version of a GPT-like model using\n",
        "PyTorch's neural network module (nn.Module).\n",
        "\n",
        "The model architecture in the\n",
        "DummyGPTModel class consists of token and positional embeddings, dropout, a series of\n",
        "transformer blocks (DummyTransformerBlock), a final layer normalization\n",
        "(DummyLayerNorm), and a linear output layer (out_head).\n",
        "\n",
        "The configuration is passed in via\n",
        "a Python dictionary, for instance, the GPT_CONFIG_124M dictionary we created earlier."
      ]
    },
    {
      "cell_type": "markdown",
      "metadata": {
        "id": "WcI1Gz6CIZQz"
      },
      "source": [
        "The forward method describes the data flow through the model: it computes token and\n",
        "positional embeddings for the input indices, applies dropout, processes the data through\n",
        "the transformer blocks, applies normalization, and finally produces logits with the linear\n",
        "output layer."
      ]
    },
    {
      "cell_type": "markdown",
      "metadata": {
        "id": "ae5sjdGiIZQ0"
      },
      "source": [
        "The code above is already functional, as we will see later in this section after we prepare\n",
        "the input data.\n",
        "\n",
        "However, for now, note in the code above that we have used placeholders\n",
        "(DummyLayerNorm and DummyTransformerBlock) for the transformer block and layer\n",
        "normalization, which we will develop in later sections\n"
      ]
    },
    {
      "cell_type": "markdown",
      "metadata": {
        "id": "orYtGvkOIZQ0"
      },
      "source": [
        "Next, we will prepare the input data and initialize a new GPT model to illustrate its\n",
        "usage."
      ]
    },
    {
      "cell_type": "markdown",
      "metadata": {
        "id": "Ws4opT1mIZQ0"
      },
      "source": [
        "### **STEP 1: TOKENIZATION**"
      ]
    },
    {
      "cell_type": "code",
      "execution_count": null,
      "metadata": {
        "colab": {
          "base_uri": "https://localhost:8080/"
        },
        "id": "tXmvM-DqIZQ0",
        "outputId": "88a5ec68-788b-463f-b129-164d81349d20"
      },
      "outputs": [
        {
          "output_type": "stream",
          "name": "stdout",
          "text": [
            "tensor([[6109, 3626, 6100,  345],\n",
            "        [6109, 1110, 6622,  257]])\n"
          ]
        }
      ],
      "source": [
        "import tiktoken\n",
        "tokenizer = tiktoken.get_encoding(\"gpt2\")\n",
        "batch = []\n",
        "txt1 = \"Every effort moves you\"\n",
        "txt2 = \"Every day holds a\"\n",
        "batch.append(torch.tensor(tokenizer.encode(txt1)))\n",
        "batch.append(torch.tensor(tokenizer.encode(txt2)))\n",
        "batch = torch.stack(batch, dim=0)\n",
        "print(batch)"
      ]
    },
    {
      "cell_type": "markdown",
      "metadata": {
        "id": "LksOfLNjIZQ1"
      },
      "source": [
        "### **STEP 2: CREATE AN INSTANCE OF DUMMYGPTMODEL**"
      ]
    },
    {
      "cell_type": "code",
      "execution_count": null,
      "metadata": {
        "colab": {
          "base_uri": "https://localhost:8080/"
        },
        "id": "YXuklEoOIZQ1",
        "outputId": "a105ed5e-ddcc-4428-aff0-f49d0743c826"
      },
      "outputs": [
        {
          "output_type": "stream",
          "name": "stdout",
          "text": [
            "Output shape: torch.Size([2, 4, 50257])\n",
            "tensor([[[-1.2034,  0.3201, -0.7130,  ..., -1.5548, -0.2390, -0.4667],\n",
            "         [-0.1192,  0.4539, -0.4432,  ...,  0.2392,  1.3469,  1.2430],\n",
            "         [ 0.5307,  1.6720, -0.4695,  ...,  1.1966,  0.0111,  0.5835],\n",
            "         [ 0.0139,  1.6755, -0.3388,  ...,  1.1586, -0.0435, -1.0400]],\n",
            "\n",
            "        [[-1.0908,  0.1798, -0.9484,  ..., -1.6047,  0.2439, -0.4530],\n",
            "         [-0.7860,  0.5581, -0.0610,  ...,  0.4835, -0.0077,  1.6621],\n",
            "         [ 0.3567,  1.2698, -0.6398,  ..., -0.0162, -0.1296,  0.3717],\n",
            "         [-0.2407, -0.7349, -0.5102,  ...,  2.0057, -0.3694,  0.1814]]],\n",
            "       grad_fn=<UnsafeViewBackward0>)\n"
          ]
        }
      ],
      "source": [
        "torch.manual_seed(123)\n",
        "model = DummyGPTModel(GPT_CONFIG_124M)\n",
        "logits = model(batch)\n",
        "print(\"Output shape:\", logits.shape)\n",
        "print(logits)"
      ]
    },
    {
      "cell_type": "markdown",
      "metadata": {
        "id": "rcNeNP8UIZQ1"
      },
      "source": [
        "The output tensor has two rows corresponding to the two text samples. Each text sample\n",
        "consists of 4 tokens; each token is a 50,257-dimensional vector, which matches the size of\n",
        "the tokenizer's vocabulary.\n",
        "\n",
        "\n",
        "The embedding has 50,257 dimensions because each of these dimensions refers to a\n",
        "unique token in the vocabulary. At the end of this chapter, when we implement the\n",
        "postprocessing code, we will convert these 50,257-dimensional vectors back into token IDs,\n",
        "which we can then decode into words."
      ]
    },
    {
      "cell_type": "markdown",
      "metadata": {
        "id": "GGshYi_9IZQ1"
      },
      "source": [
        "Now that we have taken a top-down look at the GPT architecture and its in- and outputs,\n",
        "we will code the individual placeholders in the upcoming sections, starting with the real\n",
        "layer normalization class that will replace the DummyLayerNorm in the previous code."
      ]
    },
    {
      "cell_type": "markdown",
      "metadata": {
        "id": "FoPQEqUGIZQ1"
      },
      "source": [
        "## **GPT ARCHITECTURE PART 2: LAYER NORMALIZATION**"
      ]
    },
    {
      "cell_type": "markdown",
      "metadata": {
        "id": "De8dzXqdIZQ1"
      },
      "source": [
        "#### **Explanation with a simple example**"
      ]
    },
    {
      "cell_type": "code",
      "execution_count": null,
      "metadata": {
        "colab": {
          "base_uri": "https://localhost:8080/"
        },
        "id": "5fOnx3R0IZQ1",
        "outputId": "97d64e52-6397-40fe-d927-e50b4389e4bf"
      },
      "outputs": [
        {
          "output_type": "stream",
          "name": "stdout",
          "text": [
            "tensor([[0.2260, 0.3470, 0.0000, 0.2216, 0.0000, 0.0000],\n",
            "        [0.2133, 0.2394, 0.0000, 0.5198, 0.3297, 0.0000]],\n",
            "       grad_fn=<ReluBackward0>)\n"
          ]
        }
      ],
      "source": [
        "torch.manual_seed(123)\n",
        "batch_example = torch.randn(2, 5) #A\n",
        "layer = nn.Sequential(nn.Linear(5, 6), nn.ReLU())\n",
        "out = layer(batch_example)\n",
        "print(out)"
      ]
    },
    {
      "cell_type": "markdown",
      "metadata": {
        "id": "XsWUZHdGIZQ2"
      },
      "source": [
        "The neural network layer we have coded consists of a Linear layer followed by a non-linear\n",
        "activation function, ReLU (short for Rectified Linear Unit), which is a standard activation\n",
        "function in neural networks.\n",
        "\n",
        "If you are unfamiliar with ReLU, it simply thresholds negative\n",
        "inputs to 0, ensuring that a layer outputs only positive values, which explains why the\n",
        "resulting layer output does not contain any negative values.\n",
        "\n",
        "(Note that we will use another,\n",
        "more sophisticated activation function in GPT, which we will introduce in the next section).\n"
      ]
    },
    {
      "cell_type": "markdown",
      "metadata": {
        "id": "rfr-cBxCIZQ2"
      },
      "source": [
        "Before we apply layer normalization to these outputs, let's examine the mean and\n",
        "variance"
      ]
    },
    {
      "cell_type": "code",
      "execution_count": null,
      "metadata": {
        "colab": {
          "base_uri": "https://localhost:8080/"
        },
        "id": "hobvLu9IIZQ2",
        "outputId": "bc172727-3571-44d2-826c-5d0f01a74e5c"
      },
      "outputs": [
        {
          "output_type": "stream",
          "name": "stdout",
          "text": [
            "Mean:\n",
            " tensor([[0.1324],\n",
            "        [0.2170]], grad_fn=<MeanBackward1>)\n",
            "Variance:\n",
            " tensor([[0.0231],\n",
            "        [0.0398]], grad_fn=<VarBackward0>)\n"
          ]
        }
      ],
      "source": [
        "mean = out.mean(dim=-1, keepdim=True)\n",
        "var = out.var(dim=-1, keepdim=True)\n",
        "print(\"Mean:\\n\", mean)\n",
        "print(\"Variance:\\n\", var)"
      ]
    },
    {
      "cell_type": "markdown",
      "metadata": {
        "id": "TBKYnrUIIZQ2"
      },
      "source": [
        "The first row in the mean tensor above contains the mean value for the first input row, and\n",
        "the second output row contains the mean for the second input row."
      ]
    },
    {
      "cell_type": "markdown",
      "metadata": {
        "id": "jQSv91k5IZQ2"
      },
      "source": [
        "Using keepdim=True in operations like mean or variance calculation ensures that the\n",
        "output tensor retains the same number of dimensions as the input tensor, even though the\n",
        "operation reduces the tensor along the dimension specified via dim.\n",
        "\n",
        "For instance, without\n",
        "keepdim=True, the returned mean tensor would be a 2-dimensional vector [0.1324,\n",
        "0.2170] instead of a 2×1-dimensional matrix [[0.1324], [0.2170]].\n"
      ]
    },
    {
      "cell_type": "markdown",
      "metadata": {
        "id": "c9wBM53yIZQ2"
      },
      "source": [
        "For a 2D tensor (like a matrix), using dim=-1 for operations such as\n",
        "mean or variance calculation is the same as using dim=1.\n",
        "\n",
        "This is because -1 refers to the\n",
        "tensor's last dimension, which corresponds to the columns in a 2D tensor.\n",
        "\n",
        "Later, when\n",
        "adding layer normalization to the GPT model, which produces 3D tensors with shape\n",
        "[batch_size, num_tokens, embedding_size], we can still use dim=-1 for normalization\n",
        "across the last dimension, avoiding a change from dim=1 to dim=2."
      ]
    },
    {
      "cell_type": "markdown",
      "metadata": {
        "id": "cqpV__2JIZQ2"
      },
      "source": [
        "Next, let us apply layer normalization to the layer outputs we obtained earlier. The\n",
        "operation consists of subtracting the mean and dividing by the square root of the variance\n",
        "(also known as standard deviation)"
      ]
    },
    {
      "cell_type": "code",
      "execution_count": null,
      "metadata": {
        "colab": {
          "base_uri": "https://localhost:8080/"
        },
        "id": "LWYT4TlWIZQ2",
        "outputId": "769a15e1-d460-46a7-9ca4-cd4f6eb60aa4"
      },
      "outputs": [
        {
          "output_type": "stream",
          "name": "stdout",
          "text": [
            "Normalized layer outputs:\n",
            " tensor([[ 0.6159,  1.4126, -0.8719,  0.5872, -0.8719, -0.8719],\n",
            "        [-0.0189,  0.1121, -1.0876,  1.5173,  0.5647, -1.0876]],\n",
            "       grad_fn=<DivBackward0>)\n",
            "Mean:\n",
            " tensor([[    0.0000],\n",
            "        [    0.0000]], grad_fn=<MeanBackward1>)\n",
            "Variance:\n",
            " tensor([[1.0000],\n",
            "        [1.0000]], grad_fn=<VarBackward0>)\n"
          ]
        }
      ],
      "source": [
        "out_norm = (out - mean) / torch.sqrt(var)\n",
        "mean = out_norm.mean(dim=-1, keepdim=True)\n",
        "var = out_norm.var(dim=-1, keepdim=True)\n",
        "print(\"Normalized layer outputs:\\n\", out_norm)\n",
        "print(\"Mean:\\n\", mean)\n",
        "print(\"Variance:\\n\", var)"
      ]
    },
    {
      "cell_type": "markdown",
      "metadata": {
        "id": "YSJowsBDIZQ2"
      },
      "source": [
        "Note that the value 2.9802e-08 in the output tensor is the scientific notation for 2.9802 ×\n",
        "10-8, which is 0.0000000298 in decimal form. This value is very close to 0, but it is not\n",
        "exactly 0 due to small numerical errors that can accumulate because of the finite precision\n",
        "with which computers represent numbers."
      ]
    },
    {
      "cell_type": "markdown",
      "metadata": {
        "id": "2bJuRgg9IZQ2"
      },
      "source": [
        "To improve readability, we can also turn off the scientific notation when printing tensor\n",
        "values by setting sci_mode to False"
      ]
    },
    {
      "cell_type": "code",
      "execution_count": null,
      "metadata": {
        "colab": {
          "base_uri": "https://localhost:8080/"
        },
        "id": "Ub-iTTllIZQ2",
        "outputId": "f72cd4e1-0eee-4231-bda9-2e414ce9f9fa"
      },
      "outputs": [
        {
          "output_type": "stream",
          "name": "stdout",
          "text": [
            "Mean:\n",
            " tensor([[    0.0000],\n",
            "        [    0.0000]], grad_fn=<MeanBackward1>)\n",
            "Variance:\n",
            " tensor([[1.0000],\n",
            "        [1.0000]], grad_fn=<VarBackward0>)\n"
          ]
        }
      ],
      "source": [
        "torch.set_printoptions(sci_mode=False)\n",
        "print(\"Mean:\\n\", mean)\n",
        "print(\"Variance:\\n\", var)"
      ]
    },
    {
      "cell_type": "markdown",
      "metadata": {
        "id": "GL5y4NNMIZQ2"
      },
      "source": [
        "Let's now encapsulate this process in a PyTorch module that we can use in the GPT\n",
        "model later"
      ]
    },
    {
      "cell_type": "code",
      "execution_count": null,
      "metadata": {
        "id": "oGcGuVPbIZQ2"
      },
      "outputs": [],
      "source": [
        "class LayerNorm(nn.Module):\n",
        "    def __init__(self, emb_dim):\n",
        "        super().__init__()\n",
        "        self.eps = 1e-5\n",
        "        self.scale = nn.Parameter(torch.ones(emb_dim))\n",
        "        self.shift = nn.Parameter(torch.zeros(emb_dim))\n",
        "\n",
        "    def forward(self, x):\n",
        "        mean = x.mean(dim=-1, keepdim=True)\n",
        "        var = x.var(dim=-1, keepdim=True, unbiased=False)\n",
        "        norm_x = (x - mean) / torch.sqrt(var + self.eps)\n",
        "        return self.scale * norm_x + self.shift"
      ]
    },
    {
      "cell_type": "markdown",
      "metadata": {
        "id": "fDJa-t_7IZQ3"
      },
      "source": [
        "This specific implementation of layer Normalization operates on the last dimension of the\n",
        "input tensor x, which represents the embedding dimension (emb_dim).\n",
        "\n",
        "The variable eps is a\n",
        "small constant (epsilon) added to the variance to prevent division by zero during\n",
        "normalization.\n",
        "\n",
        "The scale and shift are two trainable parameters (of the same dimension\n",
        "as the input) that the LLM automatically adjusts during training if it is determined that\n",
        "doing so would improve the model's performance on its training task.\n",
        "\n",
        "This allows the model\n",
        "to learn appropriate scaling and shifting that best suit the data it is processing."
      ]
    },
    {
      "cell_type": "markdown",
      "metadata": {
        "id": "OmCLUM80IZQ3"
      },
      "source": [
        "### **A small note on biased variance**"
      ]
    },
    {
      "cell_type": "markdown",
      "metadata": {
        "id": "Ne7NQbfpIZQ3"
      },
      "source": [
        "In our variance calculation method, we have opted for an implementation detail by\n",
        "setting unbiased=False.\n",
        "\n",
        "For those curious about what this means, in the variance\n",
        "calculation, we divide by the number of inputs n in the variance formula.\n",
        "\n",
        "This approach does not apply Bessel's correction, which typically uses n-1 instead of n in\n",
        "the denominator to adjust for bias in sample variance estimation.\n",
        "\n",
        "This decision results in a so-called biased estimate of the variance.\n",
        "\n",
        "For large-scale language\n",
        "models (LLMs), where the embedding dimension n is significantly large, the\n",
        "difference between using n and n-1 is practically negligible.\n",
        "\n",
        "We chose this approach to ensure compatibility with the GPT-2 model's normalization layers and because it\n",
        "reflects TensorFlow's default behavior, which was used to implement the original GPT2 model.\n"
      ]
    },
    {
      "cell_type": "markdown",
      "metadata": {
        "id": "vJTSy9fRIZQ3"
      },
      "source": [
        "Let's now try the LayerNorm module in practice and apply it to the batch input"
      ]
    },
    {
      "cell_type": "code",
      "execution_count": null,
      "metadata": {
        "colab": {
          "base_uri": "https://localhost:8080/"
        },
        "id": "-KVwBN8fIZQ3",
        "outputId": "c75f9cec-1689-40dc-cf4e-e1f7269537f9"
      },
      "outputs": [
        {
          "output_type": "stream",
          "name": "stdout",
          "text": [
            "Mean:\n",
            " tensor([[    -0.0000],\n",
            "        [     0.0000]], grad_fn=<MeanBackward1>)\n",
            "Variance:\n",
            " tensor([[1.0000],\n",
            "        [1.0000]], grad_fn=<VarBackward0>)\n"
          ]
        }
      ],
      "source": [
        "ln = LayerNorm(emb_dim=5)\n",
        "out_ln = ln(batch_example)\n",
        "mean = out_ln.mean(dim=-1, keepdim=True)\n",
        "var = out_ln.var(dim=-1, unbiased=False, keepdim=True)\n",
        "print(\"Mean:\\n\", mean)\n",
        "print(\"Variance:\\n\", var)"
      ]
    },
    {
      "cell_type": "markdown",
      "metadata": {
        "id": "X-dH-lujIZQ3"
      },
      "source": [
        "As we can see based on the results, the layer normalization code works as expected and\n",
        "normalizes the values of each of the two inputs such that they have a mean of 0 and a\n",
        "variance of 1"
      ]
    },
    {
      "cell_type": "markdown",
      "metadata": {
        "id": "NtKNdITSLjIx"
      },
      "source": [
        "### **Why Normalization does not do negative effect?**"
      ]
    },
    {
      "cell_type": "markdown",
      "metadata": {
        "id": "Sqt5VsXEL26K"
      },
      "source": [
        "The Core Question\n",
        "\n",
        "> “Layer normalization changes the output values numerically, and two same vectors can have different values after normalization at different times.\n",
        "> Why doesn’t this negatively affect training globally?”"
      ]
    },
    {
      "cell_type": "markdown",
      "metadata": {
        "id": "mZb44CmNLhoz"
      },
      "source": [
        "**What really happens when we normalize**\n",
        "\n",
        "When you apply Layer Normalization, you compute\n",
        "$$\\text{LN}(x) = \\gamma \\cdot \\frac{x - \\mu}{\\sigma + \\epsilon} + \\beta$$\n",
        "\n",
        "* Here, $ \\mu $ and $ \\sigma $ are computed for each input sample separately.\n",
        "* So yes — even if the same input vector appears at different training steps,\n",
        "  its surrounding network context (weights before it, gradients, etc.) may have changed\n",
        "   → which means $ x $, $\\mu $, and $ \\sigma $ will differ slightly.\n",
        "\n",
        "Hence, the *numerical values* after normalization can differ over time.\n",
        "\n",
        "But that’s *not a bug* — it’s part of what helps the model train.\n",
        "\n"
      ]
    },
    {
      "cell_type": "markdown",
      "metadata": {
        "id": "9Q0EOsq9Msv7"
      },
      "source": [
        "**Why that’s not harmful (and actually helpful)**\n",
        "\n",
        "Even though normalization changes numbers dynamically, training doesn’t get confused because\n",
        "\n",
        "1. The model learns to adapt to normalization\n",
        "\n",
        "> - LayerNorm has trainable parameters γ (scale) and β (bias).They let the network re-scale and re-shift normalized values as needed.\n",
        "> - So if the network needs certain magnitude or offset to represent information,γ and β will learn to bring that back.\n",
        "> - Normalization doesn’t destroy information — it just stabilizes it, then allows the network to “recover” whatever scale/offset it wants.\n",
        "\n",
        "2. Normalization keeps the \"direction\" of information consistent\n",
        "\n",
        "> - When you normalize, you change the magnitude of the activations but keep their relative direction in feature space.\n",
        "> - In deep learning, the relative direction (how features vary together) is what carries information, not the absolute scale.\n",
        "> - So even if the numeric values change, the pattern of information remains intact — and that’s what the next layer learns from.\n",
        "\n",
        "3. It makes optimization more stable globally\n",
        "\n",
        "> Without normalization, during backpropagation\n",
        "> - Activations can explode or vanish (causing unstable gradients)\n",
        "> - Each layer can shift its output distribution unpredictably (called *internal covariate shift*).\n",
        "> - LayerNorm ensures that every layer sees inputs that are roughly **centered and scaled**, regardless of how other layers change.\n",
        "> - This stability lets optimizers (like Adam) make consistent updates even when earlier weights shift slightly.\n",
        "> - So even though the *numbers* change locally, the overall learning process stays stable globally.\n",
        "\n",
        "4. Global model behavior depends on *relative changes*, not absolute values\n",
        "\n",
        "> - Let’s think in terms of training dynamics\n",
        "> - Suppose at time step T₁, a vector $ x_1 $ → normalized → $ y_1 $\n",
        "> - At time step T₂, same vector (but slightly different due to learned weights) → normalized → $ y_2 $\n",
        "> - Even though $ y_1 \\ne y_2 $, the *entire model* (all layers, parameters, gradients) is changing together in a **coordinated way**.\n",
        "> - Training doesn’t require outputs to be numerically stable — only that the optimization process is *consistent* and *gradient-friendly*.\n",
        "> - The model doesn’t rely on *exact numbers*, but rather on how they change relative to the loss landscape.\n",
        "\n"
      ]
    },
    {
      "cell_type": "markdown",
      "metadata": {
        "id": "PRUH9FsMNrTM"
      },
      "source": [
        "**Analogy**\n",
        "\n",
        ">Think of LayerNorm like a **thermostat** in a large system.\n",
        ">\n",
        "> - Even though the exact temperature readings (values) fluctuate,\n",
        "> - The thermostat keeps things in a healthy range — preventing overheat or freeze,\n",
        "> - So the overall system (the model) can keep working efficiently.\n",
        "> - The local variations don’t harm the global function — they help maintain global *stability*.\n",
        "\n",
        "**In short**\n",
        "\n",
        "> LayerNorm changes local values dynamically,\n",
        "> but globally it **preserves representational meaning, stabilizes optimization, and keeps gradients healthy.**\n",
        "> That’s why it *helps* rather than hurts training."
      ]
    },
    {
      "cell_type": "markdown",
      "metadata": {
        "id": "i3DcbruWODH1"
      },
      "source": [
        "### **Batch Normalization vs Layer Normalization**\n"
      ]
    },
    {
      "cell_type": "markdown",
      "metadata": {
        "id": "2iCC21hEN-o2"
      },
      "source": [
        "\n",
        "| Feature                              | **Batch Normalization (BatchNorm)**                                                                | **Layer Normalization (LayerNorm)**                                                             |\n",
        "| ------------------------------------ | -------------------------------------------------------------------------------------------------- | ----------------------------------------------------------------------------------------------- |\n",
        "| **Normalization Scope**              | Across the **batch dimension** (mean and variance are computed for each feature across the batch). | Across the **feature dimension** (mean and variance are computed for each sample individually). |\n",
        "| **Used in**                          | Common in **CNNs** and feedforward networks.                                                       | Common in **Transformers**, **RNNs**, and **language models**.                                  |\n",
        "| **Dependency on Batch Size**         | Depends on batch statistics — smaller batches can make training unstable.                          | Independent of batch size — works well even with batch size = 1.                                |\n",
        "| **When statistics are computed**     | During **training**, uses batch stats; during **inference**, uses running (moving average) stats.  | Uses **current input only**, both during training and inference.                                |\n",
        "| **Computation axis**                 | Normalizes each feature across all samples in the batch.                                           | Normalizes all features within a single sample.                                                 |\n",
        "| **Formula**                          | ( \\hat{x} = \\frac{x - \\mu_{batch}}{\\sigma_{batch} + \\epsilon} )                                    | ( \\hat{x} = \\frac{x - \\mu_{layer}}{\\sigma_{layer} + \\epsilon} )                                 |\n",
        "| **Best suited for**                  | Vision models (CNNs), large batches.                                                               | Sequence models (Transformers, NLP), small batches, or variable-length inputs.                  |\n",
        "| **Typical location in architecture** | After linear/convolutional layers.                                                                 | After linear or attention layers.                                                               |\n",
        "| **Training Stability**               | Can fluctuate with batch composition.                                                              | More stable, since normalization is per sample.                                                 |\n",
        "| **Example Use**                      | ResNet, EfficientNet                                                                               | GPT, BERT, Transformer                                                                          |\n",
        "\n",
        "**Simple Intuition**\n",
        "\n",
        "* **BatchNorm:** “I’ll normalize each feature across the whole mini-batch.”\n",
        "* **LayerNorm:** “I’ll normalize all features within each training example.”\n"
      ]
    },
    {
      "cell_type": "markdown",
      "metadata": {
        "id": "vIssd5eBIZQ3"
      },
      "source": [
        "## **GPT ARCHITECTURE PART 3: FEEDFORWARD NEURAL NETWORK WITH GELU ACTIVATION**"
      ]
    },
    {
      "cell_type": "markdown",
      "metadata": {
        "id": "guOOKRHAIZQ3"
      },
      "source": [
        "Let's implement the GELU activation function approximation used by GPT-2"
      ]
    },
    {
      "cell_type": "code",
      "execution_count": null,
      "metadata": {
        "id": "9MvJ6r5uIZQ3"
      },
      "outputs": [],
      "source": [
        "class GELU(nn.Module):\n",
        "    def __init__(self):\n",
        "        super().__init__()\n",
        "\n",
        "    def forward(self, x):\n",
        "        return 0.5 * x * (1 + torch.tanh(\n",
        "            torch.sqrt(torch.tensor(2.0 / torch.pi)) *\n",
        "            (x + 0.044715 * torch.pow(x, 3))\n",
        "        ))"
      ]
    },
    {
      "cell_type": "markdown",
      "metadata": {
        "id": "8ny5w6nsIZQ3"
      },
      "source": [
        "To get an idea of what this GELU function looks like and how it compares to the ReLU\n",
        "function, let's plot these functions side by side"
      ]
    },
    {
      "cell_type": "code",
      "execution_count": null,
      "metadata": {
        "colab": {
          "base_uri": "https://localhost:8080/",
          "height": 307
        },
        "id": "Me-CGXrYIZQ3",
        "outputId": "f697e1eb-65bc-476b-a5d0-f17c314adda8"
      },
      "outputs": [
        {
          "output_type": "display_data",
          "data": {
            "text/plain": [
              "<Figure size 800x300 with 2 Axes>"
            ],
            "image/png": "[encoded data removed]"
          },
          "metadata": {}
        }
      ],
      "source": [
        "import matplotlib.pyplot as plt\n",
        "\n",
        "gelu, relu = GELU(), nn.ReLU()\n",
        "\n",
        "# Some sample data\n",
        "x = torch.linspace(-3, 3, 100)\n",
        "y_gelu, y_relu = gelu(x), relu(x)\n",
        "\n",
        "plt.figure(figsize=(8, 3))\n",
        "for i, (y, label) in enumerate(zip([y_gelu, y_relu], [\"GELU\", \"ReLU\"]), 1):\n",
        "    plt.subplot(1, 2, i)\n",
        "    plt.plot(x, y)\n",
        "    plt.title(f\"{label} activation function\")\n",
        "    plt.xlabel(\"x\")\n",
        "    plt.ylabel(f\"{label}(x)\")\n",
        "    plt.grid(True)\n",
        "\n",
        "plt.tight_layout()\n",
        "plt.show()\n"
      ]
    },
    {
      "cell_type": "markdown",
      "metadata": {
        "id": "AAlHY7XmIZQ3"
      },
      "source": [
        "As we can see in the resulting plot, ReLU is a piecewise linear function that\n",
        "outputs the input directly if it is positive; otherwise, it outputs zero.\n",
        "\n",
        "GELU is a smooth, nonlinear function that approximates ReLU but with a non-zero gradient for negative values.\n"
      ]
    },
    {
      "cell_type": "markdown",
      "metadata": {
        "id": "hXaciaH_IZQ3"
      },
      "source": [
        "The smoothness of GELU, as shown in the above figure, can lead to better optimization properties\n",
        "during training, as it allows for more nuanced adjustments to the model's parameters.\n",
        "\n",
        "In contrast, ReLU has a sharp corner at zero, which can sometimes make optimization harder,\n",
        "especially in networks that are very deep or have complex architectures.\n",
        "\n",
        "Moreover, unlike RELU, which outputs zero for any negative input, GELU allows for a small, non-zero output\n",
        "for negative values.\n",
        "\n",
        "This characteristic means that during the training process, neurons that\n",
        "receive negative input can still contribute to the learning process, albeit to a lesser extent\n",
        "than positive inputs."
      ]
    },
    {
      "cell_type": "markdown",
      "metadata": {
        "id": "xw_gUYqQIZQ3"
      },
      "source": [
        "Next, let's use the GELU function to implement the small neural network module,\n",
        "FeedForward, that we will be using in the LLM's transformer block later:"
      ]
    },
    {
      "cell_type": "code",
      "execution_count": null,
      "metadata": {
        "id": "7Sk8rENuIZQ4"
      },
      "outputs": [],
      "source": [
        "class FeedForward(nn.Module):\n",
        "    def __init__(self, cfg):\n",
        "        super().__init__()\n",
        "        self.layers = nn.Sequential(\n",
        "            nn.Linear(cfg[\"emb_dim\"], 4 * cfg[\"emb_dim\"]),\n",
        "            GELU(),\n",
        "            nn.Linear(4 * cfg[\"emb_dim\"], cfg[\"emb_dim\"]),\n",
        "        )\n",
        "\n",
        "    def forward(self, x):\n",
        "        return self.layers(x)"
      ]
    },
    {
      "cell_type": "code",
      "execution_count": null,
      "metadata": {
        "colab": {
          "base_uri": "https://localhost:8080/"
        },
        "id": "J-sztEOnIZQ4",
        "outputId": "b13347f0-c306-421f-8f0c-c3ca07831b38"
      },
      "outputs": [
        {
          "output_type": "stream",
          "name": "stdout",
          "text": [
            "768\n"
          ]
        }
      ],
      "source": [
        "print(GPT_CONFIG_124M[\"emb_dim\"])\n"
      ]
    },
    {
      "cell_type": "markdown",
      "metadata": {
        "id": "XCdephV1IZQ4"
      },
      "source": [
        "As we can see in the preceding code, the FeedForward module is a small neural network\n",
        "consisting of two Linear layers and a GELU activation function.\n",
        "\n",
        "In the 124 million parameter GPT model, it receives the input batches with tokens that have an embedding\n",
        "size of 768 each via the GPT_CONFIG_124M dictionary where GPT_CONFIG_124M[\"emb_dim\"]\n",
        "= 768.\n"
      ]
    },
    {
      "cell_type": "markdown",
      "metadata": {
        "id": "SdP5JzxOIZQ4"
      },
      "source": [
        "Let's use the GELU function to implement the small neural network module,\n",
        "FeedForward, that we will be using in the LLM's transformer block later"
      ]
    },
    {
      "cell_type": "code",
      "execution_count": null,
      "metadata": {
        "colab": {
          "base_uri": "https://localhost:8080/"
        },
        "id": "CQZ0Ez4PIZQ4",
        "outputId": "e6b2225e-b22b-40f1-fe0c-f0687e295d4c"
      },
      "outputs": [
        {
          "output_type": "stream",
          "name": "stdout",
          "text": [
            "torch.Size([2, 3, 768])\n"
          ]
        }
      ],
      "source": [
        "ffn = FeedForward(GPT_CONFIG_124M)\n",
        "x = torch.rand(2, 3, 768) #A\n",
        "out = ffn(x)\n",
        "print(out.shape)"
      ]
    },
    {
      "cell_type": "markdown",
      "metadata": {
        "id": "04dADeiGIZQ4"
      },
      "source": [
        "The FeedForward module we implemented in this section plays a crucial role in enhancing\n",
        "the model's ability to learn from and generalize the data.\n",
        "\n",
        "\n",
        "Although the input and output dimensions of this module are the same, it internally expands the embedding dimension\n",
        "into a higher-dimensional space through the first linear layer.\n",
        "\n",
        "This expansion is followed by a non-linear GELU activation, and then a contraction back to\n",
        "the original dimension with the second linear transformation.\n",
        "\n",
        "Such a design allows for the\n",
        "exploration of a richer representation space."
      ]
    },
    {
      "cell_type": "markdown",
      "metadata": {
        "id": "Sm1GFrIwIZQ4"
      },
      "source": [
        "Moreover, the uniformity in input and output dimensions simplifies the architecture by\n",
        "enabling the stacking of multiple layers, as we will do later, without the need to adjust\n",
        "dimensions between them, thus making the model more scalable."
      ]
    },
    {
      "cell_type": "markdown",
      "metadata": {
        "id": "Tu7_w077IZQ4"
      },
      "source": [
        "## **GPT ARCHITECTURE PART 4: SHORTCUT CONNECTIONS**"
      ]
    },
    {
      "cell_type": "markdown",
      "metadata": {
        "id": "_0197fgdIZQ4"
      },
      "source": [
        "Let us see how we can add shortcut connections to the forward method"
      ]
    },
    {
      "cell_type": "code",
      "execution_count": null,
      "metadata": {
        "id": "Nqld4dO9IZQ4"
      },
      "outputs": [],
      "source": [
        "class ExampleDeepNeuralNetwork(nn.Module):\n",
        "    def __init__(self, layer_sizes, use_shortcut):\n",
        "        super().__init__()\n",
        "        self.use_shortcut = use_shortcut\n",
        "        self.layers = nn.ModuleList([\n",
        "            nn.Sequential(nn.Linear(layer_sizes[0], layer_sizes[1]), GELU()),\n",
        "            nn.Sequential(nn.Linear(layer_sizes[1], layer_sizes[2]), GELU()),\n",
        "            nn.Sequential(nn.Linear(layer_sizes[2], layer_sizes[3]), GELU()),\n",
        "            nn.Sequential(nn.Linear(layer_sizes[3], layer_sizes[4]), GELU()),\n",
        "            nn.Sequential(nn.Linear(layer_sizes[4], layer_sizes[5]), GELU())\n",
        "        ])\n",
        "\n",
        "    def forward(self, x):\n",
        "        for layer in self.layers:\n",
        "            # Compute the output of the current layer\n",
        "            layer_output = layer(x)\n",
        "            # Check if shortcut can be applied\n",
        "            if self.use_shortcut and x.shape == layer_output.shape:\n",
        "                x = x + layer_output\n",
        "            else:\n",
        "                x = layer_output\n",
        "        return x\n"
      ]
    },
    {
      "cell_type": "markdown",
      "metadata": {
        "id": "WkJTfS48IZQ5"
      },
      "source": [
        "The code implements a deep neural network with 5 layers, each consisting of a Linear\n",
        "layer and a GELU activation function.\n",
        "\n",
        "In the forward pass, we iteratively pass the input\n",
        "through the layers and optionally add the shortcut connections  if\n",
        "the self.use_shortcut attribute is set to True."
      ]
    },
    {
      "cell_type": "markdown",
      "metadata": {
        "id": "oOEzFML-IZQ5"
      },
      "source": [
        "Let's use this code to first initialize a neural network without shortcut connections. Here,\n",
        "each layer will be initialized such that it accepts an example with 3 input values and returns\n",
        "3 output values. The last layer returns a single output value"
      ]
    },
    {
      "cell_type": "code",
      "execution_count": null,
      "metadata": {
        "id": "mTRapbkEIZQ5"
      },
      "outputs": [],
      "source": [
        "layer_sizes = [3, 3, 3, 3, 3, 1]\n",
        "sample_input = torch.tensor([[1., 0., -1.]])\n",
        "torch.manual_seed(123) # specify random seed for the initial weights for reproducibility\n",
        "model_without_shortcut = ExampleDeepNeuralNetwork(\n",
        "layer_sizes, use_shortcut=False\n",
        ")"
      ]
    },
    {
      "cell_type": "markdown",
      "metadata": {
        "id": "pMS-7BQQIZQ5"
      },
      "source": [
        "Next, we implement a function that computes the gradients in the the model's backward\n",
        "pass"
      ]
    },
    {
      "cell_type": "code",
      "execution_count": null,
      "metadata": {
        "id": "4OmWuCcxIZQ5"
      },
      "outputs": [],
      "source": [
        "def print_gradients(model, x):\n",
        "    # Forward pass\n",
        "    output = model(x)\n",
        "    target = torch.tensor([[0.]])\n",
        "\n",
        "    # Calculate loss based on how close the target\n",
        "    # and output are\n",
        "    loss = nn.MSELoss()\n",
        "    loss = loss(output, target)\n",
        "\n",
        "    # Backward pass to calculate the gradients\n",
        "    loss.backward()\n",
        "\n",
        "    for name, param in model.named_parameters():\n",
        "        if 'weight' in name:\n",
        "            # Print the mean absolute gradient of the weights\n",
        "            print(f\"{name} has gradient mean of {param.grad.abs().mean().item()}\")"
      ]
    },
    {
      "cell_type": "markdown",
      "metadata": {
        "id": "9bU8pJ-QIZQ5"
      },
      "source": [
        "In the preceding code, we specify a loss function that computes how close the model output\n",
        "and a user-specified target (here, for simplicity, the value 0) are.\n",
        "\n",
        "Then, when calling loss.backward(), PyTorch computes the loss gradient for each layer in the model.\n",
        "\n",
        "We can iterate through the weight parameters via model.named_parameters().\n",
        "\n",
        "Suppose we have a 3×3 weight parameter matrix for a given layer.\n",
        "\n",
        "In that case, this layer will have 3×3 gradient values, and we print the mean absolute gradient of these 3×3 gradient values to\n",
        "obtain a single gradient value per layer to compare the gradients between layers more\n",
        "easily."
      ]
    },
    {
      "cell_type": "markdown",
      "metadata": {
        "id": "nAg1qbYvIZQ5"
      },
      "source": [
        "In short, the .backward() method is a convenient method in PyTorch that computes loss\n",
        "gradients, which are required during model training, without implementing the math for the\n",
        "gradient calculation ourselves, thereby making working with deep neural networks much\n",
        "more accessible."
      ]
    },
    {
      "cell_type": "markdown",
      "metadata": {
        "id": "6pyl0qx9IZQ5"
      },
      "source": [
        "Let's now use the `print_gradients` function and apply it to the model without skip\n",
        "connections"
      ]
    },
    {
      "cell_type": "code",
      "execution_count": null,
      "metadata": {
        "colab": {
          "base_uri": "https://localhost:8080/"
        },
        "id": "GOeTs4SdIZQ5",
        "outputId": "fbe5a823-cbde-4fa5-d875-8595e5053fa8"
      },
      "outputs": [
        {
          "output_type": "stream",
          "name": "stdout",
          "text": [
            "layers.0.0.weight has gradient mean of 0.00020173584925942123\n",
            "layers.1.0.weight has gradient mean of 0.00012011159560643137\n",
            "layers.2.0.weight has gradient mean of 0.0007152040489017963\n",
            "layers.3.0.weight has gradient mean of 0.0013988736318424344\n",
            "layers.4.0.weight has gradient mean of 0.005049645435065031\n"
          ]
        }
      ],
      "source": [
        "print_gradients(model_without_shortcut, sample_input)"
      ]
    },
    {
      "cell_type": "markdown",
      "metadata": {
        "id": "wfVA4kRnIZQ5"
      },
      "source": [
        "As we can see based on the output of the print_gradients function, the gradients become\n",
        "smaller as we progress from the last layer (layers.4) to the first layer (layers.0), which\n",
        "is a phenomenon called the vanishing gradient problem."
      ]
    },
    {
      "cell_type": "markdown",
      "metadata": {
        "id": "Zo87eRUyIZQ5"
      },
      "source": [
        "Let's now instantiate a model with skip connections and see how it compares"
      ]
    },
    {
      "cell_type": "code",
      "execution_count": null,
      "metadata": {
        "colab": {
          "base_uri": "https://localhost:8080/"
        },
        "id": "m6s3A9NnIZQ5",
        "outputId": "c64e585b-e2b0-4554-9505-e6d3b1009373"
      },
      "outputs": [
        {
          "output_type": "stream",
          "name": "stdout",
          "text": [
            "layers.0.0.weight has gradient mean of 0.22169791162014008\n",
            "layers.1.0.weight has gradient mean of 0.20694105327129364\n",
            "layers.2.0.weight has gradient mean of 0.32896995544433594\n",
            "layers.3.0.weight has gradient mean of 0.2665732204914093\n",
            "layers.4.0.weight has gradient mean of 1.3258540630340576\n"
          ]
        }
      ],
      "source": [
        "torch.manual_seed(123)\n",
        "model_with_shortcut = ExampleDeepNeuralNetwork(\n",
        "layer_sizes, use_shortcut=True\n",
        ")\n",
        "print_gradients(model_with_shortcut, sample_input)"
      ]
    },
    {
      "cell_type": "markdown",
      "metadata": {
        "id": "DfmoGzwGIZQ5"
      },
      "source": [
        "As we can see, based on the output, the last layer (layers.4) still has a larger gradient\n",
        "than the other layers.\n",
        "\n",
        "However, the gradient value stabilizes as we progress towards the\n",
        "first layer (layers.0) and doesn't shrink to a vanishingly small value."
      ]
    },
    {
      "cell_type": "markdown",
      "metadata": {
        "id": "Pwu1Zy4fIZQ6"
      },
      "source": [
        "In conclusion, shortcut connections are important for overcoming the limitations posed\n",
        "by the vanishing gradient problem in deep neural networks.\n",
        "\n",
        "Shortcut connections are a core building block of very large models such as LLMs, and they will help facilitate more effective\n",
        "training by ensuring consistent gradient flow across layers when we train the GPT model"
      ]
    },
    {
      "cell_type": "markdown",
      "metadata": {
        "id": "kJDdGbv7IZQ6"
      },
      "source": [
        "## **GPT ARCHITECTURE PART 5: CODING ATTENTION AND LINEAR LAYERS IN A TRANSFORMER BLOCK**"
      ]
    },
    {
      "cell_type": "markdown",
      "metadata": {
        "id": "6juKSJWAIZQ6"
      },
      "source": [
        "Let us code a transformer block as follows"
      ]
    },
    {
      "cell_type": "markdown",
      "metadata": {
        "id": "pO5VjqP5IZQ6"
      },
      "source": [
        "Step 1: Shortcut connection for attention block\n",
        "\n",
        "Step 2:  Shortcut connection for feed forward block\n",
        "\n",
        "Step 3: Add the original input back"
      ]
    },
    {
      "cell_type": "code",
      "execution_count": null,
      "metadata": {
        "id": "qeXZFL3CIZQ9"
      },
      "outputs": [],
      "source": [
        "class TransformerBlock(nn.Module):\n",
        "    def __init__(self, cfg):\n",
        "        \"\"\"\n",
        "        A single Transformer block that combines:\n",
        "        1. Multi-Head Self-Attention\n",
        "        2. Feed-Forward Network\n",
        "        3. Layer Normalization\n",
        "        4. Residual (skip) connections\n",
        "        5. Dropout regularization\n",
        "\n",
        "        Args:\n",
        "            cfg (dict): Configuration dictionary containing:\n",
        "                - emb_dim: Embedding dimension (input/output feature size)\n",
        "                - context_length: Maximum number of tokens (sequence length)\n",
        "                - n_heads: Number of attention heads\n",
        "                - drop_rate: Dropout rate\n",
        "                - qkv_bias: Whether to use bias in query/key/value projections\n",
        "        \"\"\"\n",
        "        super().__init__()\n",
        "\n",
        "        # Multi-Head Self-Attention layer\n",
        "        # This lets each token \"attend\" to (look at) other tokens in the sequence\n",
        "        self.att = MultiHeadAttention(\n",
        "            d_in=cfg[\"emb_dim\"],            # Input embedding dimension\n",
        "            d_out=cfg[\"emb_dim\"],           # Output dimension (same as input)\n",
        "            context_length=cfg[\"context_length\"],  # Sequence length (number of tokens)\n",
        "            num_heads=cfg[\"n_heads\"],       # Number of parallel attention heads\n",
        "            dropout=cfg[\"drop_rate\"],       # Dropout applied inside attention\n",
        "            qkv_bias=cfg[\"qkv_bias\"]        # Whether to use bias terms in Q, K, V projections\n",
        "        )\n",
        "\n",
        "        # Feed-forward sublayer (position-wise fully connected network)\n",
        "        # Usually consists of two linear layers with a GELU/ReLU activation\n",
        "        self.ff = FeedForward(cfg)\n",
        "\n",
        "        # First Layer Normalization (applied before attention)\n",
        "        self.norm1 = LayerNorm(cfg[\"emb_dim\"])\n",
        "\n",
        "        # Second Layer Normalization (applied before feed-forward)\n",
        "        self.norm2 = LayerNorm(cfg[\"emb_dim\"])\n",
        "\n",
        "        # Dropout applied to residual (shortcut) connections to prevent overfitting\n",
        "        self.drop_shortcut = nn.Dropout(cfg[\"drop_rate\"])\n",
        "\n",
        "    def forward(self, x):\n",
        "        \"\"\"\n",
        "        Forward pass through the Transformer block.\n",
        "\n",
        "        Args:\n",
        "            x (torch.Tensor): Input tensor of shape [batch_size, num_tokens, emb_dim]\n",
        "\n",
        "        Returns:\n",
        "            torch.Tensor: Output tensor of the same shape as input\n",
        "        \"\"\"\n",
        "\n",
        "        # ==============================\n",
        "        # 1️⃣ Attention Sub-Layer\n",
        "        # ==============================\n",
        "\n",
        "        # Save input as shortcut (for residual connection)\n",
        "        shortcut = x\n",
        "\n",
        "        # Apply layer normalization before attention\n",
        "        x = self.norm1(x)\n",
        "\n",
        "        # Apply multi-head self-attention\n",
        "        # Each token attends to other tokens and aggregates contextual info\n",
        "        x = self.att(x)  # Shape: [batch_size, num_tokens, emb_dim]\n",
        "\n",
        "        # Apply dropout to attention output for regularization\n",
        "        x = self.drop_shortcut(x)\n",
        "\n",
        "        # Add the original input (residual connection)\n",
        "        # Helps prevent vanishing gradients and preserves original information\n",
        "        x = x + shortcut\n",
        "\n",
        "        # ==============================\n",
        "        # 2️⃣ Feed-Forward Sub-Layer\n",
        "        # ==============================\n",
        "\n",
        "        # Save input again for another residual connection\n",
        "        shortcut = x\n",
        "\n",
        "        # Apply layer normalization before feed-forward network\n",
        "        x = self.norm2(x)\n",
        "\n",
        "        # Pass through the feed-forward network\n",
        "        x = self.ff(x)\n",
        "\n",
        "        # Apply dropout to feed-forward output\n",
        "        x = self.drop_shortcut(x)\n",
        "\n",
        "        # Add the shortcut again (residual connection)\n",
        "        x = x + shortcut\n",
        "\n",
        "        # ==============================\n",
        "        # 3️⃣ Output\n",
        "        # ==============================\n",
        "\n",
        "        # Return the transformed tensor (same shape as input)\n",
        "        return x\n"
      ]
    },
    {
      "cell_type": "markdown",
      "metadata": {
        "id": "WWIbWqmHIZQ9"
      },
      "source": [
        "The given code defines a TransformerBlock class in PyTorch that includes a multi-head\n",
        "attention mechanism (MultiHeadAttention) and a feed forward network (FeedForward),\n",
        "both configured based on a provided configuration dictionary (cfg), such as\n",
        "GPT_CONFIG_124M"
      ]
    },
    {
      "cell_type": "markdown",
      "metadata": {
        "id": "BBfnIZ5hIZQ9"
      },
      "source": [
        "Layer normalization (LayerNorm) is applied before each of these two components, and\n",
        "dropout is applied after them to regularize the model and prevent overfitting.\n",
        "\n",
        "This is also known as Pre-LayerNorm.\n",
        "\n",
        "Older architectures, such as the original transformer model,\n",
        "applied layer normalization after the self-attention and feed-forward networks instead,\n",
        "known as Post-LayerNorm, which often leads to worse training dynamics."
      ]
    },
    {
      "cell_type": "markdown",
      "metadata": {
        "id": "kqC2uxczIZQ9"
      },
      "source": [
        "The class also implements the forward pass, where each component is followed by a\n",
        "shortcut connection that adds the input of the block to its output. This critical feature helps\n",
        "gradients flow through the network during training and improves the learning of deep\n",
        "models"
      ]
    },
    {
      "cell_type": "markdown",
      "metadata": {
        "id": "zaftcnuwIZQ9"
      },
      "source": [
        "Using the GPT_CONFIG_124M dictionary we defined earlier, let's instantiate a transformer\n",
        "block and feed it some sample data"
      ]
    },
    {
      "cell_type": "markdown",
      "metadata": {
        "id": "8qA6jRILIZQ9"
      },
      "source": [
        "Create sample input of shape [batch_size, num_tokens, emb_dim]"
      ]
    },
    {
      "cell_type": "code",
      "execution_count": null,
      "metadata": {
        "colab": {
          "base_uri": "https://localhost:8080/"
        },
        "id": "-dDEfFX6IZQ-",
        "outputId": "8679a5e0-549e-48e9-aa44-2112ffc9c570"
      },
      "outputs": [
        {
          "output_type": "stream",
          "name": "stdout",
          "text": [
            "Input shape: torch.Size([2, 4, 768])\n",
            "Output shape: torch.Size([2, 4, 768])\n"
          ]
        }
      ],
      "source": [
        "torch.manual_seed(123)\n",
        "x = torch.rand(2, 4, 768) #A\n",
        "block = TransformerBlock(GPT_CONFIG_124M)\n",
        "output = block(x)\n",
        "print(\"Input shape:\", x.shape)\n",
        "print(\"Output shape:\", output.shape)"
      ]
    },
    {
      "cell_type": "markdown",
      "metadata": {
        "id": "99e3cOGUIZQ-"
      },
      "source": [
        "As we can see from the code output, the transformer block maintains the input dimensions\n",
        "in its output, indicating that the transformer architecture processes sequences of data\n",
        "without altering their shape throughout the network."
      ]
    },
    {
      "cell_type": "markdown",
      "metadata": {
        "id": "UpcG_iMeIZQ-"
      },
      "source": [
        "  \n",
        "The preservation of shape throughout the transformer block architecture is not incidental\n",
        "but a crucial aspect of its design.\n",
        "\n",
        "This design enables its effective application across a wide\n",
        "range of sequence-to-sequence tasks, where each output vector directly corresponds to an\n",
        "input vector, maintaining a one-to-one relationship."
      ]
    },
    {
      "cell_type": "markdown",
      "metadata": {
        "id": "n2waF1KGIZQ-"
      },
      "source": [
        "However, the output is a context vector\n",
        "that encapsulates information from the entire input sequence.\n",
        "\n",
        "This means that while the physical dimensions of the sequence (length and feature size)\n",
        "remain unchanged as it passes through the transformer block, the content of each output\n",
        "vector is re-encoded to integrate contextual information from across the entire input\n",
        "sequence."
      ]
    },
    {
      "cell_type": "markdown",
      "metadata": {
        "id": "bvctwN7NIZQ-"
      },
      "source": [
        "## **GPT ARCHITECTURE PART 6: ENTIRE GPT MODEL ARCHITECTURE IMPLEMENTATION**"
      ]
    },
    {
      "cell_type": "markdown",
      "metadata": {
        "id": "F5ayGy00IZQ-"
      },
      "source": [
        "The device setting will allow us to train the model on a CPU or GPU, depending on which device the input\n",
        "data sits"
      ]
    },
    {
      "cell_type": "code",
      "execution_count": null,
      "metadata": {
        "id": "yMdf4fJCIZQ_"
      },
      "outputs": [],
      "source": [
        "class GPTModel(nn.Module):\n",
        "    def __init__(self, cfg):\n",
        "        \"\"\"\n",
        "        GPTModel — A simplified Generative Pretrained Transformer (GPT)-style model.\n",
        "\n",
        "        This model processes sequences of token IDs and predicts the next token\n",
        "        in a sequence using a stack of Transformer blocks.\n",
        "\n",
        "        Args:\n",
        "            cfg (dict): Configuration dictionary containing:\n",
        "                - vocab_size: Total number of unique tokens (vocabulary size)\n",
        "                - emb_dim: Embedding dimension (size of each token vector)\n",
        "                - context_length: Maximum number of tokens in one input sequence\n",
        "                - drop_rate: Dropout probability (for regularization)\n",
        "                - n_layers: Number of stacked Transformer blocks\n",
        "        \"\"\"\n",
        "        super().__init__()\n",
        "\n",
        "        # ===============================\n",
        "        # 1️⃣ Embedding Layers\n",
        "        # ===============================\n",
        "\n",
        "        # Token embedding: Converts token indices into continuous embedding vectors\n",
        "        # Shape after embedding → [batch_size, seq_len, emb_dim]\n",
        "        self.tok_emb = nn.Embedding(cfg[\"vocab_size\"], cfg[\"emb_dim\"])\n",
        "\n",
        "        # Positional embedding: Adds information about token positions in the sequence\n",
        "        # Each position (0, 1, 2, … context_length-1) has its own embedding vector\n",
        "        self.pos_emb = nn.Embedding(cfg[\"context_length\"], cfg[\"emb_dim\"])\n",
        "\n",
        "        # Dropout layer for regularization applied to embeddings\n",
        "        self.drop_emb = nn.Dropout(cfg[\"drop_rate\"])\n",
        "\n",
        "        # ===============================\n",
        "        # 2️⃣ Transformer Blocks\n",
        "        # ===============================\n",
        "\n",
        "        # Stack of multiple Transformer blocks (each block = attention + feedforward)\n",
        "        # The '*' operator unpacks the list of blocks inside nn.Sequential\n",
        "        self.trf_blocks = nn.Sequential(\n",
        "            *[TransformerBlock(cfg) for _ in range(cfg[\"n_layers\"])]\n",
        "        )\n",
        "\n",
        "        # ===============================\n",
        "        # 3️⃣ Final Layers\n",
        "        # ===============================\n",
        "\n",
        "        # Layer normalization applied after all transformer layers\n",
        "        # This helps stabilize the output representations\n",
        "        self.final_norm = LayerNorm(cfg[\"emb_dim\"])\n",
        "\n",
        "        # Linear layer (output head): Maps each token’s embedding\n",
        "        # to a vector of size 'vocab_size' — i.e., prediction logits for each token\n",
        "        # No bias term because embedding and output projections often share weights\n",
        "        self.out_head = nn.Linear(cfg[\"emb_dim\"], cfg[\"vocab_size\"], bias=False)\n",
        "\n",
        "    def forward(self, in_idx):\n",
        "        \"\"\"\n",
        "        Forward pass through the GPT model.\n",
        "\n",
        "        Args:\n",
        "            in_idx (torch.Tensor): Input tensor of token indices,\n",
        "                                   shape [batch_size, seq_len]\n",
        "\n",
        "        Returns:\n",
        "            logits (torch.Tensor): Predicted unnormalized probabilities for each token,\n",
        "                                   shape [batch_size, seq_len, vocab_size]\n",
        "        \"\"\"\n",
        "        # Extract batch size and sequence length from the input tensor\n",
        "        batch_size, seq_len = in_idx.shape\n",
        "\n",
        "        # ===============================\n",
        "        # 1️⃣ Token + Positional Embeddings\n",
        "        # ===============================\n",
        "\n",
        "        # Get token embeddings for each input token ID\n",
        "        tok_embeds = self.tok_emb(in_idx)  # Shape: [batch_size, seq_len, emb_dim]\n",
        "\n",
        "        # Create position indices (0 to seq_len-1) and get their embeddings\n",
        "        pos_embeds = self.pos_emb(torch.arange(seq_len, device=in_idx.device))\n",
        "\n",
        "        # Combine token embeddings with position embeddings\n",
        "        # Adds positional information to each token representation\n",
        "        x = tok_embeds + pos_embeds  # Shape: [batch_size, seq_len, emb_dim]\n",
        "\n",
        "        # Apply dropout to prevent overfitting\n",
        "        x = self.drop_emb(x)\n",
        "\n",
        "        # ===============================\n",
        "        # 2️⃣ Transformer Encoder Blocks\n",
        "        # ===============================\n",
        "\n",
        "        # Pass embeddings through the stack of Transformer blocks\n",
        "        # Each block performs self-attention + feed-forward processing\n",
        "        x = self.trf_blocks(x)\n",
        "\n",
        "        # Apply final layer normalization\n",
        "        x = self.final_norm(x)\n",
        "\n",
        "        # ===============================\n",
        "        # 3️⃣ Output Projection\n",
        "        # ===============================\n",
        "\n",
        "        # Project each embedding vector to vocabulary logits\n",
        "        # This produces predictions for the next token at each position\n",
        "        logits = self.out_head(x)  # Shape: [batch_size, seq_len, vocab_size]\n",
        "\n",
        "        # Return logits (to be used with cross-entropy loss during training)\n",
        "        return logits"
      ]
    },
    {
      "cell_type": "markdown",
      "metadata": {
        "id": "1r0Ae5_aIZQ_"
      },
      "source": [
        "  \n",
        "The `__init__` constructor of this GPTModel class initializes the token and positional\n",
        "embedding layers using the configurations passed in via a Python dictionary, cfg.\n",
        "\n",
        "These\n",
        "embedding layers are responsible for converting input token indices into dense vectors and\n",
        "adding positional information."
      ]
    },
    {
      "cell_type": "markdown",
      "metadata": {
        "id": "FiLgb6hnIZQ_"
      },
      "source": [
        "   \n",
        "Next, the `__init__` method creates a sequential stack of TransformerBlock modules\n",
        "equal to the number of layers specified in cfg.\n",
        "\n",
        "Following the transformer blocks, a\n",
        "LayerNorm layer is applied, standardizing the outputs from the transformer blocks to\n",
        "stabilize the learning process.\n",
        "\n",
        "Finally, a linear output head without bias is defined, which\n",
        "projects the transformer's output into the vocabulary space of the tokenizer to generate\n",
        "logits for each token in the vocabulary."
      ]
    },
    {
      "cell_type": "markdown",
      "metadata": {
        "id": "miHymGhjIZQ_"
      },
      "source": [
        "   \n",
        "The forward method takes a batch of input token indices, computes their embeddings,\n",
        "applies the positional embeddings, passes the sequence through the transformer blocks,\n",
        "normalizes the final output, and then computes the logits, representing the next token's\n",
        "unnormalized probabilities. We will convert these logits into tokens and text outputs in the\n",
        "next section."
      ]
    },
    {
      "cell_type": "markdown",
      "metadata": {
        "id": "mZCFEw4kIZQ_"
      },
      "source": [
        "Let's now initialize the 124 million parameter GPT model using the GPT_CONFIG_124M\n",
        "dictionary we pass into the cfg parameter and feed it with the batch text input we created\n",
        "at the beginning of this chapter"
      ]
    },
    {
      "cell_type": "code",
      "execution_count": null,
      "metadata": {
        "colab": {
          "base_uri": "https://localhost:8080/"
        },
        "id": "8dDHLqulIZQ_",
        "outputId": "f6cad7a8-e858-4ba8-aae1-5c69b698fdf2"
      },
      "outputs": [
        {
          "output_type": "stream",
          "name": "stdout",
          "text": [
            "Input batch:\n",
            " tensor([[6109, 3626, 6100,  345],\n",
            "        [6109, 1110, 6622,  257]])\n",
            "\n",
            "Output shape: torch.Size([2, 4, 50257])\n",
            "tensor([[[ 0.3613,  0.4222, -0.0711,  ...,  0.3483,  0.4661, -0.2838],\n",
            "         [-0.1792, -0.5660, -0.9485,  ...,  0.0477,  0.5181, -0.3168],\n",
            "         [ 0.7120,  0.0332,  0.1085,  ...,  0.1018, -0.4327, -0.2553],\n",
            "         [-1.0076,  0.3418, -0.1190,  ...,  0.7195,  0.4023,  0.0532]],\n",
            "\n",
            "        [[-0.2564,  0.0900,  0.0335,  ...,  0.2659,  0.4454, -0.6806],\n",
            "         [ 0.1230,  0.3653, -0.2074,  ...,  0.7705,  0.2710,  0.2246],\n",
            "         [ 1.0558,  1.0318, -0.2800,  ...,  0.6936,  0.3205, -0.3178],\n",
            "         [-0.1565,  0.3926,  0.3288,  ...,  1.2630, -0.1858,  0.0388]]],\n",
            "       grad_fn=<UnsafeViewBackward0>)\n"
          ]
        }
      ],
      "source": [
        "torch.manual_seed(123)\n",
        "model = GPTModel(GPT_CONFIG_124M)\n",
        "out = model(batch)\n",
        "print(\"Input batch:\\n\", batch)\n",
        "print(\"\\nOutput shape:\", out.shape)\n",
        "print(out)"
      ]
    },
    {
      "cell_type": "markdown",
      "metadata": {
        "id": "tHCtJMMCIZQ_"
      },
      "source": [
        "As we can see, the output tensor has the shape [2, 4, 50257], since we passed in 2 input\n",
        "texts with 4 tokens each. The last dimension, 50,257, corresponds to the vocabulary size of\n",
        "the tokenizer. In the next section, we will see how to convert each of these 50,257-\n",
        "dimensional output vectors back into tokens."
      ]
    },
    {
      "cell_type": "markdown",
      "metadata": {
        "id": "m2NBUG3VIZRA"
      },
      "source": [
        "Using the numel() method, short for \"number of elements,\" we can collect the total\n",
        "number of parameters in the model's parameter tensors"
      ]
    },
    {
      "cell_type": "code",
      "execution_count": null,
      "metadata": {
        "colab": {
          "base_uri": "https://localhost:8080/"
        },
        "id": "Fg9W8MnyIZRA",
        "outputId": "e3cd24dd-b6f0-412f-9e91-280e02ee6cc5"
      },
      "outputs": [
        {
          "output_type": "stream",
          "name": "stdout",
          "text": [
            "Total number of parameters: 163,009,536\n"
          ]
        }
      ],
      "source": [
        "total_params = sum(p.numel() for p in model.parameters())\n",
        "print(f\"Total number of parameters: {total_params:,}\")"
      ]
    },
    {
      "cell_type": "markdown",
      "metadata": {
        "id": "9u_3yt-FIZRA"
      },
      "source": [
        "Earlier, we spoke of initializing a 124\n",
        "million parameter GPT model, so why is the actual number of parameters 163 million, as\n",
        "shown in the preceding code output?"
      ]
    },
    {
      "cell_type": "markdown",
      "metadata": {
        "id": "YwtwfyFHIZRA"
      },
      "source": [
        "The reason is a concept called weight tying that is used in the original GPT-2\n",
        "architecture, which means that the original GPT-2 architecture is reusing the weights from\n",
        "the token embedding layer in its output layer.\n",
        "\n",
        "To understand what this means, let's take a\n",
        "look at the shapes of the token embedding layer and linear output layer that we initialized\n",
        "on the model via the GPTModel earlier"
      ]
    },
    {
      "cell_type": "code",
      "execution_count": null,
      "metadata": {
        "colab": {
          "base_uri": "https://localhost:8080/"
        },
        "id": "gZDNa9uTIZRA",
        "outputId": "109d1c1e-f33e-4d1e-e76a-a4879fdb79f9"
      },
      "outputs": [
        {
          "output_type": "stream",
          "name": "stdout",
          "text": [
            "Token embedding layer shape: torch.Size([50257, 768])\n",
            "Output layer shape: torch.Size([50257, 768])\n"
          ]
        }
      ],
      "source": [
        "print(\"Token embedding layer shape:\", model.tok_emb.weight.shape)\n",
        "print(\"Output layer shape:\", model.out_head.weight.shape)"
      ]
    },
    {
      "cell_type": "markdown",
      "metadata": {
        "id": "2QHq2_1QIZRA"
      },
      "source": [
        "As we can see based on the print outputs, the weight tensors for both these layers have the\n",
        "same shape"
      ]
    },
    {
      "cell_type": "markdown",
      "metadata": {
        "id": "a2pc7xRQIZRA"
      },
      "source": [
        "The token embedding and output layers are very large due to the number of rows for the\n",
        "50,257 in the tokenizer's vocabulary. Let's remove the output layer parameter count from\n",
        "the total GPT-2 model count according to the weight tying"
      ]
    },
    {
      "cell_type": "code",
      "execution_count": null,
      "metadata": {
        "colab": {
          "base_uri": "https://localhost:8080/"
        },
        "id": "22gG_maaIZRA",
        "outputId": "17b097e0-e88b-471e-fa21-eead2d525f05"
      },
      "outputs": [
        {
          "output_type": "stream",
          "name": "stdout",
          "text": [
            "Number of trainable parameters considering weight tying: 124,412,160\n"
          ]
        }
      ],
      "source": [
        "total_params_gpt2 = total_params - sum(p.numel() for p in model.out_head.parameters())\n",
        "print(f\"Number of trainable parameters considering weight tying: {total_params_gpt2:,}\")"
      ]
    },
    {
      "cell_type": "markdown",
      "metadata": {
        "id": "cKBk8ePFIZRA"
      },
      "source": [
        "As we can see, the model is now only 124 million parameters large, matching the original\n",
        "size of the GPT-2 model."
      ]
    },
    {
      "cell_type": "markdown",
      "metadata": {
        "id": "QyTHuFF1IZRA"
      },
      "source": [
        "   \n",
        "Weight tying reduces the overall memory footprint and computational complexity of the\n",
        "model. However, in my experience, using separate token embedding and output layers\n",
        "results in better training and model performance; hence, we are using separate layers in\n",
        "our GPTModel implementation. The same is true for modern LLMs."
      ]
    },
    {
      "cell_type": "markdown",
      "metadata": {
        "id": "xYtKH5jbIZRA"
      },
      "source": [
        "Lastly, let us compute the memory requirements of the 163 million parameters in our\n",
        "GPTModel object"
      ]
    },
    {
      "cell_type": "code",
      "execution_count": null,
      "metadata": {
        "colab": {
          "base_uri": "https://localhost:8080/"
        },
        "id": "7W7-_9pMIZRA",
        "outputId": "6add4f50-6ef9-4b98-f24a-94942a9ada97"
      },
      "outputs": [
        {
          "output_type": "stream",
          "name": "stdout",
          "text": [
            "Total size of the model: 621.83 MB\n"
          ]
        }
      ],
      "source": [
        "total_size_bytes = total_params * 4 #A\n",
        "total_size_mb = total_size_bytes / (1024 * 1024) #B\n",
        "print(f\"Total size of the model: {total_size_mb:.2f} MB\")"
      ]
    },
    {
      "cell_type": "markdown",
      "metadata": {
        "id": "YdqhsL04IZRA"
      },
      "source": [
        "   \n",
        "In conclusion, by calculating the memory requirements for the 163 million parameters in\n",
        "our GPTModel object and assuming each parameter is a 32-bit float taking up 4 bytes, we\n",
        "find that the total size of the model amounts to 621.83 MB, illustrating the relatively large\n",
        "storage capacity required to accommodate even relatively small LLMs."
      ]
    },
    {
      "cell_type": "markdown",
      "metadata": {
        "id": "xcAux7UUIZRB"
      },
      "source": [
        "   \n",
        "In this section, we implemented the GPTModel architecture and saw that it outputs\n",
        "numeric tensors of shape [batch_size, num_tokens, vocab_size]. In the next section,\n",
        "we will write the code to convert these output tensors into text."
      ]
    },
    {
      "cell_type": "markdown",
      "metadata": {
        "id": "RT5hUxDJIZRB"
      },
      "source": [
        "## **GPT ARCHITECTURE PART 7: GENERATING TEXT FROM OUTPUT TOKENS**"
      ]
    },
    {
      "cell_type": "markdown",
      "metadata": {
        "id": "p16jW4rCIZRB"
      },
      "source": [
        "Let us implement the token-generation process as follows"
      ]
    },
    {
      "cell_type": "markdown",
      "metadata": {
        "id": "VYyfVbREIZRB"
      },
      "source": [
        "Step 1: idx is a (batch, n_tokens) array of indices in the current context\n",
        "\n",
        "Step 2: Crop current context if it exceeds the supported context size E.g., if LLM supports only 5 tokens, and the\n",
        "context size is 10 then only the last 5 tokens are used as context\n",
        "\n",
        "Step 3: Focus only on the last time step, so that (batch, n_token, vocab_size) becomes (batch, vocab_size)\n",
        "\n",
        "Step 4: probas has shape (batch, vocab_size)\n",
        "\n",
        "Step 5: idx_next has shape (batch, 1)\n",
        "\n",
        "Step 6: Append sampled index to the running sequence, where idx has shape (batch, n_tokens+1)"
      ]
    },
    {
      "cell_type": "code",
      "execution_count": null,
      "metadata": {
        "id": "BvaGC0NKIZRB"
      },
      "outputs": [],
      "source": [
        "def generate_text_simple(model, idx, max_new_tokens, context_size):\n",
        "    # idx is (batch, n_tokens) array of indices in the current context\n",
        "    for _ in range(max_new_tokens):\n",
        "\n",
        "        # Crop current context if it exceeds the supported context size\n",
        "        # E.g., if LLM supports only 5 tokens, and the context size is 10\n",
        "        # then only the last 5 tokens are used as context\n",
        "        idx_cond = idx[:, -context_size:]\n",
        "\n",
        "        # Get the predictions\n",
        "        with torch.no_grad():\n",
        "            logits = model(idx_cond)\n",
        "\n",
        "        # Focus only on the last time step\n",
        "        # (batch, n_tokens, vocab_size) becomes (batch, vocab_size)\n",
        "        logits = logits[:, -1, :]\n",
        "\n",
        "        # Apply softmax to get probabilities\n",
        "        probas = torch.softmax(logits, dim=-1)  # (batch, vocab_size)\n",
        "\n",
        "        # Get the idx of the vocab entry with the highest probability value\n",
        "        idx_next = torch.argmax(probas, dim=-1, keepdim=True)  # (batch, 1)\n",
        "\n",
        "        # Append sampled index to the running sequence\n",
        "        idx = torch.cat((idx, idx_next), dim=1)  # (batch, n_tokens+1)\n",
        "\n",
        "    return idx"
      ]
    },
    {
      "cell_type": "markdown",
      "metadata": {
        "id": "m8WpA3eQIZRB"
      },
      "source": [
        "   \n",
        "In the preceeding code, the generate_text_simple function, we use a softmax function to\n",
        "convert the logits into a probability distribution from which we identify the position with the\n",
        "highest value via torch.argmax.\n",
        "\n",
        "The softmax function is monotonic, meaning it preserves\n",
        "the order of its inputs when transformed into outputs.\n",
        "\n",
        "So, in practice, the softmax step is\n",
        "redundant since the position with the highest score in the softmax output tensor is the\n",
        "same position in the logit tensor.\n",
        "\n",
        "In other words, we could apply the torch.argmax function\n",
        "to the logits tensor directly and get identical results.\n",
        "\n",
        "However, we coded the conversion to\n",
        "illustrate the full process of transforming logits to probabilities, which can add additional\n",
        "intuition, such as that the model generates the most likely next token, which is known as\n",
        "greedy decoding."
      ]
    },
    {
      "cell_type": "markdown",
      "metadata": {
        "id": "b6on4cD2IZRB"
      },
      "source": [
        "    \n",
        "In the next chapter, when we will implement the GPT training code, we will also\n",
        "introduce additional sampling techniques where we modify the softmax outputs such that\n",
        "the model doesn't always select the most likely token, which introduces variability and\n",
        "creativity in the generated text."
      ]
    },
    {
      "cell_type": "markdown",
      "metadata": {
        "id": "_TM6zOZWIZRB"
      },
      "source": [
        "Let's now try out the generate_text_simple function with the \"Hello, I am\" context\n",
        "as model input"
      ]
    },
    {
      "cell_type": "markdown",
      "metadata": {
        "id": "pRfxKQGPIZRB"
      },
      "source": [
        "First, we encode the input context into token IDs:"
      ]
    },
    {
      "cell_type": "code",
      "execution_count": null,
      "metadata": {
        "colab": {
          "base_uri": "https://localhost:8080/"
        },
        "id": "3SbglOTJIZRB",
        "outputId": "d3bcc9bc-7940-4ac6-8455-700ec0873110"
      },
      "outputs": [
        {
          "output_type": "stream",
          "name": "stdout",
          "text": [
            "encoded: [15496, 11, 314, 716]\n",
            "encoded_tensor.shape: torch.Size([1, 4])\n"
          ]
        }
      ],
      "source": [
        "start_context = \"Hello, I am\"\n",
        "encoded = tokenizer.encode(start_context)\n",
        "print(\"encoded:\", encoded)\n",
        "encoded_tensor = torch.tensor(encoded).unsqueeze(0) #A\n",
        "print(\"encoded_tensor.shape:\", encoded_tensor.shape)"
      ]
    },
    {
      "cell_type": "markdown",
      "metadata": {
        "id": "ii6vWsRWIZRB"
      },
      "source": [
        "Next, we put the model into `.eval()` mode, which disables random components like\n",
        "dropout, which are only used during training, and use the generate_text_simple function\n",
        "on the encoded input tensor"
      ]
    },
    {
      "cell_type": "markdown",
      "metadata": {
        "id": "ptMjhOtOIZRB"
      },
      "source": [
        "We disable dropout since we are not training the model"
      ]
    },
    {
      "cell_type": "code",
      "execution_count": null,
      "metadata": {
        "colab": {
          "base_uri": "https://localhost:8080/"
        },
        "id": "VhGGUifAIZRB",
        "outputId": "7618a365-6a16-4186-bf91-6ab691b644bc"
      },
      "outputs": [
        {
          "output_type": "stream",
          "name": "stdout",
          "text": [
            "Output: tensor([[15496,    11,   314,   716, 27018, 24086, 47843, 30961, 42348,  7267]])\n",
            "Output length: 10\n"
          ]
        }
      ],
      "source": [
        "model.eval() #A\n",
        "out = generate_text_simple(\n",
        "model=model,\n",
        "idx=encoded_tensor,\n",
        "max_new_tokens=6,\n",
        "context_size=GPT_CONFIG_124M[\"context_length\"]\n",
        ")\n",
        "print(\"Output:\", out)\n",
        "print(\"Output length:\", len(out[0]))"
      ]
    },
    {
      "cell_type": "markdown",
      "metadata": {
        "id": "fXyydYgoIZRB"
      },
      "source": [
        "Using the .decode method of the tokenizer, we can convert the IDs back into text"
      ]
    },
    {
      "cell_type": "code",
      "execution_count": null,
      "metadata": {
        "colab": {
          "base_uri": "https://localhost:8080/"
        },
        "id": "iMust-p1IZRC",
        "outputId": "59a696ad-80c6-441a-8432-1b2c260f6d0e"
      },
      "outputs": [
        {
          "output_type": "stream",
          "name": "stdout",
          "text": [
            "Hello, I am Featureiman Byeswickattribute argue\n"
          ]
        }
      ],
      "source": [
        "decoded_text = tokenizer.decode(out.squeeze(0).tolist())\n",
        "print(decoded_text)"
      ]
    },
    {
      "cell_type": "markdown",
      "metadata": {
        "id": "roeqQTuSIZRC"
      },
      "source": [
        "As we can see, based on the preceding output, the model generated gibberish, which is not\n",
        "at all coherent text.\n",
        "\n",
        "What happened?\n",
        "\n",
        "The reason why the model is unable to produce coherent text is that we haven't trained it yet.\n",
        "\n",
        "So far, we just\n",
        "implemented the GPT architecture and initialized a GPT model instance with initial random\n",
        "weights."
      ]
    },
    {
      "cell_type": "markdown",
      "metadata": {
        "id": "sN4flDE83-YY"
      },
      "source": []
    },
    {
      "cell_type": "markdown",
      "metadata": {
        "id": "X3sVSwybUt5N"
      },
      "source": [
        "# **EVALUATING GENERATIVE TEXT MODELS**"
      ]
    },
    {
      "cell_type": "markdown",
      "metadata": {
        "id": "D4KhIx6zUt5N"
      },
      "source": [
        "### **GPT Model class we coded earlier**"
      ]
    },
    {
      "cell_type": "code",
      "execution_count": null,
      "metadata": {
        "id": "cjb3oxcwUt5N"
      },
      "outputs": [],
      "source": [
        "class GPTModel(nn.Module):\n",
        "    def __init__(self, cfg):\n",
        "        super().__init__()\n",
        "        self.tok_emb = nn.Embedding(cfg[\"vocab_size\"], cfg[\"emb_dim\"])\n",
        "        self.pos_emb = nn.Embedding(cfg[\"context_length\"], cfg[\"emb_dim\"])\n",
        "        self.drop_emb = nn.Dropout(cfg[\"drop_rate\"])\n",
        "\n",
        "        self.trf_blocks = nn.Sequential(\n",
        "            *[TransformerBlock(cfg) for _ in range(cfg[\"n_layers\"])])\n",
        "\n",
        "        self.final_norm = LayerNorm(cfg[\"emb_dim\"])\n",
        "        self.out_head = nn.Linear(\n",
        "            cfg[\"emb_dim\"], cfg[\"vocab_size\"], bias=False\n",
        "        )\n",
        "\n",
        "    def forward(self, in_idx):\n",
        "        batch_size, seq_len = in_idx.shape\n",
        "        tok_embeds = self.tok_emb(in_idx)\n",
        "        pos_embeds = self.pos_emb(torch.arange(seq_len, device=in_idx.device))\n",
        "        x = tok_embeds + pos_embeds  # Shape [batch_size, num_tokens, emb_size]\n",
        "        x = self.drop_emb(x)\n",
        "        x = self.trf_blocks(x)\n",
        "        x = self.final_norm(x)\n",
        "        logits = self.out_head(x)\n",
        "        return logits"
      ]
    },
    {
      "cell_type": "markdown",
      "metadata": {
        "id": "2OBlN7noUt5O"
      },
      "source": [
        "### **Using GPT to generate text**"
      ]
    },
    {
      "cell_type": "markdown",
      "metadata": {
        "id": "LdYmXu17Ut5O"
      },
      "source": [
        "We initialize a GPT model using the code from the previous chapter"
      ]
    },
    {
      "cell_type": "code",
      "execution_count": null,
      "metadata": {
        "id": "RZwRATEdUt5O"
      },
      "outputs": [],
      "source": [
        "import torch\n",
        "\n",
        "GPT_CONFIG_124M = {\n",
        "    \"vocab_size\": 50257,   # Vocabulary size\n",
        "    \"context_length\": 256, # Shortened context length (orig: 1024)\n",
        "    \"emb_dim\": 768,        # Embedding dimension\n",
        "    \"n_heads\": 12,         # Number of attention heads\n",
        "    \"n_layers\": 12,        # Number of layers\n",
        "    \"drop_rate\": 0.1,      # Dropout rate\n",
        "    \"qkv_bias\": False      # Query-key-value bias\n",
        "}\n",
        "\n",
        "torch.manual_seed(123)\n",
        "model = GPTModel(GPT_CONFIG_124M)\n",
        "model.eval();  # Disable dropout during inference"
      ]
    },
    {
      "cell_type": "markdown",
      "metadata": {
        "id": "ImoU4Hc3Ut5O"
      },
      "source": [
        "We reduce the context length (context_length) of only 256 tokens to reduce the computational resource requirements for training the model, whereas the original 124 million parameter GPT-2 model used 1024 tokens\n",
        "\n",
        "This is so that more readers will be able to follow and execute the code examples on their laptop computer"
      ]
    },
    {
      "cell_type": "markdown",
      "metadata": {
        "id": "XgKfx9pLUt5O"
      },
      "source": [
        "Next, we use the `generate_text_simple` function from the previous chapter to generate text.\n",
        "\n",
        "In addition, we define two convenience functions, `text_to_token_ids and `token_ids_to_text`, for converting between token and text representations that we use throughout this chapter"
      ]
    },
    {
      "cell_type": "code",
      "execution_count": null,
      "metadata": {
        "colab": {
          "base_uri": "https://localhost:8080/"
        },
        "id": "u6BrjgpGUt5O",
        "outputId": "4fe83963-ba85-406d-903a-8ebbca09e297"
      },
      "outputs": [
        {
          "output_type": "stream",
          "name": "stdout",
          "text": [
            "Output text:\n",
            " Every effort moves you rentingetic wasnم refres RexMeCHicular stren\n"
          ]
        }
      ],
      "source": [
        "import tiktoken\n",
        "\n",
        "def text_to_token_ids(text, tokenizer):\n",
        "    encoded = tokenizer.encode(text, allowed_special={'<|endoftext|>'})\n",
        "    encoded_tensor = torch.tensor(encoded).unsqueeze(0) # add batch dimension\n",
        "    return encoded_tensor\n",
        "\n",
        "def token_ids_to_text(token_ids, tokenizer):\n",
        "    flat = token_ids.squeeze(0) # remove batch dimension\n",
        "    return tokenizer.decode(flat.tolist())\n",
        "\n",
        "start_context = \"Every effort moves you\"\n",
        "tokenizer = tiktoken.get_encoding(\"gpt2\")\n",
        "\n",
        "token_ids = generate_text_simple(\n",
        "    model=model,\n",
        "    idx=text_to_token_ids(start_context, tokenizer),\n",
        "    max_new_tokens=10,\n",
        "    context_size=GPT_CONFIG_124M[\"context_length\"]\n",
        ")\n",
        "\n",
        "print(\"Output text:\\n\", token_ids_to_text(token_ids, tokenizer))"
      ]
    },
    {
      "cell_type": "markdown",
      "metadata": {
        "id": "nDOkd_yoUt5O"
      },
      "source": [
        "As we can see above, the model does not produce good text because it has not been trained yet\n",
        "\n",
        "How do we measure or capture what \"good text\" is, in a numeric form, to track it during training?\n",
        "\n",
        "The next subsection introduces metrics to calculate a loss metric for the generated outputs that we can use to measure the training progress\n",
        "\n",
        "The next chapters on finetuning LLMs will also introduce additional ways to measure model quality\n"
      ]
    },
    {
      "cell_type": "markdown",
      "metadata": {
        "id": "nOvqBcrKUt5O"
      },
      "source": [
        "### **Calculating the text generation loss: cross-entropy and perplexity**"
      ]
    },
    {
      "cell_type": "markdown",
      "metadata": {
        "id": "TRhEj2OtUt5O"
      },
      "source": [
        "Suppose we have an inputs tensor containing the token IDs for 2 training examples (rows)\n",
        "\n",
        "Corresponding to the inputs, the targets contain the desired token IDs that we want the model to generate\n",
        "\n",
        "Notice that the targets are the inputs shifted by 1 position, as explained in chapter 2 when we implemented the data loader"
      ]
    },
    {
      "cell_type": "code",
      "execution_count": null,
      "metadata": {
        "id": "XgfA6zRiUt5O"
      },
      "outputs": [],
      "source": [
        "inputs = torch.tensor([[16833, 3626, 6100],   # [\"every effort moves\",\n",
        "                       [40,    1107, 588]])   #  \"I really like\"]\n",
        "\n",
        "targets = torch.tensor([[3626, 6100, 345  ],  # [\" effort moves you\",\n",
        "                        [1107,  588, 11311]]) #  \" really like chocolate\"]"
      ]
    },
    {
      "cell_type": "markdown",
      "metadata": {
        "id": "WQp_ZYi9Ut5O"
      },
      "source": [
        "Feeding the inputs to the model, we obtain the logits vector for the 2 input examples that consist of 3 tokens each\n",
        "\n",
        "Each of the tokens is a 50,257-dimensional vector corresponding to the size of the vocabulary\n",
        "\n",
        "Applying the softmax function, we can turn the logits tensor into a tensor of the same dimension containing probability scores"
      ]
    },
    {
      "cell_type": "code",
      "execution_count": null,
      "metadata": {
        "colab": {
          "base_uri": "https://localhost:8080/"
        },
        "id": "SpfiEadjUt5O",
        "outputId": "57b26664-8426-4428-92eb-01c99ce6c619"
      },
      "outputs": [
        {
          "output_type": "stream",
          "name": "stdout",
          "text": [
            "torch.Size([2, 3, 50257])\n"
          ]
        }
      ],
      "source": [
        "with torch.no_grad():\n",
        "    logits = model(inputs)\n",
        "\n",
        "probas = torch.softmax(logits, dim=-1) # Probability of each token in vocabulary\n",
        "print(probas.shape) # Shape: (batch_size, num_tokens, vocab_size)"
      ]
    },
    {
      "cell_type": "markdown",
      "metadata": {
        "id": "AYw9FuopUt5O"
      },
      "source": [
        "As discussed in the previous chapter, we can apply the argmax function to convert the probability scores into predicted token IDs.\n",
        "\n",
        "The softmax function above produced a 50,257-dimensional vector for each token; the argmax function returns the position of the highest probability score in this vector, which is the predicted token ID for the given token.\n",
        "\n",
        "Since we have 2 input batches with 3 tokens each, we obtain 2 by 3 predicted token IDs:"
      ]
    },
    {
      "cell_type": "code",
      "execution_count": null,
      "metadata": {
        "colab": {
          "base_uri": "https://localhost:8080/"
        },
        "id": "Oc8GO_zcUt5O",
        "outputId": "d672f31d-85c9-458c-bf5a-cb9802229eeb"
      },
      "outputs": [
        {
          "output_type": "stream",
          "name": "stdout",
          "text": [
            "Token IDs:\n",
            " tensor([[[16657],\n",
            "         [  339],\n",
            "         [42826]],\n",
            "\n",
            "        [[49906],\n",
            "         [29669],\n",
            "         [41751]]])\n"
          ]
        }
      ],
      "source": [
        "token_ids = torch.argmax(probas, dim=-1, keepdim=True)\n",
        "print(\"Token IDs:\\n\", token_ids)"
      ]
    },
    {
      "cell_type": "markdown",
      "metadata": {
        "id": "NA-P9VAFUt5P"
      },
      "source": [
        "If we decode these tokens, we find that these are quite different from the tokens we want the model to predict, namely the target tokens.\n",
        "\n",
        "That's because the model wasn't trained yet.\n",
        "\n",
        "To train the model, we need to know how far it is away from the correct predictions (targets)"
      ]
    },
    {
      "cell_type": "code",
      "execution_count": null,
      "metadata": {
        "colab": {
          "base_uri": "https://localhost:8080/"
        },
        "id": "yt5Mf_kvUt5P",
        "outputId": "63191016-9339-4c11-9274-1d091e20c673"
      },
      "outputs": [
        {
          "output_type": "stream",
          "name": "stdout",
          "text": [
            "Targets batch 1:  effort moves you\n",
            "Outputs batch 1:  Armed heNetflix\n"
          ]
        }
      ],
      "source": [
        "print(f\"Targets batch 1: {token_ids_to_text(targets[0], tokenizer)}\")\n",
        "print(f\"Outputs batch 1: {token_ids_to_text(token_ids[0].flatten(), tokenizer)}\")"
      ]
    },
    {
      "cell_type": "markdown",
      "metadata": {
        "id": "XQT6CmADUt5P"
      },
      "source": [
        "### **Cross-entropy loss**"
      ]
    },
    {
      "cell_type": "markdown",
      "metadata": {
        "id": "L_g2NSCvUt5P"
      },
      "source": [
        "The token probabilities corresponding to the target indices are as follows:\n"
      ]
    },
    {
      "cell_type": "code",
      "execution_count": null,
      "metadata": {
        "colab": {
          "base_uri": "https://localhost:8080/"
        },
        "id": "csshdy9yUt5P",
        "outputId": "34d0943f-80ae-4714-e3d6-3fe4d5ec26f9"
      },
      "outputs": [
        {
          "output_type": "stream",
          "name": "stdout",
          "text": [
            "Text 1: tensor([    0.0001,     0.0000,     0.0000])\n",
            "Text 2: tensor([    0.0000,     0.0001,     0.0000])\n"
          ]
        }
      ],
      "source": [
        "text_idx = 0\n",
        "target_probas_1 = probas[text_idx, [0, 1, 2], targets[text_idx]]\n",
        "print(\"Text 1:\", target_probas_1)\n",
        "\n",
        "text_idx = 1\n",
        "target_probas_2 = probas[text_idx, [0, 1, 2], targets[text_idx]]\n",
        "print(\"Text 2:\", target_probas_2)"
      ]
    },
    {
      "cell_type": "markdown",
      "metadata": {
        "id": "Cz1g-mzWUt5P"
      },
      "source": [
        "We want to maximize all these values, bringing them close to a probability of 1.\n",
        "    \n",
        "In mathematical optimization, it is easier to maximize the logarithm of the probability score than the probability score itself."
      ]
    },
    {
      "cell_type": "code",
      "execution_count": null,
      "metadata": {
        "colab": {
          "base_uri": "https://localhost:8080/"
        },
        "id": "hMz_N7T6Ut5P",
        "outputId": "592b5efb-d3f6-497b-e7d3-2314abdf5b5a"
      },
      "outputs": [
        {
          "output_type": "stream",
          "name": "stdout",
          "text": [
            "tensor([ -9.5042, -10.3796, -11.3677, -11.4798,  -9.7764, -12.2561])\n"
          ]
        }
      ],
      "source": [
        "# Compute logarithm of all token probabilities\n",
        "log_probas = torch.log(torch.cat((target_probas_1, target_probas_2)))\n",
        "print(log_probas)"
      ]
    },
    {
      "cell_type": "markdown",
      "metadata": {
        "id": "0NcsLWT1Ut5P"
      },
      "source": [
        "Next, we compute the average log probability:"
      ]
    },
    {
      "cell_type": "code",
      "execution_count": null,
      "metadata": {
        "colab": {
          "base_uri": "https://localhost:8080/"
        },
        "id": "S9VO4y-GUt5P",
        "outputId": "688b12de-dc34-4ed9-8e3f-fd83d92f269b"
      },
      "outputs": [
        {
          "output_type": "stream",
          "name": "stdout",
          "text": [
            "tensor(-10.7940)\n"
          ]
        }
      ],
      "source": [
        "# Calculate the average probability for each token\n",
        "avg_log_probas = torch.mean(log_probas)\n",
        "print(avg_log_probas)"
      ]
    },
    {
      "cell_type": "markdown",
      "metadata": {
        "id": "YNwxn9CwUt5P"
      },
      "source": [
        "The goal is to make this average log probability as large as possible by optimizing the model weights.\n",
        "\n",
        "Due to the log, the largest possible value is 0, and we are currently far away from 0.\n",
        "\n",
        "In deep learning, instead of maximizing the average log-probability, it's a standard convention to minimize the negative average log-probability value; in our case, instead of maximizing -10.7722 so that it approaches 0, in deep learning, we would minimize 10.7722 so that it approaches 0.\n",
        "\n",
        "The value negative of -10.7722, i.e., 10.7722, is also called cross-entropy loss in deep learning."
      ]
    },
    {
      "cell_type": "code",
      "execution_count": null,
      "metadata": {
        "colab": {
          "base_uri": "https://localhost:8080/"
        },
        "id": "uhtSQ0-1Ut5P",
        "outputId": "8cbbc0d6-b5c4-4d6d-ae4d-21bac65aa2d7"
      },
      "outputs": [
        {
          "output_type": "stream",
          "name": "stdout",
          "text": [
            "tensor(10.7940)\n"
          ]
        }
      ],
      "source": [
        "neg_avg_log_probas = avg_log_probas * -1\n",
        "print(neg_avg_log_probas)"
      ]
    },
    {
      "cell_type": "markdown",
      "metadata": {
        "id": "KNvlOsegUt5P"
      },
      "source": [
        "PyTorch already implements a cross_entropy function that carries out the previous steps\n",
        "\n",
        "Before we apply the cross_entropy function, let's check the shape of the logits and targets"
      ]
    },
    {
      "cell_type": "code",
      "execution_count": null,
      "metadata": {
        "colab": {
          "base_uri": "https://localhost:8080/"
        },
        "id": "99EW7WKjUt5P",
        "outputId": "9dfcf53c-bb78-4e90-cf19-a4197a39639e"
      },
      "outputs": [
        {
          "output_type": "stream",
          "name": "stdout",
          "text": [
            "Logits shape: torch.Size([2, 3, 50257])\n",
            "Targets shape: torch.Size([2, 3])\n"
          ]
        }
      ],
      "source": [
        "# Logits have shape (batch_size, num_tokens, vocab_size)\n",
        "print(\"Logits shape:\", logits.shape)\n",
        "\n",
        "# Targets have shape (batch_size, num_tokens)\n",
        "print(\"Targets shape:\", targets.shape)"
      ]
    },
    {
      "cell_type": "markdown",
      "metadata": {
        "id": "b6V8w9pQUt5Q"
      },
      "source": [
        "For the cross_entropy function in PyTorch, we want to flatten these tensors by combining them over the batch dimension"
      ]
    },
    {
      "cell_type": "code",
      "execution_count": null,
      "metadata": {
        "colab": {
          "base_uri": "https://localhost:8080/"
        },
        "id": "9mMGn9IlUt5Q",
        "outputId": "38bb2924-aba0-4e95-cc1d-faefdd712b05"
      },
      "outputs": [
        {
          "output_type": "stream",
          "name": "stdout",
          "text": [
            "Flattened logits: torch.Size([6, 50257])\n",
            "Flattened targets: torch.Size([6])\n"
          ]
        }
      ],
      "source": [
        "logits_flat = logits.flatten(0, 1)\n",
        "targets_flat = targets.flatten()\n",
        "\n",
        "print(\"Flattened logits:\", logits_flat.shape)\n",
        "print(\"Flattened targets:\", targets_flat.shape)"
      ]
    },
    {
      "cell_type": "markdown",
      "metadata": {
        "id": "yoj4QElqUt5Q"
      },
      "source": [
        "Note that the targets are the token IDs, which also represent the index positions in the logits tensors that we want to maximize.\n",
        "    \n",
        "The cross_entropy function in PyTorch will automatically take care of applying the softmax and log-probability computation internally over those token indices in the logits that are to be maximized"
      ]
    },
    {
      "cell_type": "code",
      "execution_count": null,
      "metadata": {
        "colab": {
          "base_uri": "https://localhost:8080/"
        },
        "id": "w8OKdW90Ut5Q",
        "outputId": "59fb6830-2813-4af1-e551-7d829daea0d1"
      },
      "outputs": [
        {
          "output_type": "stream",
          "name": "stdout",
          "text": [
            "tensor(10.7940)\n"
          ]
        }
      ],
      "source": [
        "loss = torch.nn.functional.cross_entropy(logits_flat, targets_flat)\n",
        "print(loss)"
      ]
    },
    {
      "cell_type": "markdown",
      "metadata": {
        "id": "SV1raew0Ut5Q"
      },
      "source": [
        "### **Perplexity**"
      ]
    },
    {
      "cell_type": "markdown",
      "metadata": {
        "id": "bPjRZ9FhUt5Q"
      },
      "source": [
        "A concept related to the cross-entropy loss is the perplexity of an LLM.\n",
        "\n",
        "The perplexity is simply the exponential of the cross-entropy loss."
      ]
    },
    {
      "cell_type": "code",
      "execution_count": null,
      "metadata": {
        "colab": {
          "base_uri": "https://localhost:8080/"
        },
        "id": "AKmJpPAgUt5Q",
        "outputId": "2406f331-8cdd-45b6-88ec-b7d2df55d277"
      },
      "outputs": [
        {
          "output_type": "stream",
          "name": "stdout",
          "text": [
            "tensor(48725.8203)\n"
          ]
        }
      ],
      "source": [
        "perplexity = torch.exp(loss)\n",
        "print(perplexity)"
      ]
    },
    {
      "cell_type": "markdown",
      "metadata": {
        "id": "no9cKT64Ut5Q"
      },
      "source": [
        "The perplexity is often considered more interpretable because it can be understood as the effective vocabulary size that the model is uncertain about at each step (in the example above, that'd be 48,725 words or tokens).\n",
        "\n",
        "In other words, perplexity provides a measure of how well the probability distribution predicted by the model matches the actual distribution of the words in the dataset.\n",
        "    \n",
        "Similar to the loss, a lower perplexity indicates that the model predictions are closer to the actual distribution"
      ]
    },
    {
      "cell_type": "markdown",
      "metadata": {
        "id": "l5nI2eVwUt5Q"
      },
      "source": [
        "### **Calculating the training and validation set losses**"
      ]
    },
    {
      "cell_type": "markdown",
      "metadata": {
        "id": "EFhedz4OUt5Q"
      },
      "source": [
        "We use a relatively small dataset for training the LLM (in fact, only one short story)\n",
        "\n",
        "The reasons are:\n",
        "\n",
        "You can run the code examples in a few minutes on a laptop computer without a suitable GPU.\n",
        "\n",
        "The training finishes relatively fast (minutes instead of weeks), which is good for educational purposes.\n",
        "    \n",
        "We use a text from the public domain, which can be included in this GitHub repository without violating any usage rights or bloating the repository size.\n",
        "    \n",
        "For example, Llama 2 7B required 184,320 GPU hours on A100 GPUs to be trained on 2 trillion tokens\n",
        "\n",
        "At the time of this writing, the hourly cost of an 8xA100 cloud server at AWS is approximately 30 dollars.\n",
        "\n",
        "So, via an off-the-envelope calculation, training this LLM would cost 184,320 / 8 * 30 = 690,000 dollars\n",
        "\n"
      ]
    },
    {
      "cell_type": "code",
      "execution_count": null,
      "metadata": {
        "id": "sPARFx5WUt5Q"
      },
      "outputs": [],
      "source": [
        "import os\n",
        "import urllib.request\n",
        "\n",
        "file_path = \"the-verdict.txt\"\n",
        "url = \"https://raw.githubusercontent.com/rasbt/LLMs-from-scratch/main/ch02/01_main-chapter-code/the-verdict.txt\"\n",
        "\n",
        "if not os.path.exists(file_path):\n",
        "    with urllib.request.urlopen(url) as response:\n",
        "        text_data = response.read().decode('utf-8')\n",
        "    with open(file_path, \"w\", encoding=\"utf-8\") as file:\n",
        "        file.write(text_data)\n",
        "else:\n",
        "    with open(file_path, \"r\", encoding=\"utf-8\") as file:\n",
        "        text_data = file.read()"
      ]
    },
    {
      "cell_type": "markdown",
      "metadata": {
        "id": "OQ81_jxQUt5Q"
      },
      "source": [
        "A quick check that the text loaded ok by printing the first and last 100 words"
      ]
    },
    {
      "cell_type": "code",
      "execution_count": null,
      "metadata": {
        "colab": {
          "base_uri": "https://localhost:8080/"
        },
        "id": "mu8zS1uiUt5Q",
        "outputId": "b9410b9d-71e0-4d8a-acc9-478aa20e33d0"
      },
      "outputs": [
        {
          "output_type": "stream",
          "name": "stdout",
          "text": [
            "I had always thought Jack Gisburn rather a cheap genius--though a\n",
            "\n",
            "good fellow enough--so it was no\n"
          ]
        }
      ],
      "source": [
        "# First 100 characters\n",
        "print(text_data[:99])"
      ]
    },
    {
      "cell_type": "code",
      "execution_count": null,
      "metadata": {
        "colab": {
          "base_uri": "https://localhost:8080/"
        },
        "id": "ltcBPjG5Ut5R",
        "outputId": "d23ea444-a9fe-45ef-c695-12670dab920d"
      },
      "outputs": [
        {
          "output_type": "stream",
          "name": "stdout",
          "text": [
            "and alone, and happen once--but\n",
            "\n",
            "there's no exterminating our kind of art.\"\n",
            "\n",
            "The End of The Verdict\n"
          ]
        }
      ],
      "source": [
        "# Last 100 characters\n",
        "print(text_data[-99:])"
      ]
    },
    {
      "cell_type": "code",
      "execution_count": null,
      "metadata": {
        "colab": {
          "base_uri": "https://localhost:8080/"
        },
        "id": "FXCtbAoYUt5R",
        "outputId": "adc881e9-3c28-42f7-eb0e-ecc64fb8e13c"
      },
      "outputs": [
        {
          "output_type": "stream",
          "name": "stdout",
          "text": [
            "Characters: 20758\n",
            "Tokens: 5765\n"
          ]
        }
      ],
      "source": [
        "total_characters = len(text_data)\n",
        "total_tokens = len(tokenizer.encode(text_data))\n",
        "\n",
        "print(\"Characters:\", total_characters)\n",
        "print(\"Tokens:\", total_tokens)"
      ]
    },
    {
      "cell_type": "markdown",
      "metadata": {
        "id": "Y-h4oAJtUt5R"
      },
      "source": [
        "With 5,145 tokens, the text is very short for training an LLM, but again, it's for educational purposes (we will also load pretrained weights later).\n",
        "\n",
        "Next, we divide the dataset into a training and a validation set and use the data loaders from chapter 2 to prepare the batches for LLM training.\n",
        "    \n",
        "For visualization purposes, the figure below assumes a max_length=6, but for the training loader, we set the max_length equal to the context length that the LLM supports.\n",
        "\n",
        "Since we train the LLM to predict the next word in the text, the targets look the same as these inputs, except that the targets are shifted by one position    "
      ]
    },
    {
      "cell_type": "code",
      "execution_count": null,
      "metadata": {
        "id": "fwxa9OYqUt5R"
      },
      "outputs": [],
      "source": [
        "# Train/validation ratio\n",
        "train_ratio = 0.90\n",
        "split_idx = int(train_ratio * len(text_data))\n",
        "train_data = text_data[:split_idx]\n",
        "val_data = text_data[split_idx:]\n",
        "\n",
        "\n",
        "torch.manual_seed(123)\n",
        "\n",
        "from torch.utils.data import Dataset, DataLoader\n",
        "\n",
        "\n",
        "class GPTDatasetV1(Dataset):\n",
        "    def __init__(self, txt, tokenizer, max_length, stride):\n",
        "        self.input_ids = []\n",
        "        self.target_ids = []\n",
        "\n",
        "        # Tokenize the entire text\n",
        "        token_ids = tokenizer.encode(txt, allowed_special={\"<|endoftext|>\"})\n",
        "\n",
        "        # Use a sliding window to chunk the book into overlapping sequences of max_length\n",
        "        for i in range(0, len(token_ids) - max_length, stride):\n",
        "            input_chunk = token_ids[i:i + max_length]\n",
        "            target_chunk = token_ids[i + 1: i + max_length + 1]\n",
        "            self.input_ids.append(torch.tensor(input_chunk))\n",
        "            self.target_ids.append(torch.tensor(target_chunk))\n",
        "\n",
        "    def __len__(self):\n",
        "        return len(self.input_ids)\n",
        "\n",
        "    def __getitem__(self, idx):\n",
        "        return self.input_ids[idx], self.target_ids[idx]\n",
        "\n",
        "\n",
        "def create_dataloader_v1(txt, batch_size=4, max_length=256,\n",
        "                         stride=128, shuffle=True, drop_last=True,\n",
        "                         num_workers=0):\n",
        "\n",
        "    # Initialize the tokenizer\n",
        "    tokenizer = tiktoken.get_encoding(\"gpt2\")\n",
        "\n",
        "    # Create dataset\n",
        "    dataset = GPTDatasetV1(txt, tokenizer, max_length, stride)\n",
        "\n",
        "    # Create dataloader\n",
        "    dataloader = DataLoader(\n",
        "        dataset,\n",
        "        batch_size=batch_size,\n",
        "        shuffle=shuffle,\n",
        "        drop_last=drop_last,\n",
        "        num_workers=num_workers\n",
        "    )\n",
        "\n",
        "    return dataloader\n",
        "\n",
        "train_loader = create_dataloader_v1(\n",
        "    train_data,\n",
        "    batch_size=2,\n",
        "    max_length=GPT_CONFIG_124M[\"context_length\"],\n",
        "    stride=GPT_CONFIG_124M[\"context_length\"],\n",
        "    drop_last=True,\n",
        "    shuffle=True,\n",
        "    num_workers=0\n",
        ")\n",
        "\n",
        "val_loader = create_dataloader_v1(\n",
        "    val_data,\n",
        "    batch_size=2,\n",
        "    max_length=GPT_CONFIG_124M[\"context_length\"],\n",
        "    stride=GPT_CONFIG_124M[\"context_length\"],\n",
        "    drop_last=False,\n",
        "    shuffle=False,\n",
        "    num_workers=0\n",
        ")"
      ]
    },
    {
      "cell_type": "code",
      "execution_count": null,
      "metadata": {
        "id": "X84GkJQdUt5R"
      },
      "outputs": [],
      "source": [
        "# Sanity check\n",
        "\n",
        "if total_tokens * (train_ratio) < GPT_CONFIG_124M[\"context_length\"]:\n",
        "    print(\"Not enough tokens for the training loader. \"\n",
        "          \"Try to lower the `GPT_CONFIG_124M['context_length']` or \"\n",
        "          \"increase the `training_ratio`\")\n",
        "\n",
        "if total_tokens * (1-train_ratio) < GPT_CONFIG_124M[\"context_length\"]:\n",
        "    print(\"Not enough tokens for the validation loader. \"\n",
        "          \"Try to lower the `GPT_CONFIG_124M['context_length']` or \"\n",
        "          \"decrease the `training_ratio`\")"
      ]
    },
    {
      "cell_type": "markdown",
      "metadata": {
        "id": "NXW9YdFzUt5R"
      },
      "source": [
        "We use a relatively small batch size to reduce the computational resource demand, and because the dataset is very small to begin with.\n",
        "\n",
        "Llama 2 7B was trained with a batch size of 1024, for example."
      ]
    },
    {
      "cell_type": "markdown",
      "metadata": {
        "id": "rITfC8iLUt5R"
      },
      "source": [
        "An optional check that the data was loaded correctly"
      ]
    },
    {
      "cell_type": "code",
      "execution_count": null,
      "metadata": {
        "colab": {
          "base_uri": "https://localhost:8080/"
        },
        "id": "sqtIdyfmUt5R",
        "outputId": "cc81ed29-5dea-41c1-b0bf-7fffd0e73e2a"
      },
      "outputs": [
        {
          "output_type": "stream",
          "name": "stdout",
          "text": [
            "Train loader:\n",
            "torch.Size([2, 256]) torch.Size([2, 256])\n",
            "torch.Size([2, 256]) torch.Size([2, 256])\n",
            "torch.Size([2, 256]) torch.Size([2, 256])\n",
            "torch.Size([2, 256]) torch.Size([2, 256])\n",
            "torch.Size([2, 256]) torch.Size([2, 256])\n",
            "torch.Size([2, 256]) torch.Size([2, 256])\n",
            "torch.Size([2, 256]) torch.Size([2, 256])\n",
            "torch.Size([2, 256]) torch.Size([2, 256])\n",
            "torch.Size([2, 256]) torch.Size([2, 256])\n",
            "torch.Size([2, 256]) torch.Size([2, 256])\n",
            "\n",
            "Validation loader:\n",
            "torch.Size([2, 256]) torch.Size([2, 256])\n"
          ]
        }
      ],
      "source": [
        "print(\"Train loader:\")\n",
        "for x, y in train_loader:\n",
        "    print(x.shape, y.shape)\n",
        "\n",
        "print(\"\\nValidation loader:\")\n",
        "for x, y in val_loader:\n",
        "    print(x.shape, y.shape)"
      ]
    },
    {
      "cell_type": "markdown",
      "metadata": {
        "id": "laLsAobXUt5S"
      },
      "source": [
        "An optional check that the data was loaded correctly"
      ]
    },
    {
      "cell_type": "code",
      "execution_count": null,
      "metadata": {
        "colab": {
          "base_uri": "https://localhost:8080/"
        },
        "id": "RBZE3IvLUt5S",
        "outputId": "016ec202-2462-45d5-c5ad-0fed97afe2b0"
      },
      "outputs": [
        {
          "output_type": "stream",
          "name": "stdout",
          "text": [
            "Training tokens: 5120\n",
            "Validation tokens: 512\n",
            "All tokens: 5632\n"
          ]
        }
      ],
      "source": [
        "train_tokens = 0\n",
        "for input_batch, target_batch in train_loader:\n",
        "    train_tokens += input_batch.numel()\n",
        "\n",
        "val_tokens = 0\n",
        "for input_batch, target_batch in val_loader:\n",
        "    val_tokens += input_batch.numel()\n",
        "\n",
        "print(\"Training tokens:\", train_tokens)\n",
        "print(\"Validation tokens:\", val_tokens)\n",
        "print(\"All tokens:\", train_tokens + val_tokens)"
      ]
    },
    {
      "cell_type": "markdown",
      "metadata": {
        "id": "kBE0GESYUt5S"
      },
      "source": [
        "Next, we implement a utility function to calculate the cross-entropy loss of a given batch.\n",
        "\n",
        "In addition, we implement a second utility function to compute the loss for a user-specified number of batches in a data loader"
      ]
    },
    {
      "cell_type": "code",
      "execution_count": null,
      "metadata": {
        "id": "71gREdTDUt5S"
      },
      "outputs": [],
      "source": [
        "def calc_loss_batch(input_batch, target_batch, model, device):\n",
        "    input_batch, target_batch = input_batch.to(device), target_batch.to(device)\n",
        "    logits = model(input_batch)\n",
        "    loss = torch.nn.functional.cross_entropy(logits.flatten(0, 1), target_batch.flatten())\n",
        "    return loss\n",
        "\n",
        "\n",
        "def calc_loss_loader(data_loader, model, device, num_batches=None):\n",
        "    total_loss = 0.\n",
        "    if len(data_loader) == 0:\n",
        "        return float(\"nan\")\n",
        "    elif num_batches is None:\n",
        "        num_batches = len(data_loader)\n",
        "    else:\n",
        "        # Reduce the number of batches to match the total number of batches in the data loader\n",
        "        # if num_batches exceeds the number of batches in the data loader\n",
        "        num_batches = min(num_batches, len(data_loader))\n",
        "    for i, (input_batch, target_batch) in enumerate(data_loader):\n",
        "        if i < num_batches:\n",
        "            loss = calc_loss_batch(input_batch, target_batch, model, device)\n",
        "            total_loss += loss.item()\n",
        "        else:\n",
        "            break\n",
        "    return total_loss / num_batches"
      ]
    },
    {
      "cell_type": "markdown",
      "metadata": {
        "id": "-JaNIPpyUt5S"
      },
      "source": [
        "If you have a machine with a CUDA-supported GPU, the LLM will train on the GPU without making any changes to the code.\n",
        "    \n",
        "Via the device setting, we ensure that the data is loaded onto the same device as the LLM model."
      ]
    },
    {
      "cell_type": "code",
      "execution_count": null,
      "metadata": {
        "colab": {
          "base_uri": "https://localhost:8080/"
        },
        "id": "1ZNPFh3lUt5T",
        "outputId": "ae00f623-eb73-4413-8237-53b74ffb2f72"
      },
      "outputs": [
        {
          "output_type": "stream",
          "name": "stdout",
          "text": [
            "Training loss: 10.970044708251953\n",
            "Validation loss: 10.984174728393555\n"
          ]
        }
      ],
      "source": [
        "device = torch.device(\"cuda\" if torch.cuda.is_available() else \"cpu\")\n",
        "\n",
        "# Note:\n",
        "# Uncommenting the following lines will allow the code to run on Apple Silicon chips, if applicable,\n",
        "# which is approximately 2x faster than on an Apple CPU (as measured on an M3 MacBook Air).\n",
        "# However, the resulting loss values may be slightly different.\n",
        "\n",
        "#if torch.cuda.is_available():\n",
        "#    device = torch.device(\"cuda\")\n",
        "#elif torch.backends.mps.is_available():\n",
        "#    device = torch.device(\"mps\")\n",
        "#else:\n",
        "#    device = torch.device(\"cpu\")\n",
        "#\n",
        "# print(f\"Using {device} device.\")\n",
        "\n",
        "\n",
        "model.to(device) # no assignment model = model.to(device) necessary for nn.Module classes\n",
        "\n",
        "\n",
        "torch.manual_seed(123) # For reproducibility due to the shuffling in the data loader\n",
        "\n",
        "with torch.no_grad(): # Disable gradient tracking for efficiency because we are not training, yet\n",
        "    train_loss = calc_loss_loader(train_loader, model, device)\n",
        "    val_loss = calc_loss_loader(val_loader, model, device)\n",
        "\n",
        "print(\"Training loss:\", train_loss)\n",
        "print(\"Validation loss:\", val_loss)"
      ]
    },
    {
      "cell_type": "code",
      "execution_count": null,
      "metadata": {
        "id": "_Vby0GwcUt5T"
      },
      "outputs": [],
      "source": []
    },
    {
      "cell_type": "markdown",
      "metadata": {
        "id": "MZ_3fFxnS8Y-"
      },
      "source": [
        "# **TRAINING LOOP FOR THE LLM**"
      ]
    },
    {
      "cell_type": "code",
      "execution_count": null,
      "metadata": {
        "id": "Gw57epoxS8Y_"
      },
      "outputs": [],
      "source": [
        "def train_model_simple(model, train_loader, val_loader, optimizer, device, num_epochs,\n",
        "                       eval_freq, eval_iter, start_context, tokenizer):\n",
        "    # Initialize lists to track losses and tokens seen\n",
        "    train_losses, val_losses, track_tokens_seen = [], [], []\n",
        "    tokens_seen, global_step = 0, -1\n",
        "\n",
        "    # Main training loop\n",
        "    for epoch in range(num_epochs):\n",
        "        model.train()  # Set model to training mode\n",
        "\n",
        "        for input_batch, target_batch in train_loader:\n",
        "            optimizer.zero_grad() # Reset loss gradients from previous batch iteration\n",
        "            loss = calc_loss_batch(input_batch, target_batch, model, device)\n",
        "            loss.backward() # Calculate loss gradients\n",
        "            optimizer.step() # Update model weights using loss gradients\n",
        "            tokens_seen += input_batch.numel() # Returns the total number of elements (or tokens) in the input_batch.\n",
        "            global_step += 1\n",
        "\n",
        "            # Optional evaluation step\n",
        "            if global_step % eval_freq == 0:\n",
        "                train_loss, val_loss = evaluate_model(\n",
        "                    model, train_loader, val_loader, device, eval_iter)\n",
        "                train_losses.append(train_loss)\n",
        "                val_losses.append(val_loss)\n",
        "                track_tokens_seen.append(tokens_seen)\n",
        "                print(f\"Ep {epoch+1} (Step {global_step:06d}): \"\n",
        "                      f\"Train loss {train_loss:.3f}, Val loss {val_loss:.3f}\")\n",
        "\n",
        "        # Print a sample text after each epoch\n",
        "        generate_and_print_sample(\n",
        "            model, tokenizer, device, start_context\n",
        "        )\n",
        "\n",
        "    return train_losses, val_losses, track_tokens_seen"
      ]
    },
    {
      "cell_type": "markdown",
      "metadata": {
        "id": "vW1Gq13nS8Y_"
      },
      "source": [
        "Step 1: Initialize lists to track losses and tokens seen\n",
        "\n",
        "Step 2: Start the main training loop\n",
        "\n",
        "Step 3: Reset loss gradients from previous batch iteration\n",
        "\n",
        "Step 4: Calculate loss gradients\n",
        "\n",
        "Step 5: Update model weights using loss gradients\n",
        "\n",
        "Step 6: Optional evaluation step\n",
        "\n",
        "Step 7: Print a sample text after each epoch"
      ]
    },
    {
      "cell_type": "code",
      "execution_count": null,
      "metadata": {
        "id": "a06OpGCIS8Y_"
      },
      "outputs": [],
      "source": [
        "def evaluate_model(model, train_loader, val_loader, device, eval_iter):\n",
        "    model.eval()\n",
        "    with torch.no_grad():\n",
        "        train_loss = calc_loss_loader(train_loader, model, device, num_batches=eval_iter)\n",
        "        val_loss = calc_loss_loader(val_loader, model, device, num_batches=eval_iter)\n",
        "    model.train()\n",
        "    return train_loss, val_loss"
      ]
    },
    {
      "cell_type": "markdown",
      "metadata": {
        "id": "61gfXKMDS8Y_"
      },
      "source": [
        "The evaluate_model function calculates the loss over the training and\n",
        "validation set while ensuring the model is in evaluation mode with gradient tracking and\n",
        "dropout disabled when calculating the loss over the training and validation sets"
      ]
    },
    {
      "cell_type": "code",
      "execution_count": null,
      "metadata": {
        "id": "kCDzR209S8Y_"
      },
      "outputs": [],
      "source": [
        "def generate_and_print_sample(model, tokenizer, device, start_context):\n",
        "    model.eval()\n",
        "    context_size = model.pos_emb.weight.shape[0]\n",
        "    encoded = text_to_token_ids(start_context, tokenizer).to(device)\n",
        "    with torch.no_grad():\n",
        "        token_ids = generate_text_simple(\n",
        "            model=model, idx=encoded,\n",
        "            max_new_tokens=50, context_size=context_size\n",
        "        )\n",
        "    decoded_text = token_ids_to_text(token_ids, tokenizer)\n",
        "    print(decoded_text.replace(\"\\n\", \" \"))  # Compact print format\n",
        "    model.train()"
      ]
    },
    {
      "cell_type": "markdown",
      "metadata": {
        "id": "k8jVbmriS8Y_"
      },
      "source": [
        "The generate_and_print_sample function is a convenience function that we use to track whether the model improves during the training.\n",
        "\n",
        "In particular, the generate_and_print_sample function takes a text snippet (start_context) as input,\n",
        "converts it into token IDs, and feeds it to the LLM to generate a text sample using the\n",
        "generate_text_simple function we used earlier"
      ]
    },
    {
      "cell_type": "markdown",
      "metadata": {
        "id": "japAGWE8S8Y_"
      },
      "source": [
        "Let's see this all in action by training a GPTModel instance for 10 epochs using an AdamW\n",
        "optimizer and the train_model_simple function we defined earlier."
      ]
    },
    {
      "cell_type": "code",
      "execution_count": null,
      "metadata": {
        "id": "5sABTOrVS8Y_",
        "outputId": "0cbd7eae-6da4-472f-dfd6-93c65df96a92",
        "colab": {
          "base_uri": "https://localhost:8080/"
        }
      },
      "outputs": [
        {
          "output_type": "stream",
          "name": "stdout",
          "text": [
            "Ep 1 (Step 000000): Train loss 9.350, Val loss 9.452\n",
            "Ep 1 (Step 000005): Train loss 7.784, Val loss 7.938\n",
            "Every effort moves you                                                  \n",
            "Ep 2 (Step 000010): Train loss 6.496, Val loss 6.811\n",
            "Ep 2 (Step 000015): Train loss 5.825, Val loss 6.393\n",
            "Every effort moves you, the                                                \n",
            "Ep 3 (Step 000020): Train loss 5.721, Val loss 6.334\n",
            "Ep 3 (Step 000025): Train loss 5.500, Val loss 6.360\n",
            "Every effort moves you, and                                                \n",
            "Ep 4 (Step 000030): Train loss 5.289, Val loss 6.294\n",
            "Ep 4 (Step 000035): Train loss 5.270, Val loss 6.368\n",
            "Every effort moves you                              \", and, and I had been.           \n",
            "Ep 5 (Step 000040): Train loss 5.140, Val loss 6.502\n",
            "Ep 5 (Step 000045): Train loss 5.131, Val loss 6.384\n",
            "Every effort moves you                                                  \n",
            "Ep 6 (Step 000050): Train loss 4.520, Val loss 6.386\n",
            "Ep 6 (Step 000055): Train loss 4.223, Val loss 6.219\n",
            "Every effort moves you                                                  \n",
            "Ep 7 (Step 000060): Train loss 3.980, Val loss 6.144\n",
            "Ep 7 (Step 000065): Train loss 3.348, Val loss 6.140\n",
            "Every effort moves you know, I had to the        \"--as, I had been.       \"I had the fact-rooms, and to my dear, and he had been.   \n",
            "Ep 8 (Step 000070): Train loss 2.881, Val loss 6.158\n",
            "Ep 8 (Step 000075): Train loss 2.481, Val loss 6.146\n",
            "Every effort moves you know,  \" to have all his pictures--            \"--as he was a little of an, and Mrs.          \"Oh, and\n",
            "Ep 9 (Step 000080): Train loss 2.211, Val loss 6.166\n",
            "Ep 9 (Step 000085): Train loss 1.834, Val loss 6.180\n",
            "Every effort moves you know, I seemed to the    \"Oh, and I was no--for it was not till, and his painting him, and left alone with him. I had always            \n",
            "Ep 10 (Step 000090): Train loss 1.611, Val loss 6.198\n",
            "Ep 10 (Step 000095): Train loss 1.195, Val loss 6.297\n",
            "Every effort moves you know, I seemed to see a smile behind his close     \"--for it was not till after that, on       \"I wish you'd tell me how it, with equanimity. \n",
            "Training completed in 24.91 minutes.\n"
          ]
        }
      ],
      "source": [
        "# Note:\n",
        "# Uncomment the following code to calculate the execution time\n",
        "import time\n",
        "start_time = time.time()\n",
        "\n",
        "torch.manual_seed(123)\n",
        "model = GPTModel(GPT_CONFIG_124M)\n",
        "model.to(device)\n",
        "optimizer = torch.optim.AdamW(model.parameters(), lr=0.0004, weight_decay=0.1)\n",
        "\n",
        "num_epochs = 10\n",
        "train_losses, val_losses, tokens_seen = train_model_simple(\n",
        "    model, train_loader, val_loader, optimizer, device,\n",
        "    num_epochs=num_epochs, eval_freq=5, eval_iter=5,\n",
        "    start_context=\"Every effort moves you\", tokenizer=tokenizer\n",
        ")\n",
        "\n",
        "# Note\n",
        "# Uncomment the following code to show the execution time\n",
        "end_time = time.time()\n",
        "execution_time_minutes = (end_time - start_time) / 60\n",
        "print(f\"Training completed in {execution_time_minutes:.2f} minutes.\")"
      ]
    },
    {
      "cell_type": "markdown",
      "metadata": {
        "id": "rKlnCPMES8ZB"
      },
      "source": [
        "As we can see, based on the results printed during the training, the training loss improves\n",
        "drastically, starting with a value of 9.781 and converging to 0.391.\n",
        "\n",
        "The language skills of\n",
        "the model have improved quite a lot. In the beginning, the model is only able to append\n",
        "commas to the start context (\"Every effort moves you,,,,,,,,,,,,\") or repeat the\n",
        "word \"and\".\n",
        "\n",
        "At the end of the training, it can generate grammatically correct text."
      ]
    },
    {
      "cell_type": "markdown",
      "metadata": {
        "id": "qHW80UJCS8ZD"
      },
      "source": [
        "Similar to the training set loss, we can see that the validation loss starts high (9.856)\n",
        "and decreases during the training.\n",
        "\n",
        "However, it never becomes as small as the training set\n",
        "loss and remains at 6.372 after the 10th epoch."
      ]
    },
    {
      "cell_type": "markdown",
      "metadata": {
        "id": "mLW81BCPS8ZD"
      },
      "source": [
        "Let's create a simple plot that shows the training and validation set losses side by side"
      ]
    },
    {
      "cell_type": "code",
      "execution_count": null,
      "metadata": {
        "id": "UYi7OeizS8ZE",
        "outputId": "f8e66d86-89a6-42cd-8295-a37f0728b983",
        "colab": {
          "base_uri": "https://localhost:8080/",
          "height": 307
        }
      },
      "outputs": [
        {
          "output_type": "display_data",
          "data": {
            "text/plain": [
              "<Figure size 500x300 with 2 Axes>"
            ],
            "image/png": "[encoded data removed]"
          },
          "metadata": {}
        }
      ],
      "source": [
        "import matplotlib.pyplot as plt\n",
        "from matplotlib.ticker import MaxNLocator\n",
        "\n",
        "\n",
        "def plot_losses(epochs_seen, tokens_seen, train_losses, val_losses):\n",
        "    fig, ax1 = plt.subplots(figsize=(5, 3))\n",
        "\n",
        "    # Plot training and validation loss against epochs\n",
        "    ax1.plot(epochs_seen, train_losses, label=\"Training loss\")\n",
        "    ax1.plot(epochs_seen, val_losses, linestyle=\"-.\", label=\"Validation loss\")\n",
        "    ax1.set_xlabel(\"Epochs\")\n",
        "    ax1.set_ylabel(\"Loss\")\n",
        "    ax1.legend(loc=\"upper right\")\n",
        "    ax1.xaxis.set_major_locator(MaxNLocator(integer=True))  # only show integer labels on x-axis\n",
        "\n",
        "    # Create a second x-axis for tokens seen\n",
        "    ax2 = ax1.twiny()  # Create a second x-axis that shares the same y-axis\n",
        "    ax2.plot(tokens_seen, train_losses, alpha=0)  # Invisible plot for aligning ticks\n",
        "    ax2.set_xlabel(\"Tokens seen\")\n",
        "\n",
        "    fig.tight_layout()  # Adjust layout to make room\n",
        "    plt.savefig(\"loss-plot.pdf\")\n",
        "    plt.show()\n",
        "\n",
        "epochs_tensor = torch.linspace(0, num_epochs, len(train_losses))\n",
        "plot_losses(epochs_tensor, tokens_seen, train_losses, val_losses)"
      ]
    },
    {
      "cell_type": "markdown",
      "metadata": {
        "id": "rX1_a5KWS8ZE"
      },
      "source": [
        "Both the training and validation losses start to improve for the first\n",
        "epoch. However, the losses start to diverge past the second epoch.\n",
        "\n",
        "This divergence and the\n",
        "fact that the validation loss is much larger than the training loss indicate that the model is\n",
        "overfitting to the training data.\n",
        "\n",
        "We can confirm that the model memorizes the training data\n",
        "verbatim by searching for the generated text snippets, such as \"quite insensible to the\n",
        "irony\" in the \"The Verdict\" text file.\n",
        "\n",
        "\n",
        "This memorization is expected since we are working with a very, very small training\n",
        "dataset and training the model for multiple epochs.\n",
        "\n",
        "Usually, it's common to train a model\n",
        "on a much, much larger dataset for only one epoch.   "
      ]
    },
    {
      "cell_type": "markdown",
      "source": [
        "## **Notes**"
      ],
      "metadata": {
        "id": "poUAcpNbY5SR"
      }
    },
    {
      "cell_type": "markdown",
      "source": [
        "### Optimizers Used in LLM Training"
      ],
      "metadata": {
        "id": "Yjow1tlZY-OO"
      }
    },
    {
      "cell_type": "markdown",
      "source": [
        "Large Language Models (LLMs) rely on gradient-based optimization, where optimizers adjust billions of parameters to minimize the loss.\n",
        "The most common optimizers are **Adam** and its improved variants.\n",
        "\n",
        "| **Optimizer**         | **Description**                                                                                                  | **Used In**                      |\n",
        "| --------------------- | ---------------------------------------------------------------------------------------------------------------- | -------------------------------- |\n",
        "| **Adam**              | Adaptive Moment Estimation — combines *momentum* and *RMSProp* ideas to adapt learning rates for each parameter. | BERT, GPT-2                      |\n",
        "| **AdamW**             | Adam with **decoupled weight decay**, improving generalization and training stability.                           | GPT-3, GPT-4, LLaMA              |\n",
        "| **Lion**              | Lightweight optimizer using only the **sign of momentum** for updates — faster and more memory-efficient.        | Newer research (Meta, 2023–2024) |\n",
        "| **Adafactor**         | Memory-efficient Adam variant — factorizes large parameter matrices.                                             | T5, PaLM                         |\n",
        "| **SGD with Momentum** | Simple and stable, but converges slower in high-dimensional settings.                                            | Smaller or older models          |\n",
        "\n",
        "\n",
        "**Example: AdamW Update Rule**\n",
        "\n",
        "> The **AdamW optimizer** is a key improvement over Adam.\n",
        "> It decouples *weight decay* from the gradient update, improving convergence and avoiding bias in L2 regularization.\n",
        "\n",
        "**Update Equations**\n",
        "\n",
        "At iteration (t)\n",
        "\n",
        "$$ m_t = \\beta_1 m_{t-1} + (1 - \\beta_1) g_t $$\n",
        "$$ v_t = \\beta_2 v_{t-1} + (1 - \\beta_2) g_t^2 $$\n",
        "$$ \\hat{m}_t = \\frac{m_t}{1 - \\beta_1^t} $$\n",
        "$$ \\hat{v}*t = \\frac{v_t}{1 - \\beta_2^t} $$\n",
        "$$ \\theta*{t+1} = \\theta_t - \\eta \\frac{\\hat{m}_t}{\\sqrt{\\hat{v}_t} + \\epsilon} - \\eta \\lambda \\theta_t $$\n",
        "\n",
        "\n",
        "\n",
        "**Explanation of Terms**\n",
        "\n",
        "| Symbol                   | Meaning                                                       |\n",
        "| ------------------------ | ------------------------------------------------------------- |\n",
        "| ( g_t )                  | Gradient of loss with respect to parameters at step (t)       |\n",
        "| ( m_t )                  | Exponentially decaying average of past gradients (momentum)   |\n",
        "| ( v_t )                  | Exponentially decaying average of past squared gradients      |\n",
        "| ( \\beta_1, \\beta_2 )     | Hyperparameters controlling decay rates (typical: 0.9, 0.999) |\n",
        "| ( \\hat{m}_t, \\hat{v}_t ) | Bias-corrected estimates of (m_t) and (v_t)                   |\n",
        "| ( \\eta )                 | Learning rate                                                 |\n",
        "| ( \\lambda )              | Weight decay coefficient (regularization term)                |\n",
        "| ( \\epsilon )             | Small constant for numerical stability                        |\n",
        "\n",
        "\n",
        "\n",
        "**How It Works Conceptually**\n",
        "\n",
        "1. **Compute gradient** ( g_t ) of the loss function.\n",
        "2. **Update moving averages:**\n",
        "\n",
        "   * ( m_t ): tracks gradient direction (momentum).\n",
        "   * ( v_t ): tracks gradient magnitude (RMS normalization).\n",
        "3. **Bias-correct** both to account for initialization effects.\n",
        "4. **Update parameters:** move opposite to the gradient direction, with adaptive step size.\n",
        "5. **Apply weight decay:** regularize parameters to prevent overfitting.\n",
        "\n"
      ],
      "metadata": {
        "id": "Dkk4CVZnY8AM"
      }
    },
    {
      "cell_type": "markdown",
      "source": [
        "### Optimization Challanges"
      ],
      "metadata": {
        "id": "32853RuEaG1_"
      }
    },
    {
      "cell_type": "markdown",
      "source": [
        "| Challenge                         | Description                                          | Mitigation                                             |\n",
        "| --------------------------------- | ---------------------------------------------------- | ------------------------------------------------------ |\n",
        "| **Vanishing/Exploding Gradients** | Gradients become too small/large through deep layers | LayerNorm, residuals, gradient clipping                |\n",
        "| **Instability in FP16 precision** | Floating point rounding issues                       | Use BF16 or mixed-precision scaling                    |\n",
        "| **Huge Memory Usage**             | Billions of parameters & optimizer states            | ZeRO optimizer, sharded training                       |\n",
        "| **Slow Convergence**              | Needs trillions of tokens                            | Adaptive LR, batch normalization, large-batch training |\n",
        "| **Catastrophic Forgetting**       | During fine-tuning, model forgets pretraining        | Low LR, regularization, LoRA adapters                  |\n"
      ],
      "metadata": {
        "id": "l8SQWwP_aJOQ"
      }
    },
    {
      "cell_type": "markdown",
      "source": [
        "### **Learning Rate Schedules**"
      ],
      "metadata": {
        "id": "ASKbeL1caVU7"
      }
    },
    {
      "cell_type": "markdown",
      "source": [
        "The **learning rate (LR)** controls *how big a step* the optimizer takes when updating weights.\n",
        "If the step is **too big → unstable / divergence**,\n",
        "if **too small → slow learning**.\n",
        "\n",
        "So, instead of keeping it constant, LLMs **change it gradually during training** — this is called a **learning rate schedule**.\n",
        "\n",
        "---\n",
        "\n",
        "Common Learning Rate Schedules\n",
        "\n",
        "| **Schedule**              | **What It Does**                                                                                                       | **How It Helps**                                                    | **Used In**                |\n",
        "| ------------------------- | ---------------------------------------------------------------------------------------------------------------------- | ------------------------------------------------------------------- | -------------------------- |\n",
        "| **Warmup + Cosine Decay** | Start with a small LR <br> (warmup), then slowly<br> increase, and finally<br> decrease in a smooth<br> wave-like curve <br>(cosine shape). | Prevents instability at the<br> start and fine-tunes slowly <br>at the end. | GPT, LLaMA                 |\n",
        "| **Linear Decay**          | Increases LR during<br> warmup, then gradually<br> decreases it linearly to <br>zero.                                              | Simple and stable for<br> most models.                                  | BERT, RoBERTa              |\n",
        "| **Step Decay**            | Keeps LR constant for<br> a few epochs, then<br> suddenly reduces it<br> (like steps).                                             | Older technique, less smooth.                                       | Early deep learning models |\n"
      ],
      "metadata": {
        "id": "G0XWqEBfaVwW"
      }
    },
    {
      "cell_type": "markdown",
      "source": [
        "**Why “Warmup”?**\n",
        "\n",
        "\n",
        "At the very beginning of training\n",
        "\n",
        "* The model’s weights are random.\n",
        "* Gradients (the learning signals) can be **unstable or huge**.\n",
        "\n",
        "If you start with a large learning rate, these large gradients can **blow up the weights** → training fails.\n",
        "\n",
        "So, we **“warm up”** by\n",
        "\n",
        "* starting with a very small learning rate,\n",
        "* gradually increasing it for the first few thousand steps,\n",
        "* then switching to a decay schedule.\n",
        "\n",
        "Think of it like\n",
        "\n",
        "> 🚗 “Don’t go from 0 to 100 immediately — start slow, then accelerate.”\n",
        "\n"
      ],
      "metadata": {
        "id": "izwoK3o4aVzD"
      }
    },
    {
      "cell_type": "markdown",
      "source": [
        "### Gradient Optimization Techniques"
      ],
      "metadata": {
        "id": "DRf6yTgca_e_"
      }
    },
    {
      "cell_type": "markdown",
      "source": [
        "Training a massive model like GPT means working with **billions of parameters** and **huge gradients**.\n",
        "So researchers use a few **tricks** to make training stable, efficient, and possible even with limited GPU memory.\n",
        "\n",
        "**Key Techniques Explained Simply**\n",
        "\n",
        "| **Technique**                                  | **What It Means (Beginner Explanation)**                                                                                                          | **Why It’s Used**                                                              |\n",
        "| ---------------------------------------------- | ------------------------------------------------------------------------------------------------------------------------------------------------- | ------------------------------------------------------------------------------ |\n",
        "| **Gradient Clipping**                          | If the gradient (update signal) is too large,<br> we “clip” or limit its size.                                                                        | Prevents the model from making wild,<br> unstable updates (“exploding gradients”). |\n",
        "| **Gradient Accumulation**                      | Instead of using a huge batch at once <br>(which doesn’t fit in memory), we process<br> several small batches, sum their gradients, <br>and then update once. | Simulates large-batch training even on smaller<br> GPUs.                           |\n",
        "| **Mixed Precision Training (FP16 / BF16)**     | Uses smaller floating-point numbers <br>(16-bit instead of 32-bit) for faster math <br>and less memory use — while keeping<br> accuracy.                      | Makes training faster and reduces GPU memory<br> use.                              |\n",
        "| **Distributed Gradient Averaging (DDP)**       | When training on multiple GPUs or <br> machines, each computes its gradients,<br> and then all gradients are averaged <br>together.                            | Ensures all GPUs learn the same way<br> (synchronized training).                   |\n",
        "| **ZeRO Optimizer (Zero Redundancy Optimizer)** | Splits up the optimizer’s big memory states<br> across GPUs instead of duplicating them.                                                              | Allows models with *trillions* of parameters to fit <br>in GPU memory.             |\n",
        "| **Checkpointing (Activation Recomputation)**   | Instead of saving every activation in<br> memory, we recompute some of them <br>during backpropagation.                                                   | Saves memory — trades a bit of speed for<br> huge memory savings.                  |\n",
        "\n",
        "\n",
        "\n",
        "**Simple Real-World Analogy**\n",
        "\n",
        "| Technique             | Analogy                                                                          |\n",
        "| --------------------- | -------------------------------------------------------------------------------- |\n",
        "| Gradient Clipping     | Like limiting the maximum speed of a car to avoid crashing.                      |\n",
        "| Gradient Accumulation | Like carrying 10 small boxes one by one instead of 1 huge box.                   |\n",
        "| Mixed Precision       | Like using lighter materials that still get the job done.                        |\n",
        "| DDP                   | Like multiple chefs cooking the same recipe and comparing notes to stay in sync. |\n",
        "| ZeRO                  | Like dividing grocery bags among friends so no one carries too much.             |\n",
        "| Checkpointing         | Like not remembering every step, but redoing a few to save brain space.          |\n"
      ],
      "metadata": {
        "id": "ghBElep7a-bC"
      }
    },
    {
      "cell_type": "markdown",
      "source": [
        "### Advanced Optimization Techniques (Modern Trends)"
      ],
      "metadata": {
        "id": "hjVdcQrYmC8M"
      }
    },
    {
      "cell_type": "markdown",
      "source": [
        "1. **LoRA (Low-Rank Adaptation)**\n",
        "\n",
        "What It Is\n",
        "\n",
        "> LoRA is a clever way to fine-tune large language models **without changing all of their billions of weights**.\n",
        "> Instead, it adds a few **tiny trainable layers** (small matrices) inside the model.\n",
        "\n",
        "So during fine-tuning:=\n",
        "\n",
        "* The **main model stays frozen** (unchanged)\n",
        "* Only the **small LoRA layers** are trained\n",
        "\n",
        "Intuition\n",
        "\n",
        "> Think of the big model as a **frozen brain**, and LoRA as adding a **small patch of new neurons** that learn the new skill.\n",
        "\n",
        "Why It’s Useful\n",
        "\n",
        "* Much faster fine-tuning\n",
        "* Needs **way less GPU memory**\n",
        "* You can train multiple versions (for different tasks) cheaply\n",
        "\n",
        "Example\n",
        "> Fine-tune a 70B model for a medical chatbot — instead of training all 70B parameters, you just train maybe 10M LoRA parameters.\n",
        "\n",
        "Used In\n",
        "\n",
        "> LLaMA, Falcon, Mistral, and most modern instruction-tuned or domain-specific LLMs.\n",
        "\n",
        "---\n",
        "2. **QLoRA (Quantized LoRA)**\n",
        "\n",
        "What It Is:\n",
        "\n",
        "> An improved version of LoRA that uses **quantization** — storing model weights in **4-bit numbers** (instead of 16-bit or 32-bit).\n",
        "> That’s a massive compression\n",
        "> 32-bit → 4-bit = 8× smaller memory use\n",
        "\n",
        "QLoRA fine-tunes these **compressed models** using the same LoRA idea.\n",
        "\n",
        "Intuition\n",
        "\n",
        "> Imagine fitting a huge encyclopedia into your phone by **compressing** it — but you can still read and update parts of it efficiently.\n",
        "\n",
        "Why It’s Useful\n",
        "\n",
        "* Lets you fine-tune **very large models (65B+) on a single GPU**.\n",
        "* Retains almost the same accuracy as full-precision training.\n",
        "* Ideal for researchers or smaller teams with limited hardware.\n",
        "\n",
        "Example:\n",
        "> Fine-tuning a 33B model on a **24GB RTX 4090** GPU — possible with QLoRA!\n",
        "\n",
        "Used In:\n",
        "\n",
        "> Alpaca, Vicuna, and many open-source fine-tuned LLMs.\n",
        "\n",
        "---\n",
        "\n",
        "3. **PEFT (Parameter-Efficient Fine-Tuning)**\n",
        "\n",
        "What It Is\n",
        "\n",
        "> PEFT is a **general family** of methods (including LoRA, Prefix-Tuning, Adapter-Tuning, etc.)\n",
        "> The goal: fine-tune large models by **updating only a small subset of parameters**.\n",
        "\n",
        "Intuition:\n",
        "\n",
        "> Instead of repainting an entire building (full fine-tuning), you **repaint only a few key walls** (PEFT).\n",
        "> The rest stays as it is.\n",
        "\n",
        "Why It’s Useful\n",
        "\n",
        "* Reduces training time ⏱️\n",
        "* Requires much less memory 💾\n",
        "* Keeps the original knowledge intact\n",
        "* Easy to switch between multiple tasks quickly\n",
        "\n",
        "Example\n",
        "\n",
        "A base LLM can be fine-tuned into\n",
        "* A medical assistant\n",
        "* A legal assistant\n",
        "* A coding helper\n",
        "  Each fine-tune just adds a **small PEFT adapter**, not a whole new model.\n",
        "\n",
        "Used In\n",
        "\n",
        "> All efficient fine-tuning libraries (Hugging Face PEFT, LoRA, QLoRA, Prefix Tuning).\n",
        "\n",
        "---\n",
        "\n",
        "4. **DPO / PPO (for Alignment via RLHF)**\n",
        "\n",
        "> These are **optimization methods used during alignment** — when the model is trained to **follow human preferences** (this is part of **RLHF – Reinforcement Learning from Human Feedback**).\n",
        "\n",
        "Step-by-Step Idea\n",
        "\n",
        "1. You first train a model to predict the next token (pretraining).\n",
        "2. Then fine-tune it to follow instructions (SFT).\n",
        "3. Finally, you *align* it using feedback from humans — this is where **PPO or DPO** comes in.\n",
        "\n",
        "---\n",
        "\n",
        "PPO — *Proximal Policy Optimization*\n",
        "\n",
        "* Comes from reinforcement learning.\n",
        "* The model is treated like a “policy” that chooses words.\n",
        "* It’s rewarded for producing responses humans prefer.\n",
        "* The **KL penalty** ensures it doesn’t drift too far from the base model.\n",
        "\n",
        "Analogy\n",
        "\n",
        "> Teaching a child: reward answers that sound polite and correct; gently discourage wrong or rude ones.\n",
        "\n",
        "---\n",
        "DPO — *Direct Preference Optimization*\n",
        "\n",
        "* A newer, simpler alternative to PPO.\n",
        "* Trains directly on pairs of responses (good vs bad).\n",
        "* No need for a separate reward model — it’s built into the math.\n",
        "* Easier and more stable to train.\n",
        "\n",
        "Analogy\n",
        "\n",
        "> Show the model two answers — “A” and “B” — and tell it, “A is better.” The model learns to prefer answers like A in the future.\n",
        "\n",
        "\n",
        "\n",
        "Why They Matter\n",
        "\n",
        "* Aligns LLM behavior with **human expectations**\n",
        "* Prevents harmful, rude, or irrelevant responses\n",
        "* Used in models like **ChatGPT, Claude, Gemini**\n",
        "\n",
        "---\n",
        "\n",
        "5. **Gradient Checkpointing**\n",
        "\n",
        "What It Is:\n",
        "\n",
        "> A memory-saving trick used during **training very deep models** (like 100+ transformer layers).\n",
        "> Normally, training stores *all intermediate activations* for backpropagation.\n",
        "That’s huge — it eats tons of GPU memory.\n",
        "> With **gradient checkpointing**, we:\n",
        "\n",
        "* Save only some activations,\n",
        "* Recompute the rest during backpropagation.\n",
        "\n",
        "> This trades **extra computation** for **massive memory savings**.\n",
        "\n",
        "Intuition\n",
        "\n",
        "> Imagine you’re hiking a trail and forget some landmarks.\n",
        "> Instead of carrying a big map (memory), you **retrace a few steps** (extra compute) to find your way back.\n",
        "\n",
        "Why It’s Useful\n",
        "* Saves **50–70% GPU memory**.\n",
        "* Makes training deep transformers possible on limited hardware.\n",
        "* Commonly used in GPT, LLaMA, and almost all large-scale models.\n",
        "\n",
        "\n"
      ],
      "metadata": {
        "id": "fK-LkWQzb61n"
      }
    },
    {
      "cell_type": "markdown",
      "metadata": {
        "id": "WQp_Z85SS8ZE"
      },
      "source": [
        "# **DECODING STRATEGIES TO CONTROL RANDOMNESS**"
      ]
    },
    {
      "cell_type": "markdown",
      "metadata": {
        "id": "4xfWnuu0S8ZE"
      },
      "source": [
        "First, we briefly revisit the generate_text_simple function\n",
        "from the previous chapter that we used inside the generate_and_print_sample earlier in\n",
        "this chapter.\n",
        "\n",
        "Then, we will cover two techniques, temperature scaling, and top-k sampling,\n",
        "to improve this function."
      ]
    },
    {
      "cell_type": "markdown",
      "metadata": {
        "id": "9qm4SXOES8ZE"
      },
      "source": [
        "We begin by transferring the model back from the GPU to the CPU since inference with a\n",
        "relatively small model does not require a GPU. Also, after training, we put the model into\n",
        "evaluation model to turn off random components such as dropout"
      ]
    },
    {
      "cell_type": "code",
      "execution_count": null,
      "metadata": {
        "id": "qwkp4IgzS8ZE",
        "outputId": "35cb224a-e916-471e-b1e6-f0831caa811b",
        "colab": {
          "base_uri": "https://localhost:8080/"
        }
      },
      "outputs": [
        {
          "output_type": "execute_result",
          "data": {
            "text/plain": [
              "GPTModel(\n",
              "  (tok_emb): Embedding(50257, 768)\n",
              "  (pos_emb): Embedding(256, 768)\n",
              "  (drop_emb): Dropout(p=0.1, inplace=False)\n",
              "  (trf_blocks): Sequential(\n",
              "    (0): TransformerBlock(\n",
              "      (att): MultiHeadAttention(\n",
              "        (W_query): Linear(in_features=768, out_features=768, bias=False)\n",
              "        (W_key): Linear(in_features=768, out_features=768, bias=False)\n",
              "        (W_value): Linear(in_features=768, out_features=768, bias=False)\n",
              "        (out_proj): Linear(in_features=768, out_features=768, bias=True)\n",
              "        (dropout): Dropout(p=0.1, inplace=False)\n",
              "      )\n",
              "      (ff): FeedForward(\n",
              "        (layers): Sequential(\n",
              "          (0): Linear(in_features=768, out_features=3072, bias=True)\n",
              "          (1): GELU()\n",
              "          (2): Linear(in_features=3072, out_features=768, bias=True)\n",
              "        )\n",
              "      )\n",
              "      (norm1): LayerNorm()\n",
              "      (norm2): LayerNorm()\n",
              "      (drop_shortcut): Dropout(p=0.1, inplace=False)\n",
              "    )\n",
              "    (1): TransformerBlock(\n",
              "      (att): MultiHeadAttention(\n",
              "        (W_query): Linear(in_features=768, out_features=768, bias=False)\n",
              "        (W_key): Linear(in_features=768, out_features=768, bias=False)\n",
              "        (W_value): Linear(in_features=768, out_features=768, bias=False)\n",
              "        (out_proj): Linear(in_features=768, out_features=768, bias=True)\n",
              "        (dropout): Dropout(p=0.1, inplace=False)\n",
              "      )\n",
              "      (ff): FeedForward(\n",
              "        (layers): Sequential(\n",
              "          (0): Linear(in_features=768, out_features=3072, bias=True)\n",
              "          (1): GELU()\n",
              "          (2): Linear(in_features=3072, out_features=768, bias=True)\n",
              "        )\n",
              "      )\n",
              "      (norm1): LayerNorm()\n",
              "      (norm2): LayerNorm()\n",
              "      (drop_shortcut): Dropout(p=0.1, inplace=False)\n",
              "    )\n",
              "    (2): TransformerBlock(\n",
              "      (att): MultiHeadAttention(\n",
              "        (W_query): Linear(in_features=768, out_features=768, bias=False)\n",
              "        (W_key): Linear(in_features=768, out_features=768, bias=False)\n",
              "        (W_value): Linear(in_features=768, out_features=768, bias=False)\n",
              "        (out_proj): Linear(in_features=768, out_features=768, bias=True)\n",
              "        (dropout): Dropout(p=0.1, inplace=False)\n",
              "      )\n",
              "      (ff): FeedForward(\n",
              "        (layers): Sequential(\n",
              "          (0): Linear(in_features=768, out_features=3072, bias=True)\n",
              "          (1): GELU()\n",
              "          (2): Linear(in_features=3072, out_features=768, bias=True)\n",
              "        )\n",
              "      )\n",
              "      (norm1): LayerNorm()\n",
              "      (norm2): LayerNorm()\n",
              "      (drop_shortcut): Dropout(p=0.1, inplace=False)\n",
              "    )\n",
              "    (3): TransformerBlock(\n",
              "      (att): MultiHeadAttention(\n",
              "        (W_query): Linear(in_features=768, out_features=768, bias=False)\n",
              "        (W_key): Linear(in_features=768, out_features=768, bias=False)\n",
              "        (W_value): Linear(in_features=768, out_features=768, bias=False)\n",
              "        (out_proj): Linear(in_features=768, out_features=768, bias=True)\n",
              "        (dropout): Dropout(p=0.1, inplace=False)\n",
              "      )\n",
              "      (ff): FeedForward(\n",
              "        (layers): Sequential(\n",
              "          (0): Linear(in_features=768, out_features=3072, bias=True)\n",
              "          (1): GELU()\n",
              "          (2): Linear(in_features=3072, out_features=768, bias=True)\n",
              "        )\n",
              "      )\n",
              "      (norm1): LayerNorm()\n",
              "      (norm2): LayerNorm()\n",
              "      (drop_shortcut): Dropout(p=0.1, inplace=False)\n",
              "    )\n",
              "    (4): TransformerBlock(\n",
              "      (att): MultiHeadAttention(\n",
              "        (W_query): Linear(in_features=768, out_features=768, bias=False)\n",
              "        (W_key): Linear(in_features=768, out_features=768, bias=False)\n",
              "        (W_value): Linear(in_features=768, out_features=768, bias=False)\n",
              "        (out_proj): Linear(in_features=768, out_features=768, bias=True)\n",
              "        (dropout): Dropout(p=0.1, inplace=False)\n",
              "      )\n",
              "      (ff): FeedForward(\n",
              "        (layers): Sequential(\n",
              "          (0): Linear(in_features=768, out_features=3072, bias=True)\n",
              "          (1): GELU()\n",
              "          (2): Linear(in_features=3072, out_features=768, bias=True)\n",
              "        )\n",
              "      )\n",
              "      (norm1): LayerNorm()\n",
              "      (norm2): LayerNorm()\n",
              "      (drop_shortcut): Dropout(p=0.1, inplace=False)\n",
              "    )\n",
              "    (5): TransformerBlock(\n",
              "      (att): MultiHeadAttention(\n",
              "        (W_query): Linear(in_features=768, out_features=768, bias=False)\n",
              "        (W_key): Linear(in_features=768, out_features=768, bias=False)\n",
              "        (W_value): Linear(in_features=768, out_features=768, bias=False)\n",
              "        (out_proj): Linear(in_features=768, out_features=768, bias=True)\n",
              "        (dropout): Dropout(p=0.1, inplace=False)\n",
              "      )\n",
              "      (ff): FeedForward(\n",
              "        (layers): Sequential(\n",
              "          (0): Linear(in_features=768, out_features=3072, bias=True)\n",
              "          (1): GELU()\n",
              "          (2): Linear(in_features=3072, out_features=768, bias=True)\n",
              "        )\n",
              "      )\n",
              "      (norm1): LayerNorm()\n",
              "      (norm2): LayerNorm()\n",
              "      (drop_shortcut): Dropout(p=0.1, inplace=False)\n",
              "    )\n",
              "    (6): TransformerBlock(\n",
              "      (att): MultiHeadAttention(\n",
              "        (W_query): Linear(in_features=768, out_features=768, bias=False)\n",
              "        (W_key): Linear(in_features=768, out_features=768, bias=False)\n",
              "        (W_value): Linear(in_features=768, out_features=768, bias=False)\n",
              "        (out_proj): Linear(in_features=768, out_features=768, bias=True)\n",
              "        (dropout): Dropout(p=0.1, inplace=False)\n",
              "      )\n",
              "      (ff): FeedForward(\n",
              "        (layers): Sequential(\n",
              "          (0): Linear(in_features=768, out_features=3072, bias=True)\n",
              "          (1): GELU()\n",
              "          (2): Linear(in_features=3072, out_features=768, bias=True)\n",
              "        )\n",
              "      )\n",
              "      (norm1): LayerNorm()\n",
              "      (norm2): LayerNorm()\n",
              "      (drop_shortcut): Dropout(p=0.1, inplace=False)\n",
              "    )\n",
              "    (7): TransformerBlock(\n",
              "      (att): MultiHeadAttention(\n",
              "        (W_query): Linear(in_features=768, out_features=768, bias=False)\n",
              "        (W_key): Linear(in_features=768, out_features=768, bias=False)\n",
              "        (W_value): Linear(in_features=768, out_features=768, bias=False)\n",
              "        (out_proj): Linear(in_features=768, out_features=768, bias=True)\n",
              "        (dropout): Dropout(p=0.1, inplace=False)\n",
              "      )\n",
              "      (ff): FeedForward(\n",
              "        (layers): Sequential(\n",
              "          (0): Linear(in_features=768, out_features=3072, bias=True)\n",
              "          (1): GELU()\n",
              "          (2): Linear(in_features=3072, out_features=768, bias=True)\n",
              "        )\n",
              "      )\n",
              "      (norm1): LayerNorm()\n",
              "      (norm2): LayerNorm()\n",
              "      (drop_shortcut): Dropout(p=0.1, inplace=False)\n",
              "    )\n",
              "    (8): TransformerBlock(\n",
              "      (att): MultiHeadAttention(\n",
              "        (W_query): Linear(in_features=768, out_features=768, bias=False)\n",
              "        (W_key): Linear(in_features=768, out_features=768, bias=False)\n",
              "        (W_value): Linear(in_features=768, out_features=768, bias=False)\n",
              "        (out_proj): Linear(in_features=768, out_features=768, bias=True)\n",
              "        (dropout): Dropout(p=0.1, inplace=False)\n",
              "      )\n",
              "      (ff): FeedForward(\n",
              "        (layers): Sequential(\n",
              "          (0): Linear(in_features=768, out_features=3072, bias=True)\n",
              "          (1): GELU()\n",
              "          (2): Linear(in_features=3072, out_features=768, bias=True)\n",
              "        )\n",
              "      )\n",
              "      (norm1): LayerNorm()\n",
              "      (norm2): LayerNorm()\n",
              "      (drop_shortcut): Dropout(p=0.1, inplace=False)\n",
              "    )\n",
              "    (9): TransformerBlock(\n",
              "      (att): MultiHeadAttention(\n",
              "        (W_query): Linear(in_features=768, out_features=768, bias=False)\n",
              "        (W_key): Linear(in_features=768, out_features=768, bias=False)\n",
              "        (W_value): Linear(in_features=768, out_features=768, bias=False)\n",
              "        (out_proj): Linear(in_features=768, out_features=768, bias=True)\n",
              "        (dropout): Dropout(p=0.1, inplace=False)\n",
              "      )\n",
              "      (ff): FeedForward(\n",
              "        (layers): Sequential(\n",
              "          (0): Linear(in_features=768, out_features=3072, bias=True)\n",
              "          (1): GELU()\n",
              "          (2): Linear(in_features=3072, out_features=768, bias=True)\n",
              "        )\n",
              "      )\n",
              "      (norm1): LayerNorm()\n",
              "      (norm2): LayerNorm()\n",
              "      (drop_shortcut): Dropout(p=0.1, inplace=False)\n",
              "    )\n",
              "    (10): TransformerBlock(\n",
              "      (att): MultiHeadAttention(\n",
              "        (W_query): Linear(in_features=768, out_features=768, bias=False)\n",
              "        (W_key): Linear(in_features=768, out_features=768, bias=False)\n",
              "        (W_value): Linear(in_features=768, out_features=768, bias=False)\n",
              "        (out_proj): Linear(in_features=768, out_features=768, bias=True)\n",
              "        (dropout): Dropout(p=0.1, inplace=False)\n",
              "      )\n",
              "      (ff): FeedForward(\n",
              "        (layers): Sequential(\n",
              "          (0): Linear(in_features=768, out_features=3072, bias=True)\n",
              "          (1): GELU()\n",
              "          (2): Linear(in_features=3072, out_features=768, bias=True)\n",
              "        )\n",
              "      )\n",
              "      (norm1): LayerNorm()\n",
              "      (norm2): LayerNorm()\n",
              "      (drop_shortcut): Dropout(p=0.1, inplace=False)\n",
              "    )\n",
              "    (11): TransformerBlock(\n",
              "      (att): MultiHeadAttention(\n",
              "        (W_query): Linear(in_features=768, out_features=768, bias=False)\n",
              "        (W_key): Linear(in_features=768, out_features=768, bias=False)\n",
              "        (W_value): Linear(in_features=768, out_features=768, bias=False)\n",
              "        (out_proj): Linear(in_features=768, out_features=768, bias=True)\n",
              "        (dropout): Dropout(p=0.1, inplace=False)\n",
              "      )\n",
              "      (ff): FeedForward(\n",
              "        (layers): Sequential(\n",
              "          (0): Linear(in_features=768, out_features=3072, bias=True)\n",
              "          (1): GELU()\n",
              "          (2): Linear(in_features=3072, out_features=768, bias=True)\n",
              "        )\n",
              "      )\n",
              "      (norm1): LayerNorm()\n",
              "      (norm2): LayerNorm()\n",
              "      (drop_shortcut): Dropout(p=0.1, inplace=False)\n",
              "    )\n",
              "  )\n",
              "  (final_norm): LayerNorm()\n",
              "  (out_head): Linear(in_features=768, out_features=50257, bias=False)\n",
              ")"
            ]
          },
          "metadata": {},
          "execution_count": 120
        }
      ],
      "source": [
        "model.to(\"cpu\")\n",
        "model.eval()"
      ]
    },
    {
      "cell_type": "markdown",
      "metadata": {
        "id": "MuiO7aMJS8ZF"
      },
      "source": [
        "Next, we plug the GPTModel instance (model) into the generate_text_simple function,\n",
        "which uses the LLM to generate one token at a time"
      ]
    },
    {
      "cell_type": "code",
      "execution_count": null,
      "metadata": {
        "id": "aBXwXUSaS8ZF",
        "outputId": "476bac92-eafc-44c9-ffa2-abebc7a5ee7e",
        "colab": {
          "base_uri": "https://localhost:8080/"
        }
      },
      "outputs": [
        {
          "output_type": "stream",
          "name": "stdout",
          "text": [
            "Output text:\n",
            " Every effort moves you know, I seemed to see a smile behind his close\n",
            "\n",
            "\n",
            "\n",
            "\n",
            "\"--for it was not till after that\n"
          ]
        }
      ],
      "source": [
        "tokenizer = tiktoken.get_encoding(\"gpt2\")\n",
        "\n",
        "token_ids = generate_text_simple(\n",
        "    model=model,\n",
        "    idx=text_to_token_ids(\"Every effort moves you\", tokenizer),\n",
        "    max_new_tokens=25,\n",
        "    context_size=GPT_CONFIG_124M[\"context_length\"]\n",
        ")\n",
        "\n",
        "print(\"Output text:\\n\", token_ids_to_text(token_ids, tokenizer))"
      ]
    },
    {
      "cell_type": "markdown",
      "metadata": {
        "id": "SgMMFI3xS8ZF"
      },
      "source": [
        "## **DECODING STRATEGY 1: TEMPERATURE SCALING**"
      ]
    },
    {
      "cell_type": "markdown",
      "metadata": {
        "id": "Fi2aDStTS8ZF"
      },
      "source": [
        "Previously, inside the generate_text_simple function, we always sampled the token\n",
        "with the highest probability as the next token using torch.argmax, also known as greedy\n",
        "decoding.\n",
        "\n",
        "To generate text with more variety, we can replace the argmax with a function\n",
        "that samples from a probability distribution (here, the probability scores the LLM generates\n",
        "for each vocabulary entry at each token generation step)."
      ]
    },
    {
      "cell_type": "markdown",
      "metadata": {
        "id": "oR6KV7LGS8ZF"
      },
      "source": [
        "To illustrate the probabilistic sampling with a concrete example, let's briefly discuss the\n",
        "next-token generation process using a very small vocabulary for illustration purposes"
      ]
    },
    {
      "cell_type": "code",
      "execution_count": null,
      "metadata": {
        "id": "_sG3dqVvS8ZG"
      },
      "outputs": [],
      "source": [
        "vocab = {\n",
        "    \"closer\": 0,\n",
        "    \"every\": 1,\n",
        "    \"effort\": 2,\n",
        "    \"forward\": 3,\n",
        "    \"inches\": 4,\n",
        "    \"moves\": 5,\n",
        "    \"pizza\": 6,\n",
        "    \"toward\": 7,\n",
        "    \"you\": 8,\n",
        "}\n",
        "\n",
        "inverse_vocab = {v: k for k, v in vocab.items()}"
      ]
    },
    {
      "cell_type": "markdown",
      "metadata": {
        "id": "msBIsGnQS8ZG"
      },
      "source": [
        "Next, assume the LLM is given the start context \"every effort moves you\" and\n",
        "generates the following next-token logits"
      ]
    },
    {
      "cell_type": "code",
      "execution_count": null,
      "metadata": {
        "id": "PyTDO_H_S8ZG"
      },
      "outputs": [],
      "source": [
        "next_token_logits = torch.tensor(\n",
        "[4.51, 0.89, -1.90, 6.75, 1.63, -1.62, -1.89, 6.28, 1.79]\n",
        ")"
      ]
    },
    {
      "cell_type": "markdown",
      "metadata": {
        "id": "FgLy8jSrS8ZG"
      },
      "source": [
        "As discussed in the previous chapter, inside the generate_text_simple, we convert the\n",
        "logits into probabilities via the softmax function and obtain the token ID corresponding the\n",
        "generated token via the argmax function, which we can then map back into text via the\n",
        "inverse vocabulary"
      ]
    },
    {
      "cell_type": "code",
      "execution_count": null,
      "metadata": {
        "id": "lBwvx0_pS8ZG",
        "outputId": "fbf78a3f-c336-4b1d-983c-c184716f8887",
        "colab": {
          "base_uri": "https://localhost:8080/"
        }
      },
      "outputs": [
        {
          "output_type": "stream",
          "name": "stdout",
          "text": [
            "forward\n"
          ]
        }
      ],
      "source": [
        "probas = torch.softmax(next_token_logits, dim=0)\n",
        "next_token_id = torch.argmax(probas).item()\n",
        "print(inverse_vocab[next_token_id])"
      ]
    },
    {
      "cell_type": "markdown",
      "metadata": {
        "id": "sgUcOHrsS8ZG"
      },
      "source": [
        "To implement a probabilistic sampling process, we can now replace the argmax with the\n",
        "multinomial function in PyTorch"
      ]
    },
    {
      "cell_type": "code",
      "execution_count": null,
      "metadata": {
        "id": "H8CN2-0rS8ZG",
        "outputId": "cea5468a-65cf-442f-a2d0-3496c077f22d",
        "colab": {
          "base_uri": "https://localhost:8080/"
        }
      },
      "outputs": [
        {
          "output_type": "stream",
          "name": "stdout",
          "text": [
            "forward\n"
          ]
        }
      ],
      "source": [
        "torch.manual_seed(123)\n",
        "next_token_id = torch.multinomial(probas, num_samples=1).item()\n",
        "print(inverse_vocab[next_token_id])"
      ]
    },
    {
      "cell_type": "markdown",
      "metadata": {
        "id": "EeQRT5NzS8ZG"
      },
      "source": [
        "The printed output is \"forward\" just like before. What happened? The multinomial\n",
        "function samples the next token proportional to its probability score.\n",
        "\n",
        "In other words,\n",
        "\"forward\" is still the most likely token and will be selected by multinomial most of the\n",
        "time but not all the time.\n",
        "\n",
        "To illustrate this, let's implement a function that repeats this\n",
        "sampling 1000 times"
      ]
    },
    {
      "cell_type": "code",
      "execution_count": null,
      "metadata": {
        "id": "UsAlHq91S8ZH",
        "outputId": "55b2bc5f-4f54-48ca-eacb-a705d7486f69",
        "colab": {
          "base_uri": "https://localhost:8080/"
        }
      },
      "outputs": [
        {
          "output_type": "stream",
          "name": "stdout",
          "text": [
            "73 x closer\n",
            "0 x every\n",
            "0 x effort\n",
            "582 x forward\n",
            "2 x inches\n",
            "0 x moves\n",
            "0 x pizza\n",
            "343 x toward\n"
          ]
        }
      ],
      "source": [
        "def print_sampled_tokens(probas):\n",
        "    torch.manual_seed(123) # Manual seed for reproducibility\n",
        "    sample = [torch.multinomial(probas, num_samples=1).item() for i in range(1_000)]\n",
        "    sampled_ids = torch.bincount(torch.tensor(sample))\n",
        "    for i, freq in enumerate(sampled_ids):\n",
        "        print(f\"{freq} x {inverse_vocab[i]}\")\n",
        "\n",
        "print_sampled_tokens(probas)"
      ]
    },
    {
      "cell_type": "markdown",
      "metadata": {
        "id": "hGkkM1V_S8ZH"
      },
      "source": [
        "As we can see based on the output, the word \"forward\" is sampled most of the time (582\n",
        "out of 1000 times), but other tokens such as \"closer\", \"inches\", and \"toward\" will also\n",
        "be sampled some of the time.\n",
        "\n",
        "This means that if we replaced the argmax function with the\n",
        "multinomial function inside the generate_and_print_sample function, the LLM would\n",
        "sometimes generate texts such as \"every effort moves you toward\", \"every effort\n",
        "moves you inches\", and \"every effort moves you closer\" instead of \"every effort\n",
        "moves you forward\"."
      ]
    },
    {
      "cell_type": "markdown",
      "metadata": {
        "id": "ZNZPUPsfS8ZH"
      },
      "source": [
        "We can further control the distribution and selection process via a concept called\n",
        "temperature scaling, where temperature scaling is just a fancy description for dividing the\n",
        "logits by a number greater than 0"
      ]
    },
    {
      "cell_type": "markdown",
      "metadata": {
        "id": "lZ4fwaBcS8ZH"
      },
      "source": [
        "Temperatures greater than 1 result in more uniformly distributed token probabilities,\n",
        "and Temperatures smaller than 1 will result in more confident (sharper or more peaky)\n",
        "distributions.\n",
        "\n",
        "Let's illustrate this by plotting the original probabilities alongside\n",
        "probabilities scaled with different temperature values"
      ]
    },
    {
      "cell_type": "code",
      "execution_count": null,
      "metadata": {
        "id": "A25ENPuMS8ZH"
      },
      "outputs": [],
      "source": [
        "def softmax_with_temperature(logits, temperature):\n",
        "    scaled_logits = logits / temperature\n",
        "    return torch.softmax(scaled_logits, dim=0)\n",
        "\n",
        "# Temperature values\n",
        "temperatures = [1, 0.1, 5]  # Original, higher confidence, and lower confidence\n",
        "\n",
        "# Calculate scaled probabilities\n",
        "scaled_probas = [softmax_with_temperature(next_token_logits, T) for T in temperatures]"
      ]
    },
    {
      "cell_type": "code",
      "execution_count": null,
      "metadata": {
        "id": "XDSwd4sAS8ZH",
        "outputId": "8dc6f08c-708b-4b16-ab61-8979465308cf",
        "colab": {
          "base_uri": "https://localhost:8080/",
          "height": 307
        }
      },
      "outputs": [
        {
          "output_type": "display_data",
          "data": {
            "text/plain": [
              "<Figure size 500x300 with 1 Axes>"
            ],
            "image/png": "[encoded data removed]"
          },
          "metadata": {}
        }
      ],
      "source": [
        "# Plotting\n",
        "x = torch.arange(len(vocab))\n",
        "bar_width = 0.15\n",
        "\n",
        "fig, ax = plt.subplots(figsize=(5, 3))\n",
        "for i, T in enumerate(temperatures):\n",
        "    rects = ax.bar(x + i * bar_width, scaled_probas[i], bar_width, label=f'Temperature = {T}')\n",
        "\n",
        "ax.set_ylabel('Probability')\n",
        "ax.set_xticks(x)\n",
        "ax.set_xticklabels(vocab.keys(), rotation=90)\n",
        "ax.legend()\n",
        "\n",
        "plt.tight_layout()\n",
        "plt.savefig(\"temperature-plot.pdf\")\n",
        "plt.show()"
      ]
    },
    {
      "cell_type": "markdown",
      "metadata": {
        "id": "3d1ofY0MS8ZH"
      },
      "source": [
        "A temperature of 1 divides the logits by 1 before passing them to the softmax function to\n",
        "compute the probability scores.\n",
        "\n",
        "In other words, using a temperature of 1 is the same as not\n",
        "using any temperature scaling.\n",
        "\n",
        "In this case, the tokens are selected with a probability equal\n",
        "to the original softmax probability scores via the multinomial sampling function in PyTorch.    "
      ]
    },
    {
      "cell_type": "markdown",
      "metadata": {
        "id": "NZ359sB9S8ZI"
      },
      "source": [
        "Applying very small temperatures, such as 0.1, will\n",
        "result in sharper distributions such that the behavior of the multinomial function selects\n",
        "the most likely token (here: \"forward\") almost 100% of the time, approaching the\n",
        "behavior of the argmax function.\n",
        "\n",
        "Vice versa, a temperature of 5 results in a more uniform\n",
        "distribution where other tokens are selected more often.\n",
        "\n",
        "This can add more variety to the\n",
        "generated texts but also more often results in nonsensical text.\n",
        "\n",
        "For example, using the\n",
        "temperature of 5 results in texts such as \"every effort moves you pizza\" about 4% of\n",
        "the time."
      ]
    },
    {
      "cell_type": "markdown",
      "source": [],
      "metadata": {
        "id": "TrqMil4yf3zF"
      }
    },
    {
      "cell_type": "markdown",
      "metadata": {
        "id": "DxXrBRD-fsHt"
      },
      "source": [
        "## **DECODING STRATEGY 2: Top-k sampling**"
      ]
    },
    {
      "cell_type": "markdown",
      "metadata": {
        "id": "q7RfqtSVfsHt"
      },
      "source": [
        "In the previous section, we implemented a probabilistic sampling approach coupled with\n",
        "temperature scaling to increase the diversity of the outputs.\n",
        "\n",
        "We saw that higher\n",
        "temperature values result in more uniformly distributed next-token probabilities, which\n",
        "result in more diverse outputs as it reduces the likelihood of the model repeatedly selecting\n",
        "the most probable token.\n",
        "\n",
        "This method allows for exploring less likely but potentially more\n",
        "interesting and creative paths in the generation process.\n",
        "\n",
        "However, One downside of this\n",
        "approach is that it sometimes leads to grammatically incorrect or completely nonsensical\n",
        "outputs such as \"every effort moves you pizza\"."
      ]
    },
    {
      "cell_type": "markdown",
      "metadata": {
        "id": "3GC6PounfsHt"
      },
      "source": [
        "In this section, we introduce another concept called top-k sampling, which, when\n",
        "combined with probabilistic sampling and temperature scaling, can improve the text\n",
        "generation results.\n",
        "\n",
        "In top-k sampling, we can restrict the sampled tokens to the top-k most likely tokens\n",
        "and exclude all other tokens from the selection process by masking their probability scores."
      ]
    },
    {
      "cell_type": "code",
      "execution_count": null,
      "metadata": {
        "id": "KRWuLdZJfsHu",
        "outputId": "bd0c44a3-c272-4ef6-c574-69168038aac2"
      },
      "outputs": [
        {
          "name": "stdout",
          "output_type": "stream",
          "text": [
            "Top logits: tensor([6.7500, 6.2800, 4.5100])\n",
            "Top positions: tensor([3, 7, 0])\n"
          ]
        }
      ],
      "source": [
        "top_k = 3\n",
        "top_logits, top_pos = torch.topk(next_token_logits, top_k)\n",
        "print(\"Top logits:\", top_logits)\n",
        "print(\"Top positions:\", top_pos)"
      ]
    },
    {
      "cell_type": "markdown",
      "metadata": {
        "id": "I67-JgOUfsHu"
      },
      "source": [
        "Subsequently, we apply PyTorch's where function to set the logit values of tokens that are\n",
        "below the lowest logit value within our top-3 selection to negative infinity (-inf)."
      ]
    },
    {
      "cell_type": "code",
      "execution_count": null,
      "metadata": {
        "id": "Y1OVF1k1fsHu",
        "outputId": "e8a82bb6-41a8-4633-90d6-54e400d5e3df"
      },
      "outputs": [
        {
          "name": "stdout",
          "output_type": "stream",
          "text": [
            "tensor([4.5100,   -inf,   -inf, 6.7500,   -inf,   -inf,   -inf, 6.2800,   -inf])\n"
          ]
        }
      ],
      "source": [
        "new_logits = torch.where(\n",
        "    condition=next_token_logits < top_logits[-1],\n",
        "    input=torch.tensor(float(\"-inf\")),\n",
        "    other=next_token_logits\n",
        ")\n",
        "\n",
        "print(new_logits)"
      ]
    },
    {
      "cell_type": "markdown",
      "metadata": {
        "id": "zr0HnV6KfsHu"
      },
      "source": [
        "Lastly, let's apply the softmax function to turn these into next-token probabilities:"
      ]
    },
    {
      "cell_type": "code",
      "execution_count": null,
      "metadata": {
        "id": "2rOKVkFgfsHu",
        "outputId": "098a7ec3-08cd-4161-e913-272e7fbff1e5"
      },
      "outputs": [
        {
          "name": "stdout",
          "output_type": "stream",
          "text": [
            "tensor([0.0615, 0.0000, 0.0000, 0.5775, 0.0000, 0.0000, 0.0000, 0.3610, 0.0000])\n"
          ]
        }
      ],
      "source": [
        "topk_probas = torch.softmax(new_logits, dim=0)\n",
        "print(topk_probas)"
      ]
    },
    {
      "cell_type": "markdown",
      "metadata": {
        "id": "BRH5NKS2fsHu"
      },
      "source": [
        "## **Merge Temperature Scaling and Top-k sampling**"
      ]
    },
    {
      "cell_type": "markdown",
      "metadata": {
        "id": "CTeX0dHqfsHu"
      },
      "source": [
        "We can now apply the temperature scaling and multinomial function for probabilistic\n",
        "sampling introduced in the previous section to select the next token among these 3 nonzero probability scores to generate the next token. We do this in the next section by\n",
        "modifying the text generation function."
      ]
    },
    {
      "cell_type": "markdown",
      "metadata": {
        "id": "GSanyIrofsHu"
      },
      "source": [
        "The previous two subsections introduced two concepts to increase the diversity of LLMgenerated text: temperature sampling and top-k sampling. In this section, we combine and\n",
        "add these concepts to modify the generate_simple function we used to generate text via\n",
        "the LLM earlier, creating a new generate function"
      ]
    },
    {
      "cell_type": "markdown",
      "metadata": {
        "id": "wvwLEnvMfsHv"
      },
      "source": [
        "Step 1: For-loop is the same as before: Get logits, and only focus on last time step\n",
        "\n",
        "Step 2: In this new section, we filter logits with top_k sampling\n",
        "\n",
        "Step 3: This is the new section where we apply temperature scaling\n",
        "    \n",
        "Step 4: Carry out greedy next-token selection as before when temperature scaling is disabled\n",
        "\n",
        "Step 5: Stop generating early if end-of-sequence token is encountered and eos_id is specified"
      ]
    },
    {
      "cell_type": "code",
      "execution_count": null,
      "metadata": {
        "id": "8mQTQzcVfsHv"
      },
      "outputs": [],
      "source": [
        "def generate(model, idx, max_new_tokens, context_size, temperature=0.0, top_k=None, eos_id=None):\n",
        "\n",
        "    # For-loop is the same as before: Get logits, and only focus on last time step\n",
        "    for _ in range(max_new_tokens):\n",
        "        idx_cond = idx[:, -context_size:]\n",
        "        with torch.no_grad():\n",
        "            logits = model(idx_cond)\n",
        "        logits = logits[:, -1, :]\n",
        "\n",
        "        # New: Filter logits with top_k sampling\n",
        "        if top_k is not None:\n",
        "            # Keep only top_k values\n",
        "            top_logits, _ = torch.topk(logits, top_k)\n",
        "            min_val = top_logits[:, -1]\n",
        "            logits = torch.where(logits < min_val, torch.tensor(float(\"-inf\")).to(logits.device), logits)\n",
        "\n",
        "        # New: Apply temperature scaling\n",
        "        if temperature > 0.0:\n",
        "            logits = logits / temperature\n",
        "\n",
        "            # Apply softmax to get probabilities\n",
        "            probs = torch.softmax(logits, dim=-1)  # (batch_size, context_len)\n",
        "\n",
        "            # Sample from the distribution\n",
        "            idx_next = torch.multinomial(probs, num_samples=1)  # (batch_size, 1)\n",
        "\n",
        "        # Otherwise same as before: get idx of the vocab entry with the highest logits value\n",
        "        else:\n",
        "            idx_next = torch.argmax(logits, dim=-1, keepdim=True)  # (batch_size, 1)\n",
        "\n",
        "        if idx_next == eos_id:  # Stop generating early if end-of-sequence token is encountered and eos_id is specified\n",
        "            break\n",
        "\n",
        "        # Same as before: append sampled index to the running sequence\n",
        "        idx = torch.cat((idx, idx_next), dim=1)  # (batch_size, num_tokens+1)\n",
        "\n",
        "    return idx"
      ]
    },
    {
      "cell_type": "markdown",
      "metadata": {
        "id": "KZ6itLfLfsHv"
      },
      "source": [
        "Let's now see this new generate function in action"
      ]
    },
    {
      "cell_type": "code",
      "execution_count": null,
      "metadata": {
        "id": "2zaeVou2fsHv",
        "outputId": "00d2a7e4-1ea5-41b8-864f-5fadc0c28d7d"
      },
      "outputs": [
        {
          "name": "stdout",
          "output_type": "stream",
          "text": [
            "Output text:\n",
            " Every effort moves you stand to work on surprise, a one of us had gone with random-\n"
          ]
        }
      ],
      "source": [
        "torch.manual_seed(123)\n",
        "\n",
        "token_ids = generate(\n",
        "    model=model,\n",
        "    idx=text_to_token_ids(\"Every effort moves you\", tokenizer),\n",
        "    max_new_tokens=15,\n",
        "    context_size=GPT_CONFIG_124M[\"context_length\"],\n",
        "    top_k=25,\n",
        "    temperature=1.4\n",
        ")\n",
        "\n",
        "print(\"Output text:\\n\", token_ids_to_text(token_ids, tokenizer))"
      ]
    },
    {
      "cell_type": "markdown",
      "metadata": {
        "id": "6wVMvho_fsHv"
      },
      "source": [
        "As we can see, the generated text is very different from the one we previously generated\n",
        "via the generate_simple function at the beginning of section 5.3 (\"Every effort moves\n",
        "you know,\" was one of the axioms he laid...!\"), which was a memorized passage\n",
        "from the training set."
      ]
    },
    {
      "cell_type": "code",
      "execution_count": null,
      "metadata": {
        "id": "tiWqzTKEfsHw"
      },
      "outputs": [],
      "source": []
    },
    {
      "cell_type": "markdown",
      "source": [
        "# **Decoding Strategies in LLMs**\n"
      ],
      "metadata": {
        "id": "07oOfTadN8U1"
      }
    },
    {
      "cell_type": "markdown",
      "source": [
        "When a **Large Language Model (LLM)** like GPT or LLaMA generates text, it predicts\n",
        "*“What’s the most likely next word given all previous words?”*\n",
        "<br>\n",
        "But there’s a catch\n",
        "LLMs don’t just output *one* word; they output a **probability distribution** over thousands of possible words (tokens).\n",
        "\n",
        "Decoding strategies control **how we choose the next word** from those probabilities."
      ],
      "metadata": {
        "id": "LdE84sUKOG5z"
      }
    },
    {
      "cell_type": "markdown",
      "source": [
        "## **What Decoding Really Means**\n"
      ],
      "metadata": {
        "id": "QLYQMQ7wOKOE"
      }
    },
    {
      "cell_type": "markdown",
      "source": [
        "Imagine this\n",
        "\n",
        "```\n",
        "Input: \"The cat is\"\n",
        "Predictions:\n",
        "sleeping → 0.70\n",
        "running → 0.20\n",
        "eating  → 0.10\n",
        "```\n",
        "\n",
        "Now the model must decide — which one to pick?\n",
        "Different decoding strategies make this choice differently."
      ],
      "metadata": {
        "id": "BkBe2l8HOKz4"
      }
    },
    {
      "cell_type": "markdown",
      "source": [
        "## **Greedy Decoding**"
      ],
      "metadata": {
        "id": "xXG1v8JlOQQq"
      }
    },
    {
      "cell_type": "markdown",
      "source": [
        "Idea: Always pick the word with the *highest* probability.\n",
        "\n",
        "Example:\n",
        "\n",
        "```\n",
        "sleeping (0.7) → choose “sleeping”\n",
        "```\n",
        "\n",
        "> Output: “The cat is sleeping.”\n",
        "\n",
        "**Pros**\n",
        "\n",
        "* Simple and very fast\n",
        "* Always gives the same answer (deterministic)\n",
        "\n",
        "**Cons**\n",
        "\n",
        "* Can get repetitive (e.g., “the cat is sleeping sleeping sleeping…”)\n",
        "* Sometimes misses better long-term options\n",
        "\n",
        "**Use when:** you want short, factual, or code-like outputs where creativity isn’t needed.\n"
      ],
      "metadata": {
        "id": "bl9HPY-GOdro"
      }
    },
    {
      "cell_type": "markdown",
      "source": [
        "##  **Beam Search**"
      ],
      "metadata": {
        "id": "VrhlbjfpOhVa"
      }
    },
    {
      "cell_type": "markdown",
      "source": [
        "**Idea:** Keep multiple possible sentences at once — not just one.\n",
        "\n",
        "Let’s say *beam size = 3*:\n",
        "\n",
        "* The model keeps the 3 most likely sentence paths at each step.\n",
        "* It expands them, scores them, and keeps the best 3 again.\n",
        "* Finally, it chooses the most likely full sentence.\n",
        "\n",
        "**Example:**\n",
        "\n",
        "```\n",
        "Beams:\n",
        "1. The cat is sleeping.\n",
        "2. The cat is running fast.\n",
        "3. The cat is eating fish.\n",
        "```\n",
        "\n",
        "→ Model picks the best based on total probability.\n",
        "\n",
        "**Pros**\n",
        "\n",
        "* More balanced and accurate than greedy\n",
        "* Often gives smoother, grammatically correct text\n",
        "\n",
        "**Cons**\n",
        "\n",
        "* Slower (because it tries many paths)\n",
        "* Still may lack creativity\n",
        "* Can repeat phrases if beam size is too big\n",
        "\n",
        "**Used in:** translation models (e.g., Google Translate), summarization."
      ],
      "metadata": {
        "id": "qDHDaTboOnEG"
      }
    },
    {
      "cell_type": "markdown",
      "source": [
        "## **Top-k Sampling**\n",
        "\n",
        "**Idea:** Add controlled randomness.\n",
        "Instead of picking *only the top token*, choose randomly from the **top k tokens**.\n",
        "\n",
        "**Example:**\n",
        "If `k = 3`\n",
        "\n",
        "```\n",
        "sleeping (0.7)\n",
        "running (0.2)\n",
        "eating  (0.1)\n",
        "```\n",
        "\n",
        "→ Model randomly picks one from these 3.\n",
        "\n",
        "**Pros**\n",
        "\n",
        "* Adds creativity and variation\n",
        "* Reduces boring repetitive output\n",
        "\n",
        "**Cons**\n",
        "\n",
        "* Still somewhat random\n",
        "* Needs tuning (too high k = chaos, too low k = boring)\n",
        "\n",
        "**Used in:** story generation, role-playing chatbots, and poetry generation."
      ],
      "metadata": {
        "id": "c1yilNyEOtpD"
      }
    },
    {
      "cell_type": "markdown",
      "source": [
        "## **Top-p (Nucleus) Sampling**"
      ],
      "metadata": {
        "id": "zEljZ5S3Ov0n"
      }
    },
    {
      "cell_type": "markdown",
      "source": [
        "**Idea:** Instead of a *fixed number* of words (like k), choose tokens until their **total probability ≥ p** (like 0.9).\n",
        "\n",
        "**Example**\n",
        "\n",
        "```\n",
        "sleeping (0.7) + running (0.2) = 0.9 → pick from [sleeping, running]\n",
        "```\n",
        "\n",
        "→ Model samples from only these.\n",
        "\n",
        "**Pros**\n",
        "\n",
        "* Automatically adapts to context (flexible)\n",
        "* Produces human-like, natural text\n",
        "\n",
        "**Cons**\n",
        "\n",
        "* Can still be inconsistent\n",
        "* Requires good choice of p (commonly 0.9 or 0.95)\n",
        "\n",
        "**Used in:** ChatGPT and modern conversational LLMs."
      ],
      "metadata": {
        "id": "4NQ1KwBKO1N2"
      }
    },
    {
      "cell_type": "markdown",
      "source": [
        "## **Temperature Sampling**"
      ],
      "metadata": {
        "id": "GQBqWcYxO2bO"
      }
    },
    {
      "cell_type": "markdown",
      "source": [
        "**Idea** Control how “confident” or “creative” the model is by adjusting *temperature (T)*.\n",
        "\n",
        "* **Low T (< 1.0):** more focused and predictable\n",
        "* **High T (> 1.0):** more random and creative\n",
        "\n",
        "**Example**\n",
        "\n",
        "```\n",
        "At T = 0.5 → prefers top tokens strongly  \n",
        "At T = 1.5 → explores more varied words\n",
        "```\n",
        "\n",
        "**Pros**\n",
        "\n",
        "* Fine-tunes creativity vs accuracy\n",
        "* Works great combined with Top-p or Top-k\n",
        "\n",
        "**Cons**\n",
        "\n",
        "* Too high T = nonsense\n",
        "* Too low T = robotic text\n",
        "\n",
        "**Used when:** you want to control tone — factual (low T), or creative (high T)."
      ],
      "metadata": {
        "id": "7TrjDrVzO-5J"
      }
    },
    {
      "cell_type": "markdown",
      "source": [
        "## **Typical Sampling**"
      ],
      "metadata": {
        "id": "PU_UIvkqPCEm"
      }
    },
    {
      "cell_type": "markdown",
      "source": [
        "**Idea:** Keeps words that are *“typical”* (close to model’s average surprise level).\n",
        "Removes\n",
        "\n",
        "* Words that are too common (boring)\n",
        "* Words that are too rare (weird)\n",
        "\n",
        "**Pros**\n",
        "\n",
        "* Natural, balanced, less repetitive text\n",
        "* Combines the best of Top-p and Temperature\n",
        "\n",
        "**Used in** modern chatbots like GPT-3.5, GPT-4 for conversational tone."
      ],
      "metadata": {
        "id": "u9gH1hlaPEwW"
      }
    },
    {
      "cell_type": "markdown",
      "source": [
        "##  **Contrastive Decoding**"
      ],
      "metadata": {
        "id": "1cqBE7sPPHQC"
      }
    },
    {
      "cell_type": "markdown",
      "source": [
        "**Idea:** Uses two models\n",
        "\n",
        "* **Large model:** generates fluent text\n",
        "* **Small model:** filters out generic or overconfident text\n",
        "\n",
        "Formula\n",
        "$$\n",
        "\\text{score}(x) = P_{large}(x) - \\alpha \\times P_{small}(x)\n",
        "$$\n",
        "\n",
        "**Pros**\n",
        "\n",
        "* More factual and precise\n",
        "* Avoids hallucinations and repetition\n",
        "\n",
        "**Used in** factual Q&A, retrieval-based systems, and academic content.\n"
      ],
      "metadata": {
        "id": "0Ned7p1lPM9R"
      }
    },
    {
      "cell_type": "markdown",
      "source": [
        "## **Sampling + Re-ranking**"
      ],
      "metadata": {
        "id": "T1Z32lEuPThZ"
      }
    },
    {
      "cell_type": "markdown",
      "source": [
        "**Idea** Generate multiple possible outputs, then rank them with a *reward* or *critic model* (used in RLHF — Reinforcement Learning from Human Feedback).\n",
        "\n",
        "Example\n",
        "\n",
        "1. Generate 5 possible replies.\n",
        "2. Use a separate model to score them.\n",
        "3. Choose the one with the best score.\n",
        "\n",
        "**Pros**\n",
        "\n",
        "* Highest quality responses\n",
        "* Aligns with human preferences\n",
        "**Used in** ChatGPT and alignment training."
      ],
      "metadata": {
        "id": "YOgBmqTIPVak"
      }
    },
    {
      "cell_type": "markdown",
      "source": [
        "## **Quick Analogy**\n",
        "\n",
        "Think of decoding like **ordering food from a restaurant** 🍽️:\n",
        "\n",
        "| Strategy             | Analogy                                                                      |\n",
        "| -------------------- | ---------------------------------------------------------------------------- |\n",
        "| **Greedy**           | Always order your favorite dish every time.                                  |\n",
        "| **Beam Search**      | Try 3 dishes, then pick the best one.                                        |\n",
        "| **Top-k**            | Choose randomly from your top 3 favorites.                                   |\n",
        "| **Top-p**            | Choose randomly from dishes that together make up 90% of your favorites.     |\n",
        "| **Temperature**      | Higher temperature → you experiment more; lower temperature → you play safe. |\n",
        "| **Typical Sampling** | You usually order something “normal” — not too basic, not too weird.         |\n",
        "| **Contrastive**      | You and your friend (small model) agree on what’s good before ordering.      |\n"
      ],
      "metadata": {
        "id": "CMZamvr6N6WB"
      }
    },
    {
      "cell_type": "code",
      "execution_count": null,
      "metadata": {
        "id": "jGbgnPwBS8ZI"
      },
      "outputs": [],
      "source": []
    },
    {
      "cell_type": "markdown",
      "source": [],
      "metadata": {
        "id": "QkBo8w_TaHgE"
      }
    },
    {
      "cell_type": "markdown",
      "metadata": {
        "id": "yo-2cJXTZ8lQ"
      },
      "source": [
        "# **LOADING AND SAVING MODEL WEIGHTS IN PYTORCH**"
      ]
    },
    {
      "cell_type": "markdown",
      "metadata": {
        "id": "CC6aDwzNZ8lQ"
      },
      "source": [
        "Fortunately, saving a PyTorch model is relatively straightforward.\n",
        "\n",
        "The recommended way is to save a model's so-called state_dict, a dictionary mapping each layer to its parameters,\n",
        "using the torch.save function as follows"
      ]
    },
    {
      "cell_type": "code",
      "execution_count": null,
      "metadata": {
        "id": "d7yryiNkZ8lQ"
      },
      "outputs": [],
      "source": [
        "model = GPTModel(GPT_CONFIG_124M)\n",
        "torch.save(model.state_dict(), \"model.pth\")"
      ]
    },
    {
      "cell_type": "markdown",
      "metadata": {
        "id": "cKAw3rWcZ8lQ"
      },
      "source": [
        "In the preceding code, \"model.pth\" is the filename where the state_dict is saved.\n",
        "\n",
        "The .pth extension is a convention for PyTorch files, though we could technically use any file\n",
        "extension."
      ]
    },
    {
      "cell_type": "markdown",
      "metadata": {
        "id": "gu9Fhs7KZ8lQ"
      },
      "source": [
        "Then, after saving the model weights via the `state_dict` we can load the model\n",
        "weights into a new GPTModel model instance as follows"
      ]
    },
    {
      "cell_type": "code",
      "execution_count": null,
      "metadata": {
        "id": "dgiAEZqSZ8lQ",
        "outputId": "3844bd10-2cb1-4480-a389-516f43b153ba"
      },
      "outputs": [
        {
          "data": {
            "text/plain": [
              "GPTModel(\n",
              "  (tok_emb): Embedding(50257, 768)\n",
              "  (pos_emb): Embedding(256, 768)\n",
              "  (drop_emb): Dropout(p=0.1, inplace=False)\n",
              "  (trf_blocks): Sequential(\n",
              "    (0): TransformerBlock(\n",
              "      (att): MultiHeadAttention(\n",
              "        (W_query): Linear(in_features=768, out_features=768, bias=False)\n",
              "        (W_key): Linear(in_features=768, out_features=768, bias=False)\n",
              "        (W_value): Linear(in_features=768, out_features=768, bias=False)\n",
              "        (out_proj): Linear(in_features=768, out_features=768, bias=True)\n",
              "        (dropout): Dropout(p=0.1, inplace=False)\n",
              "      )\n",
              "      (ff): FeedForward(\n",
              "        (layers): Sequential(\n",
              "          (0): Linear(in_features=768, out_features=3072, bias=True)\n",
              "          (1): GELU()\n",
              "          (2): Linear(in_features=3072, out_features=768, bias=True)\n",
              "        )\n",
              "      )\n",
              "      (norm1): LayerNorm()\n",
              "      (norm2): LayerNorm()\n",
              "      (drop_shortcut): Dropout(p=0.1, inplace=False)\n",
              "    )\n",
              "    (1): TransformerBlock(\n",
              "      (att): MultiHeadAttention(\n",
              "        (W_query): Linear(in_features=768, out_features=768, bias=False)\n",
              "        (W_key): Linear(in_features=768, out_features=768, bias=False)\n",
              "        (W_value): Linear(in_features=768, out_features=768, bias=False)\n",
              "        (out_proj): Linear(in_features=768, out_features=768, bias=True)\n",
              "        (dropout): Dropout(p=0.1, inplace=False)\n",
              "      )\n",
              "      (ff): FeedForward(\n",
              "        (layers): Sequential(\n",
              "          (0): Linear(in_features=768, out_features=3072, bias=True)\n",
              "          (1): GELU()\n",
              "          (2): Linear(in_features=3072, out_features=768, bias=True)\n",
              "        )\n",
              "      )\n",
              "      (norm1): LayerNorm()\n",
              "      (norm2): LayerNorm()\n",
              "      (drop_shortcut): Dropout(p=0.1, inplace=False)\n",
              "    )\n",
              "    (2): TransformerBlock(\n",
              "      (att): MultiHeadAttention(\n",
              "        (W_query): Linear(in_features=768, out_features=768, bias=False)\n",
              "        (W_key): Linear(in_features=768, out_features=768, bias=False)\n",
              "        (W_value): Linear(in_features=768, out_features=768, bias=False)\n",
              "        (out_proj): Linear(in_features=768, out_features=768, bias=True)\n",
              "        (dropout): Dropout(p=0.1, inplace=False)\n",
              "      )\n",
              "      (ff): FeedForward(\n",
              "        (layers): Sequential(\n",
              "          (0): Linear(in_features=768, out_features=3072, bias=True)\n",
              "          (1): GELU()\n",
              "          (2): Linear(in_features=3072, out_features=768, bias=True)\n",
              "        )\n",
              "      )\n",
              "      (norm1): LayerNorm()\n",
              "      (norm2): LayerNorm()\n",
              "      (drop_shortcut): Dropout(p=0.1, inplace=False)\n",
              "    )\n",
              "    (3): TransformerBlock(\n",
              "      (att): MultiHeadAttention(\n",
              "        (W_query): Linear(in_features=768, out_features=768, bias=False)\n",
              "        (W_key): Linear(in_features=768, out_features=768, bias=False)\n",
              "        (W_value): Linear(in_features=768, out_features=768, bias=False)\n",
              "        (out_proj): Linear(in_features=768, out_features=768, bias=True)\n",
              "        (dropout): Dropout(p=0.1, inplace=False)\n",
              "      )\n",
              "      (ff): FeedForward(\n",
              "        (layers): Sequential(\n",
              "          (0): Linear(in_features=768, out_features=3072, bias=True)\n",
              "          (1): GELU()\n",
              "          (2): Linear(in_features=3072, out_features=768, bias=True)\n",
              "        )\n",
              "      )\n",
              "      (norm1): LayerNorm()\n",
              "      (norm2): LayerNorm()\n",
              "      (drop_shortcut): Dropout(p=0.1, inplace=False)\n",
              "    )\n",
              "    (4): TransformerBlock(\n",
              "      (att): MultiHeadAttention(\n",
              "        (W_query): Linear(in_features=768, out_features=768, bias=False)\n",
              "        (W_key): Linear(in_features=768, out_features=768, bias=False)\n",
              "        (W_value): Linear(in_features=768, out_features=768, bias=False)\n",
              "        (out_proj): Linear(in_features=768, out_features=768, bias=True)\n",
              "        (dropout): Dropout(p=0.1, inplace=False)\n",
              "      )\n",
              "      (ff): FeedForward(\n",
              "        (layers): Sequential(\n",
              "          (0): Linear(in_features=768, out_features=3072, bias=True)\n",
              "          (1): GELU()\n",
              "          (2): Linear(in_features=3072, out_features=768, bias=True)\n",
              "        )\n",
              "      )\n",
              "      (norm1): LayerNorm()\n",
              "      (norm2): LayerNorm()\n",
              "      (drop_shortcut): Dropout(p=0.1, inplace=False)\n",
              "    )\n",
              "    (5): TransformerBlock(\n",
              "      (att): MultiHeadAttention(\n",
              "        (W_query): Linear(in_features=768, out_features=768, bias=False)\n",
              "        (W_key): Linear(in_features=768, out_features=768, bias=False)\n",
              "        (W_value): Linear(in_features=768, out_features=768, bias=False)\n",
              "        (out_proj): Linear(in_features=768, out_features=768, bias=True)\n",
              "        (dropout): Dropout(p=0.1, inplace=False)\n",
              "      )\n",
              "      (ff): FeedForward(\n",
              "        (layers): Sequential(\n",
              "          (0): Linear(in_features=768, out_features=3072, bias=True)\n",
              "          (1): GELU()\n",
              "          (2): Linear(in_features=3072, out_features=768, bias=True)\n",
              "        )\n",
              "      )\n",
              "      (norm1): LayerNorm()\n",
              "      (norm2): LayerNorm()\n",
              "      (drop_shortcut): Dropout(p=0.1, inplace=False)\n",
              "    )\n",
              "    (6): TransformerBlock(\n",
              "      (att): MultiHeadAttention(\n",
              "        (W_query): Linear(in_features=768, out_features=768, bias=False)\n",
              "        (W_key): Linear(in_features=768, out_features=768, bias=False)\n",
              "        (W_value): Linear(in_features=768, out_features=768, bias=False)\n",
              "        (out_proj): Linear(in_features=768, out_features=768, bias=True)\n",
              "        (dropout): Dropout(p=0.1, inplace=False)\n",
              "      )\n",
              "      (ff): FeedForward(\n",
              "        (layers): Sequential(\n",
              "          (0): Linear(in_features=768, out_features=3072, bias=True)\n",
              "          (1): GELU()\n",
              "          (2): Linear(in_features=3072, out_features=768, bias=True)\n",
              "        )\n",
              "      )\n",
              "      (norm1): LayerNorm()\n",
              "      (norm2): LayerNorm()\n",
              "      (drop_shortcut): Dropout(p=0.1, inplace=False)\n",
              "    )\n",
              "    (7): TransformerBlock(\n",
              "      (att): MultiHeadAttention(\n",
              "        (W_query): Linear(in_features=768, out_features=768, bias=False)\n",
              "        (W_key): Linear(in_features=768, out_features=768, bias=False)\n",
              "        (W_value): Linear(in_features=768, out_features=768, bias=False)\n",
              "        (out_proj): Linear(in_features=768, out_features=768, bias=True)\n",
              "        (dropout): Dropout(p=0.1, inplace=False)\n",
              "      )\n",
              "      (ff): FeedForward(\n",
              "        (layers): Sequential(\n",
              "          (0): Linear(in_features=768, out_features=3072, bias=True)\n",
              "          (1): GELU()\n",
              "          (2): Linear(in_features=3072, out_features=768, bias=True)\n",
              "        )\n",
              "      )\n",
              "      (norm1): LayerNorm()\n",
              "      (norm2): LayerNorm()\n",
              "      (drop_shortcut): Dropout(p=0.1, inplace=False)\n",
              "    )\n",
              "    (8): TransformerBlock(\n",
              "      (att): MultiHeadAttention(\n",
              "        (W_query): Linear(in_features=768, out_features=768, bias=False)\n",
              "        (W_key): Linear(in_features=768, out_features=768, bias=False)\n",
              "        (W_value): Linear(in_features=768, out_features=768, bias=False)\n",
              "        (out_proj): Linear(in_features=768, out_features=768, bias=True)\n",
              "        (dropout): Dropout(p=0.1, inplace=False)\n",
              "      )\n",
              "      (ff): FeedForward(\n",
              "        (layers): Sequential(\n",
              "          (0): Linear(in_features=768, out_features=3072, bias=True)\n",
              "          (1): GELU()\n",
              "          (2): Linear(in_features=3072, out_features=768, bias=True)\n",
              "        )\n",
              "      )\n",
              "      (norm1): LayerNorm()\n",
              "      (norm2): LayerNorm()\n",
              "      (drop_shortcut): Dropout(p=0.1, inplace=False)\n",
              "    )\n",
              "    (9): TransformerBlock(\n",
              "      (att): MultiHeadAttention(\n",
              "        (W_query): Linear(in_features=768, out_features=768, bias=False)\n",
              "        (W_key): Linear(in_features=768, out_features=768, bias=False)\n",
              "        (W_value): Linear(in_features=768, out_features=768, bias=False)\n",
              "        (out_proj): Linear(in_features=768, out_features=768, bias=True)\n",
              "        (dropout): Dropout(p=0.1, inplace=False)\n",
              "      )\n",
              "      (ff): FeedForward(\n",
              "        (layers): Sequential(\n",
              "          (0): Linear(in_features=768, out_features=3072, bias=True)\n",
              "          (1): GELU()\n",
              "          (2): Linear(in_features=3072, out_features=768, bias=True)\n",
              "        )\n",
              "      )\n",
              "      (norm1): LayerNorm()\n",
              "      (norm2): LayerNorm()\n",
              "      (drop_shortcut): Dropout(p=0.1, inplace=False)\n",
              "    )\n",
              "    (10): TransformerBlock(\n",
              "      (att): MultiHeadAttention(\n",
              "        (W_query): Linear(in_features=768, out_features=768, bias=False)\n",
              "        (W_key): Linear(in_features=768, out_features=768, bias=False)\n",
              "        (W_value): Linear(in_features=768, out_features=768, bias=False)\n",
              "        (out_proj): Linear(in_features=768, out_features=768, bias=True)\n",
              "        (dropout): Dropout(p=0.1, inplace=False)\n",
              "      )\n",
              "      (ff): FeedForward(\n",
              "        (layers): Sequential(\n",
              "          (0): Linear(in_features=768, out_features=3072, bias=True)\n",
              "          (1): GELU()\n",
              "          (2): Linear(in_features=3072, out_features=768, bias=True)\n",
              "        )\n",
              "      )\n",
              "      (norm1): LayerNorm()\n",
              "      (norm2): LayerNorm()\n",
              "      (drop_shortcut): Dropout(p=0.1, inplace=False)\n",
              "    )\n",
              "    (11): TransformerBlock(\n",
              "      (att): MultiHeadAttention(\n",
              "        (W_query): Linear(in_features=768, out_features=768, bias=False)\n",
              "        (W_key): Linear(in_features=768, out_features=768, bias=False)\n",
              "        (W_value): Linear(in_features=768, out_features=768, bias=False)\n",
              "        (out_proj): Linear(in_features=768, out_features=768, bias=True)\n",
              "        (dropout): Dropout(p=0.1, inplace=False)\n",
              "      )\n",
              "      (ff): FeedForward(\n",
              "        (layers): Sequential(\n",
              "          (0): Linear(in_features=768, out_features=3072, bias=True)\n",
              "          (1): GELU()\n",
              "          (2): Linear(in_features=3072, out_features=768, bias=True)\n",
              "        )\n",
              "      )\n",
              "      (norm1): LayerNorm()\n",
              "      (norm2): LayerNorm()\n",
              "      (drop_shortcut): Dropout(p=0.1, inplace=False)\n",
              "    )\n",
              "  )\n",
              "  (final_norm): LayerNorm()\n",
              "  (out_head): Linear(in_features=768, out_features=50257, bias=False)\n",
              ")"
            ]
          },
          "execution_count": 211,
          "metadata": {},
          "output_type": "execute_result"
        }
      ],
      "source": [
        "model = GPTModel(GPT_CONFIG_124M)\n",
        "model.load_state_dict(torch.load(\"model.pth\"))\n",
        "model.eval()"
      ]
    },
    {
      "cell_type": "markdown",
      "metadata": {
        "id": "9wMUhUfgZ8lQ"
      },
      "source": [
        "If we plan to continue pretraining a model later, for example, using the\n",
        "train_model_simple function we defined earlier in this chapter, saving the optimizer state\n",
        "is also recommended."
      ]
    },
    {
      "cell_type": "markdown",
      "metadata": {
        "id": "VNzSKYAnZ8lR"
      },
      "source": [
        "Adaptive optimizers such as AdamW store additional parameters for each model weight.\n",
        "AdamW uses historical data to adjust learning rates for each model parameter dynamically.\n",
        "                                                   \n",
        "Without it, the optimizer resets, and the model may learn suboptimally or even fail to\n",
        "converge properly, which means that it will lose the ability to generate coherent text.\n",
        "\n",
        "Using\n",
        "torch.save, we can save both the model and optimizer state_dict contents as follows"
      ]
    },
    {
      "cell_type": "code",
      "execution_count": null,
      "metadata": {
        "id": "vlk7dlPQZ8lR"
      },
      "outputs": [],
      "source": [
        "optimizer = torch.optim.AdamW(model.parameters(), lr=0.0004, weight_decay=0.1)\n",
        "\n",
        "torch.save({\n",
        "    \"model_state_dict\": model.state_dict(),\n",
        "    \"optimizer_state_dict\": optimizer.state_dict(),\n",
        "    },\n",
        "    \"model_and_optimizer.pth\"\n",
        ")"
      ]
    },
    {
      "cell_type": "markdown",
      "metadata": {
        "id": "ACX2mHowZ8lR"
      },
      "source": [
        "hen, we can restore the model and optimizer states as follows by first loading the saved\n",
        "data via torch.load and then using the load_state_dict method"
      ]
    },
    {
      "cell_type": "code",
      "execution_count": null,
      "metadata": {
        "id": "EH7kuhF4Z8lR"
      },
      "outputs": [],
      "source": [
        "checkpoint = torch.load(\"model_and_optimizer.pth\")\n",
        "model = GPTModel(GPT_CONFIG_124M)\n",
        "model.load_state_dict(checkpoint[\"model_state_dict\"])\n",
        "optimizer = torch.optim.AdamW(model.parameters(), lr=5e-4, weight_decay=0.1)\n",
        "optimizer.load_state_dict(checkpoint[\"optimizer_state_dict\"])\n",
        "model.train();"
      ]
    },
    {
      "cell_type": "markdown",
      "metadata": {
        "id": "zS-9BNgVZ8lR"
      },
      "source": [
        "## **LOADING PRETRAINED WEIGHTS FROM OPENAI**"
      ]
    },
    {
      "cell_type": "markdown",
      "metadata": {
        "id": "-61iWnR6Z8lR"
      },
      "source": [
        "Previously, for educational purposes, we trained a small GPT-2 model using a limited\n",
        "dataset comprising a short-story book.\n",
        "\n",
        "This approach allowed us to focus on the\n",
        "fundamentals without the need for extensive time and computational resources.\n",
        "\n",
        "    \n",
        "Fortunately, OpenAI openly shared the weights of their GPT-2 models, thus eliminating\n",
        "the need to invest tens to hundreds of thousands of dollars in retraining the model on a\n",
        "large corpus ourselves."
      ]
    },
    {
      "cell_type": "markdown",
      "metadata": {
        "id": "EfchDlU9Z8lS"
      },
      "source": [
        "In the remainder of this section, we load these weights into our GPTModel class and use\n",
        "the model for text generation.\n",
        "\n",
        "Here, weights refer to the weight parameters that are stored\n",
        "in the .weight attributes of PyTorch's Linear and Embedding layers, for example.\n",
        "\n",
        "We accessed them earlier via model.parameters() when training the model."
      ]
    },
    {
      "cell_type": "markdown",
      "metadata": {
        "id": "trjJsotNZ8lS"
      },
      "source": [
        "Note that OpenAI originally saved the GPT-2 weights via TensorFlow, which we have to\n",
        "install to load the weights in Python.\n",
        "\n",
        "Moreover, the following code will use a progress bar\n",
        "tool called tqdm to track the download process, which we also have to install."
      ]
    },
    {
      "cell_type": "code",
      "execution_count": null,
      "metadata": {
        "id": "iUhBrTw5Z8lS",
        "outputId": "06be5c57-7ad5-4434-b247-ed57e84f1513"
      },
      "outputs": [
        {
          "name": "stdout",
          "output_type": "stream",
          "text": [
            "zsh:1: 2.15.0 not found\n",
            "Note: you may need to restart the kernel to use updated packages.\n"
          ]
        }
      ],
      "source": [
        "pip install tensorflow>=2.15.0 tqdm>=4.66"
      ]
    },
    {
      "cell_type": "code",
      "execution_count": null,
      "metadata": {
        "id": "H3MHDTX2Z8lS",
        "outputId": "797b0a49-7978-4c4a-9919-99efbcb7cc1d"
      },
      "outputs": [
        {
          "name": "stdout",
          "output_type": "stream",
          "text": [
            "TensorFlow version: 2.16.1\n",
            "tqdm version: 4.66.2\n"
          ]
        }
      ],
      "source": [
        "import tensorflow as tf\n",
        "import tqdm\n",
        "\n",
        "print(\"TensorFlow version:\", tf.__version__)\n",
        "print(\"tqdm version:\", tqdm.__version__)"
      ]
    },
    {
      "cell_type": "markdown",
      "metadata": {
        "id": "z8uWuW__Z8lS"
      },
      "source": [
        "We download the gpt_download.py Python module directly from this chapter's online repository"
      ]
    },
    {
      "cell_type": "markdown",
      "metadata": {
        "id": "Zqz7ThpvZ8lS"
      },
      "source": [
        "We can now import the download_and_load_gpt2 function from the gpt_download.py\n",
        "file as follows, which will load the GPT-2 architecture settings (settings) and weight\n",
        "parameters (params) into our Python session"
      ]
    },
    {
      "cell_type": "code",
      "execution_count": null,
      "metadata": {
        "id": "NTlIwhebZ8lS"
      },
      "outputs": [],
      "source": [
        "from gpt_download3 import download_and_load_gpt2"
      ]
    },
    {
      "cell_type": "code",
      "execution_count": null,
      "metadata": {
        "id": "HNPs6SaXZ8lT",
        "outputId": "8a62afa3-47a7-4de5-a4d0-785d3ddb656a"
      },
      "outputs": [
        {
          "name": "stderr",
          "output_type": "stream",
          "text": [
            "/Library/Frameworks/Python.framework/Versions/3.12/lib/python3.12/site-packages/urllib3/connectionpool.py:1103: InsecureRequestWarning: Unverified HTTPS request is being made to host 'openaipublic.blob.core.windows.net'. Adding certificate verification is strongly advised. See: https://urllib3.readthedocs.io/en/latest/advanced-usage.html#tls-warnings\n",
            "  warnings.warn(\n"
          ]
        },
        {
          "name": "stdout",
          "output_type": "stream",
          "text": [
            "File already exists and is up-to-date: gpt2/124M/checkpoint\n"
          ]
        },
        {
          "name": "stderr",
          "output_type": "stream",
          "text": [
            "/Library/Frameworks/Python.framework/Versions/3.12/lib/python3.12/site-packages/urllib3/connectionpool.py:1103: InsecureRequestWarning: Unverified HTTPS request is being made to host 'openaipublic.blob.core.windows.net'. Adding certificate verification is strongly advised. See: https://urllib3.readthedocs.io/en/latest/advanced-usage.html#tls-warnings\n",
            "  warnings.warn(\n"
          ]
        },
        {
          "name": "stdout",
          "output_type": "stream",
          "text": [
            "File already exists and is up-to-date: gpt2/124M/encoder.json\n"
          ]
        },
        {
          "name": "stderr",
          "output_type": "stream",
          "text": [
            "/Library/Frameworks/Python.framework/Versions/3.12/lib/python3.12/site-packages/urllib3/connectionpool.py:1103: InsecureRequestWarning: Unverified HTTPS request is being made to host 'openaipublic.blob.core.windows.net'. Adding certificate verification is strongly advised. See: https://urllib3.readthedocs.io/en/latest/advanced-usage.html#tls-warnings\n",
            "  warnings.warn(\n"
          ]
        },
        {
          "name": "stdout",
          "output_type": "stream",
          "text": [
            "File already exists and is up-to-date: gpt2/124M/hparams.json\n"
          ]
        },
        {
          "name": "stderr",
          "output_type": "stream",
          "text": [
            "/Library/Frameworks/Python.framework/Versions/3.12/lib/python3.12/site-packages/urllib3/connectionpool.py:1103: InsecureRequestWarning: Unverified HTTPS request is being made to host 'openaipublic.blob.core.windows.net'. Adding certificate verification is strongly advised. See: https://urllib3.readthedocs.io/en/latest/advanced-usage.html#tls-warnings\n",
            "  warnings.warn(\n",
            "model.ckpt.data-00000-of-00001: 100%|████████████| 498M/498M [09:33<00:00, 868kiB/s]\n",
            "/Library/Frameworks/Python.framework/Versions/3.12/lib/python3.12/site-packages/urllib3/connectionpool.py:1103: InsecureRequestWarning: Unverified HTTPS request is being made to host 'openaipublic.blob.core.windows.net'. Adding certificate verification is strongly advised. See: https://urllib3.readthedocs.io/en/latest/advanced-usage.html#tls-warnings\n",
            "  warnings.warn(\n",
            "model.ckpt.index: 100%|███████████████████████| 5.21k/5.21k [00:00<00:00, 6.57MiB/s]\n",
            "/Library/Frameworks/Python.framework/Versions/3.12/lib/python3.12/site-packages/urllib3/connectionpool.py:1103: InsecureRequestWarning: Unverified HTTPS request is being made to host 'openaipublic.blob.core.windows.net'. Adding certificate verification is strongly advised. See: https://urllib3.readthedocs.io/en/latest/advanced-usage.html#tls-warnings\n",
            "  warnings.warn(\n",
            "model.ckpt.meta: 100%|███████████████████████████| 471k/471k [00:02<00:00, 223kiB/s]\n",
            "/Library/Frameworks/Python.framework/Versions/3.12/lib/python3.12/site-packages/urllib3/connectionpool.py:1103: InsecureRequestWarning: Unverified HTTPS request is being made to host 'openaipublic.blob.core.windows.net'. Adding certificate verification is strongly advised. See: https://urllib3.readthedocs.io/en/latest/advanced-usage.html#tls-warnings\n",
            "  warnings.warn(\n",
            "vocab.bpe: 100%|█████████████████████████████████| 456k/456k [00:02<00:00, 226kiB/s]\n"
          ]
        }
      ],
      "source": [
        "settings, params = download_and_load_gpt2(model_size=\"124M\", models_dir=\"gpt2\")"
      ]
    },
    {
      "cell_type": "markdown",
      "metadata": {
        "id": "SJRU4mswZ8lT"
      },
      "source": [
        "After the execution of the previous code has been completed, let's inspect the contents of\n",
        "settings and params"
      ]
    },
    {
      "cell_type": "code",
      "execution_count": null,
      "metadata": {
        "id": "lyXYtxpSZ8lT",
        "outputId": "a525742d-e329-4153-a725-fcfed858d0a4"
      },
      "outputs": [
        {
          "name": "stdout",
          "output_type": "stream",
          "text": [
            "Settings: {'n_vocab': 50257, 'n_ctx': 1024, 'n_embd': 768, 'n_head': 12, 'n_layer': 12}\n",
            "Parameter dictionary keys: dict_keys(['blocks', 'b', 'g', 'wpe', 'wte'])\n"
          ]
        }
      ],
      "source": [
        "print(\"Settings:\", settings)\n",
        "print(\"Parameter dictionary keys:\", params.keys())"
      ]
    },
    {
      "cell_type": "markdown",
      "metadata": {
        "id": "eXkyLtztZ8lT"
      },
      "source": [
        "Both settings and params are Python dictionaries. The settings dictionary stores the LLM\n",
        "architecture settings similarly to our manually defined GPT_CONFIG_124M settings.\n",
        "\n",
        "The\n",
        "params dictionary contains the actual weight tensors.\n",
        "\n",
        "    \n",
        "Note that we only printed the\n",
        "dictionary keys because printing the weight contents would take up too much screen space"
      ]
    },
    {
      "cell_type": "markdown",
      "metadata": {
        "id": "_8Rzru7fZ8lT"
      },
      "source": [
        "We can inspect these weight tensors by printing the whole dictionary via\n",
        "print(params) or by selecting individual tensors via the respective dictionary keys, for\n",
        "example, the embedding layer weights"
      ]
    },
    {
      "cell_type": "code",
      "execution_count": null,
      "metadata": {
        "id": "3ujoUGxcZ8lU",
        "outputId": "d43608cd-8df7-4b29-ddfb-ec5f67f2280e"
      },
      "outputs": [
        {
          "name": "stdout",
          "output_type": "stream",
          "text": [
            "[[-0.11010301 -0.03926672  0.03310751 ... -0.1363697   0.01506208\n",
            "   0.04531523]\n",
            " [ 0.04034033 -0.04861503  0.04624869 ...  0.08605453  0.00253983\n",
            "   0.04318958]\n",
            " [-0.12746179  0.04793796  0.18410145 ...  0.08991534 -0.12972379\n",
            "  -0.08785918]\n",
            " ...\n",
            " [-0.04453601 -0.05483596  0.01225674 ...  0.10435229  0.09783269\n",
            "  -0.06952604]\n",
            " [ 0.1860082   0.01665728  0.04611587 ... -0.09625227  0.07847701\n",
            "  -0.02245961]\n",
            " [ 0.05135201 -0.02768905  0.0499369  ...  0.00704835  0.15519823\n",
            "   0.12067825]]\n",
            "Token embedding weight tensor dimensions: (50257, 768)\n"
          ]
        }
      ],
      "source": [
        "print(params[\"wte\"])\n",
        "print(\"Token embedding weight tensor dimensions:\", params[\"wte\"].shape)"
      ]
    },
    {
      "cell_type": "markdown",
      "metadata": {
        "id": "AlxETHIWZ8lU"
      },
      "source": [
        "We downloaded and loaded the weights of the smallest GPT-2 model via the\n",
        "download_and_load_gpt2(model_size=\"124M\", ...) setting. However, note that OpenAI\n",
        "also shares the weights of larger models: \"355M\", \"774M\", and \"1558M\"."
      ]
    },
    {
      "cell_type": "markdown",
      "metadata": {
        "id": "bcD1la-NZ8lU"
      },
      "source": [
        "Above, we loaded the 124M GPT-2 model weights into Python, however we still need to transfer them into our GPTModel instance.\n",
        "\n",
        "First, we initialize a new GPTModel instance.\n",
        "\n",
        "Note that the original GPT model initialized the linear layers for the query, key, and value matrices in the multi-head attention module with bias vectors, which is not required or recommended; however, to be able to load the weights correctly, we have to enable these too by setting qkv_bias to True in our implementation, too.\n",
        "                                                                                                                                                                                                                                                                                                                                  \n",
        "We are also using the 1024 token context length that was used by the original GPT-2 model(s)"
      ]
    },
    {
      "cell_type": "code",
      "execution_count": null,
      "metadata": {
        "id": "lajXvJk-Z8lU"
      },
      "outputs": [],
      "source": [
        "# Define model configurations in a dictionary for compactness\n",
        "model_configs = {\n",
        "    \"gpt2-small (124M)\": {\"emb_dim\": 768, \"n_layers\": 12, \"n_heads\": 12},\n",
        "    \"gpt2-medium (355M)\": {\"emb_dim\": 1024, \"n_layers\": 24, \"n_heads\": 16},\n",
        "    \"gpt2-large (774M)\": {\"emb_dim\": 1280, \"n_layers\": 36, \"n_heads\": 20},\n",
        "    \"gpt2-xl (1558M)\": {\"emb_dim\": 1600, \"n_layers\": 48, \"n_heads\": 25},\n",
        "}\n",
        "\n",
        "# Copy the base configuration and update with specific model settings\n",
        "model_name = \"gpt2-small (124M)\"  # Example model name\n",
        "NEW_CONFIG = GPT_CONFIG_124M.copy()\n",
        "NEW_CONFIG.update(model_configs[model_name])\n"
      ]
    },
    {
      "cell_type": "markdown",
      "metadata": {
        "id": "KqLdyyhnZ8lU"
      },
      "source": [
        "Careful readers may remember that we used a 256-token length earlier, but the original\n",
        "GPT-2 models from OpenAI were trained with a 1,024-token length, so we have to update\n",
        "the NEW_CONFIG accordingly"
      ]
    },
    {
      "cell_type": "markdown",
      "metadata": {
        "id": "U9jW8XrsZ8lV"
      },
      "source": [
        "Also, OpenAI used bias vectors in the multi-head attention module's linear layers to\n",
        "implement the query, key, and value matrix computations.\n",
        "\n",
        "Bias vectors are not commonly\n",
        "used in LLMs anymore as they don't improve the modeling performance and are thus\n",
        "unnecessary.\n",
        "\n",
        "However, since we are working with pretrained weights, we need to match the\n",
        "settings for consistency and enable these bias vectors"
      ]
    },
    {
      "cell_type": "code",
      "execution_count": null,
      "metadata": {
        "id": "9_n62t3iZ8lV"
      },
      "outputs": [],
      "source": [
        "NEW_CONFIG.update({\"context_length\": 1024, \"qkv_bias\": True})\n",
        "gpt = GPTModel(NEW_CONFIG)\n",
        "gpt.eval();"
      ]
    },
    {
      "cell_type": "markdown",
      "metadata": {
        "id": "4-6FVs2pZ8lV"
      },
      "source": [
        "By default, the GPTModel instance is initialized with random weights for pretraining.\n",
        "\n",
        "The last\n",
        "step to using OpenAI's model weights is to override these random weights with the weights\n",
        "we loaded into the params dictionary.\n",
        "\n",
        "For this, we will first define a small assign utility function that checks whether two\n",
        "tensors or arrays (left and right) have the same dimensions or shape and returns the\n",
        "right tensor as trainable PyTorch parameters"
      ]
    },
    {
      "cell_type": "code",
      "execution_count": null,
      "metadata": {
        "id": "Vk-TUz4UZ8lV"
      },
      "outputs": [],
      "source": [
        "def assign(left, right):\n",
        "    if left.shape != right.shape:\n",
        "        raise ValueError(f\"Shape mismatch. Left: {left.shape}, Right: {right.shape}\")\n",
        "    return torch.nn.Parameter(torch.tensor(right))"
      ]
    },
    {
      "cell_type": "markdown",
      "metadata": {
        "id": "gttI3pWnZ8lV"
      },
      "source": [
        "Next, we define a load_weights_into_gpt function that loads the weights from the params\n",
        "dictionary into a GPTModel instance gpt"
      ]
    },
    {
      "cell_type": "markdown",
      "metadata": {
        "id": "XbQD_rn-Z8lV"
      },
      "source": [
        "Step 1: Setting the model's positional and token embedding weights to those specified in params.\n",
        "\n",
        "Step 2: Iterate over each transformer block in the model.\n",
        "\n",
        "Step 3: The np.split function is used to divide the attention and bias weights into three equal parts for the query,\n",
        "key, and value components.\n",
        "    \n",
        "Step 4: The original GPT-2 model by OpenAI reused the token embedding weights in the output layer to reduce the\n",
        "total number of parameters, which is a concept known as weight tying."
      ]
    },
    {
      "cell_type": "code",
      "execution_count": null,
      "metadata": {
        "id": "YzbH0szNZ8lV"
      },
      "outputs": [],
      "source": [
        "import numpy as np\n",
        "\n",
        "def load_weights_into_gpt(gpt, params):\n",
        "    gpt.pos_emb.weight = assign(gpt.pos_emb.weight, params['wpe'])\n",
        "    gpt.tok_emb.weight = assign(gpt.tok_emb.weight, params['wte'])\n",
        "\n",
        "    for b in range(len(params[\"blocks\"])):\n",
        "        q_w, k_w, v_w = np.split(\n",
        "            (params[\"blocks\"][b][\"attn\"][\"c_attn\"])[\"w\"], 3, axis=-1)\n",
        "        gpt.trf_blocks[b].att.W_query.weight = assign(\n",
        "            gpt.trf_blocks[b].att.W_query.weight, q_w.T)\n",
        "        gpt.trf_blocks[b].att.W_key.weight = assign(\n",
        "            gpt.trf_blocks[b].att.W_key.weight, k_w.T)\n",
        "        gpt.trf_blocks[b].att.W_value.weight = assign(\n",
        "            gpt.trf_blocks[b].att.W_value.weight, v_w.T)\n",
        "\n",
        "        q_b, k_b, v_b = np.split(\n",
        "            (params[\"blocks\"][b][\"attn\"][\"c_attn\"])[\"b\"], 3, axis=-1)\n",
        "        gpt.trf_blocks[b].att.W_query.bias = assign(\n",
        "            gpt.trf_blocks[b].att.W_query.bias, q_b)\n",
        "        gpt.trf_blocks[b].att.W_key.bias = assign(\n",
        "            gpt.trf_blocks[b].att.W_key.bias, k_b)\n",
        "        gpt.trf_blocks[b].att.W_value.bias = assign(\n",
        "            gpt.trf_blocks[b].att.W_value.bias, v_b)\n",
        "\n",
        "        gpt.trf_blocks[b].att.out_proj.weight = assign(\n",
        "            gpt.trf_blocks[b].att.out_proj.weight,\n",
        "            params[\"blocks\"][b][\"attn\"][\"c_proj\"][\"w\"].T)\n",
        "        gpt.trf_blocks[b].att.out_proj.bias = assign(\n",
        "            gpt.trf_blocks[b].att.out_proj.bias,\n",
        "            params[\"blocks\"][b][\"attn\"][\"c_proj\"][\"b\"])\n",
        "\n",
        "        gpt.trf_blocks[b].ff.layers[0].weight = assign(\n",
        "            gpt.trf_blocks[b].ff.layers[0].weight,\n",
        "            params[\"blocks\"][b][\"mlp\"][\"c_fc\"][\"w\"].T)\n",
        "        gpt.trf_blocks[b].ff.layers[0].bias = assign(\n",
        "            gpt.trf_blocks[b].ff.layers[0].bias,\n",
        "            params[\"blocks\"][b][\"mlp\"][\"c_fc\"][\"b\"])\n",
        "        gpt.trf_blocks[b].ff.layers[2].weight = assign(\n",
        "            gpt.trf_blocks[b].ff.layers[2].weight,\n",
        "            params[\"blocks\"][b][\"mlp\"][\"c_proj\"][\"w\"].T)\n",
        "        gpt.trf_blocks[b].ff.layers[2].bias = assign(\n",
        "            gpt.trf_blocks[b].ff.layers[2].bias,\n",
        "            params[\"blocks\"][b][\"mlp\"][\"c_proj\"][\"b\"])\n",
        "\n",
        "        gpt.trf_blocks[b].norm1.scale = assign(\n",
        "            gpt.trf_blocks[b].norm1.scale,\n",
        "            params[\"blocks\"][b][\"ln_1\"][\"g\"])\n",
        "        gpt.trf_blocks[b].norm1.shift = assign(\n",
        "            gpt.trf_blocks[b].norm1.shift,\n",
        "            params[\"blocks\"][b][\"ln_1\"][\"b\"])\n",
        "        gpt.trf_blocks[b].norm2.scale = assign(\n",
        "            gpt.trf_blocks[b].norm2.scale,\n",
        "            params[\"blocks\"][b][\"ln_2\"][\"g\"])\n",
        "        gpt.trf_blocks[b].norm2.shift = assign(\n",
        "            gpt.trf_blocks[b].norm2.shift,\n",
        "            params[\"blocks\"][b][\"ln_2\"][\"b\"])\n",
        "\n",
        "    gpt.final_norm.scale = assign(gpt.final_norm.scale, params[\"g\"])\n",
        "    gpt.final_norm.shift = assign(gpt.final_norm.shift, params[\"b\"])\n",
        "    gpt.out_head.weight = assign(gpt.out_head.weight, params[\"wte\"])\n",
        "\n"
      ]
    },
    {
      "cell_type": "markdown",
      "metadata": {
        "id": "vl1cF4ppZ8lW"
      },
      "source": [
        "In the load_weights_into_gpt function, we carefully match the weights from OpenAI's\n",
        "implementation with our GPTModel implementation.\n",
        "\n",
        "To pick a specific example, OpenAI\n",
        "stored the weight tensor for the output projection layer for the first transformer block as\n",
        "params[\"blocks\"][0][\"attn\"][\"c_proj\"][\"w\"].\n",
        "                                                        \n",
        "In our implementation, this weight\n",
        "tensor corresponds to gpt.trf_blocks[b].att.out_proj.weight, where gpt is a\n",
        "GPTModel instance."
      ]
    },
    {
      "cell_type": "markdown",
      "metadata": {
        "id": "WAsKRoKqZ8lW"
      },
      "source": [
        "Developing the load_weights_into_gpt function took a lot of guesswork since OpenAI\n",
        "used a slightly different naming convention from ours.\n",
        "\n",
        "However, the assign function would\n",
        "alert us if we try to match two tensors with different dimensions.\n",
        "\n",
        "Also, if we made a\n",
        "mistake in this function, we would notice this as the resulting GPT model would be unable\n",
        "to produce coherent text."
      ]
    },
    {
      "cell_type": "markdown",
      "metadata": {
        "id": "wStYBp5kZ8lW"
      },
      "source": [
        "<div class=\"alert alert-block alert-success\">\n",
        "\n",
        "Let's now try the load_weights_into_gpt out in practice and load the OpenAI model\n",
        "weights into our GPTModel instance gpt:\n",
        "    \n",
        "</div>"
      ]
    },
    {
      "cell_type": "code",
      "execution_count": null,
      "metadata": {
        "id": "E2_zxtVXZ8lW"
      },
      "outputs": [],
      "source": [
        "load_weights_into_gpt(gpt, params)\n",
        "gpt.to(device);"
      ]
    },
    {
      "cell_type": "markdown",
      "metadata": {
        "id": "6gDqGvC1Z8lX"
      },
      "source": [
        "If the model is loaded correctly, we can now use it to generate new text using our previous\n",
        "generate function"
      ]
    },
    {
      "cell_type": "code",
      "execution_count": null,
      "metadata": {
        "id": "drp5zOgRZ8lX",
        "outputId": "2b85d21d-5983-4f97-ed55-158bdd441325"
      },
      "outputs": [
        {
          "name": "stdout",
          "output_type": "stream",
          "text": [
            "Output text:\n",
            " Every effort moves you toward finding an ideal new way to practice something!\n",
            "\n",
            "What makes us want to be on top of that?\n",
            "\n",
            "\n"
          ]
        }
      ],
      "source": [
        "torch.manual_seed(123)\n",
        "\n",
        "token_ids = generate(\n",
        "    model=gpt,\n",
        "    idx=text_to_token_ids(\"Every effort moves you\", tokenizer).to(device),\n",
        "    max_new_tokens=25,\n",
        "    context_size=NEW_CONFIG[\"context_length\"],\n",
        "    top_k=50,\n",
        "    temperature=1.5\n",
        ")\n",
        "\n",
        "print(\"Output text:\\n\", token_ids_to_text(token_ids, tokenizer))"
      ]
    },
    {
      "cell_type": "markdown",
      "metadata": {
        "id": "DHo_KAaKZ8lX"
      },
      "source": [
        "We can be confident that we loaded the model weights correctly because the model can\n",
        "produce coherent text.\n",
        "\n",
        "A tiny mistake in this process would cause the model to fail.\n",
        "\n",
        "    \n",
        "In the following chapters, we will work further with this pretrained model and fine-tune it\n",
        "to classify text and follow instructions."
      ]
    },
    {
      "cell_type": "code",
      "execution_count": null,
      "metadata": {
        "id": "iVLfmachZ8lX"
      },
      "outputs": [],
      "source": []
    },
    {
      "cell_type": "markdown",
      "metadata": {
        "id": "ZDpe_z7fTjEo"
      },
      "source": [
        "# **FINETUNING FOR CLASSIFICATION**"
      ]
    },
    {
      "cell_type": "markdown",
      "metadata": {
        "id": "wmOBm-n_TjEo"
      },
      "source": [
        "### **DOWNLOADING DATASET**"
      ]
    },
    {
      "cell_type": "code",
      "execution_count": null,
      "metadata": {
        "id": "fkSfj0MWTjEo",
        "outputId": "06db6e53-300a-47a3-a575-1e995f3ae9c3"
      },
      "outputs": [
        {
          "name": "stdout",
          "output_type": "stream",
          "text": [
            "sms_spam_collection/SMSSpamCollection.tsv already exists. Skipping download and extraction.\n"
          ]
        }
      ],
      "source": [
        "import urllib.request\n",
        "import ssl\n",
        "import zipfile\n",
        "import os\n",
        "from pathlib import Path\n",
        "\n",
        "url = \"https://archive.ics.uci.edu/static/public/228/sms+spam+collection.zip\"\n",
        "zip_path = \"sms_spam_collection.zip\"\n",
        "extracted_path = \"sms_spam_collection\"\n",
        "data_file_path = Path(extracted_path) / \"SMSSpamCollection.tsv\"\n",
        "\n",
        "def download_and_unzip_spam_data(url, zip_path, extracted_path, data_file_path):\n",
        "    if data_file_path.exists():\n",
        "        print(f\"{data_file_path} already exists. Skipping download and extraction.\")\n",
        "        return\n",
        "\n",
        "    # Create an unverified SSL context\n",
        "    ssl_context = ssl._create_unverified_context()\n",
        "\n",
        "    # Downloading the file\n",
        "    with urllib.request.urlopen(url, context=ssl_context) as response:\n",
        "        with open(zip_path, \"wb\") as out_file:\n",
        "            out_file.write(response.read())\n",
        "\n",
        "    # Unzipping the file\n",
        "    with zipfile.ZipFile(zip_path, \"r\") as zip_ref:\n",
        "        zip_ref.extractall(extracted_path)\n",
        "\n",
        "    # Add .tsv file extension\n",
        "    original_file_path = Path(extracted_path) / \"SMSSpamCollection\"\n",
        "    os.rename(original_file_path, data_file_path)\n",
        "    print(f\"File downloaded and saved as {data_file_path}\")\n",
        "\n",
        "download_and_unzip_spam_data(url, zip_path, extracted_path, data_file_path)\n"
      ]
    },
    {
      "cell_type": "markdown",
      "metadata": {
        "id": "0iaDJg_eTjEo"
      },
      "source": [
        "After executing the preceding code, the dataset is saved as a tab-separated text file,\n",
        "SMSSpamCollection.tsv, in the sms_spam_collection folder.\n",
        "\n",
        "We can load it into a pandas\n",
        "DataFrame as follows"
      ]
    },
    {
      "cell_type": "code",
      "execution_count": null,
      "metadata": {
        "id": "B7ljUkEgTjEo",
        "outputId": "d98c53b9-b781-4d55-a0e3-ba5460c557ab"
      },
      "outputs": [
        {
          "data": {
            "text/html": [
              "<div>\n",
              "<style scoped>\n",
              "    .dataframe tbody tr th:only-of-type {\n",
              "        vertical-align: middle;\n",
              "    }\n",
              "\n",
              "    .dataframe tbody tr th {\n",
              "        vertical-align: top;\n",
              "    }\n",
              "\n",
              "    .dataframe thead th {\n",
              "        text-align: right;\n",
              "    }\n",
              "</style>\n",
              "<table border=\"1\" class=\"dataframe\">\n",
              "  <thead>\n",
              "    <tr style=\"text-align: right;\">\n",
              "      <th></th>\n",
              "      <th>Label</th>\n",
              "      <th>Text</th>\n",
              "    </tr>\n",
              "  </thead>\n",
              "  <tbody>\n",
              "    <tr>\n",
              "      <th>0</th>\n",
              "      <td>ham</td>\n",
              "      <td>Go until jurong point, crazy.. Available only ...</td>\n",
              "    </tr>\n",
              "    <tr>\n",
              "      <th>1</th>\n",
              "      <td>ham</td>\n",
              "      <td>Ok lar... Joking wif u oni...</td>\n",
              "    </tr>\n",
              "    <tr>\n",
              "      <th>2</th>\n",
              "      <td>spam</td>\n",
              "      <td>Free entry in 2 a wkly comp to win FA Cup fina...</td>\n",
              "    </tr>\n",
              "    <tr>\n",
              "      <th>3</th>\n",
              "      <td>ham</td>\n",
              "      <td>U dun say so early hor... U c already then say...</td>\n",
              "    </tr>\n",
              "    <tr>\n",
              "      <th>4</th>\n",
              "      <td>ham</td>\n",
              "      <td>Nah I don't think he goes to usf, he lives aro...</td>\n",
              "    </tr>\n",
              "    <tr>\n",
              "      <th>...</th>\n",
              "      <td>...</td>\n",
              "      <td>...</td>\n",
              "    </tr>\n",
              "    <tr>\n",
              "      <th>5567</th>\n",
              "      <td>spam</td>\n",
              "      <td>This is the 2nd time we have tried 2 contact u...</td>\n",
              "    </tr>\n",
              "    <tr>\n",
              "      <th>5568</th>\n",
              "      <td>ham</td>\n",
              "      <td>Will ü b going to esplanade fr home?</td>\n",
              "    </tr>\n",
              "    <tr>\n",
              "      <th>5569</th>\n",
              "      <td>ham</td>\n",
              "      <td>Pity, * was in mood for that. So...any other s...</td>\n",
              "    </tr>\n",
              "    <tr>\n",
              "      <th>5570</th>\n",
              "      <td>ham</td>\n",
              "      <td>The guy did some bitching but I acted like i'd...</td>\n",
              "    </tr>\n",
              "    <tr>\n",
              "      <th>5571</th>\n",
              "      <td>ham</td>\n",
              "      <td>Rofl. Its true to its name</td>\n",
              "    </tr>\n",
              "  </tbody>\n",
              "</table>\n",
              "<p>5572 rows × 2 columns</p>\n",
              "</div>"
            ],
            "text/plain": [
              "     Label                                               Text\n",
              "0      ham  Go until jurong point, crazy.. Available only ...\n",
              "1      ham                      Ok lar... Joking wif u oni...\n",
              "2     spam  Free entry in 2 a wkly comp to win FA Cup fina...\n",
              "3      ham  U dun say so early hor... U c already then say...\n",
              "4      ham  Nah I don't think he goes to usf, he lives aro...\n",
              "...    ...                                                ...\n",
              "5567  spam  This is the 2nd time we have tried 2 contact u...\n",
              "5568   ham               Will ü b going to esplanade fr home?\n",
              "5569   ham  Pity, * was in mood for that. So...any other s...\n",
              "5570   ham  The guy did some bitching but I acted like i'd...\n",
              "5571   ham                         Rofl. Its true to its name\n",
              "\n",
              "[5572 rows x 2 columns]"
            ]
          },
          "execution_count": 231,
          "metadata": {},
          "output_type": "execute_result"
        }
      ],
      "source": [
        "import pandas as pd\n",
        "\n",
        "df = pd.read_csv(data_file_path, sep=\"\\t\", header=None, names=[\"Label\", \"Text\"])\n",
        "df"
      ]
    },
    {
      "cell_type": "markdown",
      "metadata": {
        "id": "xrLBGc-YTjEo"
      },
      "source": [
        "When we check the class distribution, we see that the data contains \"ham\" (i.e., \"not spam\") much more frequently than \"spam\""
      ]
    },
    {
      "cell_type": "code",
      "execution_count": null,
      "metadata": {
        "id": "rfFE22dkTjEo",
        "outputId": "9adbe1fd-2cc3-463f-f4b6-72ad14f4d1d1"
      },
      "outputs": [
        {
          "name": "stdout",
          "output_type": "stream",
          "text": [
            "Label\n",
            "ham     4825\n",
            "spam     747\n",
            "Name: count, dtype: int64\n"
          ]
        }
      ],
      "source": [
        "print(df[\"Label\"].value_counts())\n"
      ]
    },
    {
      "cell_type": "markdown",
      "metadata": {
        "id": "namjxcexTjEo"
      },
      "source": [
        "For simplicity, and because we prefer a small dataset for educational purposes anyway (it will make it possible to finetune the LLM faster), we subsample (undersample) the dataset so that it contains 747 instances from each class"
      ]
    },
    {
      "cell_type": "code",
      "execution_count": null,
      "metadata": {
        "id": "SzzPOT7MTjEp",
        "outputId": "25a87deb-e673-4de9-a626-560e76f6aa1f"
      },
      "outputs": [
        {
          "name": "stdout",
          "output_type": "stream",
          "text": [
            "Label\n",
            "ham     747\n",
            "spam    747\n",
            "Name: count, dtype: int64\n"
          ]
        }
      ],
      "source": [
        "def create_balanced_dataset(df):\n",
        "\n",
        "    # Count the instances of \"spam\"\n",
        "    num_spam = df[df[\"Label\"] == \"spam\"].shape[0]\n",
        "\n",
        "    # Randomly sample \"ham\" instances to match the number of \"spam\" instances\n",
        "    ham_subset = df[df[\"Label\"] == \"ham\"].sample(num_spam, random_state=123)\n",
        "\n",
        "    # Combine ham \"subset\" with \"spam\"\n",
        "    balanced_df = pd.concat([ham_subset, df[df[\"Label\"] == \"spam\"]])\n",
        "\n",
        "    return balanced_df\n",
        "\n",
        "balanced_df = create_balanced_dataset(df)\n",
        "print(balanced_df[\"Label\"].value_counts())"
      ]
    },
    {
      "cell_type": "markdown",
      "metadata": {
        "id": "lhEpH371TjEp"
      },
      "source": [
        "After executing the previous code to balance the dataset, we can see that we now have\n",
        "equal amounts of spam and non-spam messages"
      ]
    },
    {
      "cell_type": "markdown",
      "metadata": {
        "id": "a69s30XiTjEp"
      },
      "source": [
        "Next, we convert the \"string\" class labels \"ham\" and \"spam\" into integer class labels 0 and\n",
        "1, respectively"
      ]
    },
    {
      "cell_type": "code",
      "execution_count": null,
      "metadata": {
        "id": "PpDZzE7fTjEp"
      },
      "outputs": [],
      "source": [
        "balanced_df[\"Label\"] = balanced_df[\"Label\"].map({\"ham\": 0, \"spam\": 1})"
      ]
    },
    {
      "cell_type": "markdown",
      "metadata": {
        "id": "sXQ6lNPUTjEp"
      },
      "source": [
        "This process is similar to converting text into token IDs.\n",
        "\n",
        "However, instead of using the GPT\n",
        "vocabulary, which consists of more than 50,000 words, we are dealing with just two token\n",
        "IDs: 0 and 1."
      ]
    },
    {
      "cell_type": "markdown",
      "metadata": {
        "id": "xctHPcdjTjEp"
      },
      "source": [
        "We create a random_split function to split the dataset into three parts: 70% for\n",
        "training, 10% for validation, and 20% for testing.\n",
        "\n",
        "(These ratios are common in machine\n",
        "learning to train, adjust, and evaluate models.)"
      ]
    },
    {
      "cell_type": "code",
      "execution_count": null,
      "metadata": {
        "id": "HWEzVx4-TjEp"
      },
      "outputs": [],
      "source": [
        "def random_split(df, train_frac, validation_frac):\n",
        "    # Shuffle the entire DataFrame\n",
        "    df = df.sample(frac=1, random_state=123).reset_index(drop=True)\n",
        "\n",
        "    # Calculate split indices\n",
        "    train_end = int(len(df) * train_frac)\n",
        "    validation_end = train_end + int(len(df) * validation_frac)\n",
        "\n",
        "    # Split the DataFrame\n",
        "    train_df = df[:train_end]\n",
        "    validation_df = df[train_end:validation_end]\n",
        "    test_df = df[validation_end:]\n",
        "\n",
        "    return train_df, validation_df, test_df\n",
        "\n",
        "train_df, validation_df, test_df = random_split(balanced_df, 0.7, 0.1)\n",
        "# Test size is implied to be 0.2 as the remainder\n"
      ]
    },
    {
      "cell_type": "code",
      "execution_count": null,
      "metadata": {
        "id": "SUO0Htu0TjEp",
        "outputId": "894a6edd-a7d8-46c4-ca16-a547401b5c67"
      },
      "outputs": [
        {
          "name": "stdout",
          "output_type": "stream",
          "text": [
            "1045\n",
            "149\n",
            "300\n"
          ]
        }
      ],
      "source": [
        "print(len(train_df))\n",
        "print(len(validation_df))\n",
        "print(len(test_df))"
      ]
    },
    {
      "cell_type": "markdown",
      "metadata": {
        "id": "10avqSGDTjEq"
      },
      "source": [
        "Additionally, we save the dataset as CSV (comma-separated value) files, which we can\n",
        "reuse later"
      ]
    },
    {
      "cell_type": "code",
      "execution_count": null,
      "metadata": {
        "id": "S0VmcOp8TjEq"
      },
      "outputs": [],
      "source": [
        "train_df.to_csv(\"train.csv\", index=None)\n",
        "validation_df.to_csv(\"validation.csv\", index=None)\n",
        "test_df.to_csv(\"test.csv\", index=None)"
      ]
    },
    {
      "cell_type": "markdown",
      "metadata": {
        "id": "V9EVT8WzTjEq"
      },
      "source": [
        "### **CREATING DATALOADERS**"
      ]
    },
    {
      "cell_type": "markdown",
      "metadata": {
        "id": "wJqL3s0WTjEq"
      },
      "source": [
        "Previously, we utilized a sliding window technique to generate uniformly\n",
        "sized text chunks, which were then grouped into batches for more efficient model training.\n",
        "Each chunk functioned as an individual training instance\n",
        "\n",
        "In the case of email spam classification, have two primary options:\n",
        "\n",
        "(1) Truncate all messages to the length of the shortest message in the\n",
        "dataset or batch.\n",
        "\n",
        "(2) Pad all messages to the length of the longest message in the dataset or\n",
        "batch."
      ]
    },
    {
      "cell_type": "markdown",
      "metadata": {
        "id": "k79O0_pQTjEq"
      },
      "source": [
        "> Option 1 is computationally cheaper, but it may result in significant information loss if\n",
        "shorter messages are much smaller than the average or longest messages, potentially\n",
        "reducing model performance.\n",
        "\n",
        "So, we opt for the second option, which preserves the entire\n",
        "content of all messages.\n",
        "\n",
        "To implement option 2, where all messages are padded to the length of the longest\n",
        "message in the dataset, we add padding tokens to all shorter messages.\n",
        "\n",
        "For this purpose,\n",
        "we use \"<|endoftext|>\" as a padding token, as discussed in chapter 2.\n",
        "\n",
        "    \n",
        "However, instead of appending the string \"<|endoftext|>\" to each of the text messages\n",
        "directly, we can add the token ID corresponding to \"<|endoftext|>\" to the encoded text"
      ]
    },
    {
      "cell_type": "markdown",
      "metadata": {
        "id": "icPBx1q1TjEq"
      },
      "source": [
        "As we have seen earlier, we first need to implement a PyTorch Dataset, which\n",
        "specifies how the data is loaded and processed, before we can instantiate the data loaders.\n",
        "    "
      ]
    },
    {
      "cell_type": "markdown",
      "metadata": {
        "id": "Xni662tFTjEq"
      },
      "source": [
        "For this purpose, we define the SpamDataset class.\n",
        "\n",
        "This SpamDataset class handles several key tasks: it identifies the\n",
        "longest sequence in the training dataset, encodes the text messages, and ensures that all\n",
        "other sequences are padded with a padding token to match the length of the longest\n",
        "sequence."
      ]
    },
    {
      "cell_type": "code",
      "execution_count": null,
      "metadata": {
        "id": "bqYPvCE2TjEq"
      },
      "outputs": [],
      "source": [
        "import torch\n",
        "from torch.utils.data import Dataset\n",
        "import pandas as pd  # Required for reading CSV files\n",
        "\n",
        "\n",
        "class SpamDataset(Dataset):\n",
        "    def __init__(self, csv_file, tokenizer, max_length=None, pad_token_id=50256):\n",
        "        \"\"\"\n",
        "        Custom PyTorch Dataset class for spam detection tasks.\n",
        "\n",
        "        Args:\n",
        "            csv_file (str): Path to the CSV file containing 'Text' and 'Label' columns.\n",
        "            tokenizer (object): Tokenizer used to convert text into token IDs.\n",
        "            max_length (int, optional): Maximum sequence length for each sample.\n",
        "                                        If None, it is set to the longest sequence found.\n",
        "            pad_token_id (int): Token ID used for padding shorter sequences.\n",
        "        \"\"\"\n",
        "        # Load the dataset from a CSV file\n",
        "        self.data = pd.read_csv(csv_file)\n",
        "\n",
        "        # Tokenize each text in the dataset and store the tokenized lists\n",
        "        self.encoded_texts = [\n",
        "            tokenizer.encode(text) for text in self.data[\"Text\"]\n",
        "        ]\n",
        "\n",
        "        # Determine the maximum sequence length\n",
        "        if max_length is None:\n",
        "            # Automatically set to the longest tokenized sequence\n",
        "            self.max_length = self._longest_encoded_length()\n",
        "        else:\n",
        "            # Use the user-specified maximum sequence length\n",
        "            self.max_length = max_length\n",
        "\n",
        "            # Truncate any sequence longer than the maximum length\n",
        "            self.encoded_texts = [\n",
        "                encoded_text[:self.max_length]\n",
        "                for encoded_text in self.encoded_texts\n",
        "            ]\n",
        "\n",
        "        # Pad all sequences so they have equal length (self.max_length)\n",
        "        self.encoded_texts = [\n",
        "            encoded_text + [pad_token_id] * (self.max_length - len(encoded_text))\n",
        "            for encoded_text in self.encoded_texts\n",
        "        ]\n",
        "\n",
        "    def __getitem__(self, index):\n",
        "        \"\"\"\n",
        "        Retrieve a single sample from the dataset.\n",
        "\n",
        "        Args:\n",
        "            index (int): Index of the sample to retrieve.\n",
        "\n",
        "        Returns:\n",
        "            tuple: (input_tensor, label_tensor)\n",
        "                   - input_tensor: Tensor of token IDs for the text.\n",
        "                   - label_tensor: Corresponding label (0 for ham, 1 for spam).\n",
        "        \"\"\"\n",
        "        # Get the encoded sequence\n",
        "        encoded = self.encoded_texts[index]\n",
        "\n",
        "        # Get the label for the given sample\n",
        "        label = self.data.iloc[index][\"Label\"]\n",
        "\n",
        "        # Convert both encoded text and label into PyTorch tensors\n",
        "        return (\n",
        "            torch.tensor(encoded, dtype=torch.long),\n",
        "            torch.tensor(label, dtype=torch.long)\n",
        "        )\n",
        "\n",
        "    def __len__(self):\n",
        "        \"\"\"\n",
        "        Return the total number of samples in the dataset.\n",
        "        \"\"\"\n",
        "        return len(self.data)\n",
        "\n",
        "    def _longest_encoded_length(self):\n",
        "        \"\"\"\n",
        "        Compute the length of the longest tokenized text in the dataset.\n",
        "\n",
        "        Returns:\n",
        "            int: The maximum sequence length among all tokenized samples.\n",
        "        \"\"\"\n",
        "        max_length = 0\n",
        "        for encoded_text in self.encoded_texts:\n",
        "            encoded_length = len(encoded_text)\n",
        "            if encoded_length > max_length:\n",
        "                max_length = encoded_length\n",
        "        return max_length"
      ]
    },
    {
      "cell_type": "markdown",
      "metadata": {
        "id": "xFSVClEsTjEq"
      },
      "source": [
        "Step 1: Pre-tokenize texts\n",
        "    \n",
        "Step 2: Truncate sequences if they are longer than max_length\n",
        "    \n",
        "Step 3: Pad sequences to the longest sequence"
      ]
    },
    {
      "cell_type": "markdown",
      "metadata": {
        "id": "kGs7VIo7TjEq"
      },
      "source": [
        "The SpamDataset class loads data from the CSV files we created earlier, tokenizes the text\n",
        "using the GPT-2 tokenizer from tiktoken and allows us to pad or truncate the sequences to\n",
        "a uniform length determined by either the longest sequence or a predefined maximum\n",
        "length."
      ]
    },
    {
      "cell_type": "markdown",
      "metadata": {
        "id": "9-1Fzw7RTjEr"
      },
      "source": [
        "This ensures each input tensor is of the same size, which is necessary to create the\n",
        "batches in the training data loader we implement next"
      ]
    },
    {
      "cell_type": "code",
      "execution_count": null,
      "metadata": {
        "id": "VEQdTBziTjEr",
        "outputId": "71c528dd-2e5d-4ff3-d249-1ac12780fc5f"
      },
      "outputs": [
        {
          "name": "stdout",
          "output_type": "stream",
          "text": [
            "120\n"
          ]
        }
      ],
      "source": [
        "train_dataset = SpamDataset(\n",
        "    csv_file=\"train.csv\",\n",
        "    max_length=None,\n",
        "    tokenizer=tokenizer\n",
        ")\n",
        "\n",
        "print(train_dataset.max_length)"
      ]
    },
    {
      "cell_type": "markdown",
      "metadata": {
        "id": "MbNpchbKTjEr"
      },
      "source": [
        "The code outputs 120, showing that the longest sequence contains no more than 120\n",
        "tokens, a common length for text messages.\n",
        "                       \n",
        "It's worth noting that the model can handle\n",
        "sequences of up to 1,024 tokens, given its context length limit.\n",
        "\n",
        "If your dataset includes\n",
        "longer texts, you can pass max_length=1024 when creating the training dataset in the\n",
        "preceding code to ensure that the data does not exceed the model's supported input\n",
        "(context) length."
      ]
    },
    {
      "cell_type": "markdown",
      "metadata": {
        "id": "BwYz-5dZTjEs"
      },
      "source": [
        "Next, we pad the validation and test sets to match the length of the longest training\n",
        "sequence.\n",
        "\n",
        "It's important to note that any validation and test set samples exceeding the\n",
        "length of the longest training example are truncated using\n",
        "encoded_text[:self.max_length] in the SpamDataset code we defined earlier.\n",
        "\n",
        "This\n",
        "truncation is optional; you could also set max_length=None for both validation and test\n",
        "sets, provided there are no sequences exceeding 1,024 tokens in these sets"
      ]
    },
    {
      "cell_type": "code",
      "execution_count": null,
      "metadata": {
        "id": "DWMT465STjEs",
        "outputId": "afbd6a28-708b-486b-9abc-28484b7662d6"
      },
      "outputs": [
        {
          "name": "stdout",
          "output_type": "stream",
          "text": [
            "120\n"
          ]
        }
      ],
      "source": [
        "val_dataset = SpamDataset(\n",
        "    csv_file=\"validation.csv\",\n",
        "    max_length=train_dataset.max_length,\n",
        "    tokenizer=tokenizer\n",
        ")\n",
        "test_dataset = SpamDataset(\n",
        "    csv_file=\"test.csv\",\n",
        "    max_length=train_dataset.max_length,\n",
        "    tokenizer=tokenizer\n",
        ")\n",
        "\n",
        "print(test_dataset.max_length)"
      ]
    },
    {
      "cell_type": "markdown",
      "metadata": {
        "id": "bhyig4krTjEs"
      },
      "source": [
        "Using the datasets as inputs, we can instantiate the data loaders similarly to what we did earlier.\n",
        "\n",
        "However, in this case, the targets represent class labels rather than the next\n",
        "tokens in the text.\n",
        "\n",
        "For instance, choosing a batch size of 8, each batch will consist of 8\n",
        "training examples of length 120 and the corresponding class label of each example."
      ]
    },
    {
      "cell_type": "code",
      "execution_count": null,
      "metadata": {
        "id": "XGK00EeiTjEs"
      },
      "outputs": [],
      "source": [
        "from torch.utils.data import DataLoader\n",
        "\n",
        "num_workers = 0\n",
        "batch_size = 8\n",
        "\n",
        "torch.manual_seed(123)\n",
        "\n",
        "train_loader = DataLoader(\n",
        "    dataset=train_dataset,\n",
        "    batch_size=batch_size,\n",
        "    shuffle=True,\n",
        "    num_workers=num_workers,\n",
        "    drop_last=True,\n",
        ")\n",
        "\n",
        "val_loader = DataLoader(\n",
        "    dataset=val_dataset,\n",
        "    batch_size=batch_size,\n",
        "    num_workers=num_workers,\n",
        "    drop_last=False,\n",
        ")\n",
        "\n",
        "test_loader = DataLoader(\n",
        "    dataset=test_dataset,\n",
        "    batch_size=batch_size,\n",
        "    num_workers=num_workers,\n",
        "    drop_last=False,\n",
        ")"
      ]
    },
    {
      "cell_type": "markdown",
      "metadata": {
        "id": "aiRkGtFKTjEs"
      },
      "source": [
        "To ensure that the data loaders are working and are indeed returning batches of the\n",
        "expected size, we iterate over the training loader and then print the tensor dimensions of\n",
        "the last batch"
      ]
    },
    {
      "cell_type": "code",
      "execution_count": null,
      "metadata": {
        "id": "TTzs3t4DTjEs",
        "outputId": "4fc3f9a4-59d7-4050-ba7d-51d64ea44683"
      },
      "outputs": [
        {
          "name": "stdout",
          "output_type": "stream",
          "text": [
            "Train loader:\n",
            "Input batch dimensions: torch.Size([8, 120])\n",
            "Label batch dimensions torch.Size([8])\n"
          ]
        }
      ],
      "source": [
        "print(\"Train loader:\")\n",
        "for input_batch, target_batch in train_loader:\n",
        "    pass\n",
        "\n",
        "print(\"Input batch dimensions:\", input_batch.shape)\n",
        "print(\"Label batch dimensions\", target_batch.shape)"
      ]
    },
    {
      "cell_type": "markdown",
      "metadata": {
        "id": "sx2cdIb9TjEs"
      },
      "source": [
        "As we can see, the input batches consist of 8 training examples with 120 tokens each, as\n",
        "expected.\n",
        "\n",
        "The label tensor stores the class labels corresponding to the 8 training examples.\n"
      ]
    },
    {
      "cell_type": "markdown",
      "metadata": {
        "id": "XGJXK4tRTjEs"
      },
      "source": [
        "<div class=\"alert alert-block alert-success\">\n",
        "\n",
        "Lastly, to get an idea of the dataset size, let's print the total number of batches in each\n",
        "dataset:\n",
        "</div>"
      ]
    },
    {
      "cell_type": "code",
      "execution_count": null,
      "metadata": {
        "id": "ByJjI69NTjEs",
        "outputId": "df7f3fbf-8729-4961-a176-0051ae9f84cf"
      },
      "outputs": [
        {
          "name": "stdout",
          "output_type": "stream",
          "text": [
            "130 training batches\n",
            "19 validation batches\n",
            "38 test batches\n"
          ]
        }
      ],
      "source": [
        "print(f\"{len(train_loader)} training batches\")\n",
        "print(f\"{len(val_loader)} validation batches\")\n",
        "print(f\"{len(test_loader)} test batches\")"
      ]
    },
    {
      "cell_type": "markdown",
      "metadata": {
        "id": "mMI5u_KITjEs"
      },
      "source": [
        "This concludes the data preparation. Next, we will prepare the model for\n",
        "finetuning."
      ]
    },
    {
      "cell_type": "markdown",
      "metadata": {
        "id": "JIsbhcL-TjEt"
      },
      "source": [
        "## **INITIALIZING A MODEL WITH PRETRAINED WEIGHTS**"
      ]
    },
    {
      "cell_type": "markdown",
      "metadata": {
        "id": "onSLfYp0TjEt"
      },
      "source": [
        "In this section, we prepare the model we will use for the classification-finetuning to identify\n",
        "spam messages.\n",
        "\n",
        "We start with initializing the pretrained model we worked with in the\n",
        "previous chapter"
      ]
    },
    {
      "cell_type": "code",
      "execution_count": null,
      "metadata": {
        "id": "-Qkib8pDTjEt"
      },
      "outputs": [],
      "source": [
        "CHOOSE_MODEL = \"gpt2-small (124M)\"\n",
        "INPUT_PROMPT = \"Every effort moves\"\n",
        "\n",
        "BASE_CONFIG = {\n",
        "    \"vocab_size\": 50257,     # Vocabulary size\n",
        "    \"context_length\": 1024,  # Context length\n",
        "    \"drop_rate\": 0.0,        # Dropout rate\n",
        "    \"qkv_bias\": True         # Query-key-value bias\n",
        "}\n",
        "\n",
        "model_configs = {\n",
        "    \"gpt2-small (124M)\": {\"emb_dim\": 768, \"n_layers\": 12, \"n_heads\": 12},\n",
        "    \"gpt2-medium (355M)\": {\"emb_dim\": 1024, \"n_layers\": 24, \"n_heads\": 16},\n",
        "    \"gpt2-large (774M)\": {\"emb_dim\": 1280, \"n_layers\": 36, \"n_heads\": 20},\n",
        "    \"gpt2-xl (1558M)\": {\"emb_dim\": 1600, \"n_layers\": 48, \"n_heads\": 25},\n",
        "}\n",
        "\n",
        "BASE_CONFIG.update(model_configs[CHOOSE_MODEL])\n",
        "\n",
        "assert train_dataset.max_length <= BASE_CONFIG[\"context_length\"], (\n",
        "    f\"Dataset length {train_dataset.max_length} exceeds model's context \"\n",
        "    f\"length {BASE_CONFIG['context_length']}. Reinitialize data sets with \"\n",
        "    f\"`max_length={BASE_CONFIG['context_length']}`\"\n",
        ")"
      ]
    },
    {
      "cell_type": "markdown",
      "metadata": {
        "id": "ZRs5lMztTjEt"
      },
      "source": [
        "Next, we import the download_and_load_gpt function from the gpt_download3.py file we\n",
        "downloaded earlier.\n",
        "\n",
        "Furthermore, we also reuse the GPTModel class and\n",
        "load_weights_into_gpt function from chapter 5 to load the downloaded weights into the\n",
        "GPT model"
      ]
    },
    {
      "cell_type": "code",
      "execution_count": null,
      "metadata": {
        "id": "cf9g4bgNTjEt",
        "outputId": "a05c8122-b873-433e-f0bf-86ad075eacba"
      },
      "outputs": [
        {
          "name": "stderr",
          "output_type": "stream",
          "text": [
            "/Library/Frameworks/Python.framework/Versions/3.12/lib/python3.12/site-packages/urllib3/connectionpool.py:1103: InsecureRequestWarning: Unverified HTTPS request is being made to host 'openaipublic.blob.core.windows.net'. Adding certificate verification is strongly advised. See: https://urllib3.readthedocs.io/en/latest/advanced-usage.html#tls-warnings\n",
            "  warnings.warn(\n"
          ]
        },
        {
          "name": "stdout",
          "output_type": "stream",
          "text": [
            "File already exists and is up-to-date: gpt2/124M/checkpoint\n"
          ]
        },
        {
          "name": "stderr",
          "output_type": "stream",
          "text": [
            "/Library/Frameworks/Python.framework/Versions/3.12/lib/python3.12/site-packages/urllib3/connectionpool.py:1103: InsecureRequestWarning: Unverified HTTPS request is being made to host 'openaipublic.blob.core.windows.net'. Adding certificate verification is strongly advised. See: https://urllib3.readthedocs.io/en/latest/advanced-usage.html#tls-warnings\n",
            "  warnings.warn(\n"
          ]
        },
        {
          "name": "stdout",
          "output_type": "stream",
          "text": [
            "File already exists and is up-to-date: gpt2/124M/encoder.json\n"
          ]
        },
        {
          "name": "stderr",
          "output_type": "stream",
          "text": [
            "/Library/Frameworks/Python.framework/Versions/3.12/lib/python3.12/site-packages/urllib3/connectionpool.py:1103: InsecureRequestWarning: Unverified HTTPS request is being made to host 'openaipublic.blob.core.windows.net'. Adding certificate verification is strongly advised. See: https://urllib3.readthedocs.io/en/latest/advanced-usage.html#tls-warnings\n",
            "  warnings.warn(\n"
          ]
        },
        {
          "name": "stdout",
          "output_type": "stream",
          "text": [
            "File already exists and is up-to-date: gpt2/124M/hparams.json\n"
          ]
        },
        {
          "name": "stderr",
          "output_type": "stream",
          "text": [
            "/Library/Frameworks/Python.framework/Versions/3.12/lib/python3.12/site-packages/urllib3/connectionpool.py:1103: InsecureRequestWarning: Unverified HTTPS request is being made to host 'openaipublic.blob.core.windows.net'. Adding certificate verification is strongly advised. See: https://urllib3.readthedocs.io/en/latest/advanced-usage.html#tls-warnings\n",
            "  warnings.warn(\n"
          ]
        },
        {
          "name": "stdout",
          "output_type": "stream",
          "text": [
            "File already exists and is up-to-date: gpt2/124M/model.ckpt.data-00000-of-00001\n"
          ]
        },
        {
          "name": "stderr",
          "output_type": "stream",
          "text": [
            "/Library/Frameworks/Python.framework/Versions/3.12/lib/python3.12/site-packages/urllib3/connectionpool.py:1103: InsecureRequestWarning: Unverified HTTPS request is being made to host 'openaipublic.blob.core.windows.net'. Adding certificate verification is strongly advised. See: https://urllib3.readthedocs.io/en/latest/advanced-usage.html#tls-warnings\n",
            "  warnings.warn(\n"
          ]
        },
        {
          "name": "stdout",
          "output_type": "stream",
          "text": [
            "File already exists and is up-to-date: gpt2/124M/model.ckpt.index\n"
          ]
        },
        {
          "name": "stderr",
          "output_type": "stream",
          "text": [
            "/Library/Frameworks/Python.framework/Versions/3.12/lib/python3.12/site-packages/urllib3/connectionpool.py:1103: InsecureRequestWarning: Unverified HTTPS request is being made to host 'openaipublic.blob.core.windows.net'. Adding certificate verification is strongly advised. See: https://urllib3.readthedocs.io/en/latest/advanced-usage.html#tls-warnings\n",
            "  warnings.warn(\n"
          ]
        },
        {
          "name": "stdout",
          "output_type": "stream",
          "text": [
            "File already exists and is up-to-date: gpt2/124M/model.ckpt.meta\n"
          ]
        },
        {
          "name": "stderr",
          "output_type": "stream",
          "text": [
            "/Library/Frameworks/Python.framework/Versions/3.12/lib/python3.12/site-packages/urllib3/connectionpool.py:1103: InsecureRequestWarning: Unverified HTTPS request is being made to host 'openaipublic.blob.core.windows.net'. Adding certificate verification is strongly advised. See: https://urllib3.readthedocs.io/en/latest/advanced-usage.html#tls-warnings\n",
            "  warnings.warn(\n"
          ]
        },
        {
          "name": "stdout",
          "output_type": "stream",
          "text": [
            "File already exists and is up-to-date: gpt2/124M/vocab.bpe\n"
          ]
        }
      ],
      "source": [
        "model_size = CHOOSE_MODEL.split(\" \")[-1].lstrip(\"(\").rstrip(\")\")\n",
        "\n",
        "from gpt_download3 import download_and_load_gpt2\n",
        "\n",
        "settings, params = download_and_load_gpt2(model_size=model_size, models_dir=\"gpt2\")\n",
        "\n",
        "model = GPTModel(BASE_CONFIG)\n",
        "load_weights_into_gpt(model, params)\n",
        "model.eval();"
      ]
    },
    {
      "cell_type": "markdown",
      "metadata": {
        "id": "2M553mQBTjEt"
      },
      "source": [
        "To ensure that the model was loaded correctly, let's double-check that it generates coherent text"
      ]
    },
    {
      "cell_type": "code",
      "execution_count": null,
      "metadata": {
        "id": "179kKoMwTjEt",
        "outputId": "48c95f9c-41e8-4f32-87f1-44e0d0eda2c1"
      },
      "outputs": [
        {
          "name": "stdout",
          "output_type": "stream",
          "text": [
            "Every effort moves you forward.\n",
            "\n",
            "The first step is to understand the importance of your work\n"
          ]
        }
      ],
      "source": [
        "text_1 = \"Every effort moves you\"\n",
        "\n",
        "token_ids = generate_text_simple(\n",
        "    model=model,\n",
        "    idx=text_to_token_ids(text_1, tokenizer),\n",
        "    max_new_tokens=15,\n",
        "    context_size=BASE_CONFIG[\"context_length\"]\n",
        ")\n",
        "\n",
        "print(token_ids_to_text(token_ids, tokenizer))"
      ]
    },
    {
      "cell_type": "markdown",
      "metadata": {
        "id": "QG7MHkISTjEt"
      },
      "source": [
        "Now, before we start finetuning the model as a spam classifier, let's see if the model can\n",
        "perhaps already classify spam messages by by prompting it with instructions"
      ]
    },
    {
      "cell_type": "code",
      "execution_count": null,
      "metadata": {
        "id": "SdVof5JmTjEt",
        "outputId": "63ed59b0-76e3-4ac2-89a7-5f4b66e3040a"
      },
      "outputs": [
        {
          "name": "stdout",
          "output_type": "stream",
          "text": [
            "Is the following text 'spam'? Answer with 'yes' or 'no': 'You are a winner you have been specially selected to receive $1000 cash or a $2000 award.'\n",
            "\n",
            "The following text 'spam'? Answer with 'yes' or 'no': 'You are a winner\n"
          ]
        }
      ],
      "source": [
        "text_2 = (\n",
        "    \"Is the following text 'spam'? Answer with 'yes' or 'no':\"\n",
        "    \" 'You are a winner you have been specially\"\n",
        "    \" selected to receive $1000 cash or a $2000 award.'\"\n",
        ")\n",
        "\n",
        "token_ids = generate_text_simple(\n",
        "    model=model,\n",
        "    idx=text_to_token_ids(text_2, tokenizer),\n",
        "    max_new_tokens=23,\n",
        "    context_size=BASE_CONFIG[\"context_length\"]\n",
        ")\n",
        "\n",
        "print(token_ids_to_text(token_ids, tokenizer))"
      ]
    },
    {
      "cell_type": "markdown",
      "metadata": {
        "id": "a4BEoi8KTjEu"
      },
      "source": [
        "Based on the output, it's apparent that the model struggles with following instructions.\n",
        "\n",
        "This is anticipated, as it has undergone only pretraining and lacks instruction-finetuning,\n",
        "which we will explore in the upcoming chapter\n",
        "\n",
        "The next section prepares the model for classification-finetuning"
      ]
    },
    {
      "cell_type": "markdown",
      "metadata": {
        "id": "YFEDA4NzTjEu"
      },
      "source": [
        "## **ADDING A CLASSIFICATION HEAD**"
      ]
    },
    {
      "cell_type": "markdown",
      "metadata": {
        "id": "4_r02sSCTjEu"
      },
      "source": [
        "In this section, we modify the pretrained large language model to prepare it for\n",
        "classification-finetuning.\n",
        "\n",
        "To do this, we replace the original output layer, which maps the\n",
        "hidden representation to a vocabulary of 50,257, with a smaller output layer that maps to\n",
        "two classes: 0 (\"not spam\") and 1 (\"spam\"),"
      ]
    },
    {
      "cell_type": "markdown",
      "metadata": {
        "id": "5S5ziq42TjEu"
      },
      "source": [
        "We could technically use a single output node since we are dealing with a binary\n",
        "classification task.\n",
        "\n",
        "However, this would require modifying the loss function.\n",
        "\n",
        "Therefore, we choose a\n",
        "more general approach where the number of output nodes matches the number of\n",
        "classes.\n",
        "\n",
        "For example, for a 3-class problem, such as classifying news articles as\n",
        "\"Technology\", \"Sports\", or \"Politics\", we would use three output nodes, and so forth."
      ]
    },
    {
      "cell_type": "markdown",
      "metadata": {
        "id": "tEI_fPPiTjEu"
      },
      "source": [
        "Before we attempt to construct the modified architecture, let's print the model\n",
        "architecture via print(model), which prints the following"
      ]
    },
    {
      "cell_type": "code",
      "execution_count": null,
      "metadata": {
        "id": "1ou1O5xgTjEu",
        "outputId": "c6add931-5c54-4c55-f433-9ca1ea195b93"
      },
      "outputs": [
        {
          "name": "stdout",
          "output_type": "stream",
          "text": [
            "GPTModel(\n",
            "  (tok_emb): Embedding(50257, 768)\n",
            "  (pos_emb): Embedding(1024, 768)\n",
            "  (drop_emb): Dropout(p=0.0, inplace=False)\n",
            "  (trf_blocks): Sequential(\n",
            "    (0): TransformerBlock(\n",
            "      (att): MultiHeadAttention(\n",
            "        (W_query): Linear(in_features=768, out_features=768, bias=True)\n",
            "        (W_key): Linear(in_features=768, out_features=768, bias=True)\n",
            "        (W_value): Linear(in_features=768, out_features=768, bias=True)\n",
            "        (out_proj): Linear(in_features=768, out_features=768, bias=True)\n",
            "        (dropout): Dropout(p=0.0, inplace=False)\n",
            "      )\n",
            "      (ff): FeedForward(\n",
            "        (layers): Sequential(\n",
            "          (0): Linear(in_features=768, out_features=3072, bias=True)\n",
            "          (1): GELU()\n",
            "          (2): Linear(in_features=3072, out_features=768, bias=True)\n",
            "        )\n",
            "      )\n",
            "      (norm1): LayerNorm()\n",
            "      (norm2): LayerNorm()\n",
            "      (drop_shortcut): Dropout(p=0.0, inplace=False)\n",
            "    )\n",
            "    (1): TransformerBlock(\n",
            "      (att): MultiHeadAttention(\n",
            "        (W_query): Linear(in_features=768, out_features=768, bias=True)\n",
            "        (W_key): Linear(in_features=768, out_features=768, bias=True)\n",
            "        (W_value): Linear(in_features=768, out_features=768, bias=True)\n",
            "        (out_proj): Linear(in_features=768, out_features=768, bias=True)\n",
            "        (dropout): Dropout(p=0.0, inplace=False)\n",
            "      )\n",
            "      (ff): FeedForward(\n",
            "        (layers): Sequential(\n",
            "          (0): Linear(in_features=768, out_features=3072, bias=True)\n",
            "          (1): GELU()\n",
            "          (2): Linear(in_features=3072, out_features=768, bias=True)\n",
            "        )\n",
            "      )\n",
            "      (norm1): LayerNorm()\n",
            "      (norm2): LayerNorm()\n",
            "      (drop_shortcut): Dropout(p=0.0, inplace=False)\n",
            "    )\n",
            "    (2): TransformerBlock(\n",
            "      (att): MultiHeadAttention(\n",
            "        (W_query): Linear(in_features=768, out_features=768, bias=True)\n",
            "        (W_key): Linear(in_features=768, out_features=768, bias=True)\n",
            "        (W_value): Linear(in_features=768, out_features=768, bias=True)\n",
            "        (out_proj): Linear(in_features=768, out_features=768, bias=True)\n",
            "        (dropout): Dropout(p=0.0, inplace=False)\n",
            "      )\n",
            "      (ff): FeedForward(\n",
            "        (layers): Sequential(\n",
            "          (0): Linear(in_features=768, out_features=3072, bias=True)\n",
            "          (1): GELU()\n",
            "          (2): Linear(in_features=3072, out_features=768, bias=True)\n",
            "        )\n",
            "      )\n",
            "      (norm1): LayerNorm()\n",
            "      (norm2): LayerNorm()\n",
            "      (drop_shortcut): Dropout(p=0.0, inplace=False)\n",
            "    )\n",
            "    (3): TransformerBlock(\n",
            "      (att): MultiHeadAttention(\n",
            "        (W_query): Linear(in_features=768, out_features=768, bias=True)\n",
            "        (W_key): Linear(in_features=768, out_features=768, bias=True)\n",
            "        (W_value): Linear(in_features=768, out_features=768, bias=True)\n",
            "        (out_proj): Linear(in_features=768, out_features=768, bias=True)\n",
            "        (dropout): Dropout(p=0.0, inplace=False)\n",
            "      )\n",
            "      (ff): FeedForward(\n",
            "        (layers): Sequential(\n",
            "          (0): Linear(in_features=768, out_features=3072, bias=True)\n",
            "          (1): GELU()\n",
            "          (2): Linear(in_features=3072, out_features=768, bias=True)\n",
            "        )\n",
            "      )\n",
            "      (norm1): LayerNorm()\n",
            "      (norm2): LayerNorm()\n",
            "      (drop_shortcut): Dropout(p=0.0, inplace=False)\n",
            "    )\n",
            "    (4): TransformerBlock(\n",
            "      (att): MultiHeadAttention(\n",
            "        (W_query): Linear(in_features=768, out_features=768, bias=True)\n",
            "        (W_key): Linear(in_features=768, out_features=768, bias=True)\n",
            "        (W_value): Linear(in_features=768, out_features=768, bias=True)\n",
            "        (out_proj): Linear(in_features=768, out_features=768, bias=True)\n",
            "        (dropout): Dropout(p=0.0, inplace=False)\n",
            "      )\n",
            "      (ff): FeedForward(\n",
            "        (layers): Sequential(\n",
            "          (0): Linear(in_features=768, out_features=3072, bias=True)\n",
            "          (1): GELU()\n",
            "          (2): Linear(in_features=3072, out_features=768, bias=True)\n",
            "        )\n",
            "      )\n",
            "      (norm1): LayerNorm()\n",
            "      (norm2): LayerNorm()\n",
            "      (drop_shortcut): Dropout(p=0.0, inplace=False)\n",
            "    )\n",
            "    (5): TransformerBlock(\n",
            "      (att): MultiHeadAttention(\n",
            "        (W_query): Linear(in_features=768, out_features=768, bias=True)\n",
            "        (W_key): Linear(in_features=768, out_features=768, bias=True)\n",
            "        (W_value): Linear(in_features=768, out_features=768, bias=True)\n",
            "        (out_proj): Linear(in_features=768, out_features=768, bias=True)\n",
            "        (dropout): Dropout(p=0.0, inplace=False)\n",
            "      )\n",
            "      (ff): FeedForward(\n",
            "        (layers): Sequential(\n",
            "          (0): Linear(in_features=768, out_features=3072, bias=True)\n",
            "          (1): GELU()\n",
            "          (2): Linear(in_features=3072, out_features=768, bias=True)\n",
            "        )\n",
            "      )\n",
            "      (norm1): LayerNorm()\n",
            "      (norm2): LayerNorm()\n",
            "      (drop_shortcut): Dropout(p=0.0, inplace=False)\n",
            "    )\n",
            "    (6): TransformerBlock(\n",
            "      (att): MultiHeadAttention(\n",
            "        (W_query): Linear(in_features=768, out_features=768, bias=True)\n",
            "        (W_key): Linear(in_features=768, out_features=768, bias=True)\n",
            "        (W_value): Linear(in_features=768, out_features=768, bias=True)\n",
            "        (out_proj): Linear(in_features=768, out_features=768, bias=True)\n",
            "        (dropout): Dropout(p=0.0, inplace=False)\n",
            "      )\n",
            "      (ff): FeedForward(\n",
            "        (layers): Sequential(\n",
            "          (0): Linear(in_features=768, out_features=3072, bias=True)\n",
            "          (1): GELU()\n",
            "          (2): Linear(in_features=3072, out_features=768, bias=True)\n",
            "        )\n",
            "      )\n",
            "      (norm1): LayerNorm()\n",
            "      (norm2): LayerNorm()\n",
            "      (drop_shortcut): Dropout(p=0.0, inplace=False)\n",
            "    )\n",
            "    (7): TransformerBlock(\n",
            "      (att): MultiHeadAttention(\n",
            "        (W_query): Linear(in_features=768, out_features=768, bias=True)\n",
            "        (W_key): Linear(in_features=768, out_features=768, bias=True)\n",
            "        (W_value): Linear(in_features=768, out_features=768, bias=True)\n",
            "        (out_proj): Linear(in_features=768, out_features=768, bias=True)\n",
            "        (dropout): Dropout(p=0.0, inplace=False)\n",
            "      )\n",
            "      (ff): FeedForward(\n",
            "        (layers): Sequential(\n",
            "          (0): Linear(in_features=768, out_features=3072, bias=True)\n",
            "          (1): GELU()\n",
            "          (2): Linear(in_features=3072, out_features=768, bias=True)\n",
            "        )\n",
            "      )\n",
            "      (norm1): LayerNorm()\n",
            "      (norm2): LayerNorm()\n",
            "      (drop_shortcut): Dropout(p=0.0, inplace=False)\n",
            "    )\n",
            "    (8): TransformerBlock(\n",
            "      (att): MultiHeadAttention(\n",
            "        (W_query): Linear(in_features=768, out_features=768, bias=True)\n",
            "        (W_key): Linear(in_features=768, out_features=768, bias=True)\n",
            "        (W_value): Linear(in_features=768, out_features=768, bias=True)\n",
            "        (out_proj): Linear(in_features=768, out_features=768, bias=True)\n",
            "        (dropout): Dropout(p=0.0, inplace=False)\n",
            "      )\n",
            "      (ff): FeedForward(\n",
            "        (layers): Sequential(\n",
            "          (0): Linear(in_features=768, out_features=3072, bias=True)\n",
            "          (1): GELU()\n",
            "          (2): Linear(in_features=3072, out_features=768, bias=True)\n",
            "        )\n",
            "      )\n",
            "      (norm1): LayerNorm()\n",
            "      (norm2): LayerNorm()\n",
            "      (drop_shortcut): Dropout(p=0.0, inplace=False)\n",
            "    )\n",
            "    (9): TransformerBlock(\n",
            "      (att): MultiHeadAttention(\n",
            "        (W_query): Linear(in_features=768, out_features=768, bias=True)\n",
            "        (W_key): Linear(in_features=768, out_features=768, bias=True)\n",
            "        (W_value): Linear(in_features=768, out_features=768, bias=True)\n",
            "        (out_proj): Linear(in_features=768, out_features=768, bias=True)\n",
            "        (dropout): Dropout(p=0.0, inplace=False)\n",
            "      )\n",
            "      (ff): FeedForward(\n",
            "        (layers): Sequential(\n",
            "          (0): Linear(in_features=768, out_features=3072, bias=True)\n",
            "          (1): GELU()\n",
            "          (2): Linear(in_features=3072, out_features=768, bias=True)\n",
            "        )\n",
            "      )\n",
            "      (norm1): LayerNorm()\n",
            "      (norm2): LayerNorm()\n",
            "      (drop_shortcut): Dropout(p=0.0, inplace=False)\n",
            "    )\n",
            "    (10): TransformerBlock(\n",
            "      (att): MultiHeadAttention(\n",
            "        (W_query): Linear(in_features=768, out_features=768, bias=True)\n",
            "        (W_key): Linear(in_features=768, out_features=768, bias=True)\n",
            "        (W_value): Linear(in_features=768, out_features=768, bias=True)\n",
            "        (out_proj): Linear(in_features=768, out_features=768, bias=True)\n",
            "        (dropout): Dropout(p=0.0, inplace=False)\n",
            "      )\n",
            "      (ff): FeedForward(\n",
            "        (layers): Sequential(\n",
            "          (0): Linear(in_features=768, out_features=3072, bias=True)\n",
            "          (1): GELU()\n",
            "          (2): Linear(in_features=3072, out_features=768, bias=True)\n",
            "        )\n",
            "      )\n",
            "      (norm1): LayerNorm()\n",
            "      (norm2): LayerNorm()\n",
            "      (drop_shortcut): Dropout(p=0.0, inplace=False)\n",
            "    )\n",
            "    (11): TransformerBlock(\n",
            "      (att): MultiHeadAttention(\n",
            "        (W_query): Linear(in_features=768, out_features=768, bias=True)\n",
            "        (W_key): Linear(in_features=768, out_features=768, bias=True)\n",
            "        (W_value): Linear(in_features=768, out_features=768, bias=True)\n",
            "        (out_proj): Linear(in_features=768, out_features=768, bias=True)\n",
            "        (dropout): Dropout(p=0.0, inplace=False)\n",
            "      )\n",
            "      (ff): FeedForward(\n",
            "        (layers): Sequential(\n",
            "          (0): Linear(in_features=768, out_features=3072, bias=True)\n",
            "          (1): GELU()\n",
            "          (2): Linear(in_features=3072, out_features=768, bias=True)\n",
            "        )\n",
            "      )\n",
            "      (norm1): LayerNorm()\n",
            "      (norm2): LayerNorm()\n",
            "      (drop_shortcut): Dropout(p=0.0, inplace=False)\n",
            "    )\n",
            "  )\n",
            "  (final_norm): LayerNorm()\n",
            "  (out_head): Linear(in_features=768, out_features=50257, bias=False)\n",
            ")\n"
          ]
        }
      ],
      "source": [
        "print(model)\n"
      ]
    },
    {
      "cell_type": "markdown",
      "metadata": {
        "id": "51IR6LUyTjEu"
      },
      "source": [
        "Above, we can see the GPT architecture neatly laid out.\n",
        "\n",
        "As\n",
        "discussed earlier, the GPTModel consists of embedding layers followed by 12 identical\n",
        "transformer blocks (only the last block is shown for brevity), followed by a final LayerNorm\n",
        "and the output layer, out_head."
      ]
    },
    {
      "cell_type": "markdown",
      "metadata": {
        "id": "6zniPRonTjEu"
      },
      "source": [
        "Next, we replace the out_head with a new output layer, as illustrated in figure 6.9, that\n",
        "we will finetune.  "
      ]
    },
    {
      "cell_type": "markdown",
      "metadata": {
        "id": "bvYbIMBPTjEu"
      },
      "source": [
        "To get the model ready for classification-finetuning, we first freeze the model, meaning that\n",
        "we make all layers non-trainable"
      ]
    },
    {
      "cell_type": "code",
      "execution_count": null,
      "metadata": {
        "id": "pwSlsSHiTjEu"
      },
      "outputs": [],
      "source": [
        "for param in model.parameters():\n",
        "    param.requires_grad = False"
      ]
    },
    {
      "cell_type": "markdown",
      "metadata": {
        "id": "j0bG-Pf8TjEv"
      },
      "source": [
        "Then, we replace the output layer (model.out_head), which\n",
        "originally maps the layer inputs to 50,257 dimensions (the size of the vocabulary)"
      ]
    },
    {
      "cell_type": "code",
      "execution_count": null,
      "metadata": {
        "id": "q8o3K8ELTjEv"
      },
      "outputs": [],
      "source": [
        "torch.manual_seed(123)\n",
        "\n",
        "num_classes = 2\n",
        "model.out_head = torch.nn.Linear(in_features=BASE_CONFIG[\"emb_dim\"], out_features=num_classes)"
      ]
    },
    {
      "cell_type": "markdown",
      "metadata": {
        "id": "srHDRcrETjEv"
      },
      "source": [
        "Note that in the preceding code, we use BASE_CONFIG[\"emb_dim\"], which is equal to 768 in\n",
        "the \"gpt2-small (124M)\" model, to keep the code below more general.\n",
        "\n",
        "This means we\n",
        "can also use the same code to work with the larger GPT-2 model variants.\n",
        "\n",
        "This new model.out_head output layer has its requires_grad attribute set to True by\n",
        "default, which means that it's the only layer in the model that will be updated during\n",
        "training."
      ]
    },
    {
      "cell_type": "markdown",
      "metadata": {
        "id": "Qv57dxZrTjEv"
      },
      "source": [
        "This new model.out_head output layer has its requires_grad attribute set to True by\n",
        "default, which means that it's the only layer in the model that will be updated during\n",
        "training."
      ]
    },
    {
      "cell_type": "markdown",
      "metadata": {
        "id": "cNI5DVO5TjEv"
      },
      "source": [
        "Additionally, we configure the last transformer block and the final LayerNorm module,\n",
        "which connects this block to the output layer, to be trainable"
      ]
    },
    {
      "cell_type": "code",
      "execution_count": null,
      "metadata": {
        "id": "ybma5mmvTjEv"
      },
      "outputs": [],
      "source": [
        "for param in model.trf_blocks[-1].parameters():\n",
        "    param.requires_grad = True\n",
        "\n",
        "for param in model.final_norm.parameters():\n",
        "    param.requires_grad = True"
      ]
    },
    {
      "cell_type": "markdown",
      "metadata": {
        "id": "OMooA0BlTjEv"
      },
      "source": [
        "Even though we added a new output layer and marked certain layers as trainable or nontrainable, we can still use this model in a similar way to previous chapters.\n",
        "\n",
        "For instance, we\n",
        "can feed it an example text identical to how we have done it in earlier chapters. For\n",
        "example, consider the following example text"
      ]
    },
    {
      "cell_type": "code",
      "execution_count": null,
      "metadata": {
        "id": "6xez0DrGTjEv",
        "outputId": "b9803c38-c086-411f-d3a6-3c5a83f68684"
      },
      "outputs": [
        {
          "name": "stdout",
          "output_type": "stream",
          "text": [
            "Inputs: tensor([[5211,  345,  423,  640]])\n",
            "Inputs dimensions: torch.Size([1, 4])\n"
          ]
        }
      ],
      "source": [
        "inputs = tokenizer.encode(\"Do you have time\")\n",
        "inputs = torch.tensor(inputs).unsqueeze(0)\n",
        "print(\"Inputs:\", inputs)\n",
        "print(\"Inputs dimensions:\", inputs.shape) # shape: (batch_size, num_tokens)"
      ]
    },
    {
      "cell_type": "markdown",
      "metadata": {
        "id": "djYVohQ6TjEw"
      },
      "source": [
        "Then, we can pass the encoded token IDs to the model as usual"
      ]
    },
    {
      "cell_type": "code",
      "execution_count": null,
      "metadata": {
        "id": "Fi7zxN8aTjEw",
        "outputId": "45f554d7-2070-4f86-aa10-cc434fbbabde"
      },
      "outputs": [
        {
          "name": "stdout",
          "output_type": "stream",
          "text": [
            "Outputs:\n",
            " tensor([[[-1.5854,  0.9904],\n",
            "         [-3.7235,  7.4548],\n",
            "         [-2.2661,  6.6049],\n",
            "         [-3.5983,  3.9902]]])\n",
            "Outputs dimensions: torch.Size([1, 4, 2])\n"
          ]
        }
      ],
      "source": [
        "with torch.no_grad():\n",
        "    outputs = model(inputs)\n",
        "\n",
        "print(\"Outputs:\\n\", outputs)\n",
        "print(\"Outputs dimensions:\", outputs.shape) # shape: (batch_size, num_tokens, num_classes)"
      ]
    },
    {
      "cell_type": "markdown",
      "metadata": {
        "id": "fN7aPZbVTjEw"
      },
      "source": [
        "In earlier chapters, a similar input would have produced an output tensor of [1, 4, 50257],\n",
        "where 50,257 represents the vocabulary size.\n",
        "\n",
        "As in previous chapters, the number of\n",
        "output rows corresponds to the number of input tokens (in this case, 4).\n",
        "\n",
        "However, each\n",
        "output's embedding dimension (the number of columns) is now reduced to 2 instead of\n",
        "50,257 since we replaced the output layer of the model."
      ]
    },
    {
      "cell_type": "markdown",
      "metadata": {
        "id": "Vvjz7om-TjEw"
      },
      "source": [
        "Remember that we are interested in finetuning this model so that it returns a class label\n",
        "that indicates whether a model input is spam or not spam.\n",
        "\n",
        "To achieve this, we don't need to\n",
        "finetune all 4 output rows but can focus on a single output token.\n",
        "\n",
        "In particular, we will\n",
        "focus on the last row corresponding to the last output token"
      ]
    },
    {
      "cell_type": "markdown",
      "metadata": {
        "id": "mHwNGKxETjEw"
      },
      "source": [
        "To extract the last output token, illustrated in figure 6.11, from the output tensor, we\n",
        "use the following code"
      ]
    },
    {
      "cell_type": "code",
      "execution_count": null,
      "metadata": {
        "id": "iYwyJQ-aTjEw",
        "outputId": "f3d85197-50f0-4e7e-abce-cc8822c5e11e"
      },
      "outputs": [
        {
          "name": "stdout",
          "output_type": "stream",
          "text": [
            "Last output token: tensor([[-3.5983,  3.9902]])\n"
          ]
        }
      ],
      "source": [
        "print(\"Last output token:\", outputs[:, -1, :])"
      ]
    },
    {
      "cell_type": "markdown",
      "metadata": {
        "id": "DToGXKk3TjEw"
      },
      "source": [
        "Having modified the model, the next section will detail the process of transforming the\n",
        "last token into class label predictions and calculate the model's initial prediction accuracy.\n",
        "\n",
        "Following this, we will finetune the model for the spam classification task in the subsequent\n",
        "section."
      ]
    },
    {
      "cell_type": "markdown",
      "metadata": {
        "id": "bpqsxLXpTjEx"
      },
      "source": [
        "## **CALCULATING THE CLASSIFICATION LOSS AND ACCURACY**"
      ]
    },
    {
      "cell_type": "markdown",
      "metadata": {
        "id": "RYe7SElNTjEx"
      },
      "source": [
        "So far in this chapter, we have prepared the dataset, loaded a pretrained model, and\n",
        "modified it for classification-finetuning.\n",
        "           \n",
        "Before we proceed with the finetuning itself, only\n",
        "one small part remains: implementing the model evaluation functions used during\n",
        "finetuning,  "
      ]
    },
    {
      "cell_type": "markdown",
      "metadata": {
        "id": "YrgLyxMlTjEx"
      },
      "source": [
        "Before implementing the evaluation utilities, let's briefly discuss how we convert the model\n",
        "outputs into class label predictions."
      ]
    },
    {
      "cell_type": "markdown",
      "metadata": {
        "id": "EVs971rOTjEx"
      },
      "source": [
        "In the previous chapter, we computed the token ID of the next token generated by the\n",
        "LLM by converting the 50,257 outputs into probabilities via the softmax function and then\n",
        "returning the position of the highest probability via the argmax function.\n",
        "\n",
        "In this chapter, we\n",
        "take the same approach to calculate whether the model outputs a \"spam\" or \"not spam\"\n",
        "prediction for a given input, with the only difference being that we\n",
        "work with 2-dimensional instead of 50,257-dimensional outputs."
      ]
    },
    {
      "cell_type": "markdown",
      "metadata": {
        "id": "GIvvOG3sTjEx"
      },
      "source": [
        "Let's consider the last token output from\n",
        "the previous section"
      ]
    },
    {
      "cell_type": "code",
      "execution_count": null,
      "metadata": {
        "id": "DPTeXtLXTjEx",
        "outputId": "c97839fc-c104-4f3f-ecc0-584e6b826550"
      },
      "outputs": [
        {
          "name": "stdout",
          "output_type": "stream",
          "text": [
            "Last output token: tensor([[-3.5983,  3.9902]])\n"
          ]
        }
      ],
      "source": [
        "print(\"Last output token:\", outputs[:, -1, :])"
      ]
    },
    {
      "cell_type": "markdown",
      "metadata": {
        "id": "r6-WvSbETjEx"
      },
      "source": [
        "We can obtain the class label via the following code"
      ]
    },
    {
      "cell_type": "code",
      "execution_count": null,
      "metadata": {
        "id": "5tjNMC2oTjEx",
        "outputId": "963ddc40-63a9-4bbf-bf3a-d2f477c440b7"
      },
      "outputs": [
        {
          "name": "stdout",
          "output_type": "stream",
          "text": [
            "Class label: 1\n"
          ]
        }
      ],
      "source": [
        "probas = torch.softmax(outputs[:, -1, :], dim=-1)\n",
        "label = torch.argmax(probas)\n",
        "print(\"Class label:\", label.item())"
      ]
    },
    {
      "cell_type": "markdown",
      "metadata": {
        "id": "_hCquyozTjEx"
      },
      "source": [
        "In this case, the code returns 1, meaning the model predicts that the input text is \"spam.\"\n",
        "\n",
        "Using the softmax function here is optional because the largest outputs directly correspond\n",
        "to the highest probability scores.\n",
        "\n",
        "Hence, we can simplify the\n",
        "code as follows, without using softmax"
      ]
    },
    {
      "cell_type": "code",
      "execution_count": null,
      "metadata": {
        "id": "5VwL7XbPTjEx",
        "outputId": "dec4ff2a-2e4a-446f-c913-a0e3683b434b"
      },
      "outputs": [
        {
          "name": "stdout",
          "output_type": "stream",
          "text": [
            "Class label: 1\n"
          ]
        }
      ],
      "source": [
        "logits = outputs[:, -1, :]\n",
        "label = torch.argmax(logits)\n",
        "print(\"Class label:\", label.item())"
      ]
    },
    {
      "cell_type": "markdown",
      "metadata": {
        "id": "Q6Ri2h3eTjEy"
      },
      "source": [
        "his concept can be used to compute the so-called classification accuracy, which measures\n",
        "the percentage of correct predictions across a dataset."
      ]
    },
    {
      "cell_type": "markdown",
      "metadata": {
        "id": "hjQPVPMjTjEy"
      },
      "source": [
        "to determine the classification accuracy, we apply the argmax-based prediction code to\n",
        "all examples in the dataset and calculate the proportion of correct predictions by defining a\n",
        "calc_accuracy_loader function"
      ]
    },
    {
      "cell_type": "code",
      "execution_count": null,
      "metadata": {
        "id": "1t7Push2TjEy"
      },
      "outputs": [],
      "source": [
        "def calc_accuracy_loader(data_loader, model, device, num_batches=None):\n",
        "    \"\"\"\n",
        "    Calculate the accuracy of a model on data provided by a DataLoader.\n",
        "\n",
        "    Args:\n",
        "        data_loader (torch.utils.data.DataLoader): DataLoader containing input and target batches.\n",
        "        model (torch.nn.Module): Trained model to evaluate.\n",
        "        device (torch.device): Device to run the model on ('cpu' or 'cuda').\n",
        "        num_batches (int, optional): Number of batches to evaluate.\n",
        "                                     If None, all batches are used.\n",
        "\n",
        "    Returns:\n",
        "        float: Accuracy of the model on the given data (range: 0.0 to 1.0).\n",
        "    \"\"\"\n",
        "\n",
        "    # Set the model to evaluation mode — disables dropout, batchnorm updates, etc.\n",
        "    model.eval()\n",
        "\n",
        "    # Initialize counters for correct predictions and total samples\n",
        "    correct_predictions, num_examples = 0, 0\n",
        "\n",
        "    # Determine how many batches to iterate through\n",
        "    if num_batches is None:\n",
        "        num_batches = len(data_loader)\n",
        "    else:\n",
        "        # Ensure we don't exceed total available batches\n",
        "        num_batches = min(num_batches, len(data_loader))\n",
        "\n",
        "    # Iterate through the DataLoader\n",
        "    for i, (input_batch, target_batch) in enumerate(data_loader):\n",
        "\n",
        "        # Process only the specified number of batches\n",
        "        if i < num_batches:\n",
        "            # Move input and target tensors to the appropriate device\n",
        "            input_batch, target_batch = input_batch.to(device), target_batch.to(device)\n",
        "\n",
        "            # Disable gradient calculations for faster evaluation\n",
        "            with torch.no_grad():\n",
        "                # Forward pass through the model\n",
        "                # Extract logits (model outputs before softmax)\n",
        "                # [:, -1, :] means we take the logits of the last token (useful in autoregressive models)\n",
        "                logits = model(input_batch)[:, -1, :]\n",
        "\n",
        "            # Get the predicted label (index of max logit value)\n",
        "            predicted_labels = torch.argmax(logits, dim=-1)\n",
        "\n",
        "            # Update counters\n",
        "            num_examples += predicted_labels.shape[0]\n",
        "            correct_predictions += (predicted_labels == target_batch).sum().item()\n",
        "        else:\n",
        "            # Stop if we've reached the desired number of batches\n",
        "            break\n",
        "\n",
        "    # Compute and return the accuracy\n",
        "    return correct_predictions / num_examples"
      ]
    },
    {
      "cell_type": "markdown",
      "metadata": {
        "id": "GSJXLNJlTjEy"
      },
      "source": [
        "Let's use the function to determine the classification accuracies across various datasets\n",
        "estimated from 10 batches for efficiency"
      ]
    },
    {
      "cell_type": "code",
      "execution_count": null,
      "metadata": {
        "id": "Hx5-Td8STjEy",
        "outputId": "8c302fc8-8ff4-467d-b627-1a5a658fa2ed"
      },
      "outputs": [
        {
          "name": "stdout",
          "output_type": "stream",
          "text": [
            "Training accuracy: 46.25%\n",
            "Validation accuracy: 45.00%\n",
            "Test accuracy: 48.75%\n"
          ]
        }
      ],
      "source": [
        "device = torch.device(\"cuda\" if torch.cuda.is_available() else \"cpu\")\n",
        "\n",
        "# Note:\n",
        "# Uncommenting the following lines will allow the code to run on Apple Silicon chips, if applicable,\n",
        "# which is approximately 2x faster than on an Apple CPU (as measured on an M3 MacBook Air).\n",
        "# As of this writing, in PyTorch 2.4, the results obtained via CPU and MPS were identical.\n",
        "# However, in earlier versions of PyTorch, you may observe different results when using MPS.\n",
        "\n",
        "#if torch.cuda.is_available():\n",
        "#    device = torch.device(\"cuda\")\n",
        "#elif torch.backends.mps.is_available():\n",
        "#    device = torch.device(\"mps\")\n",
        "#else:\n",
        "#    device = torch.device(\"cpu\")\n",
        "#print(f\"Running on {device} device.\")\n",
        "\n",
        "model.to(device) # no assignment model = model.to(device) necessary for nn.Module classes\n",
        "\n",
        "torch.manual_seed(123) # For reproducibility due to the shuffling in the training data loader\n",
        "\n",
        "train_accuracy = calc_accuracy_loader(train_loader, model, device, num_batches=10)\n",
        "val_accuracy = calc_accuracy_loader(val_loader, model, device, num_batches=10)\n",
        "test_accuracy = calc_accuracy_loader(test_loader, model, device, num_batches=10)\n",
        "\n",
        "print(f\"Training accuracy: {train_accuracy*100:.2f}%\")\n",
        "print(f\"Validation accuracy: {val_accuracy*100:.2f}%\")\n",
        "print(f\"Test accuracy: {test_accuracy*100:.2f}%\")"
      ]
    },
    {
      "cell_type": "markdown",
      "metadata": {
        "id": "OBr4LNd2TjEy"
      },
      "source": [
        "As we can see, the prediction accuracies are near a random prediction, which would be\n",
        "50% in this case.\n",
        "\n",
        "To improve the prediction accuracies, we need to finetune the model."
      ]
    },
    {
      "cell_type": "markdown",
      "metadata": {
        "id": "oXhoMBvdTjEy"
      },
      "source": [
        "Classification accuracy is not a differentiable function, so we use cross entropy\n",
        "loss as a proxy to maximize accuracy.\n",
        "\n",
        "This is the same cross entropy loss discussed earlier.\n",
        "\n",
        "Accordingly, the calc_loss_batch function remains the same as in earlier, with one\n",
        "adjustment: we focus on optimizing only the last token, model(input_batch)[:, -1, :],\n",
        "rather than all tokens, model(input_batch)"
      ]
    },
    {
      "cell_type": "code",
      "execution_count": null,
      "metadata": {
        "id": "4U7BO3GkTjEz"
      },
      "outputs": [],
      "source": [
        "def calc_loss_batch(input_batch, target_batch, model, device):\n",
        "    input_batch, target_batch = input_batch.to(device), target_batch.to(device)\n",
        "    logits = model(input_batch)[:, -1, :]  # Logits of last output token\n",
        "    loss = torch.nn.functional.cross_entropy(logits, target_batch)\n",
        "    return loss"
      ]
    },
    {
      "cell_type": "markdown",
      "metadata": {
        "id": "17DqOgQuTjEz"
      },
      "source": [
        "We use the calc_loss_batch function to compute the loss for a single batch obtained from\n",
        "the previously defined data loaders. To calculate the loss for all batches in a data loader, we\n",
        "define the calc_loss_loader function"
      ]
    },
    {
      "cell_type": "code",
      "execution_count": null,
      "metadata": {
        "id": "ETN3Tyc7TjEz"
      },
      "outputs": [],
      "source": [
        "# Same as in chapter 5\n",
        "def calc_loss_loader(data_loader, model, device, num_batches=None):\n",
        "    total_loss = 0.\n",
        "    if len(data_loader) == 0:\n",
        "        return float(\"nan\")\n",
        "    elif num_batches is None:\n",
        "        num_batches = len(data_loader)\n",
        "    else:\n",
        "        # Reduce the number of batches to match the total number of batches in the data loader\n",
        "        # if num_batches exceeds the number of batches in the data loader\n",
        "        num_batches = min(num_batches, len(data_loader))\n",
        "    for i, (input_batch, target_batch) in enumerate(data_loader):\n",
        "        if i < num_batches:\n",
        "            loss = calc_loss_batch(input_batch, target_batch, model, device)\n",
        "            total_loss += loss.item()\n",
        "        else:\n",
        "            break\n",
        "    return total_loss / num_batches"
      ]
    },
    {
      "cell_type": "markdown",
      "metadata": {
        "id": "Q3H1QyJ_TjEz"
      },
      "source": [
        "Similar to calculating the training accuracy, we now compute the initial loss for each\n",
        "data set"
      ]
    },
    {
      "cell_type": "code",
      "execution_count": null,
      "metadata": {
        "id": "y9BhlCeHTjEz",
        "outputId": "38651f8b-1454-49a9-8403-37979e13ed06"
      },
      "outputs": [
        {
          "name": "stdout",
          "output_type": "stream",
          "text": [
            "Training loss: 2.453\n",
            "Validation loss: 2.583\n",
            "Test loss: 2.322\n"
          ]
        }
      ],
      "source": [
        "with torch.no_grad(): # Disable gradient tracking for efficiency because we are not training, yet\n",
        "    train_loss = calc_loss_loader(train_loader, model, device, num_batches=5)\n",
        "    val_loss = calc_loss_loader(val_loader, model, device, num_batches=5)\n",
        "    test_loss = calc_loss_loader(test_loader, model, device, num_batches=5)\n",
        "\n",
        "print(f\"Training loss: {train_loss:.3f}\")\n",
        "print(f\"Validation loss: {val_loss:.3f}\")\n",
        "print(f\"Test loss: {test_loss:.3f}\")"
      ]
    },
    {
      "cell_type": "markdown",
      "metadata": {
        "id": "pJlS2Nf_TjEz"
      },
      "source": [
        "In the next section, we will implement a training function to finetune the model, which\n",
        "means adjusting the model to minimize the training set loss.\n",
        "\n",
        "Minimizing the training set\n",
        "loss will help increase the classification accuracy, our overall goal"
      ]
    },
    {
      "cell_type": "markdown",
      "metadata": {
        "id": "fjPAqoEFTjEz"
      },
      "source": [
        "## **FINETUNING THE MODEL ON SUPERVISED DATA**"
      ]
    },
    {
      "cell_type": "markdown",
      "metadata": {
        "id": "8qM1XFZJTjEz"
      },
      "source": [
        "In this section, we define and use the training function to finetune the pretrained LLM and\n",
        "improve its spam classification accuracy.\n",
        "    \n",
        "The training loop is the\n",
        "same overall training loop we used earlier, with the only difference being that we\n",
        "calculate the classification accuracy instead of generating a sample text for evaluating the\n",
        "model."
      ]
    },
    {
      "cell_type": "markdown",
      "metadata": {
        "id": "VQW0og3sTjEz"
      },
      "source": [
        "The training function also closely mirrors\n",
        "the train_model_simple function used for pretraining the model earlier.\n",
        "                                    \n",
        "The only two distinctions are that we now track the number of training examples seen\n",
        "(examples_seen) instead of the number of tokens, and we calculate the accuracy after each\n",
        "epoch instead of printing a sample text"
      ]
    },
    {
      "cell_type": "markdown",
      "metadata": {
        "id": "XZMIJYHpTjEz"
      },
      "source": [
        "  \n",
        "Step 1: Set model to training mode\n",
        "\n",
        "Step 2: Reset loss gradients from previous batch iteration\n",
        "\n",
        "Step 3: Calculate loss gradients\n",
        "\n",
        "Step 4: Update model weights using loss gradients\n",
        "\n",
        "Step 5: New: track examples instead of tokens\n",
        "\n",
        "Step 6: Optional evaluation step\n",
        "\n",
        "Step 7: Calculate accuracy after each epoch"
      ]
    },
    {
      "cell_type": "code",
      "execution_count": null,
      "metadata": {
        "id": "ObSHWxsaTjE0"
      },
      "outputs": [],
      "source": [
        "# Overall the same as `train_model_simple` in chapter 5\n",
        "def train_classifier_simple(model, train_loader, val_loader, optimizer, device, num_epochs,\n",
        "                            eval_freq, eval_iter):\n",
        "    # Initialize lists to track losses and examples seen\n",
        "    train_losses, val_losses, train_accs, val_accs = [], [], [], []\n",
        "    examples_seen, global_step = 0, -1\n",
        "\n",
        "    # Main training loop\n",
        "    for epoch in range(num_epochs):\n",
        "        model.train()  # Set model to training mode\n",
        "\n",
        "        for input_batch, target_batch in train_loader:\n",
        "            optimizer.zero_grad() # Reset loss gradients from previous batch iteration\n",
        "            loss = calc_loss_batch(input_batch, target_batch, model, device)\n",
        "            loss.backward() # Calculate loss gradients\n",
        "            optimizer.step() # Update model weights using loss gradients\n",
        "            examples_seen += input_batch.shape[0] # New: track examples instead of tokens\n",
        "            global_step += 1\n",
        "\n",
        "            # Optional evaluation step\n",
        "            if global_step % eval_freq == 0:\n",
        "                train_loss, val_loss = evaluate_model(\n",
        "                    model, train_loader, val_loader, device, eval_iter)\n",
        "                train_losses.append(train_loss)\n",
        "                val_losses.append(val_loss)\n",
        "                print(f\"Ep {epoch+1} (Step {global_step:06d}): \"\n",
        "                      f\"Train loss {train_loss:.3f}, Val loss {val_loss:.3f}\")\n",
        "\n",
        "        # Calculate accuracy after each epoch\n",
        "        train_accuracy = calc_accuracy_loader(train_loader, model, device, num_batches=eval_iter)\n",
        "        val_accuracy = calc_accuracy_loader(val_loader, model, device, num_batches=eval_iter)\n",
        "        print(f\"Training accuracy: {train_accuracy*100:.2f}% | \", end=\"\")\n",
        "        print(f\"Validation accuracy: {val_accuracy*100:.2f}%\")\n",
        "        train_accs.append(train_accuracy)\n",
        "        val_accs.append(val_accuracy)\n",
        "\n",
        "    return train_losses, val_losses, train_accs, val_accs, examples_seen"
      ]
    },
    {
      "cell_type": "markdown",
      "metadata": {
        "id": "C07uAyvDTjE0"
      },
      "source": [
        "The evaluate_model function used in the train_classifier_simple is the same as the one we used earlier."
      ]
    },
    {
      "cell_type": "code",
      "execution_count": null,
      "metadata": {
        "id": "M3QJyCRuTjE0"
      },
      "outputs": [],
      "source": [
        "# Same as chapter 5\n",
        "def evaluate_model(model, train_loader, val_loader, device, eval_iter):\n",
        "    model.eval()\n",
        "    with torch.no_grad():\n",
        "        train_loss = calc_loss_loader(train_loader, model, device, num_batches=eval_iter)\n",
        "        val_loss = calc_loss_loader(val_loader, model, device, num_batches=eval_iter)\n",
        "    model.train()\n",
        "    return train_loss, val_loss"
      ]
    },
    {
      "cell_type": "markdown",
      "metadata": {
        "id": "mUiXrETmTjE0"
      },
      "source": [
        "Next, we initialize the optimizer, set the number of training epochs, and initiate the training\n",
        "using the train_classifier_simple function.\n",
        "\n",
        "We will discuss the choice of the the number\n",
        "of training epochs after we evaluated the results.\n",
        "\n",
        "The training takes about 6 minutes on an\n",
        "M3 MacBook Air laptop computer and less than half a minute on a V100 or A100 GPU"
      ]
    },
    {
      "cell_type": "code",
      "execution_count": null,
      "metadata": {
        "id": "soTFxslITjE0",
        "outputId": "6501d81c-19c3-4bb9-afd0-138cdc153627"
      },
      "outputs": [
        {
          "name": "stdout",
          "output_type": "stream",
          "text": [
            "Ep 1 (Step 000000): Train loss 2.153, Val loss 2.392\n",
            "Ep 1 (Step 000050): Train loss 0.617, Val loss 0.637\n",
            "Ep 1 (Step 000100): Train loss 0.523, Val loss 0.557\n",
            "Training accuracy: 70.00% | Validation accuracy: 72.50%\n",
            "Ep 2 (Step 000150): Train loss 0.561, Val loss 0.489\n",
            "Ep 2 (Step 000200): Train loss 0.419, Val loss 0.397\n",
            "Ep 2 (Step 000250): Train loss 0.409, Val loss 0.353\n",
            "Training accuracy: 82.50% | Validation accuracy: 85.00%\n",
            "Ep 3 (Step 000300): Train loss 0.333, Val loss 0.320\n",
            "Ep 3 (Step 000350): Train loss 0.340, Val loss 0.306\n",
            "Training accuracy: 90.00% | Validation accuracy: 90.00%\n",
            "Ep 4 (Step 000400): Train loss 0.136, Val loss 0.200\n",
            "Ep 4 (Step 000450): Train loss 0.153, Val loss 0.132\n",
            "Ep 4 (Step 000500): Train loss 0.222, Val loss 0.137\n",
            "Training accuracy: 100.00% | Validation accuracy: 97.50%\n",
            "Ep 5 (Step 000550): Train loss 0.207, Val loss 0.143\n",
            "Ep 5 (Step 000600): Train loss 0.083, Val loss 0.074\n",
            "Training accuracy: 100.00% | Validation accuracy: 97.50%\n",
            "Training completed in 8.83 minutes.\n"
          ]
        }
      ],
      "source": [
        "import time\n",
        "\n",
        "start_time = time.time()\n",
        "\n",
        "torch.manual_seed(123)\n",
        "\n",
        "optimizer = torch.optim.AdamW(model.parameters(), lr=5e-5, weight_decay=0.1)\n",
        "\n",
        "num_epochs = 5\n",
        "train_losses, val_losses, train_accs, val_accs, examples_seen = train_classifier_simple(\n",
        "    model, train_loader, val_loader, optimizer, device,\n",
        "    num_epochs=num_epochs, eval_freq=50, eval_iter=5,\n",
        ")\n",
        "\n",
        "end_time = time.time()\n",
        "execution_time_minutes = (end_time - start_time) / 60\n",
        "print(f\"Training completed in {execution_time_minutes:.2f} minutes.\")"
      ]
    },
    {
      "cell_type": "markdown",
      "metadata": {
        "id": "6oSi4CGGTjE1"
      },
      "source": [
        "We then use matplotlib to plot the loss function for the training and\n",
        "validation set"
      ]
    },
    {
      "cell_type": "code",
      "execution_count": null,
      "metadata": {
        "id": "lnQbdUIMTjE1"
      },
      "outputs": [],
      "source": [
        "import matplotlib.pyplot as plt\n",
        "\n",
        "def plot_values(epochs_seen, examples_seen, train_values, val_values, label=\"loss\"):\n",
        "    fig, ax1 = plt.subplots(figsize=(5, 3))\n",
        "\n",
        "    # Plot training and validation loss against epochs\n",
        "    ax1.plot(epochs_seen, train_values, label=f\"Training {label}\")\n",
        "    ax1.plot(epochs_seen, val_values, linestyle=\"-.\", label=f\"Validation {label}\")\n",
        "    ax1.set_xlabel(\"Epochs\")\n",
        "    ax1.set_ylabel(label.capitalize())\n",
        "    ax1.legend()\n",
        "\n",
        "    # Create a second x-axis for examples seen\n",
        "    ax2 = ax1.twiny()  # Create a second x-axis that shares the same y-axis\n",
        "    ax2.plot(examples_seen, train_values, alpha=0)  # Invisible plot for aligning ticks\n",
        "    ax2.set_xlabel(\"Examples seen\")\n",
        "\n",
        "    fig.tight_layout()  # Adjust layout to make room\n",
        "    plt.savefig(f\"{label}-plot.pdf\")\n",
        "    plt.show()"
      ]
    },
    {
      "cell_type": "code",
      "execution_count": null,
      "metadata": {
        "id": "OWSPuyDXTjE1",
        "outputId": "b9087ce1-bf4f-4517-8d02-875905b587d8"
      },
      "outputs": [
        {
          "data": {
            "image/png": "[encoded data removed]",
            "text/plain": [
              "<Figure size 500x300 with 2 Axes>"
            ]
          },
          "metadata": {},
          "output_type": "display_data"
        }
      ],
      "source": [
        "epochs_tensor = torch.linspace(0, num_epochs, len(train_losses))\n",
        "examples_seen_tensor = torch.linspace(0, examples_seen, len(train_losses))\n",
        "\n",
        "plot_values(epochs_tensor, examples_seen_tensor, train_losses, val_losses)"
      ]
    },
    {
      "cell_type": "markdown",
      "metadata": {
        "id": "1_9tSmPQTjE1"
      },
      "source": [
        "As we can see based on the sharp downward slope, the model is learning well\n",
        "from the training data, and there is little to no indication of overfitting; that is, there is no\n",
        "noticeable gap between the training and validation set losses)."
      ]
    },
    {
      "cell_type": "markdown",
      "metadata": {
        "id": "cSsiTo3STjE1"
      },
      "source": [
        "Using the same plot_values function, let's now also plot the classification accuracies"
      ]
    },
    {
      "cell_type": "code",
      "execution_count": null,
      "metadata": {
        "id": "BVnOr3vITjE1",
        "outputId": "74247e7b-778c-47cc-a3aa-ce1951254c0a"
      },
      "outputs": [
        {
          "data": {
            "image/png": "[encoded data removed]",
            "text/plain": [
              "<Figure size 500x300 with 2 Axes>"
            ]
          },
          "metadata": {},
          "output_type": "display_data"
        }
      ],
      "source": [
        "epochs_tensor = torch.linspace(0, num_epochs, len(train_accs))\n",
        "examples_seen_tensor = torch.linspace(0, examples_seen, len(train_accs))\n",
        "\n",
        "plot_values(epochs_tensor, examples_seen_tensor, train_accs, val_accs, label=\"accuracy\")"
      ]
    },
    {
      "cell_type": "markdown",
      "metadata": {
        "id": "-dA7afwcTjE1"
      },
      "source": [
        "Based on the accuracy plot in figure , the model achieves a relatively high training and\n",
        "validation accuracy after epochs 4 and 5.\n",
        "    \n",
        "However, it's important to note that we previously set eval_iter=5 when using the\n",
        "train_classifier_simple function, which means our estimations of training and\n",
        "validation performance were based on only 5 batches for efficiency during training.\n",
        "\n",
        "Now, we will calculate the performance metrics for the training, validation, and test sets\n",
        "across the entire dataset by running the following code, this time without defining the\n",
        "eval_iter value"
      ]
    },
    {
      "cell_type": "code",
      "execution_count": null,
      "metadata": {
        "id": "xfrFGcXvTjE2",
        "outputId": "8ca25b53-ac26-4fc4-d07e-ae02afcd2404"
      },
      "outputs": [
        {
          "name": "stdout",
          "output_type": "stream",
          "text": [
            "Training accuracy: 97.21%\n",
            "Validation accuracy: 97.32%\n",
            "Test accuracy: 95.67%\n"
          ]
        }
      ],
      "source": [
        "train_accuracy = calc_accuracy_loader(train_loader, model, device)\n",
        "val_accuracy = calc_accuracy_loader(val_loader, model, device)\n",
        "test_accuracy = calc_accuracy_loader(test_loader, model, device)\n",
        "\n",
        "print(f\"Training accuracy: {train_accuracy*100:.2f}%\")\n",
        "print(f\"Validation accuracy: {val_accuracy*100:.2f}%\")\n",
        "print(f\"Test accuracy: {test_accuracy*100:.2f}%\")"
      ]
    },
    {
      "cell_type": "markdown",
      "metadata": {
        "id": "jgSCEr6aTjE2"
      },
      "source": [
        "The training and test set performances are almost identical.\n",
        "\n",
        "A slight discrepancy between the training and test set accuracies suggests minimal\n",
        "overfitting of the training data.\n",
        "\n",
        "Typically, the validation set accuracy is somewhat higher\n",
        "than the test set accuracy because the model development often involves tuning\n",
        "hyperparameters to perform well on the validation set, which might not generalize as\n",
        "effectively to the test set.\n",
        "\n",
        "This situation is common, but the gap could potentially be minimized by adjusting the\n",
        "model's settings, such as increasing the dropout rate (drop_rate) or the weight_decay\n",
        "parameter in the optimizer configuration."
      ]
    },
    {
      "cell_type": "markdown",
      "metadata": {
        "id": "WhXrEcHxTjE2"
      },
      "source": [
        "## **USING THE LLM AS A SPAM CLASSIFIER**"
      ]
    },
    {
      "cell_type": "markdown",
      "metadata": {
        "id": "Vrz-NPMmTjE2"
      },
      "source": [
        "After finetuning and evaluating the model in the previous sections, we are now in the final\n",
        "stage of this chapter:  using the model to classify spam\n",
        "messages."
      ]
    },
    {
      "cell_type": "markdown",
      "metadata": {
        "id": "1bRUNj5qTjE2"
      },
      "source": [
        "Finally, let's use the finetuned GPT-based spam classification model.\n",
        "\n",
        "The following\n",
        "`classify_review function` follows data preprocessing steps similar to those we used in the\n",
        "SpamDataset implemented earlier in this chapter.\n",
        "\n",
        "And then, after processing text into token\n",
        "IDs, the function uses the model to predict an integer class label, similar to what we have\n",
        "implemented earlier, and then returns the corresponding class name"
      ]
    },
    {
      "cell_type": "markdown",
      "metadata": {
        "id": "uz9vZv4ETjE2"
      },
      "source": [
        "Step 1: Prepare inputs to the model\n",
        "\n",
        "Step 2: Truncate sequences if they too long\n",
        "    \n",
        "Step 3: Pad sequences to the longest sequence\n",
        "\n",
        "Step 4: Add batch dimension\n",
        "\n",
        "Step 5: Model inference without gradient tracking\n",
        "    \n",
        "Step 6: Logits of the last output token\n",
        "\n",
        "Step 7: Return the classified result"
      ]
    },
    {
      "cell_type": "code",
      "execution_count": null,
      "metadata": {
        "id": "j1P2aPitTjE2"
      },
      "outputs": [],
      "source": [
        "def classify_review(text, model, tokenizer, device, max_length=None, pad_token_id=50256):\n",
        "    model.eval()\n",
        "\n",
        "    # Prepare inputs to the model\n",
        "    input_ids = tokenizer.encode(text)\n",
        "    supported_context_length = model.pos_emb.weight.shape[0]\n",
        "    # Note: In the book, this was originally written as pos_emb.weight.shape[1] by mistake\n",
        "    # It didn't break the code but would have caused unnecessary truncation (to 768 instead of 1024)\n",
        "\n",
        "    # Truncate sequences if they too long\n",
        "    input_ids = input_ids[:min(max_length, supported_context_length)]\n",
        "\n",
        "    # Pad sequences to the longest sequence\n",
        "    input_ids += [pad_token_id] * (max_length - len(input_ids))\n",
        "    input_tensor = torch.tensor(input_ids, device=device).unsqueeze(0) # add batch dimension\n",
        "\n",
        "    # Model inference\n",
        "    with torch.no_grad():\n",
        "        logits = model(input_tensor)[:, -1, :]  # Logits of the last output token\n",
        "    predicted_label = torch.argmax(logits, dim=-1).item()\n",
        "\n",
        "    # Return the classified result\n",
        "    return \"spam\" if predicted_label == 1 else \"not spam\""
      ]
    },
    {
      "cell_type": "markdown",
      "metadata": {
        "id": "bDlkcxe9TjE2"
      },
      "source": [
        "Let's try this classify_review function on an example text"
      ]
    },
    {
      "cell_type": "code",
      "execution_count": null,
      "metadata": {
        "id": "AOiPIxKKTjE3",
        "outputId": "941f869a-a3cc-4ace-b8ac-0c6144f6dd66"
      },
      "outputs": [
        {
          "name": "stdout",
          "output_type": "stream",
          "text": [
            "spam\n"
          ]
        }
      ],
      "source": [
        "text_1 = (\n",
        "    \"You are a winner you have been specially\"\n",
        "    \" selected to receive $1000 cash or a $2000 award.\"\n",
        ")\n",
        "\n",
        "print(classify_review(\n",
        "    text_1, model, tokenizer, device, max_length=train_dataset.max_length\n",
        "))"
      ]
    },
    {
      "cell_type": "markdown",
      "metadata": {
        "id": "vKZtGaggTjE3"
      },
      "source": [
        "The resulting model correctly predicts \"spam\"."
      ]
    },
    {
      "cell_type": "code",
      "execution_count": null,
      "metadata": {
        "id": "UCc-GrZxTjE3",
        "outputId": "f795710d-91b6-4a08-f11c-71fcc9dd4e0f"
      },
      "outputs": [
        {
          "name": "stdout",
          "output_type": "stream",
          "text": [
            "not spam\n"
          ]
        }
      ],
      "source": [
        "text_2 = (\n",
        "    \"Hey, just wanted to check if we're still on\"\n",
        "    \" for dinner tonight? Let me know!\"\n",
        ")\n",
        "\n",
        "print(classify_review(\n",
        "    text_2, model, tokenizer, device, max_length=train_dataset.max_length\n",
        "))"
      ]
    },
    {
      "cell_type": "markdown",
      "metadata": {
        "id": "6nxHEeTQTjE3"
      },
      "source": [
        "Also, here, the model makes a correct prediction and returns a \"not spam\" label"
      ]
    },
    {
      "cell_type": "markdown",
      "metadata": {
        "id": "OcOfhLlDTjE3"
      },
      "source": [
        "Finally, let's save the model in case we want to reuse the model later without having to\n",
        "train it again using the torch.save method"
      ]
    },
    {
      "cell_type": "code",
      "execution_count": null,
      "metadata": {
        "id": "SnMinNw7TjE3"
      },
      "outputs": [],
      "source": [
        "torch.save(model.state_dict(), \"review_classifier.pth\")\n"
      ]
    },
    {
      "cell_type": "markdown",
      "metadata": {
        "id": "N1DeUJVdTjE3"
      },
      "source": [
        "Once saved, the model can be loaded as follows"
      ]
    },
    {
      "cell_type": "code",
      "execution_count": null,
      "metadata": {
        "id": "8umFX-AvTjE3",
        "outputId": "1d9db4c9-b0bd-467d-d975-8590aaf9635e"
      },
      "outputs": [
        {
          "data": {
            "text/plain": [
              "<All keys matched successfully>"
            ]
          },
          "execution_count": 285,
          "metadata": {},
          "output_type": "execute_result"
        }
      ],
      "source": [
        "model_state_dict = torch.load(\"review_classifier.pth\")\n",
        "model.load_state_dict(model_state_dict)"
      ]
    },
    {
      "cell_type": "code",
      "execution_count": null,
      "metadata": {
        "id": "Q5iIGFImTjE3"
      },
      "outputs": [],
      "source": []
    },
    {
      "cell_type": "markdown",
      "metadata": {
        "id": "ONwvlOSwevPG"
      },
      "source": [
        "# **INSTRUCTION FINE-TUNING**"
      ]
    },
    {
      "cell_type": "markdown",
      "metadata": {
        "id": "MDYGr1-CevPG"
      },
      "source": [
        "## **STEP 1: PREPARING DATASET**"
      ]
    },
    {
      "cell_type": "markdown",
      "metadata": {
        "id": "yc6DrRl9evPH"
      },
      "source": [
        "In this section, we download and format the instruction dataset for instruction finetuning a\n",
        "pretrained LLM in this chapter. The dataset consists of 1100 instruction-response pairs.\n",
        "\n",
        "The following code implements and executes a function to download this dataset, which\n",
        "is a relatively small file, only 204 KB in size, in JSON format. JSON, or JavaScript Object\n",
        "Notation, mirrors the structure of Python dictionaries, providing a simple structure for data\n",
        "interchange that is both human-readable and machine-friendly."
      ]
    },
    {
      "cell_type": "code",
      "execution_count": null,
      "metadata": {
        "id": "PS_z3SyLevPH",
        "outputId": "53368678-713a-401d-e071-d133d69d6391"
      },
      "outputs": [
        {
          "name": "stdout",
          "output_type": "stream",
          "text": [
            "Number of entries: 1100\n"
          ]
        }
      ],
      "source": [
        "import json\n",
        "import os\n",
        "import urllib\n",
        "import ssl\n",
        "\n",
        "def download_and_load_file(file_path, url):\n",
        "    ssl_context = ssl.create_default_context()\n",
        "    ssl_context.check_hostname = False\n",
        "    ssl_context.verify_mode = ssl.CERT_NONE\n",
        "\n",
        "    if not os.path.exists(file_path):\n",
        "        with urllib.request.urlopen(url, context=ssl_context) as response:\n",
        "            text_data = response.read().decode(\"utf-8\")\n",
        "        with open(file_path, \"w\", encoding=\"utf-8\") as file:\n",
        "            file.write(text_data)\n",
        "    else:\n",
        "        with open(file_path, \"r\", encoding=\"utf-8\") as file:\n",
        "            text_data = file.read()\n",
        "\n",
        "    with open(file_path, \"r\", encoding=\"utf-8\") as file:\n",
        "        data = json.load(file)\n",
        "\n",
        "    return data\n",
        "\n",
        "\n",
        "file_path = \"instruction-data.json\"\n",
        "url = (\n",
        "    \"https://raw.githubusercontent.com/rasbt/LLMs-from-scratch\"\n",
        "    \"/main/ch07/01_main-chapter-code/instruction-data.json\"\n",
        ")\n",
        "\n",
        "data = download_and_load_file(file_path, url)\n",
        "print(\"Number of entries:\", len(data))\n"
      ]
    },
    {
      "cell_type": "markdown",
      "metadata": {
        "id": "g9Oq2JWbevPH"
      },
      "source": [
        "The data list , which we loaded from the JSON file contains the 1100 entries of the\n",
        "instruction dataset.\n",
        "\n",
        "Let's print one of the entries to see how each entry is structured"
      ]
    },
    {
      "cell_type": "code",
      "execution_count": null,
      "metadata": {
        "id": "gEEk0jilevPH",
        "outputId": "fea6e93c-7933-404e-a7d1-23f2aa1c486e"
      },
      "outputs": [
        {
          "name": "stdout",
          "output_type": "stream",
          "text": [
            "Example entry:\n",
            " {'instruction': 'Identify the correct spelling of the following word.', 'input': 'Ocassion', 'output': \"The correct spelling is 'Occasion.'\"}\n"
          ]
        }
      ],
      "source": [
        "print(\"Example entry:\\n\", data[50])"
      ]
    },
    {
      "cell_type": "code",
      "execution_count": null,
      "metadata": {
        "id": "ilwq90yUevPH",
        "outputId": "3480d6ad-39a4-4796-a349-3437930c36a5"
      },
      "outputs": [
        {
          "name": "stdout",
          "output_type": "stream",
          "text": [
            "Another example entry:\n",
            " {'instruction': \"What is an antonym of 'complicated'?\", 'input': '', 'output': \"An antonym of 'complicated' is 'simple'.\"}\n"
          ]
        }
      ],
      "source": [
        "print(\"Another example entry:\\n\", data[999])"
      ]
    },
    {
      "cell_type": "markdown",
      "metadata": {
        "id": "T-nF1-CXevPH"
      },
      "source": [
        "### **CONVERTING INSTRUCTIONS INTO ALPACA FORMAT**"
      ]
    },
    {
      "cell_type": "code",
      "execution_count": null,
      "metadata": {
        "id": "fI1UlZmeevPI"
      },
      "outputs": [],
      "source": [
        "def format_input(entry):\n",
        "    instruction_text = (\n",
        "        f\"Below is an instruction that describes a task. \"\n",
        "        f\"Write a response that appropriately completes the request.\"\n",
        "        f\"\\n\\n### Instruction:\\n{entry['instruction']}\"\n",
        "    )\n",
        "\n",
        "    input_text = f\"\\n\\n### Input:\\n{entry['input']}\" if entry[\"input\"] else \"\"\n",
        "\n",
        "    return instruction_text + input_text"
      ]
    },
    {
      "cell_type": "markdown",
      "metadata": {
        "id": "FeOUJyo2evPI"
      },
      "source": [
        "This format_input function takes a dictionary entry as input and constructs a formatted\n",
        "string."
      ]
    },
    {
      "cell_type": "markdown",
      "metadata": {
        "id": "AESPyEzhevPI"
      },
      "source": [
        "Let's test it to dataset entry data[50], which to looked at earlier"
      ]
    },
    {
      "cell_type": "code",
      "execution_count": null,
      "metadata": {
        "id": "qlY9vzAKevPI",
        "outputId": "97135394-6816-4fc3-e58d-d1bef9d25d56"
      },
      "outputs": [
        {
          "name": "stdout",
          "output_type": "stream",
          "text": [
            "Below is an instruction that describes a task. Write a response that appropriately completes the request.\n",
            "\n",
            "### Instruction:\n",
            "Identify the correct spelling of the following word.\n",
            "\n",
            "### Input:\n",
            "Ocassion\n",
            "\n",
            "### Response:\n",
            "The correct spelling is 'Occasion.'\n"
          ]
        }
      ],
      "source": [
        "model_input = format_input(data[50])\n",
        "desired_response = f\"\\n\\n### Response:\\n{data[50]['output']}\"\n",
        "\n",
        "print(model_input + desired_response)"
      ]
    },
    {
      "cell_type": "markdown",
      "metadata": {
        "id": "7pZ_pkRBevPI"
      },
      "source": [
        "Note that the format_input skips the optional ### Input: section if the 'input' field is\n",
        "empty, which we can test out by applying the format_input function to entry data[999]\n",
        "that we inspected earlier"
      ]
    },
    {
      "cell_type": "code",
      "execution_count": null,
      "metadata": {
        "id": "wjI2NfqKevPI",
        "outputId": "3443e7db-2fff-4e4e-f77d-5e902fe3eadb"
      },
      "outputs": [
        {
          "name": "stdout",
          "output_type": "stream",
          "text": [
            "Below is an instruction that describes a task. Write a response that appropriately completes the request.\n",
            "\n",
            "### Instruction:\n",
            "What is an antonym of 'complicated'?\n",
            "\n",
            "### Response:\n",
            "An antonym of 'complicated' is 'simple'.\n"
          ]
        }
      ],
      "source": [
        "model_input = format_input(data[999])\n",
        "desired_response = f\"\\n\\n### Response:\\n{data[999]['output']}\"\n",
        "\n",
        "print(model_input + desired_response)"
      ]
    },
    {
      "cell_type": "markdown",
      "metadata": {
        "id": "L8YAcSYmevPI"
      },
      "source": [
        "### **SPLITTING DATASET INTO TRAIN-TEST-VALIDATION**"
      ]
    },
    {
      "cell_type": "code",
      "execution_count": null,
      "metadata": {
        "id": "dpypHbJqevPJ"
      },
      "outputs": [],
      "source": [
        "train_portion = int(len(data) * 0.85)  # 85% for training\n",
        "test_portion = int(len(data) * 0.1)    # 10% for testing\n",
        "val_portion = len(data) - train_portion - test_portion  # Remaining 5% for validation\n",
        "\n",
        "train_data = data[:train_portion]\n",
        "test_data = data[train_portion:train_portion + test_portion]\n",
        "val_data = data[train_portion + test_portion:]"
      ]
    },
    {
      "cell_type": "code",
      "execution_count": null,
      "metadata": {
        "id": "AIv34IJuevPJ",
        "outputId": "2068369e-b96d-4dd6-a0c3-0afcdbe06ee7"
      },
      "outputs": [
        {
          "name": "stdout",
          "output_type": "stream",
          "text": [
            "Training set length: 935\n",
            "Validation set length: 55\n",
            "Test set length: 110\n"
          ]
        }
      ],
      "source": [
        "print(\"Training set length:\", len(train_data))\n",
        "print(\"Validation set length:\", len(val_data))\n",
        "print(\"Test set length:\", len(test_data))"
      ]
    },
    {
      "cell_type": "markdown",
      "metadata": {
        "id": "MBSRetB0evPJ"
      },
      "source": [
        "Having successfully downloaded and partitioned the dataset, and gained a clear\n",
        "understanding of the dataset prompt formatting, we are now ready for the core\n",
        "implementation of the instruction finetuning process"
      ]
    },
    {
      "cell_type": "markdown",
      "metadata": {
        "id": "vAiRZg9EevPJ"
      },
      "source": [
        "## **STEP 2: ORGANIZING DATA INTO TRAINING BATCHES**"
      ]
    },
    {
      "cell_type": "markdown",
      "metadata": {
        "id": "O5NV2yEWevPJ"
      },
      "source": [
        "In the previous chapter, the training batches were created automatically by the PyTorch\n",
        "DataLoader class, which employs a default collate function to combine lists of samples into\n",
        "batches.\n",
        "\n",
        "A collate function is responsible for taking a list of individual data samples and\n",
        "merging them into a single batch that can be processed efficiently by the model during\n",
        "training."
      ]
    },
    {
      "cell_type": "markdown",
      "metadata": {
        "id": "f5tAY9dYevPJ"
      },
      "source": [
        "However, the batching process for instruction finetuning in this chapter is a bit more\n",
        "involved and requires us to create our own custom collate function that we will later plug\n",
        "into the DataLoader.\n",
        "\n",
        "We implement this custom collate function to handle the specific\n",
        "requirements and formatting of our instruction finetuning dataset."
      ]
    },
    {
      "cell_type": "markdown",
      "metadata": {
        "id": "rmK2cdKBevPJ"
      },
      "source": [
        "First, we code an\n",
        "InstructionDataset class that applies format_input from the previous section and pretokenizes all inputs in the dataset, similar to the SpamDataset in chapter 6."
      ]
    },
    {
      "cell_type": "code",
      "execution_count": null,
      "metadata": {
        "id": "5bJymcUWevPK"
      },
      "outputs": [],
      "source": [
        "import torch\n",
        "from torch.utils.data import Dataset\n",
        "\n",
        "\n",
        "class InstructionDataset(Dataset):\n",
        "    def __init__(self, data, tokenizer):\n",
        "        self.data = data\n",
        "\n",
        "        # Pre-tokenize texts\n",
        "        self.encoded_texts = []\n",
        "        for entry in data:\n",
        "            instruction_plus_input = format_input(entry)\n",
        "            response_text = f\"\\n\\n### Response:\\n{entry['output']}\"\n",
        "            full_text = instruction_plus_input + response_text\n",
        "            self.encoded_texts.append(\n",
        "                tokenizer.encode(full_text)\n",
        "            )\n",
        "\n",
        "    def __getitem__(self, index):\n",
        "        return self.encoded_texts[index]\n",
        "\n",
        "    def __len__(self):\n",
        "        return len(self.data)"
      ]
    },
    {
      "cell_type": "markdown",
      "metadata": {
        "id": "uVwFmAF7evPK"
      },
      "source": [
        "Similar to the approach in chapter 6, we aim to accelerate training by collecting multiple\n",
        "training examples in a batch, which necessitates padding all inputs to a similar length.\n",
        "\n",
        "As with the previous chapter, we use the <|endoftext|> token as a padding token.\n",
        "    \n",
        "Instead of appending the <|endoftext|> tokens to the text inputs, we can append its\n",
        "token ID to the pre-tokenized inputs directly.\n",
        "\n",
        "To remind us which token ID we should use,\n",
        "we can use the tokenizer's .encode method on an <|endoftext|> token:"
      ]
    },
    {
      "cell_type": "code",
      "execution_count": null,
      "metadata": {
        "id": "1K897P3uevPK",
        "outputId": "8bfe6e46-6569-486b-9add-f4d332238760"
      },
      "outputs": [
        {
          "name": "stdout",
          "output_type": "stream",
          "text": [
            "[50256]\n"
          ]
        }
      ],
      "source": [
        "import tiktoken\n",
        "tokenizer = tiktoken.get_encoding(\"gpt2\")\n",
        "\n",
        "print(tokenizer.encode(\"<|endoftext|>\", allowed_special={\"<|endoftext|>\"}))"
      ]
    },
    {
      "cell_type": "markdown",
      "metadata": {
        "id": "xkY7eENoevPK"
      },
      "source": [
        "In previuosly, we padded all examples in a dataset to the same length.\n",
        "\n",
        "Moving on, here, we adopt a more sophisticated approach by developing a custom\n",
        "collate function that we can pass to the data loader.\n",
        "\n",
        "This custom collate function pads the\n",
        "training examples in each batch to have the same length, while allowing different batches\n",
        "to have different lengths.\n",
        "\n",
        "This approach minimizes unnecessary\n",
        "padding by only extending sequences to match the longest one in each batch, not the\n",
        "whole dataset."
      ]
    },
    {
      "cell_type": "markdown",
      "metadata": {
        "id": "cIt_7PsxevPK"
      },
      "source": [
        "We can implement the padding process with a custom collate\n",
        "function as follows"
      ]
    },
    {
      "cell_type": "markdown",
      "metadata": {
        "id": "iXc7tvEJevPK"
      },
      "source": [
        "Step 1: Find the longest sequence in the batch\n",
        "    \n",
        "Step 2: Pad and prepare inputs\n",
        "    \n",
        "Step 3: Remove extra padded token added earlier\n",
        "\n",
        "Step 4: Convert list of inputs to tensor and transfer to target device"
      ]
    },
    {
      "cell_type": "code",
      "execution_count": null,
      "metadata": {
        "id": "ItoDVW9FevPK"
      },
      "outputs": [],
      "source": [
        "def custom_collate_draft_1(\n",
        "    batch,\n",
        "    pad_token_id=50256,\n",
        "    device=\"cpu\"\n",
        "):\n",
        "    # Find the longest sequence in the batch\n",
        "    # and increase the max length by +1, which will add one extra\n",
        "    # padding token below\n",
        "    batch_max_length = max(len(item)+1 for item in batch)\n",
        "\n",
        "    # Pad and prepare inputs\n",
        "    inputs_lst = []\n",
        "\n",
        "    for item in batch:\n",
        "        new_item = item.copy()\n",
        "        # Add an <|endoftext|> token\n",
        "        new_item += [pad_token_id]\n",
        "        # Pad sequences to batch_max_length\n",
        "        padded = (\n",
        "            new_item + [pad_token_id] *\n",
        "            (batch_max_length - len(new_item))\n",
        "        )\n",
        "        # Via padded[:-1], we remove the extra padded token\n",
        "        # that has been added via the +1 setting in batch_max_length\n",
        "        # (the extra padding token will be relevant in later codes)\n",
        "        inputs = torch.tensor(padded[:-1])\n",
        "        inputs_lst.append(inputs)\n",
        "\n",
        "    # Convert list of inputs to tensor and transfer to target device\n",
        "    inputs_tensor = torch.stack(inputs_lst).to(device)\n",
        "    return inputs_tensor"
      ]
    },
    {
      "cell_type": "markdown",
      "metadata": {
        "id": "01CD_O_eevPL"
      },
      "source": [
        "The custom_collate_draft_1 we implemented is designed to be integrated into a PyTorch\n",
        "DataLoader, but it can also function as a standalone tool.\n",
        "\n",
        "Here, we use it independently to\n",
        "test and verify that it operates as intended."
      ]
    },
    {
      "cell_type": "markdown",
      "metadata": {
        "id": "iaahLO7fevPL"
      },
      "source": [
        "Let's try it on three different inputs that we\n",
        "want to assemble into a batch, where each example gets padded to the same length\n"
      ]
    },
    {
      "cell_type": "code",
      "execution_count": null,
      "metadata": {
        "id": "gRJwfA4FevPL",
        "outputId": "20162442-b8a3-4a7b-cdb9-16fe224be1b4"
      },
      "outputs": [
        {
          "name": "stdout",
          "output_type": "stream",
          "text": [
            "tensor([[    0,     1,     2,     3,     4],\n",
            "        [    5,     6, 50256, 50256, 50256],\n",
            "        [    7,     8,     9, 50256, 50256]])\n"
          ]
        }
      ],
      "source": [
        "inputs_1 = [0, 1, 2, 3, 4]\n",
        "inputs_2 = [5, 6]\n",
        "inputs_3 = [7, 8, 9]\n",
        "\n",
        "batch = (\n",
        "    inputs_1,\n",
        "    inputs_2,\n",
        "    inputs_3\n",
        ")\n",
        "\n",
        "print(custom_collate_draft_1(batch))"
      ]
    },
    {
      "cell_type": "markdown",
      "metadata": {
        "id": "UeaUYR8EevPL"
      },
      "source": [
        "As we can see based on the preceding output, all inputs have been padded to the length of\n",
        "the longest input list, inputs_1 containing 5 token IDs."
      ]
    },
    {
      "cell_type": "markdown",
      "metadata": {
        "id": "FLlaBpNaevPL"
      },
      "source": [
        "So far, we have just implemented our first custom collate function to create batches from\n",
        "lists of inputs.\n",
        "\n",
        "However, as you learned in previous lessons, we also need to create batches\n",
        "with the target token IDs, corresponding to the batch of input IDs.\n",
        "\n",
        "These target IDs are crucial because they represent what we want the model to\n",
        "generate and what we need during training to calculate the loss for the weight updates,\n",
        "similar to previous chapters."
      ]
    },
    {
      "cell_type": "markdown",
      "metadata": {
        "id": "NfpzQ0VUevPM"
      },
      "source": [
        "#### **CREATING TARGET TOKEN IDS FOR TRAINING**"
      ]
    },
    {
      "cell_type": "markdown",
      "metadata": {
        "id": "F-4L0RV_evPM"
      },
      "source": [
        "Similar to the process described for pretraining an LLM, the target token IDs\n",
        "match the input token IDs but are shifted one position to the right.\n",
        "\n",
        "This setup allows the LLM to learn how to predict the next token in a sequence."
      ]
    },
    {
      "cell_type": "markdown",
      "metadata": {
        "id": "nFtHQZo9evPM"
      },
      "source": [
        "The following updated collate function generates the target token IDs from the input token IDs"
      ]
    },
    {
      "cell_type": "code",
      "execution_count": null,
      "metadata": {
        "id": "LeluXVe0evPM"
      },
      "outputs": [],
      "source": [
        "def custom_collate_draft_2(\n",
        "    batch,\n",
        "    pad_token_id=50256,\n",
        "    device=\"cpu\"\n",
        "):\n",
        "    # Find the longest sequence in the batch\n",
        "    batch_max_length = max(len(item)+1 for item in batch)\n",
        "\n",
        "    # Pad and prepare inputs\n",
        "    inputs_lst, targets_lst = [], []\n",
        "\n",
        "    for item in batch:\n",
        "        new_item = item.copy()\n",
        "        # Add an <|endoftext|> token\n",
        "        new_item += [pad_token_id]\n",
        "        # Pad sequences to max_length\n",
        "        padded = (\n",
        "            new_item + [pad_token_id] *\n",
        "            (batch_max_length - len(new_item))\n",
        "        )\n",
        "        inputs = torch.tensor(padded[:-1])  # Truncate the last token for inputs\n",
        "        targets = torch.tensor(padded[1:])  # Shift +1 to the right for targets\n",
        "        inputs_lst.append(inputs)\n",
        "        targets_lst.append(targets)\n",
        "\n",
        "    # Convert list of inputs to tensor and transfer to target device\n",
        "    inputs_tensor = torch.stack(inputs_lst).to(device)\n",
        "    targets_tensor = torch.stack(targets_lst).to(device)\n",
        "    return inputs_tensor, targets_tensor"
      ]
    },
    {
      "cell_type": "markdown",
      "metadata": {
        "id": "fey7u5vievPM"
      },
      "source": [
        "Step 1: Truncate the last token for inputs\n",
        "                               \n",
        "Step 2: Shift +1 to the right for targets"
      ]
    },
    {
      "cell_type": "code",
      "execution_count": null,
      "metadata": {
        "id": "PK718JBPevPM",
        "outputId": "82ca306d-514d-4a84-926e-ef7bedebd2cd"
      },
      "outputs": [
        {
          "name": "stdout",
          "output_type": "stream",
          "text": [
            "tensor([[    0,     1,     2,     3,     4],\n",
            "        [    5,     6, 50256, 50256, 50256],\n",
            "        [    7,     8,     9, 50256, 50256]])\n",
            "tensor([[    1,     2,     3,     4, 50256],\n",
            "        [    6, 50256, 50256, 50256, 50256],\n",
            "        [    8,     9, 50256, 50256, 50256]])\n"
          ]
        }
      ],
      "source": [
        "inputs_1 = [0, 1, 2, 3, 4]\n",
        "inputs_2 = [5, 6]\n",
        "inputs_3 = [7, 8, 9]\n",
        "\n",
        "batch = (\n",
        "    inputs_1,\n",
        "    inputs_2,\n",
        "    inputs_3\n",
        ")\n",
        "\n",
        "inputs, targets = custom_collate_draft_2(batch)\n",
        "print(inputs)\n",
        "print(targets)\n"
      ]
    },
    {
      "cell_type": "markdown",
      "metadata": {
        "id": "4lwNB2n-evPM"
      },
      "source": [
        "The 1st tensor represents inputs.\n",
        "    \n",
        "The 2nd tensor represents the targets"
      ]
    },
    {
      "cell_type": "markdown",
      "metadata": {
        "id": "MM1TICUUevPN"
      },
      "source": [
        "In the next step, we assign a -100 placeholder value to all padding tokens.\n",
        "\n",
        "This special value allows us to exclude these padding tokens from contributing to\n",
        "the training loss calculation, ensuring that only meaningful data influences model learning.\n",
        "\n",
        "In classification fine-tuning, we did not have to worry about this since we only trained the model based on\n",
        "the last output token.)"
      ]
    },
    {
      "cell_type": "markdown",
      "metadata": {
        "id": "xYzCvfg1evPN"
      },
      "source": [
        "Note that we retain one end-of-text token, ID 50256, in the target list.\n",
        "\n",
        "This allows the LLM to learn when to generate an end-of-text token\n",
        "in response to instructions, which we use as an indicator that the generated response is\n",
        "complete."
      ]
    },
    {
      "cell_type": "markdown",
      "metadata": {
        "id": "AwatDjDLevPN"
      },
      "source": [
        "In the following code, we modify our custom collate function to replace tokens with ID\n",
        "50256 with -100 in the target lists.\n",
        "\n",
        "Additionally, we introduce\n",
        "an allowed_max_length parameter to optionally limit the length of the samples.\n",
        "\n",
        "This\n",
        "adjustment will be useful if you plan to work with your own datasets that exceed the 1024-\n",
        "token context size supported by the GPT-2 model.\n",
        "\n",
        "The code for this updated collate function\n",
        "is as follows"
      ]
    },
    {
      "cell_type": "code",
      "execution_count": null,
      "metadata": {
        "id": "ByRp7t72evPN"
      },
      "outputs": [],
      "source": [
        "def custom_collate_fn(\n",
        "    batch,\n",
        "    pad_token_id=50256,\n",
        "    ignore_index=-100,\n",
        "    allowed_max_length=None,\n",
        "    device=\"cpu\"\n",
        "):\n",
        "    # Find the longest sequence in the batch\n",
        "    batch_max_length = max(len(item)+1 for item in batch)\n",
        "\n",
        "    # Pad and prepare inputs and targets\n",
        "    inputs_lst, targets_lst = [], []\n",
        "\n",
        "    for item in batch:\n",
        "        new_item = item.copy()\n",
        "        # Add an <|endoftext|> token\n",
        "        new_item += [pad_token_id]\n",
        "        # Pad sequences to max_length\n",
        "        padded = (\n",
        "            new_item + [pad_token_id] *\n",
        "            (batch_max_length - len(new_item))\n",
        "        )\n",
        "        inputs = torch.tensor(padded[:-1])  # Truncate the last token for inputs\n",
        "        targets = torch.tensor(padded[1:])  # Shift +1 to the right for targets\n",
        "\n",
        "        # New: Replace all but the first padding tokens in targets by ignore_index\n",
        "        mask = targets == pad_token_id\n",
        "        indices = torch.nonzero(mask).squeeze()\n",
        "        if indices.numel() > 1:\n",
        "            targets[indices[1:]] = ignore_index\n",
        "\n",
        "        # New: Optionally truncate to maximum sequence length\n",
        "        if allowed_max_length is not None:\n",
        "            inputs = inputs[:allowed_max_length]\n",
        "            targets = targets[:allowed_max_length]\n",
        "\n",
        "        inputs_lst.append(inputs)\n",
        "        targets_lst.append(targets)\n",
        "\n",
        "    # Convert list of inputs and targets to tensors and transfer to target device\n",
        "    inputs_tensor = torch.stack(inputs_lst).to(device)\n",
        "    targets_tensor = torch.stack(targets_lst).to(device)\n",
        "\n",
        "    return inputs_tensor, targets_tensor"
      ]
    },
    {
      "cell_type": "markdown",
      "metadata": {
        "id": "hECufIGxevPN"
      },
      "source": [
        "Step 1: Replace all but the first padding tokens in targets by ignore_index\n",
        "\n",
        "Step 2: Optionally truncate to maximum sequence length"
      ]
    },
    {
      "cell_type": "markdown",
      "metadata": {
        "id": "E9RcPRZGevPO"
      },
      "source": [
        "Again, let's try the collate function on the sample batch that we created earlier to check\n",
        "that it works as intended"
      ]
    },
    {
      "cell_type": "code",
      "execution_count": null,
      "metadata": {
        "id": "AK-beFshevPO",
        "outputId": "4bbb13d9-3214-4928-a308-f8222f2afb9a"
      },
      "outputs": [
        {
          "name": "stdout",
          "output_type": "stream",
          "text": [
            "tensor([[    0,     1,     2,     3,     4],\n",
            "        [    5,     6, 50256, 50256, 50256],\n",
            "        [    7,     8,     9, 50256, 50256]])\n",
            "tensor([[    1,     2,     3,     4, 50256],\n",
            "        [    6, 50256,  -100,  -100,  -100],\n",
            "        [    8,     9, 50256,  -100,  -100]])\n"
          ]
        }
      ],
      "source": [
        "inputs_1 = [0, 1, 2, 3, 4]\n",
        "inputs_2 = [5, 6]\n",
        "inputs_3 = [7, 8, 9]\n",
        "\n",
        "batch = (\n",
        "    inputs_1,\n",
        "    inputs_2,\n",
        "    inputs_3\n",
        ")\n",
        "\n",
        "inputs, targets = custom_collate_fn(batch)\n",
        "print(inputs)\n",
        "print(targets)"
      ]
    },
    {
      "cell_type": "markdown",
      "metadata": {
        "id": "KdlNbJYCevPO"
      },
      "source": [
        "The modified collate function works as expected, altering the target list by inserting the\n",
        "token ID -100.\n",
        "\n",
        "What is the logic behind this adjustment? Let's explore the underlying\n",
        "purpose of this modification."
      ]
    },
    {
      "cell_type": "markdown",
      "metadata": {
        "id": "sdww6qDievPO"
      },
      "source": [
        "For demonstration purposes, consider the following simple and self-contained example\n",
        "where each output logit can correspond to a potential token from the model's vocabulary.\n",
        "\n",
        "Here's how we might calculate the cross entropy loss (introduced in chapter 5) during\n",
        "training when the model predicts a sequence of tokens, similar to what we have done in\n",
        "chapter 5 when pretraining the model, or in chapter 6 when finetuning the model for\n",
        "classification"
      ]
    },
    {
      "cell_type": "code",
      "execution_count": null,
      "metadata": {
        "id": "nPjH1t4fevPO",
        "outputId": "473fd75a-3997-431d-de6d-56e4672e7ae3"
      },
      "outputs": [
        {
          "name": "stdout",
          "output_type": "stream",
          "text": [
            "tensor(1.1269)\n"
          ]
        }
      ],
      "source": [
        "logits_1 = torch.tensor(\n",
        "    [[-1.0, 1.0],  # 1st training example\n",
        "     [-0.5, 1.5]]  # 2nd training example\n",
        ")\n",
        "targets_1 = torch.tensor([0, 1])\n",
        "\n",
        "\n",
        "loss_1 = torch.nn.functional.cross_entropy(logits_1, targets_1)\n",
        "print(loss_1)"
      ]
    },
    {
      "cell_type": "markdown",
      "metadata": {
        "id": "Fkazlkq-evPO"
      },
      "source": [
        "Adding an additional token ID will, as we would expect, affect the loss calculation."
      ]
    },
    {
      "cell_type": "code",
      "execution_count": null,
      "metadata": {
        "id": "HhLjUwqRevPO",
        "outputId": "4c65d05c-c452-46df-84a2-286d2c3cc5b3"
      },
      "outputs": [
        {
          "name": "stdout",
          "output_type": "stream",
          "text": [
            "tensor(0.7936)\n"
          ]
        }
      ],
      "source": [
        "logits_2 = torch.tensor(\n",
        "    [[-1.0, 1.0],\n",
        "     [-0.5, 1.5],\n",
        "     [-0.5, 1.5]]  # New 3rd training example\n",
        ")\n",
        "targets_2 = torch.tensor([0, 1, 1])\n",
        "\n",
        "loss_2 = torch.nn.functional.cross_entropy(logits_2, targets_2)\n",
        "print(loss_2)"
      ]
    },
    {
      "cell_type": "markdown",
      "metadata": {
        "id": "5SuS0NyNevPP"
      },
      "source": [
        "Now, let's get to the interesting part and see what happens if we replace the third target\n",
        "token ID with -100"
      ]
    },
    {
      "cell_type": "code",
      "execution_count": null,
      "metadata": {
        "id": "qWfbGoB6evPP",
        "outputId": "b0400275-2284-4aa9-e9e6-4e87b2b4284c"
      },
      "outputs": [
        {
          "name": "stdout",
          "output_type": "stream",
          "text": [
            "tensor(1.1269)\n",
            "loss_1 == loss_3: tensor(True)\n"
          ]
        }
      ],
      "source": [
        "logits_2 = torch.tensor(\n",
        "    [[-1.0, 1.0],\n",
        "     [-0.5, 1.5],\n",
        "     [-0.5, 1.5]]  # New 3rd training example\n",
        ")\n",
        "\n",
        "targets_3 = torch.tensor([0, 1, -100])\n",
        "\n",
        "loss_3 = torch.nn.functional.cross_entropy(logits_2, targets_3)\n",
        "print(loss_3)\n",
        "print(\"loss_1 == loss_3:\", loss_1 == loss_3)"
      ]
    },
    {
      "cell_type": "markdown",
      "metadata": {
        "id": "gBLcfCRyevPP"
      },
      "source": [
        "Based on this result, we can see that the resulting loss on these 3 training examples is\n",
        "identical to the loss we calculated from the 2 training examples earlier.\n",
        "\n",
        "In other words, the\n",
        "cross entropy loss function ignored the third entry in the targets_3 vector, the token ID\n",
        "corresponding to -100.\n",
        "\n",
        "(Interested readers can try to replace the -100 value with another\n",
        "token IDs that is not 0 or 1, and will see that this results in an error.)"
      ]
    },
    {
      "cell_type": "markdown",
      "metadata": {
        "id": "Y7haxfdtevPP"
      },
      "source": [
        "So, what's so special about -100 that it's ignored by the cross entropy loss? The default\n",
        "setting of the cross entropy function in PyTorch is cross_entropy(...,\n",
        "ignore_index=-100).\n",
        "\n",
        "This means that it ignores targets labeled with -100."
      ]
    },
    {
      "cell_type": "markdown",
      "metadata": {
        "id": "LyLgf4aoevPP"
      },
      "source": [
        "In this chapter, we take advantage of this ignore_index to ignore the additional end-oftext (padding) tokens that we used to pad the training examples to have the same length in\n",
        "each batch."
      ]
    },
    {
      "cell_type": "markdown",
      "metadata": {
        "id": "a6Z4ayoqevPP"
      },
      "source": [
        "However, we want to keep one 50256 (end-of-text)\n",
        "token ID in the targets because it helps the LLM to learn to generate end-of-text tokens,\n",
        "which we can use as an indicator that a response is complete."
      ]
    },
    {
      "cell_type": "markdown",
      "metadata": {
        "id": "pXiP8vYBevPP"
      },
      "source": [
        "#### **MASKING TARGET TOKEN IDS**"
      ]
    },
    {
      "cell_type": "markdown",
      "metadata": {
        "id": "J2YabLJbevPP"
      },
      "source": [
        "In addition to masking out padding tokens, it is also common to mask out the target\n",
        "token IDs that correspond to the instruction"
      ]
    },
    {
      "cell_type": "markdown",
      "metadata": {
        "id": "qa1PA1M5evPQ"
      },
      "source": [
        "By masking out the target token IDs that correspond to the instruction, the LLM cross entropy loss is only computed for the generated response target\n",
        "IDs.\n",
        "\n",
        "By masking out the instruction tokens, the model is trained to focus on generating\n",
        "accurate responses rather than additionally also memorizing instructions, which can help\n",
        "with reducing overfitting."
      ]
    },
    {
      "cell_type": "markdown",
      "metadata": {
        "id": "bobP8UCpevPQ"
      },
      "source": [
        "\n",
        "Currently, researchers are divided on whether masking the instructions is universally beneficial during instruction finetuning.\n",
        "\n",
        "For instance, a recent\n",
        "paper titled \"Instruction Tuning With Loss Over Instructions\" demonstrated that not\n",
        "masking the instructions benefits the LLM performance.\n",
        "\n",
        "In this chapter, we do not apply masking and leave it as an optional\n",
        "exercise for the reader."
      ]
    },
    {
      "cell_type": "markdown",
      "metadata": {
        "id": "exsW8g8qevPQ"
      },
      "source": [
        "## **STEP 3: CREATING DATALOADERS FOR AN INSTRUCTION DATASET**"
      ]
    },
    {
      "cell_type": "markdown",
      "metadata": {
        "id": "EJt1SrZRevPQ"
      },
      "source": [
        "The custom_collate_fn includes code to move the input and target tensors (for\n",
        "example, torch.stack(inputs_lst).to(device)) to a specified device, which can be\n",
        "either \"cpu\" or \"cuda\" (for GPUs), or optionally \"mps\" for Macs with Apple Silicon chips.\n"
      ]
    },
    {
      "cell_type": "markdown",
      "metadata": {
        "id": "i_Dgoc5wevPQ"
      },
      "source": [
        "In previous chapters, we moved the data onto the target device (for example, the GPU\n",
        "memory when device=\"cuda\") in the main training loop. Having this as part of the collate\n",
        "function offers the advantage of performing this device transfer process as a background\n",
        "process outside the training loop, preventing it from blocking the GPU during model\n",
        "training."
      ]
    },
    {
      "cell_type": "markdown",
      "metadata": {
        "id": "VZtE4sguevPQ"
      },
      "source": [
        "The following code initializes the device variable"
      ]
    },
    {
      "cell_type": "code",
      "execution_count": null,
      "metadata": {
        "id": "vwXf3YnlevPQ",
        "outputId": "fe60bdda-569a-4ebb-9970-34c9eced3f1d"
      },
      "outputs": [
        {
          "name": "stdout",
          "output_type": "stream",
          "text": [
            "Device: cpu\n"
          ]
        }
      ],
      "source": [
        "device = torch.device(\"cuda\" if torch.cuda.is_available() else \"cpu\")\n",
        "\n",
        "# Note:\n",
        "# Uncommenting the following lines will allow the code to run on Apple Silicon chips, if applicable,\n",
        "# which is much faster than on an Apple CPU (as measured on an M3 MacBook Air).\n",
        "# However, the resulting loss values may be slightly different.\n",
        "\n",
        "#if torch.cuda.is_available():\n",
        "#    device = torch.device(\"cuda\")\n",
        "#elif torch.backends.mps.is_available():\n",
        "#    device = torch.device(\"mps\")\n",
        "#else:\n",
        "#    device = torch.device(\"cpu\")\n",
        "\n",
        "print(\"Device:\", device)"
      ]
    },
    {
      "cell_type": "markdown",
      "metadata": {
        "id": "J1bnMsnAevPR"
      },
      "source": [
        "Next, to reuse the chosen device setting in custom_collate_fn when we plug it into the\n",
        "PyTorch DataLoader class later in this section, we use the partial function from Python's\n",
        "functools standard library to create a new version of the function with the device\n",
        "argument pre-filled.\n",
        "\n",
        "Additionally, we set the allowed_max_length to 1024, which truncates\n",
        "the data to the maximum context length supported by the GPT-2 model we finetune later in\n",
        "this chapter:\n"
      ]
    },
    {
      "cell_type": "code",
      "execution_count": null,
      "metadata": {
        "id": "edkhHB4GevPR"
      },
      "outputs": [],
      "source": [
        "from functools import partial\n",
        "customized_collate_fn = partial(custom_collate_fn, device=device, allowed_max_length=1024)"
      ]
    },
    {
      "cell_type": "markdown",
      "metadata": {
        "id": "CFeTgmRcevPT"
      },
      "source": [
        "Next, we can set up the data loaders as we did in previous chapters, but this time we will\n",
        "use our custom collate function for the batching process"
      ]
    },
    {
      "cell_type": "code",
      "execution_count": null,
      "metadata": {
        "id": "b-OP4CMKevPT"
      },
      "outputs": [],
      "source": [
        "from torch.utils.data import DataLoader\n",
        "\n",
        "\n",
        "num_workers = 0\n",
        "batch_size = 8\n",
        "\n",
        "torch.manual_seed(123)\n",
        "\n",
        "train_dataset = InstructionDataset(train_data, tokenizer)\n",
        "train_loader = DataLoader(\n",
        "    train_dataset,\n",
        "    batch_size=batch_size,\n",
        "    collate_fn=customized_collate_fn,\n",
        "    shuffle=True,\n",
        "    drop_last=True,\n",
        "    num_workers=num_workers\n",
        ")\n",
        "\n",
        "val_dataset = InstructionDataset(val_data, tokenizer)\n",
        "val_loader = DataLoader(\n",
        "    val_dataset,\n",
        "    batch_size=batch_size,\n",
        "    collate_fn=customized_collate_fn,\n",
        "    shuffle=False,\n",
        "    drop_last=False,\n",
        "    num_workers=num_workers\n",
        ")\n",
        "\n",
        "test_dataset = InstructionDataset(test_data, tokenizer)\n",
        "test_loader = DataLoader(\n",
        "    test_dataset,\n",
        "    batch_size=batch_size,\n",
        "    collate_fn=customized_collate_fn,\n",
        "    shuffle=False,\n",
        "    drop_last=False,\n",
        "    num_workers=num_workers\n",
        ")"
      ]
    },
    {
      "cell_type": "markdown",
      "metadata": {
        "id": "Cpzepq4PevPT"
      },
      "source": [
        "Let's examine the dimensions of the input and target batches generated by the training\n",
        "loader"
      ]
    },
    {
      "cell_type": "code",
      "execution_count": null,
      "metadata": {
        "id": "ZtbbOU8levPT",
        "outputId": "831156fb-2f81-4a86-a726-8271b6e787ca"
      },
      "outputs": [
        {
          "name": "stdout",
          "output_type": "stream",
          "text": [
            "Train loader:\n",
            "torch.Size([8, 61]) torch.Size([8, 61])\n",
            "torch.Size([8, 76]) torch.Size([8, 76])\n",
            "torch.Size([8, 73]) torch.Size([8, 73])\n",
            "torch.Size([8, 68]) torch.Size([8, 68])\n",
            "torch.Size([8, 65]) torch.Size([8, 65])\n",
            "torch.Size([8, 72]) torch.Size([8, 72])\n",
            "torch.Size([8, 80]) torch.Size([8, 80])\n",
            "torch.Size([8, 67]) torch.Size([8, 67])\n",
            "torch.Size([8, 62]) torch.Size([8, 62])\n",
            "torch.Size([8, 75]) torch.Size([8, 75])\n",
            "torch.Size([8, 62]) torch.Size([8, 62])\n",
            "torch.Size([8, 68]) torch.Size([8, 68])\n",
            "torch.Size([8, 67]) torch.Size([8, 67])\n",
            "torch.Size([8, 77]) torch.Size([8, 77])\n",
            "torch.Size([8, 69]) torch.Size([8, 69])\n",
            "torch.Size([8, 79]) torch.Size([8, 79])\n",
            "torch.Size([8, 71]) torch.Size([8, 71])\n",
            "torch.Size([8, 66]) torch.Size([8, 66])\n",
            "torch.Size([8, 83]) torch.Size([8, 83])\n",
            "torch.Size([8, 68]) torch.Size([8, 68])\n",
            "torch.Size([8, 80]) torch.Size([8, 80])\n",
            "torch.Size([8, 71]) torch.Size([8, 71])\n",
            "torch.Size([8, 69]) torch.Size([8, 69])\n",
            "torch.Size([8, 65]) torch.Size([8, 65])\n",
            "torch.Size([8, 68]) torch.Size([8, 68])\n",
            "torch.Size([8, 60]) torch.Size([8, 60])\n",
            "torch.Size([8, 59]) torch.Size([8, 59])\n",
            "torch.Size([8, 69]) torch.Size([8, 69])\n",
            "torch.Size([8, 63]) torch.Size([8, 63])\n",
            "torch.Size([8, 65]) torch.Size([8, 65])\n",
            "torch.Size([8, 76]) torch.Size([8, 76])\n",
            "torch.Size([8, 66]) torch.Size([8, 66])\n",
            "torch.Size([8, 71]) torch.Size([8, 71])\n",
            "torch.Size([8, 91]) torch.Size([8, 91])\n",
            "torch.Size([8, 65]) torch.Size([8, 65])\n",
            "torch.Size([8, 64]) torch.Size([8, 64])\n",
            "torch.Size([8, 67]) torch.Size([8, 67])\n",
            "torch.Size([8, 66]) torch.Size([8, 66])\n",
            "torch.Size([8, 64]) torch.Size([8, 64])\n",
            "torch.Size([8, 65]) torch.Size([8, 65])\n",
            "torch.Size([8, 75]) torch.Size([8, 75])\n",
            "torch.Size([8, 89]) torch.Size([8, 89])\n",
            "torch.Size([8, 59]) torch.Size([8, 59])\n",
            "torch.Size([8, 88]) torch.Size([8, 88])\n",
            "torch.Size([8, 83]) torch.Size([8, 83])\n",
            "torch.Size([8, 83]) torch.Size([8, 83])\n",
            "torch.Size([8, 70]) torch.Size([8, 70])\n",
            "torch.Size([8, 65]) torch.Size([8, 65])\n",
            "torch.Size([8, 74]) torch.Size([8, 74])\n",
            "torch.Size([8, 76]) torch.Size([8, 76])\n",
            "torch.Size([8, 67]) torch.Size([8, 67])\n",
            "torch.Size([8, 75]) torch.Size([8, 75])\n",
            "torch.Size([8, 83]) torch.Size([8, 83])\n",
            "torch.Size([8, 69]) torch.Size([8, 69])\n",
            "torch.Size([8, 67]) torch.Size([8, 67])\n",
            "torch.Size([8, 60]) torch.Size([8, 60])\n",
            "torch.Size([8, 60]) torch.Size([8, 60])\n",
            "torch.Size([8, 66]) torch.Size([8, 66])\n",
            "torch.Size([8, 80]) torch.Size([8, 80])\n",
            "torch.Size([8, 71]) torch.Size([8, 71])\n",
            "torch.Size([8, 61]) torch.Size([8, 61])\n",
            "torch.Size([8, 58]) torch.Size([8, 58])\n",
            "torch.Size([8, 71]) torch.Size([8, 71])\n",
            "torch.Size([8, 67]) torch.Size([8, 67])\n",
            "torch.Size([8, 68]) torch.Size([8, 68])\n",
            "torch.Size([8, 63]) torch.Size([8, 63])\n",
            "torch.Size([8, 87]) torch.Size([8, 87])\n",
            "torch.Size([8, 68]) torch.Size([8, 68])\n",
            "torch.Size([8, 64]) torch.Size([8, 64])\n",
            "torch.Size([8, 68]) torch.Size([8, 68])\n",
            "torch.Size([8, 71]) torch.Size([8, 71])\n",
            "torch.Size([8, 68]) torch.Size([8, 68])\n",
            "torch.Size([8, 71]) torch.Size([8, 71])\n",
            "torch.Size([8, 61]) torch.Size([8, 61])\n",
            "torch.Size([8, 65]) torch.Size([8, 65])\n",
            "torch.Size([8, 67]) torch.Size([8, 67])\n",
            "torch.Size([8, 65]) torch.Size([8, 65])\n",
            "torch.Size([8, 64]) torch.Size([8, 64])\n",
            "torch.Size([8, 60]) torch.Size([8, 60])\n",
            "torch.Size([8, 72]) torch.Size([8, 72])\n",
            "torch.Size([8, 64]) torch.Size([8, 64])\n",
            "torch.Size([8, 70]) torch.Size([8, 70])\n",
            "torch.Size([8, 57]) torch.Size([8, 57])\n",
            "torch.Size([8, 72]) torch.Size([8, 72])\n",
            "torch.Size([8, 64]) torch.Size([8, 64])\n",
            "torch.Size([8, 68]) torch.Size([8, 68])\n",
            "torch.Size([8, 62]) torch.Size([8, 62])\n",
            "torch.Size([8, 74]) torch.Size([8, 74])\n",
            "torch.Size([8, 80]) torch.Size([8, 80])\n",
            "torch.Size([8, 68]) torch.Size([8, 68])\n",
            "torch.Size([8, 70]) torch.Size([8, 70])\n",
            "torch.Size([8, 91]) torch.Size([8, 91])\n",
            "torch.Size([8, 61]) torch.Size([8, 61])\n",
            "torch.Size([8, 66]) torch.Size([8, 66])\n",
            "torch.Size([8, 80]) torch.Size([8, 80])\n",
            "torch.Size([8, 81]) torch.Size([8, 81])\n",
            "torch.Size([8, 74]) torch.Size([8, 74])\n",
            "torch.Size([8, 82]) torch.Size([8, 82])\n",
            "torch.Size([8, 63]) torch.Size([8, 63])\n",
            "torch.Size([8, 83]) torch.Size([8, 83])\n",
            "torch.Size([8, 68]) torch.Size([8, 68])\n",
            "torch.Size([8, 67]) torch.Size([8, 67])\n",
            "torch.Size([8, 77]) torch.Size([8, 77])\n",
            "torch.Size([8, 91]) torch.Size([8, 91])\n",
            "torch.Size([8, 64]) torch.Size([8, 64])\n",
            "torch.Size([8, 61]) torch.Size([8, 61])\n",
            "torch.Size([8, 75]) torch.Size([8, 75])\n",
            "torch.Size([8, 64]) torch.Size([8, 64])\n",
            "torch.Size([8, 66]) torch.Size([8, 66])\n",
            "torch.Size([8, 78]) torch.Size([8, 78])\n",
            "torch.Size([8, 66]) torch.Size([8, 66])\n",
            "torch.Size([8, 64]) torch.Size([8, 64])\n",
            "torch.Size([8, 83]) torch.Size([8, 83])\n",
            "torch.Size([8, 66]) torch.Size([8, 66])\n",
            "torch.Size([8, 74]) torch.Size([8, 74])\n",
            "torch.Size([8, 69]) torch.Size([8, 69])\n"
          ]
        }
      ],
      "source": [
        "print(\"Train loader:\")\n",
        "for inputs, targets in train_loader:\n",
        "    print(inputs.shape, targets.shape)"
      ]
    },
    {
      "cell_type": "markdown",
      "metadata": {
        "id": "9_lfEDWlevPT"
      },
      "source": [
        "In the preceding output, we can see that the first input and target batch have dimensions\n",
        "8×61, where 8 represents the batch size, and 61 is the number of tokens in each training\n",
        "example in this batch.\n",
        "\n",
        "The second input and target batch have a different number of\n",
        "tokens, for instance, 76.\n",
        "\n",
        "\n",
        "As we saw in the preceding code output, thanks to our custom collate function, the data\n",
        "loader is able to create batches of different lengths.\n",
        "\n",
        "In the next section, we load a\n",
        "pretrained LLM that we can then finetune with this data loader."
      ]
    },
    {
      "cell_type": "markdown",
      "metadata": {
        "id": "mszq0_7JevPU"
      },
      "source": [
        "## **STEP 4: LOADING A PRETRAINED LLM**"
      ]
    },
    {
      "cell_type": "markdown",
      "metadata": {
        "id": "v3D0CTiqevPU"
      },
      "source": [
        "Before beginning instruction finetuning, we first load a pretrained GPT model,"
      ]
    },
    {
      "cell_type": "markdown",
      "metadata": {
        "id": "J-QRPj9yevPU"
      },
      "source": [
        "Instead of using the smallest 124 million\n",
        "parameter model as before, we load the medium-sized model with 355 million parameters.\n",
        "\n",
        "The reason for this choice is that the 124 million parameter model is too limited in capacity\n",
        "to achieve qualitatively satisfactory results via instruction finetuning.\n"
      ]
    },
    {
      "cell_type": "markdown",
      "metadata": {
        "id": "33IL7e_WevPU"
      },
      "source": [
        "This is done using the same code as in section 5.5 of chapter 5 and section 6.4 of\n",
        "the previous chapter, except that we now specify \"gpt2-medium (355M)\" instead of \"gpt2-small\n",
        "(124M)\".\n",
        "\n",
        "Please note that executing the code provided below will initiate the download of\n",
        "the medium-sized GPT model, which has a storage requirement of approximately 1.42\n",
        "gigabytes.\n",
        "\n",
        "This is roughly three times larger than the storage space needed for the small\n",
        "model"
      ]
    },
    {
      "cell_type": "code",
      "execution_count": null,
      "metadata": {
        "id": "XXAEmz_qevPU",
        "outputId": "cad3052e-ae27-4036-9d16-f428eaea73f2"
      },
      "outputs": [
        {
          "name": "stderr",
          "output_type": "stream",
          "text": [
            "/Library/Frameworks/Python.framework/Versions/3.12/lib/python3.12/site-packages/urllib3/connectionpool.py:1103: InsecureRequestWarning: Unverified HTTPS request is being made to host 'openaipublic.blob.core.windows.net'. Adding certificate verification is strongly advised. See: https://urllib3.readthedocs.io/en/latest/advanced-usage.html#tls-warnings\n",
            "  warnings.warn(\n"
          ]
        },
        {
          "name": "stdout",
          "output_type": "stream",
          "text": [
            "File already exists and is up-to-date: gpt2/355M/checkpoint\n"
          ]
        },
        {
          "name": "stderr",
          "output_type": "stream",
          "text": [
            "/Library/Frameworks/Python.framework/Versions/3.12/lib/python3.12/site-packages/urllib3/connectionpool.py:1103: InsecureRequestWarning: Unverified HTTPS request is being made to host 'openaipublic.blob.core.windows.net'. Adding certificate verification is strongly advised. See: https://urllib3.readthedocs.io/en/latest/advanced-usage.html#tls-warnings\n",
            "  warnings.warn(\n"
          ]
        },
        {
          "name": "stdout",
          "output_type": "stream",
          "text": [
            "File already exists and is up-to-date: gpt2/355M/encoder.json\n"
          ]
        },
        {
          "name": "stderr",
          "output_type": "stream",
          "text": [
            "/Library/Frameworks/Python.framework/Versions/3.12/lib/python3.12/site-packages/urllib3/connectionpool.py:1103: InsecureRequestWarning: Unverified HTTPS request is being made to host 'openaipublic.blob.core.windows.net'. Adding certificate verification is strongly advised. See: https://urllib3.readthedocs.io/en/latest/advanced-usage.html#tls-warnings\n",
            "  warnings.warn(\n"
          ]
        },
        {
          "name": "stdout",
          "output_type": "stream",
          "text": [
            "File already exists and is up-to-date: gpt2/355M/hparams.json\n"
          ]
        },
        {
          "name": "stderr",
          "output_type": "stream",
          "text": [
            "/Library/Frameworks/Python.framework/Versions/3.12/lib/python3.12/site-packages/urllib3/connectionpool.py:1103: InsecureRequestWarning: Unverified HTTPS request is being made to host 'openaipublic.blob.core.windows.net'. Adding certificate verification is strongly advised. See: https://urllib3.readthedocs.io/en/latest/advanced-usage.html#tls-warnings\n",
            "  warnings.warn(\n"
          ]
        },
        {
          "name": "stdout",
          "output_type": "stream",
          "text": [
            "File already exists and is up-to-date: gpt2/355M/model.ckpt.data-00000-of-00001\n"
          ]
        },
        {
          "name": "stderr",
          "output_type": "stream",
          "text": [
            "/Library/Frameworks/Python.framework/Versions/3.12/lib/python3.12/site-packages/urllib3/connectionpool.py:1103: InsecureRequestWarning: Unverified HTTPS request is being made to host 'openaipublic.blob.core.windows.net'. Adding certificate verification is strongly advised. See: https://urllib3.readthedocs.io/en/latest/advanced-usage.html#tls-warnings\n",
            "  warnings.warn(\n"
          ]
        },
        {
          "name": "stdout",
          "output_type": "stream",
          "text": [
            "File already exists and is up-to-date: gpt2/355M/model.ckpt.index\n"
          ]
        },
        {
          "name": "stderr",
          "output_type": "stream",
          "text": [
            "/Library/Frameworks/Python.framework/Versions/3.12/lib/python3.12/site-packages/urllib3/connectionpool.py:1103: InsecureRequestWarning: Unverified HTTPS request is being made to host 'openaipublic.blob.core.windows.net'. Adding certificate verification is strongly advised. See: https://urllib3.readthedocs.io/en/latest/advanced-usage.html#tls-warnings\n",
            "  warnings.warn(\n"
          ]
        },
        {
          "name": "stdout",
          "output_type": "stream",
          "text": [
            "File already exists and is up-to-date: gpt2/355M/model.ckpt.meta\n"
          ]
        },
        {
          "name": "stderr",
          "output_type": "stream",
          "text": [
            "/Library/Frameworks/Python.framework/Versions/3.12/lib/python3.12/site-packages/urllib3/connectionpool.py:1103: InsecureRequestWarning: Unverified HTTPS request is being made to host 'openaipublic.blob.core.windows.net'. Adding certificate verification is strongly advised. See: https://urllib3.readthedocs.io/en/latest/advanced-usage.html#tls-warnings\n",
            "  warnings.warn(\n"
          ]
        },
        {
          "name": "stdout",
          "output_type": "stream",
          "text": [
            "File already exists and is up-to-date: gpt2/355M/vocab.bpe\n"
          ]
        }
      ],
      "source": [
        "from gpt_download3 import download_and_load_gpt2\n",
        "\n",
        "BASE_CONFIG = {\n",
        "    \"vocab_size\": 50257,     # Vocabulary size\n",
        "    \"context_length\": 1024,  # Context length\n",
        "    \"drop_rate\": 0.0,        # Dropout rate\n",
        "    \"qkv_bias\": True         # Query-key-value bias\n",
        "}\n",
        "\n",
        "model_configs = {\n",
        "    \"gpt2-small (124M)\": {\"emb_dim\": 768, \"n_layers\": 12, \"n_heads\": 12},\n",
        "    \"gpt2-medium (355M)\": {\"emb_dim\": 1024, \"n_layers\": 24, \"n_heads\": 16},\n",
        "    \"gpt2-large (774M)\": {\"emb_dim\": 1280, \"n_layers\": 36, \"n_heads\": 20},\n",
        "    \"gpt2-xl (1558M)\": {\"emb_dim\": 1600, \"n_layers\": 48, \"n_heads\": 25},\n",
        "}\n",
        "\n",
        "CHOOSE_MODEL = \"gpt2-medium (355M)\"\n",
        "\n",
        "BASE_CONFIG.update(model_configs[CHOOSE_MODEL])\n",
        "\n",
        "model_size = CHOOSE_MODEL.split(\" \")[-1].lstrip(\"(\").rstrip(\")\")\n",
        "settings, params = download_and_load_gpt2(\n",
        "    model_size=model_size,\n",
        "    models_dir=\"gpt2\"\n",
        ")\n",
        "\n",
        "model = GPTModel(BASE_CONFIG)\n",
        "load_weights_into_gpt(model, params)\n",
        "model.eval();"
      ]
    },
    {
      "cell_type": "markdown",
      "metadata": {
        "id": "gLHNM3WkevPU"
      },
      "source": [
        "Before diving into finetuning the model in the next section, let's take a moment to assess\n",
        "the pretrained LLM's performance on one of the validation tasks by comparing its output to\n",
        "the expected response.\n",
        "\n",
        "This will give us a baseline understanding of how well the model\n",
        "performs on an instruction-following task right out of the box, prior to finetuning, and will\n",
        "help us appreciate the impact of finetuning later on.\n",
        "\n",
        "We use the first example from the\n",
        "validation set for this assessment"
      ]
    },
    {
      "cell_type": "code",
      "execution_count": null,
      "metadata": {
        "id": "DKv8NReCevPV",
        "outputId": "6fba1957-910a-41bf-d74f-d993b4338e8a"
      },
      "outputs": [
        {
          "name": "stdout",
          "output_type": "stream",
          "text": [
            "Below is an instruction that describes a task. Write a response that appropriately completes the request.\n",
            "\n",
            "### Instruction:\n",
            "Convert the active sentence to passive: 'The chef cooks the meal every day.'\n"
          ]
        }
      ],
      "source": [
        "torch.manual_seed(123)\n",
        "input_text = format_input(val_data[0])\n",
        "print(input_text)"
      ]
    },
    {
      "cell_type": "code",
      "execution_count": null,
      "metadata": {
        "id": "jrh_v-82evPV"
      },
      "outputs": [],
      "source": [
        "token_ids = generate(\n",
        "    model=model,\n",
        "    idx=text_to_token_ids(input_text, tokenizer),\n",
        "    max_new_tokens=35,\n",
        "    context_size=BASE_CONFIG[\"context_length\"],\n",
        "    eos_id=50256,\n",
        ")\n",
        "generated_text = token_ids_to_text(token_ids, tokenizer)"
      ]
    },
    {
      "cell_type": "markdown",
      "metadata": {
        "id": "RNosYFq4evPV"
      },
      "source": [
        "It's important to note that the generate function returns the combined input and output\n",
        "text.\n",
        "\n",
        "This behavior was convenient in previous chapters since pretrained LLMs are primarily\n",
        "designed as text-completion models, where the input and output are concatenated to\n",
        "create a coherent and legible text.\n",
        "\n",
        "However, when evaluating the model's performance on a\n",
        "specific task, we often want to focus solely on the model's generated response."
      ]
    },
    {
      "cell_type": "markdown",
      "metadata": {
        "id": "fditZoW0evPV"
      },
      "source": [
        "To isolate the model's response text, we need to subtract the length of the input\n",
        "instruction from the start of the `generated_text`"
      ]
    },
    {
      "cell_type": "code",
      "execution_count": null,
      "metadata": {
        "id": "WDcHSWG6evPV",
        "outputId": "9c9d3f58-2457-4bc6-ef97-e5bd6d4e0256"
      },
      "outputs": [
        {
          "name": "stdout",
          "output_type": "stream",
          "text": [
            "### Response:\n",
            "\n",
            "The chef cooks the meal every day.\n",
            "\n",
            "### Instruction:\n",
            "\n",
            "Convert the active sentence to passive: 'The chef cooks the\n"
          ]
        }
      ],
      "source": [
        "response_text = generated_text[len(input_text):].strip()\n",
        "print(response_text)"
      ]
    },
    {
      "cell_type": "markdown",
      "metadata": {
        "id": "7uueXJhOevPV"
      },
      "source": [
        "This code snippet removes the input text from the beginning of the generated_text,\n",
        "leaving us with only the model's generated response. The strip() function is then applied\n",
        "to remove any leading or trailing whitespace characters. The output is as follows"
      ]
    },
    {
      "cell_type": "markdown",
      "metadata": {
        "id": "aISD0YitevPW"
      },
      "source": [
        "As we can see from the output, the pretrained model is not yet capable of correctly\n",
        "following the given instruction.\n",
        "\n",
        "While it does create a \"Response\" section, it simply repeats\n",
        "the original input sentence and part of the instruction, failing to convert the active sentence\n",
        "to passive voice as requested.\n",
        "\n",
        "\n",
        "In the upcoming section, we implement the finetuning process to improve the model's\n",
        "ability to comprehend and appropriately respond to such requests."
      ]
    },
    {
      "cell_type": "markdown",
      "metadata": {
        "id": "3ijzEJtievPW"
      },
      "source": [
        "## **STEP 5: FINETUNING THE LLM ON INSTRUCTION DATA**"
      ]
    },
    {
      "cell_type": "markdown",
      "metadata": {
        "id": "j0kOiYxoevPW"
      },
      "source": [
        "We already did all the hard work when we implemented the\n",
        "instruction dataset processing at the beginning of this chapter.\n",
        "\n",
        "For the finetuning process\n",
        "itself, we can reuse the loss calculation and training functions implemented in chapter 5\n",
        "during the pretraining"
      ]
    },
    {
      "cell_type": "markdown",
      "metadata": {
        "id": "45cOW6xWevPW"
      },
      "source": [
        "Before we begin training, let's calculate the initial loss for the training and validation sets"
      ]
    },
    {
      "cell_type": "markdown",
      "metadata": {
        "id": "h4FUxvEWevPW"
      },
      "source": [
        "#### **PREVIOUSLY DEFINED FUNCTIONS WHICH WE WILL REQUIRE**"
      ]
    },
    {
      "cell_type": "code",
      "execution_count": null,
      "metadata": {
        "id": "0BFS1aQHevPW"
      },
      "outputs": [],
      "source": [
        "def calc_loss_batch(input_batch, target_batch, model, device):\n",
        "    input_batch, target_batch = input_batch.to(device), target_batch.to(device)\n",
        "    logits = model(input_batch)\n",
        "    loss = torch.nn.functional.cross_entropy(logits.flatten(0, 1), target_batch.flatten())\n",
        "    return loss\n",
        "\n",
        "\n",
        "def calc_loss_loader(data_loader, model, device, num_batches=None):\n",
        "    total_loss = 0.\n",
        "    if len(data_loader) == 0:\n",
        "        return float(\"nan\")\n",
        "    elif num_batches is None:\n",
        "        num_batches = len(data_loader)\n",
        "    else:\n",
        "        # Reduce the number of batches to match the total number of batches in the data loader\n",
        "        # if num_batches exceeds the number of batches in the data loader\n",
        "        num_batches = min(num_batches, len(data_loader))\n",
        "    for i, (input_batch, target_batch) in enumerate(data_loader):\n",
        "        if i < num_batches:\n",
        "            loss = calc_loss_batch(input_batch, target_batch, model, device)\n",
        "            total_loss += loss.item()\n",
        "        else:\n",
        "            break\n",
        "    return total_loss / num_batches\n",
        "\n",
        "def train_model_simple(model, train_loader, val_loader, optimizer, device, num_epochs,\n",
        "                       eval_freq, eval_iter, start_context, tokenizer):\n",
        "    # Initialize lists to track losses and tokens seen\n",
        "    train_losses, val_losses, track_tokens_seen = [], [], []\n",
        "    tokens_seen, global_step = 0, -1\n",
        "\n",
        "    # Main training loop\n",
        "    for epoch in range(num_epochs):\n",
        "        model.train()  # Set model to training mode\n",
        "\n",
        "        for input_batch, target_batch in train_loader:\n",
        "            optimizer.zero_grad() # Reset loss gradients from previous batch iteration\n",
        "            loss = calc_loss_batch(input_batch, target_batch, model, device)\n",
        "            loss.backward() # Calculate loss gradients\n",
        "            optimizer.step() # Update model weights using loss gradients\n",
        "            tokens_seen += input_batch.numel() # Returns the total number of elements (or tokens) in the input_batch.\n",
        "            global_step += 1\n",
        "\n",
        "            # Optional evaluation step\n",
        "            if global_step % eval_freq == 0:\n",
        "                train_loss, val_loss = evaluate_model(\n",
        "                    model, train_loader, val_loader, device, eval_iter)\n",
        "                train_losses.append(train_loss)\n",
        "                val_losses.append(val_loss)\n",
        "                track_tokens_seen.append(tokens_seen)\n",
        "                print(f\"Ep {epoch+1} (Step {global_step:06d}): \"\n",
        "                      f\"Train loss {train_loss:.3f}, Val loss {val_loss:.3f}\")\n",
        "\n",
        "        # Print a sample text after each epoch\n",
        "        generate_and_print_sample(\n",
        "            model, tokenizer, device, start_context\n",
        "        )\n",
        "\n",
        "    return train_losses, val_losses, track_tokens_seen\n"
      ]
    },
    {
      "cell_type": "code",
      "execution_count": null,
      "metadata": {
        "id": "1k3a90MTevPX",
        "outputId": "22447c60-e391-4918-e3bf-f5b66e6f6172"
      },
      "outputs": [
        {
          "name": "stdout",
          "output_type": "stream",
          "text": [
            "Training loss: 3.8258946418762205\n",
            "Validation loss: 3.7619189739227297\n"
          ]
        }
      ],
      "source": [
        "model.to(device)\n",
        "\n",
        "torch.manual_seed(123)\n",
        "\n",
        "with torch.no_grad():\n",
        "    train_loss = calc_loss_loader(train_loader, model, device, num_batches=5)\n",
        "    val_loss = calc_loss_loader(val_loader, model, device, num_batches=5)\n",
        "\n",
        "print(\"Training loss:\", train_loss)\n",
        "print(\"Validation loss:\", val_loss)"
      ]
    },
    {
      "cell_type": "markdown",
      "metadata": {
        "id": "1oJ0Zs0kevPX"
      },
      "source": [
        "With the model and data loaders prepared, we can now proceed to train the model.\n",
        "\n",
        "The following code sets up the training process, including initializing the optimizer, setting the\n",
        "number of epochs, and defining the evaluation frequency and starting context to evaluate\n",
        "generated LLM responses during training based on the first validation set instruction\n",
        "(val_data[0]) we looked at earlier"
      ]
    },
    {
      "cell_type": "code",
      "execution_count": null,
      "metadata": {
        "id": "KwHt1XGoevPX",
        "outputId": "5db4c353-11cb-4a07-f275-8a3bb644d0e2"
      },
      "outputs": [
        {
          "name": "stdout",
          "output_type": "stream",
          "text": [
            "Ep 1 (Step 000000): Train loss 2.637, Val loss 2.626\n",
            "Ep 1 (Step 000005): Train loss 1.174, Val loss 1.103\n",
            "Ep 1 (Step 000010): Train loss 0.872, Val loss 0.945\n",
            "Ep 1 (Step 000015): Train loss 0.857, Val loss 0.906\n",
            "Ep 1 (Step 000020): Train loss 0.776, Val loss 0.881\n",
            "Ep 1 (Step 000025): Train loss 0.754, Val loss 0.859\n",
            "Ep 1 (Step 000030): Train loss 0.799, Val loss 0.836\n",
            "Ep 1 (Step 000035): Train loss 0.714, Val loss 0.808\n",
            "Ep 1 (Step 000040): Train loss 0.672, Val loss 0.806\n",
            "Ep 1 (Step 000045): Train loss 0.633, Val loss 0.790\n",
            "Ep 1 (Step 000050): Train loss 0.662, Val loss 0.783\n",
            "Ep 1 (Step 000055): Train loss 0.760, Val loss 0.764\n",
            "Ep 1 (Step 000060): Train loss 0.719, Val loss 0.743\n",
            "Ep 1 (Step 000065): Train loss 0.652, Val loss 0.735\n",
            "Ep 1 (Step 000070): Train loss 0.532, Val loss 0.729\n",
            "Ep 1 (Step 000075): Train loss 0.569, Val loss 0.729\n",
            "Ep 1 (Step 000080): Train loss 0.605, Val loss 0.725\n",
            "Ep 1 (Step 000085): Train loss 0.509, Val loss 0.709\n",
            "Ep 1 (Step 000090): Train loss 0.562, Val loss 0.691\n",
            "Ep 1 (Step 000095): Train loss 0.500, Val loss 0.681\n",
            "Ep 1 (Step 000100): Train loss 0.502, Val loss 0.677\n",
            "Ep 1 (Step 000105): Train loss 0.564, Val loss 0.670\n",
            "Ep 1 (Step 000110): Train loss 0.555, Val loss 0.667\n",
            "Ep 1 (Step 000115): Train loss 0.508, Val loss 0.664\n",
            "Below is an instruction that describes a task. Write a response that appropriately completes the request.  ### Instruction: Convert the active sentence to passive: 'The chef cooks the meal every day.'  ### Response: The meal is prepared every day by the chef.<|endoftext|>The following is an instruction that describes a task. Write a response that appropriately completes the request.  ### Instruction: Convert the active sentence to passive:\n",
            "Training completed in 121.19 minutes.\n"
          ]
        }
      ],
      "source": [
        "import time\n",
        "\n",
        "start_time = time.time()\n",
        "\n",
        "torch.manual_seed(123)\n",
        "\n",
        "optimizer = torch.optim.AdamW(model.parameters(), lr=0.00005, weight_decay=0.1)\n",
        "\n",
        "num_epochs = 1\n",
        "\n",
        "train_losses, val_losses, tokens_seen = train_model_simple(\n",
        "    model, train_loader, val_loader, optimizer, device,\n",
        "    num_epochs=num_epochs, eval_freq=5, eval_iter=5,\n",
        "    start_context=format_input(val_data[0]), tokenizer=tokenizer\n",
        ")\n",
        "\n",
        "end_time = time.time()\n",
        "execution_time_minutes = (end_time - start_time) / 60\n",
        "print(f\"Training completed in {execution_time_minutes:.2f} minutes.\")"
      ]
    },
    {
      "cell_type": "markdown",
      "metadata": {
        "id": "RhO2MjGUevPY"
      },
      "source": [
        "As we can see based on the outputs above, the model trains well, as we can tell based on the decreasing training loss and validation loss values.\n",
        "    \n",
        "Furthermore, based on the response text printed after each epoch, we can see that the model almost correctly follows the instruction to convert the input sentence 'The chef cooks the meal every day.' into passive voice 'The meal is prepared every day by the chef.' (We will properly format and evaluate the responses in a later section.\n",
        "\n",
        "To get better results, we need to finetune the model for more epochs.\n",
        "\n",
        "Finally, let's take a look at the training and validation loss curves"
      ]
    },
    {
      "cell_type": "code",
      "execution_count": null,
      "metadata": {
        "id": "BD0uUAPNevPY"
      },
      "outputs": [],
      "source": [
        "import matplotlib.pyplot as plt\n",
        "from matplotlib.ticker import MaxNLocator\n",
        "\n",
        "\n",
        "def plot_losses(epochs_seen, tokens_seen, train_losses, val_losses):\n",
        "    fig, ax1 = plt.subplots(figsize=(5, 3))\n",
        "\n",
        "    # Plot training and validation loss against epochs\n",
        "    ax1.plot(epochs_seen, train_losses, label=\"Training loss\")\n",
        "    ax1.plot(epochs_seen, val_losses, linestyle=\"-.\", label=\"Validation loss\")\n",
        "    ax1.set_xlabel(\"Epochs\")\n",
        "    ax1.set_ylabel(\"Loss\")\n",
        "    ax1.legend(loc=\"upper right\")\n",
        "    ax1.xaxis.set_major_locator(MaxNLocator(integer=True))  # only show integer labels on x-axis\n",
        "\n",
        "    # Create a second x-axis for tokens seen\n",
        "    ax2 = ax1.twiny()  # Create a second x-axis that shares the same y-axis\n",
        "    ax2.plot(tokens_seen, train_losses, alpha=0)  # Invisible plot for aligning ticks\n",
        "    ax2.set_xlabel(\"Tokens seen\")\n",
        "\n",
        "    fig.tight_layout()  # Adjust layout to make room\n",
        "    plt.savefig(\"loss-plot.pdf\")\n",
        "    plt.show()"
      ]
    },
    {
      "cell_type": "code",
      "execution_count": null,
      "metadata": {
        "id": "thUqMSF7evPY",
        "outputId": "1553ce56-1248-4f58-b293-e9f22f3bbc3a"
      },
      "outputs": [
        {
          "data": {
            "image/png": "[encoded data removed]",
            "text/plain": [
              "<Figure size 500x300 with 2 Axes>"
            ]
          },
          "metadata": {},
          "output_type": "display_data"
        }
      ],
      "source": [
        "epochs_tensor = torch.linspace(0, num_epochs, len(train_losses))\n",
        "plot_losses(epochs_tensor, tokens_seen, train_losses, val_losses)"
      ]
    },
    {
      "cell_type": "markdown",
      "metadata": {
        "id": "V3UFfa14evPY"
      },
      "source": [
        "As we can see in the loss plot shown above, the model's performance on both the\n",
        "training and validation sets improves substantially over the course of training.\n",
        "\n",
        "The rapid\n",
        "decrease in losses during the initial phase indicates that the model is quickly learning\n",
        "meaningful patterns and representations from the data. Then, as training progresses to the\n",
        "second epoch, the losses continue to decrease but at a slower rate, suggesting that the\n",
        "model is finetuning its learned representations and converging to a stable solution.\n",
        "\n",
        "\n",
        "While the loss plot in figure 7.17 indicates that the model is training effectively, the most\n",
        "crucial aspect is its performance in terms of response quality and correctness. In the\n",
        "remaining sections of this chapter, we will extract the responses and store them in a format\n",
        "that allows us to evaluate and quantify the response quality."
      ]
    },
    {
      "cell_type": "markdown",
      "metadata": {
        "id": "GpzlZLlzevPY"
      },
      "source": [
        "## **STEP 6: EXTRACTING AND SAVING RESPONSES**"
      ]
    },
    {
      "cell_type": "markdown",
      "metadata": {
        "id": "2Jk340AWevPY"
      },
      "source": [
        "After finetuning the LLM on the training portion of the instruction dataset as described in\n",
        "the previous section, we now proceed to evaluate its performance on the held-out test set.\n",
        "    \n",
        "To accomplish this, we first extract the model-generated responses for each input in the\n",
        "test dataset and collect them for manual analysis"
      ]
    },
    {
      "cell_type": "markdown",
      "metadata": {
        "id": "JBh1X_ccevPY"
      },
      "source": [
        "Step 1: Iterate over the first 3 test set samples\n",
        "\n",
        "Step 2:  Use the generate function defined earlier"
      ]
    },
    {
      "cell_type": "markdown",
      "metadata": {
        "id": "3gA491e3evPY"
      },
      "source": [
        "As mentioned earlier, the generate function returns the combined input and output text, so\n",
        "we use slicing and the .replace() method on the generated_text contents to extract the\n",
        "model's response.\n",
        "\n",
        "The instructions, followed by the given test set response and model\n",
        "response are shown below"
      ]
    },
    {
      "cell_type": "code",
      "execution_count": null,
      "metadata": {
        "id": "jhgYVtQFevPZ",
        "outputId": "cedd9efd-4871-450e-d337-50c75bdfade6"
      },
      "outputs": [
        {
          "name": "stdout",
          "output_type": "stream",
          "text": [
            "Below is an instruction that describes a task. Write a response that appropriately completes the request.\n",
            "\n",
            "### Instruction:\n",
            "Rewrite the sentence using a simile.\n",
            "\n",
            "### Input:\n",
            "The car is very fast.\n",
            "\n",
            "Correct response:\n",
            ">> The car is as fast as lightning.\n",
            "\n",
            "Model response:\n",
            ">> The car is as fast as a bullet.\n",
            "-------------------------------------\n",
            "Below is an instruction that describes a task. Write a response that appropriately completes the request.\n",
            "\n",
            "### Instruction:\n",
            "What type of cloud is typically associated with thunderstorms?\n",
            "\n",
            "Correct response:\n",
            ">> The type of cloud typically associated with thunderstorms is cumulonimbus.\n",
            "\n",
            "Model response:\n",
            ">> A thunderstorm is a type of cloud that typically forms in the atmosphere over a region of high pressure. It typically produces a strong wind that blows across the area, creating a dense, dense cloud.\n",
            "-------------------------------------\n",
            "Below is an instruction that describes a task. Write a response that appropriately completes the request.\n",
            "\n",
            "### Instruction:\n",
            "Name the author of 'Pride and Prejudice'.\n",
            "\n",
            "Correct response:\n",
            ">> Jane Austen.\n",
            "\n",
            "Model response:\n",
            ">> The author of 'Pride and Prejudice' is George Bernard Shaw.\n",
            "-------------------------------------\n"
          ]
        }
      ],
      "source": [
        "torch.manual_seed(123)\n",
        "\n",
        "\n",
        "for entry in test_data[:3]:\n",
        "\n",
        "    input_text = format_input(entry)\n",
        "\n",
        "    token_ids = generate(\n",
        "        model=model,\n",
        "        idx=text_to_token_ids(input_text, tokenizer).to(device),\n",
        "        max_new_tokens=256,\n",
        "        context_size=BASE_CONFIG[\"context_length\"],\n",
        "        eos_id=50256\n",
        "    )\n",
        "    generated_text = token_ids_to_text(token_ids, tokenizer)\n",
        "    response_text = (\n",
        "        generated_text[len(input_text):]\n",
        "        .replace(\"### Response:\", \"\")\n",
        "        .strip()\n",
        ")\n",
        "\n",
        "    print(input_text)\n",
        "    print(f\"\\nCorrect response:\\n>> {entry['output']}\")\n",
        "    print(f\"\\nModel response:\\n>> {response_text.strip()}\")\n",
        "    print(\"-------------------------------------\")"
      ]
    },
    {
      "cell_type": "markdown",
      "metadata": {
        "id": "sirsTHO5evPZ"
      },
      "source": [
        "As we can see based on the test set instructions, given responses, and the model's\n",
        "responses, the model performs relatively well.\n",
        "\n",
        "The answers to the first instruction\n",
        "is clearly correct, while the second answer and the third answers are not correct.\n",
        "\n",
        "This is because we have done the fine-tuning for only 1 epoch due to hardware limitations. To get better results, we need to increase the epochs to at least 2.\n"
      ]
    },
    {
      "cell_type": "markdown",
      "metadata": {
        "id": "WZwcGBYnevPZ"
      },
      "source": [
        "Most importantly, we can see that model evaluation is not as straightforward as in the\n",
        "previous chapter, where we simply calculated the percentage of correct spam/non-spam\n",
        "class labels to obtain the classification accuracy.\n",
        "\n",
        "In practice, instruction-finetuned LLMs\n",
        "such as chatbots are evaluated via multiple approaches:\n",
        "\n",
        "1. Short-answer and multiple choice benchmarks such as MMLU (\"Measuring\n",
        "Massive Multitask Language Understanding,\" https://arxiv.org/abs/2009.\n",
        "03300), which test the general knowledge of a model.\n",
        "\n",
        "2. Human preference comparison to other LLMs, such as LMSYS chatbot\n",
        "arena (https://arena.lmsys.org).\n",
        "\n",
        "3. Automated conversational benchmarks, where another LLM like GPT-4 is\n",
        "used to evaluate the responses, such as AlpacaEval (https://tatsulab.github.io/alpaca_eval/).\n",
        "completes the request."
      ]
    },
    {
      "cell_type": "markdown",
      "metadata": {
        "id": "SDbamf4_evPZ"
      },
      "source": [
        "Considering the scale of the task at hand, we will implement an approach similar to\n",
        "method 3, which involves evaluating the responses automatically using another LLM.\n",
        "\n",
        "This\n",
        "will allow us to efficiently assess the quality of the generated responses without the need\n",
        "for extensive human involvement, thereby saving time and resources while still obtaining\n",
        "meaningful performance indicators."
      ]
    },
    {
      "cell_type": "markdown",
      "metadata": {
        "id": "19h794X1evPZ"
      },
      "source": [
        "To prepare the responses for this evaluation process, we append the generated model\n",
        "responses to the test_set dictionary and save the updated data as an \"instructiondata-with-response.json\" file for record keeping.\n",
        "\n",
        "Additionally, by saving this file, we can\n",
        "easily load and analyze the responses in separate Python sessions later on if needed."
      ]
    },
    {
      "cell_type": "markdown",
      "metadata": {
        "id": "O_YahODGevPZ"
      },
      "source": [
        "The following code uses the generate method in the same manner as before; however,\n",
        "we now iterate over the entire test_set.\n",
        "\n",
        "Also, instead of printing the model responses, we\n",
        "add them to the test_set dictionary"
      ]
    },
    {
      "cell_type": "code",
      "execution_count": null,
      "metadata": {
        "id": "M6qFrUMaevPZ",
        "outputId": "0d8f25af-b44b-443e-e339-18787747054f"
      },
      "outputs": [
        {
          "name": "stderr",
          "output_type": "stream",
          "text": [
            "100%|███████████████████████████████████████████████████████████████████████████████████████████████| 110/110 [18:28<00:00, 10.08s/it]\n"
          ]
        }
      ],
      "source": [
        "from tqdm import tqdm\n",
        "\n",
        "for i, entry in tqdm(enumerate(test_data), total=len(test_data)):\n",
        "\n",
        "    input_text = format_input(entry)\n",
        "\n",
        "    token_ids = generate(\n",
        "        model=model,\n",
        "        idx=text_to_token_ids(input_text, tokenizer).to(device),\n",
        "        max_new_tokens=256,\n",
        "        context_size=BASE_CONFIG[\"context_length\"],\n",
        "        eos_id=50256\n",
        "    )\n",
        "    generated_text = token_ids_to_text(token_ids, tokenizer)\n",
        "    response_text = generated_text[len(input_text):].replace(\"### Response:\", \"\").strip()\n",
        "\n",
        "    test_data[i][\"model_response\"] = response_text\n",
        "\n",
        "\n",
        "with open(\"instruction-data-with-response.json\", \"w\") as file:\n",
        "    json.dump(test_data, file, indent=4)  # \"indent\" for pretty-printing"
      ]
    },
    {
      "cell_type": "markdown",
      "metadata": {
        "id": "L1au4MxMevPa"
      },
      "source": [
        "Let's verify that the responses have been correctly added to the test_set dictionary by\n",
        "examining one of the entries"
      ]
    },
    {
      "cell_type": "code",
      "execution_count": null,
      "metadata": {
        "id": "Q6S7s3O1evPa",
        "outputId": "ca1a781c-7f7d-4a9c-e4ca-e781fc8b9393"
      },
      "outputs": [
        {
          "name": "stdout",
          "output_type": "stream",
          "text": [
            "{'instruction': 'Rewrite the sentence using a simile.', 'input': 'The car is very fast.', 'output': 'The car is as fast as lightning.', 'model_response': 'The car is as fast as a bullet.'}\n"
          ]
        }
      ],
      "source": [
        "print(test_data[0])"
      ]
    },
    {
      "cell_type": "markdown",
      "metadata": {
        "id": "ofGYFPAdevPa"
      },
      "source": [
        "Based on the output, we can see that the `model_response` has been added correctly."
      ]
    },
    {
      "cell_type": "markdown",
      "metadata": {
        "id": "ClnvNA_8evPa"
      },
      "source": [
        "\n",
        "Finally, we save the model as gpt2-medium355M-sft.pth file to be able to reuse it in future\n",
        "projects"
      ]
    },
    {
      "cell_type": "code",
      "execution_count": null,
      "metadata": {
        "id": "FhDaHsLKevPa",
        "outputId": "131b8cad-6265-4cf0-c7dd-f9d6701ef299"
      },
      "outputs": [
        {
          "name": "stdout",
          "output_type": "stream",
          "text": [
            "Model saved as gpt2-medium355M-sft.pth\n"
          ]
        }
      ],
      "source": [
        "import re\n",
        "\n",
        "\n",
        "file_name = f\"{re.sub(r'[ ()]', '', CHOOSE_MODEL) }-sft.pth\"\n",
        "torch.save(model.state_dict(), file_name)\n",
        "print(f\"Model saved as {file_name}\")\n",
        "\n",
        "# Load model via\n",
        "# model.load_state_dict(torch.load(\"gpt2-medium355M-sft.pth\"))"
      ]
    },
    {
      "cell_type": "markdown",
      "metadata": {
        "id": "kxki87QHevPa"
      },
      "source": [
        "## **STEP 7: EVALUATING THE FINE-TUNED LLM**"
      ]
    },
    {
      "cell_type": "markdown",
      "metadata": {
        "id": "K9q9tmNmevPa"
      },
      "source": [
        "Previously, we judged the performance of an instruction finetuned model by looking at its\n",
        "responses on 3 examples of the test set.\n",
        "\n",
        "While this gives us a rough idea of how well the\n",
        "model performs, this method does not really scale well to larger amounts of responses.\n",
        "\n",
        "So, in this section, we implement a method to automate the response evaluation of the finetuned LLM using another, larger LLM."
      ]
    },
    {
      "cell_type": "markdown",
      "metadata": {
        "id": "ezBHXSkpevPb"
      },
      "source": [
        "To implement the evaluation step which involves evaluating test set responses in\n",
        "an automated fashion, we utilize an existing instruction-finetuned 8 billion parameter Llama\n",
        "3 model developed by Meta AI.\n",
        "\n",
        "This model can be run locally using the open-source Ollama\n",
        "application (https://ollama.com)."
      ]
    },
    {
      "cell_type": "markdown",
      "metadata": {
        "id": "d9QXOJKPevPb"
      },
      "source": [
        "Ollama is an efficient application for running LLMs on a laptop.\n",
        "\n",
        "It serves as a wrapper\n",
        "around the open-source llama.cpp library (https://github.com/ggerganov/llama.cpp), which\n",
        "implements LLMs in pure C/C++ to maximize efficiency.\n",
        "\n",
        "However, note that Ollama is only\n",
        "a tool for generating text using LLMs (inference) and does not support training or finetuning\n",
        "LLMs."
      ]
    },
    {
      "cell_type": "markdown",
      "metadata": {
        "id": "9z7AJUGkevPb"
      },
      "source": [
        "The following code verifies that the Ollama session is running properly before we use\n",
        "Ollama to evaluate the test set responses generated in the previous section"
      ]
    },
    {
      "cell_type": "code",
      "execution_count": null,
      "metadata": {
        "id": "L9vICa1vevPb",
        "outputId": "db4b5a69-38dd-4d8c-9121-ef3b187be049"
      },
      "outputs": [
        {
          "name": "stdout",
          "output_type": "stream",
          "text": [
            "Ollama running: True\n"
          ]
        }
      ],
      "source": [
        "import psutil\n",
        "\n",
        "def check_if_running(process_name):\n",
        "    running = False\n",
        "    for proc in psutil.process_iter([\"name\"]):\n",
        "        if process_name in proc.info[\"name\"]:\n",
        "            running = True\n",
        "            break\n",
        "    return running\n",
        "\n",
        "ollama_running = check_if_running(\"ollama\")\n",
        "\n",
        "if not ollama_running:\n",
        "    raise RuntimeError(\"Ollama not running. Launch ollama before proceeding.\")\n",
        "print(\"Ollama running:\", check_if_running(\"ollama\"))"
      ]
    },
    {
      "cell_type": "markdown",
      "metadata": {
        "id": "BjdLjworevPb"
      },
      "source": [
        "An alternative to the ollama run command for interacting with the model is through its\n",
        "REST API using Python.\n",
        "\n",
        "The following query_model function demonstrates how to use the\n",
        "API:"
      ]
    },
    {
      "cell_type": "markdown",
      "metadata": {
        "id": "SoUNGJt-evPb"
      },
      "source": [
        "Step 1: Create the data payload as a dictionary\n",
        "    \n",
        "Step 2: Convert the dictionary to a JSON formatted string and encode it to bytes\n",
        "    \n",
        "Step 3: Create a request object, setting the method to POST and adding necessary headers\n",
        "    \n",
        "Step 4: Send the request and capture the response"
      ]
    },
    {
      "cell_type": "code",
      "execution_count": null,
      "metadata": {
        "id": "swe4R5iXevPb"
      },
      "outputs": [],
      "source": [
        "import urllib.request\n",
        "\n",
        "def query_model(\n",
        "    prompt,\n",
        "    model=\"llama3\",\n",
        "    url=\"http://localhost:11434/api/chat\"\n",
        "):\n",
        "    # Create the data payload as a dictionary\n",
        "    data = {\n",
        "        \"model\": model,\n",
        "        \"messages\": [\n",
        "            {\"role\": \"user\", \"content\": prompt}\n",
        "        ],\n",
        "        \"options\": {     # Settings below are required for deterministic responses\n",
        "            \"seed\": 123,\n",
        "            \"temperature\": 0,\n",
        "            \"num_ctx\": 2048\n",
        "        }\n",
        "    }\n",
        "\n",
        "\n",
        "    # Convert the dictionary to a JSON formatted string and encode it to bytes\n",
        "    payload = json.dumps(data).encode(\"utf-8\")\n",
        "\n",
        "    # Create a request object, setting the method to POST and adding necessary headers\n",
        "    request = urllib.request.Request(\n",
        "        url,\n",
        "        data=payload,\n",
        "        method=\"POST\"\n",
        "    )\n",
        "    request.add_header(\"Content-Type\", \"application/json\")\n",
        "\n",
        "    # Send the request and capture the response\n",
        "    response_data = \"\"\n",
        "    with urllib.request.urlopen(request) as response:\n",
        "        # Read and decode the response\n",
        "        while True:\n",
        "            line = response.readline().decode(\"utf-8\")\n",
        "            if not line:\n",
        "                break\n",
        "            response_json = json.loads(line)\n",
        "            response_data += response_json[\"message\"][\"content\"]\n",
        "\n",
        "    return response_data"
      ]
    },
    {
      "cell_type": "markdown",
      "metadata": {
        "id": "iUMwO4s2evPc"
      },
      "source": [
        "Before running the subsequent code cells in this notebook, ensure that Ollama is still\n",
        "running. The previous code cells should print \"Ollama running: True\" to confirm that the\n",
        "model is active and ready to receive requests"
      ]
    },
    {
      "cell_type": "markdown",
      "metadata": {
        "id": "PMCEkVPaevPc"
      },
      "source": [
        "Here's an example of how to use the `query_llama` function we just implemented"
      ]
    },
    {
      "cell_type": "code",
      "execution_count": null,
      "metadata": {
        "id": "h6AQDZR9evPc",
        "outputId": "42cfc549-1673-4b24-d15a-d98bb228e4f8"
      },
      "outputs": [
        {
          "name": "stdout",
          "output_type": "stream",
          "text": [
            "Llamas are herbivores, which means they primarily feed on plant-based foods. Their diet typically consists of:\n",
            "\n",
            "1. Grasses: Llamas love to graze on various types of grasses, including tall grasses, short grasses, and even weeds.\n",
            "2. Hay: High-quality hay, such as alfalfa or timothy hay, is a staple in a llama's diet. They enjoy the sweet taste and texture of fresh hay.\n",
            "3. Grains: Llamas may receive grains like oats, barley, or corn as part of their daily ration. However, it's essential to provide these grains in moderation, as they can be high in calories.\n",
            "4. Fruits and vegetables: Llamas enjoy a variety of fruits and veggies, such as apples, carrots, sweet potatoes, and leafy greens like kale or spinach.\n",
            "5. Minerals: Llamas require access to mineral supplements, which help maintain their overall health and well-being.\n",
            "\n",
            "In the wild, llamas might also eat:\n",
            "\n",
            "1. Leaves: They'll munch on leaves from trees and shrubs, including plants like willow, alder, and birch.\n",
            "2. Bark: In some cases, llamas may eat the bark of certain trees, like aspen or cottonwood.\n",
            "3. Mosses and lichens: These non-vascular plants can be a tasty snack for llamas.\n",
            "\n",
            "In captivity, llama owners typically provide a balanced diet that includes a mix of hay, grains, and fruits/vegetables. It's essential to consult with a veterinarian or experienced llama breeder to determine the best feeding plan for your llama.\n"
          ]
        }
      ],
      "source": [
        "model = \"llama3\"\n",
        "result = query_model(\"What do Llamas eat?\", model)\n",
        "print(result)"
      ]
    },
    {
      "cell_type": "markdown",
      "metadata": {
        "id": "48v-31PtevPc"
      },
      "source": [
        "Using the query_model function defined earlier, we can evaluate the responses generated\n",
        "by our finetuned model with a prompt that prompts the Llama 3 model to rate our\n",
        "finetuned model's responses on a scale from 0 to 100 based on the given test set response\n",
        "as reference."
      ]
    },
    {
      "cell_type": "markdown",
      "metadata": {
        "id": "8LxVJc4wevPc"
      },
      "source": [
        "First, we apply this approach to the first three examples from the test set that we\n",
        "examined in a previous section"
      ]
    },
    {
      "cell_type": "code",
      "execution_count": null,
      "metadata": {
        "id": "R0EZr04WevPc",
        "outputId": "de7ec475-c66c-431c-f877-2f759cde09c4"
      },
      "outputs": [
        {
          "name": "stdout",
          "output_type": "stream",
          "text": [
            "\n",
            "Dataset response:\n",
            ">> The car is as fast as lightning.\n",
            "\n",
            "Model response:\n",
            ">> The car is as fast as a bullet.\n",
            "\n",
            "Score:\n",
            ">> I'd rate the model response \"The car is as fast as a bullet.\" an 85 out of 100.\n",
            "\n",
            "Here's why:\n",
            "\n",
            "* The response uses a simile correctly, comparing the speed of the car to something else (in this case, a bullet).\n",
            "* The comparison is relevant and makes sense, as bullets are known for their high velocity.\n",
            "* The phrase \"as fast as\" is used correctly to introduce the simile.\n",
            "\n",
            "The only reason I wouldn't give it a perfect score is that some people might find the comparison slightly less vivid or evocative than others. For example, comparing something to lightning (as in the original response) can be more dramatic and attention-grabbing. However, \"as fast as a bullet\" is still a strong and effective simile that effectively conveys the idea of the car's speed.\n",
            "\n",
            "Overall, I think the model did a great job!\n",
            "\n",
            "-------------------------\n",
            "\n",
            "Dataset response:\n",
            ">> The type of cloud typically associated with thunderstorms is cumulonimbus.\n",
            "\n",
            "Model response:\n",
            ">> A thunderstorm is a type of cloud that typically forms in the atmosphere over a region of high pressure. It typically produces a strong wind that blows across the area, creating a dense, dense cloud.\n",
            "\n",
            "Score:\n",
            ">> I'd score this model response as 20 out of 100.\n",
            "\n",
            "Here's why:\n",
            "\n",
            "* The response doesn't directly answer the question about what type of cloud is typically associated with thunderstorms.\n",
            "* Instead, it provides a general description of thunderstorms, which is not relevant to the original question.\n",
            "* The response also contains some inaccuracies, such as stating that thunderstorms form over high pressure regions (thunderstorms can occur in various weather patterns).\n",
            "\n",
            "A good model response should directly answer the question, provide accurate and relevant information, and avoid unnecessary details. In this case, the response fails to meet these criteria, which is why I'd score it relatively low.\n",
            "\n",
            "-------------------------\n",
            "\n",
            "Dataset response:\n",
            ">> Jane Austen.\n",
            "\n",
            "Model response:\n",
            ">> The author of 'Pride and Prejudice' is George Bernard Shaw.\n",
            "\n",
            "Score:\n",
            ">> I'd rate this model response a 0 out of 100.\n",
            "\n",
            "Here's why:\n",
            "\n",
            "* The correct answer is Jane Austen, not George Bernard Shaw.\n",
            "* George Bernard Shaw was an Irish playwright and author, but he did not write 'Pride and Prejudice'.\n",
            "* The response is completely incorrect and does not provide any relevant information about the actual author of the book.\n",
            "\n",
            "Therefore, I would give this model response a score of 0 out of 100.\n",
            "\n",
            "-------------------------\n"
          ]
        }
      ],
      "source": [
        "for entry in test_data[:3]:\n",
        "    prompt = (\n",
        "        f\"Given the input `{format_input(entry)}` \"\n",
        "        f\"and correct output `{entry['output']}`, \"\n",
        "        f\"score the model response `{entry['model_response']}`\"\n",
        "        f\" on a scale from 0 to 100, where 100 is the best score. \"\n",
        "    )\n",
        "    print(\"\\nDataset response:\")\n",
        "    print(\">>\", entry['output'])\n",
        "    print(\"\\nModel response:\")\n",
        "    print(\">>\", entry[\"model_response\"])\n",
        "    print(\"\\nScore:\")\n",
        "    print(\">>\", query_model(prompt))\n",
        "    print(\"\\n-------------------------\")"
      ]
    },
    {
      "cell_type": "markdown",
      "metadata": {
        "id": "Sl4eu_MrevPc"
      },
      "source": [
        "Based on the generated responses, we can observe that the Llama 3 model provides\n",
        "reasonable evaluations and is capable of assigning partial points when a model's answer is\n",
        "not entirely correct."
      ]
    },
    {
      "cell_type": "markdown",
      "metadata": {
        "id": "nzSkXwPjevPd"
      },
      "source": [
        "The previous prompt returns highly detailed evaluations in addition to the score.\n",
        "\n",
        "We can\n",
        "modify the prompt to just generate integer scores ranging from 0 to 100, where 100\n",
        "represents the best possible score.\n",
        "\n",
        "This modification allows us to calculate an average score\n",
        "for our model, which serves as a more concise and quantitative assessment of its\n",
        "performance."
      ]
    },
    {
      "cell_type": "markdown",
      "metadata": {
        "id": "DQQut5eievPd"
      },
      "source": [
        "The following generate_model_scores function uses a modified the prompt telling the\n",
        "model to \"Respond with the integer number only.\""
      ]
    },
    {
      "cell_type": "code",
      "execution_count": null,
      "metadata": {
        "id": "0MaqptV4evPd",
        "outputId": "ab953bec-b350-491f-9339-f18f9ee7fd99"
      },
      "outputs": [
        {
          "name": "stdout",
          "output_type": "stream",
          "text": [
            "\n",
            "Dataset response:\n",
            ">> The car is as fast as lightning.\n",
            "\n",
            "Model response:\n",
            ">> The car is as fast as a bullet.\n",
            "\n",
            "Score:\n",
            ">> 85\n",
            "\n",
            "-------------------------\n",
            "\n",
            "Dataset response:\n",
            ">> The type of cloud typically associated with thunderstorms is cumulonimbus.\n",
            "\n",
            "Model response:\n",
            ">> A thunderstorm is a type of cloud that typically forms in the atmosphere over a region of high pressure. It typically produces a strong wind that blows across the area, creating a dense, dense cloud.\n",
            "\n",
            "Score:\n",
            ">> 20\n",
            "\n",
            "-------------------------\n"
          ]
        }
      ],
      "source": [
        "for entry in test_data[:2]:\n",
        "    prompt = (\n",
        "            f\"Given the input `{format_input(entry)}` \"\n",
        "            f\"and correct output `{entry['output']}`, \"\n",
        "            f\"score the model response `{entry['model_response']}`\"\n",
        "            f\" on a scale from 0 to 100, where 100 is the best score. \"\n",
        "            f\"Respond with the integer number only.\"\n",
        "        )\n",
        "    score = query_model(prompt, model)\n",
        "    print(\"\\nDataset response:\")\n",
        "    print(\">>\", entry['output'])\n",
        "    print(\"\\nModel response:\")\n",
        "    print(\">>\", entry[\"model_response\"])\n",
        "    print(\"\\nScore:\")\n",
        "    print(\">>\", query_model(prompt, model))\n",
        "    print(\"\\n-------------------------\")"
      ]
    },
    {
      "cell_type": "code",
      "execution_count": null,
      "metadata": {
        "id": "5_0VkRmzevPd"
      },
      "outputs": [],
      "source": [
        "def generate_model_scores(json_data, json_key, model=\"llama3\"):\n",
        "    scores = []\n",
        "    for entry in tqdm(json_data, desc=\"Scoring entries\"):\n",
        "        prompt = (\n",
        "            f\"Given the input `{format_input(entry)}` \"\n",
        "            f\"and correct output `{entry['output']}`, \"\n",
        "            f\"score the model response `{entry[json_key]}`\"\n",
        "            f\" on a scale from 0 to 100, where 100 is the best score. \"\n",
        "            f\"Respond with the integer number only.\"\n",
        "        )\n",
        "        score = query_model(prompt, model)\n",
        "        try:\n",
        "            scores.append(int(score))\n",
        "        except ValueError:\n",
        "            print(f\"Could not convert score: {score}\")\n",
        "            continue\n",
        "\n",
        "    return scores"
      ]
    },
    {
      "cell_type": "markdown",
      "metadata": {
        "id": "gd1XWB0bevPd"
      },
      "source": [
        "I am not running the above function because of hardware limitations. I am using a Macbook Air 2020.\n",
        "\n",
        "It takes about 1 min  on a M3 Macbook Air."
      ]
    },
    {
      "cell_type": "markdown",
      "metadata": {
        "id": "2PW1Kfg1evPd"
      },
      "source": [
        "When you run the above code, you will see that the evaluation output shows that our finetuned model achieves an average score above 50,\n",
        "which provides a useful benchmark for comparison against other models or for\n",
        "experimenting with different training configurations to improve the model's performance.\n",
        "\n",
        "It's worth noting that Ollama is not entirely deterministic at the time of this writing,\n",
        "which means that the scores you obtain might slightly vary from the ones presented above.\n",
        "    \n",
        "To obtain more robust results, you can repeat the evaluation multiple times and average\n",
        "the resulting scores."
      ]
    },
    {
      "cell_type": "markdown",
      "metadata": {
        "id": "P4V1yJ9PevPd"
      },
      "source": [
        "To further improve our model's performance, we can explore various strategies, such as:\n",
        "\n",
        "(1) Adjusting the hyperparameters during finetuning, such as the learning\n",
        "rate, batch size, or number of epochs.\n",
        "\n",
        "\n",
        "(2) Increasing the size of the training dataset or diversifying the examples to\n",
        "cover a broader range of topics and styles.\n",
        "\n",
        "\n",
        "(3) Experimenting with different prompts or instruction formats to guide the\n",
        "model's responses more effectively.\n",
        "\n",
        "\n",
        "(4) Considering the use of a larger pretrained model, which may have greater\n",
        "capacity to capture complex patterns and generate more accurate\n",
        "responses.\n",
        "\n",
        "(5) We can also use parameter efficient fine-tuning techniques like LoRA.\n"
      ]
    },
    {
      "cell_type": "code",
      "execution_count": null,
      "metadata": {
        "id": "YdzTgIZPevPe"
      },
      "outputs": [],
      "source": []
    }
  ],
  "metadata": {
    "colab": {
      "provenance": [],
      "toc_visible": true
    },
    "kernelspec": {
      "display_name": "Python 3 (ipykernel)",
      "language": "python",
      "name": "python3"
    },
    "language_info": {
      "codemirror_mode": {
        "name": "ipython",
        "version": 3
      },
      "file_extension": ".py",
      "mimetype": "text/x-python",
      "name": "python",
      "nbconvert_exporter": "python",
      "pygments_lexer": "ipython3",
      "version": "3.12.2"
    }
  },
  "nbformat": 4,
  "nbformat_minor": 0
}