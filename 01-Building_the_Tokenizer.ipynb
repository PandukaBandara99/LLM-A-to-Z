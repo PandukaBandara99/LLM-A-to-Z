{
  "cells": [
    {
      "cell_type": "markdown",
      "metadata": {
        "id": "arfSdz24EqrY"
      },
      "source": [
        "# Tokenizer From Scratch"
      ]
    },
    {
      "cell_type": "markdown",
      "metadata": {
        "id": "vNofVzkMEwDF"
      },
      "source": [
        "## Basic White Space Tokenization Approch For a Short Story"
      ]
    },
    {
      "cell_type": "code",
      "execution_count": null,
      "metadata": {
        "colab": {
          "base_uri": "https://localhost:8080/"
        },
        "id": "eZl5bk3PRudw",
        "outputId": "9ac8b357-a7ba-4554-c91f-87749dc78e89"
      },
      "outputs": [
        {
          "name": "stdout",
          "output_type": "stream",
          "text": [
            "Total number of character: 20758\n",
            "I had always thought Jack Gisburn rather a cheap genius--though a\n",
            "\n",
            "good fellow enough--so it was no\n"
          ]
        }
      ],
      "source": [
        "# Read the txt file\n",
        "with open(\"/content/the-verdict.txt\", \"r\", encoding=\"utf-8\") as f:\n",
        "    raw_text = f.read()\n",
        "\n",
        "# Print the total number of characters\n",
        "print(\"Total number of character:\", len(raw_text))\n",
        "# Print the first 100 characters\n",
        "print(raw_text[:99])"
      ]
    },
    {
      "cell_type": "markdown",
      "metadata": {
        "id": "QFnNegzkFbpW"
      },
      "source": [
        "> Our goal is to tokenize this 20,479-character short story into individual words and special\n",
        "characters that we can then turn into embeddings for LLM training  "
      ]
    },
    {
      "cell_type": "markdown",
      "metadata": {
        "id": "ZMRG3lplFvqS"
      },
      "source": [
        "We can use regular expression to split the text as **White space tokenization**"
      ]
    },
    {
      "cell_type": "code",
      "execution_count": null,
      "metadata": {
        "colab": {
          "base_uri": "https://localhost:8080/"
        },
        "id": "6d3mUbAxFMEh",
        "outputId": "72e4d271-2092-423a-b32d-f2a4cb3552d8"
      },
      "outputs": [
        {
          "name": "stdout",
          "output_type": "stream",
          "text": [
            "['Hello,', ' ', 'world.', ' ', 'This,', ' ', 'is', ' ', 'a', ' ', 'test.']\n"
          ]
        }
      ],
      "source": [
        "# Example\n",
        "import re\n",
        "\n",
        "text = \"Hello, world. This, is a test.\"\n",
        "result = re.split(r'(\\s)', text)\n",
        "\n",
        "print(result)"
      ]
    },
    {
      "cell_type": "markdown",
      "metadata": {
        "id": "wrjrMDPxGBu1"
      },
      "source": [
        "> The result is a list of individual words, whitespaces, and punctuation characters. So need to modify the regular expression splits on whitespaces (\\s) and commas, and periods\n"
      ]
    },
    {
      "cell_type": "code",
      "execution_count": null,
      "metadata": {
        "colab": {
          "base_uri": "https://localhost:8080/"
        },
        "id": "X9KV_UstGA6h",
        "outputId": "5934b2cc-0900-4524-a155-9c6d74c0568b"
      },
      "outputs": [
        {
          "name": "stdout",
          "output_type": "stream",
          "text": [
            "['Hello', ',', '', ' ', 'world', '.', '', ' ', 'This', ',', '', ' ', 'is', ' ', 'a', ' ', 'test', '.', '']\n"
          ]
        }
      ],
      "source": [
        "result = re.split(r'([,.]|\\s)', text)\n",
        "print(result)"
      ]
    },
    {
      "cell_type": "markdown",
      "metadata": {
        "id": "2Te_Mh9mGVum"
      },
      "source": [
        "> We can see that the words and punctuation characters are now separate list entries just as\n",
        "we wanted. A small remaining issue is that the list still includes whitespace characters. Optionally, we\n",
        "can remove these redundant characters safely as follows"
      ]
    },
    {
      "cell_type": "code",
      "execution_count": null,
      "metadata": {
        "colab": {
          "base_uri": "https://localhost:8080/"
        },
        "id": "AN0UF-EdF8hZ",
        "outputId": "b87e6653-44d9-4701-8ea1-f7ae92f5dc03"
      },
      "outputs": [
        {
          "name": "stdout",
          "output_type": "stream",
          "text": [
            "['Hello', ',', 'world', '.', 'This', ',', 'is', 'a', 'test', '.']\n"
          ]
        }
      ],
      "source": [
        "result = [item for item in result if item.strip()]\n",
        "print(result)"
      ]
    },
    {
      "cell_type": "markdown",
      "metadata": {
        "id": "o666xWcQGf0-"
      },
      "source": [
        "### Removing Whitespaces or Not\n",
        "\n"
      ]
    },
    {
      "cell_type": "markdown",
      "metadata": {
        "id": "y5HhhlAxGjNk"
      },
      "source": [
        "When developing a simple tokenizer, whether we should encode whitespaces as\n",
        "separate characters or just remove them depends on our application and its\n",
        "requirements.\n",
        "- Removing whitespaces reduces the memory and computing\n",
        "requirements.\n",
        "- However, keeping whitespaces can be useful if we train models that\n",
        "are sensitive to the exact structure of the text (for example, Python code, which is\n",
        "sensitive to indentation and spacing).\n",
        "\n",
        "Here, we remove whitespaces for simplicity\n",
        "and brevity of the tokenized outputs. Later, we will switch to a tokenization scheme\n",
        "that includes whitespaces."
      ]
    },
    {
      "cell_type": "markdown",
      "metadata": {
        "id": "YBY0bYJ1HEG5"
      },
      "source": [
        "### Update to Extract Other special Characters"
      ]
    },
    {
      "cell_type": "markdown",
      "metadata": {
        "id": "G58If4sUG8-x"
      },
      "source": [
        "###"
      ]
    },
    {
      "cell_type": "markdown",
      "metadata": {
        "id": "II6b3UwGG7aw"
      },
      "source": [
        "> The tokenization scheme we devised above works well on the simple sample text. Let's\n",
        "modify it a bit further so that it can also handle other types of punctuation, such as\n",
        "question marks, quotation marks, and the double-dashes we have seen earlier in the first\n",
        "100 characters of Edith Wharton's short story, along with additional special characters"
      ]
    },
    {
      "cell_type": "code",
      "execution_count": null,
      "metadata": {
        "colab": {
          "base_uri": "https://localhost:8080/"
        },
        "id": "-goJIrG5Gc6B",
        "outputId": "34a3823e-7396-4ee9-a34f-6bd290a6102a"
      },
      "outputs": [
        {
          "name": "stdout",
          "output_type": "stream",
          "text": [
            "['Hello', ',', 'world', '.', 'Is', 'this', '--', 'a', 'test', '?']\n"
          ]
        }
      ],
      "source": [
        "text = \"Hello, world. Is this-- a test?\"\n",
        "result = re.split(r'([,.:;?_!\"()\\']|--|\\s)', text)\n",
        "result = [item.strip() for item in result if item.strip()]\n",
        "print(result)"
      ]
    },
    {
      "cell_type": "code",
      "execution_count": null,
      "metadata": {
        "colab": {
          "base_uri": "https://localhost:8080/"
        },
        "id": "oBAg60QIHnmM",
        "outputId": "08a61a96-1df3-48b4-f520-147bed302ce5"
      },
      "outputs": [
        {
          "name": "stdout",
          "output_type": "stream",
          "text": [
            "['Hello', ',', 'world', '.', 'Is', 'this', '--', 'a', 'test', '?']\n"
          ]
        }
      ],
      "source": [
        "# Strip whitespace from each item and then filter out any empty strings.\n",
        "result = [item for item in result if item.strip()]\n",
        "print(result)"
      ]
    },
    {
      "cell_type": "code",
      "execution_count": null,
      "metadata": {
        "colab": {
          "base_uri": "https://localhost:8080/"
        },
        "id": "r8ug2pZ_HP85",
        "outputId": "3b5414e1-e762-42b7-caaa-46d81bd06748"
      },
      "outputs": [
        {
          "name": "stdout",
          "output_type": "stream",
          "text": [
            "['Hello', ',', 'world', '.', 'Is', 'this', '--', 'a', 'test', '?']\n"
          ]
        }
      ],
      "source": [
        "text = \"Hello, world. Is this-- a test?\"\n",
        "\n",
        "result = re.split(r'([,.:;?_!\"()\\']|--|\\s)', text)\n",
        "result = [item.strip() for item in result if item.strip()]\n",
        "print(result)"
      ]
    },
    {
      "cell_type": "markdown",
      "metadata": {
        "id": "MHzzibD8HuSQ"
      },
      "source": [
        "### Apply for the Complete Set"
      ]
    },
    {
      "cell_type": "markdown",
      "metadata": {
        "id": "nH272d4cHsWC"
      },
      "source": [
        "Now that we got a basic tokenizer working, let's apply it to Edith Wharton's entire short\n",
        "story"
      ]
    },
    {
      "cell_type": "code",
      "execution_count": null,
      "metadata": {
        "colab": {
          "base_uri": "https://localhost:8080/"
        },
        "id": "je8LQruxH1H2",
        "outputId": "4eb7c476-358f-479b-8633-21472eea7feb"
      },
      "outputs": [
        {
          "name": "stdout",
          "output_type": "stream",
          "text": [
            "['I', 'had', 'always', 'thought', 'Jack', 'Gisburn', 'rather', 'a', 'cheap', 'genius', '--', 'though', 'a', 'good', 'fellow', 'enough', '--', 'so', 'it', 'was', 'no', 'great', 'surprise', 'to', 'me', 'to', 'hear', 'that', ',', 'in']\n"
          ]
        }
      ],
      "source": [
        "preprocessed = re.split(r'([,.:;?_!\"()\\']|--|\\s)', raw_text)\n",
        "preprocessed = [item.strip() for item in preprocessed if item.strip()]\n",
        "print(preprocessed[:30])"
      ]
    },
    {
      "cell_type": "code",
      "execution_count": null,
      "metadata": {
        "colab": {
          "base_uri": "https://localhost:8080/"
        },
        "id": "jxG8IPEsH1bS",
        "outputId": "652a4665-6054-4f1c-c781-cfe8f0f147c9"
      },
      "outputs": [
        {
          "name": "stdout",
          "output_type": "stream",
          "text": [
            "4663\n"
          ]
        }
      ],
      "source": [
        "print(len(preprocessed))"
      ]
    },
    {
      "cell_type": "markdown",
      "metadata": {
        "id": "8EF9zOirH7lt"
      },
      "source": [
        "## Creating Token IDs"
      ]
    },
    {
      "cell_type": "markdown",
      "metadata": {
        "id": "E0RVZYQZH_Gg"
      },
      "source": [
        "In the previous section, we tokenized Edith Wharton's short story and assigned it to a\n",
        "Python variable called preprocessed. Let's now create a list of all unique tokens and sort\n",
        "them alphabetically to determine the vocabulary size"
      ]
    },
    {
      "cell_type": "code",
      "execution_count": null,
      "metadata": {
        "colab": {
          "base_uri": "https://localhost:8080/"
        },
        "id": "2htaM-wPIH12",
        "outputId": "28f4c52c-3134-42e7-d649-5ef9bf341807"
      },
      "outputs": [
        {
          "name": "stdout",
          "output_type": "stream",
          "text": [
            "1145\n"
          ]
        }
      ],
      "source": [
        "# Get the unique IDs\n",
        "all_words = sorted(set(preprocessed))\n",
        "vocab_size = len(all_words)\n",
        "print(vocab_size)"
      ]
    },
    {
      "cell_type": "markdown",
      "metadata": {
        "id": "JW4KrGOqIQW8"
      },
      "source": [
        "After determining that the vocabulary size is 1,145 via the above code, we create the\n",
        "vocabulary and print its first 51 entries for illustration purposes"
      ]
    },
    {
      "cell_type": "code",
      "execution_count": null,
      "metadata": {
        "id": "yctmSz_lINXY"
      },
      "outputs": [],
      "source": [
        "vocab = {token:integer for integer,token in enumerate(all_words)}"
      ]
    },
    {
      "cell_type": "code",
      "execution_count": null,
      "metadata": {
        "colab": {
          "base_uri": "https://localhost:8080/"
        },
        "id": "BVazKdD4IWw_",
        "outputId": "cac1f0ac-8945-4b42-87f6-7b25b52914dd"
      },
      "outputs": [
        {
          "name": "stdout",
          "output_type": "stream",
          "text": [
            "('!', 0)\n",
            "('\"', 1)\n",
            "(\"'\", 2)\n",
            "('(', 3)\n",
            "(')', 4)\n",
            "(',', 5)\n",
            "('--', 6)\n",
            "('.', 7)\n",
            "(':', 8)\n",
            "(';', 9)\n",
            "('?', 10)\n",
            "('A', 11)\n",
            "('AM', 12)\n",
            "('Ah', 13)\n",
            "('Among', 14)\n",
            "('And', 15)\n",
            "('Are', 16)\n",
            "('Arrt', 17)\n",
            "('As', 18)\n",
            "('At', 19)\n",
            "('Be', 20)\n",
            "('Begin', 21)\n",
            "('Burlington', 22)\n",
            "('But', 23)\n",
            "('By', 24)\n",
            "('Carlo', 25)\n",
            "('Chicago', 26)\n",
            "('Claude', 27)\n",
            "('Come', 28)\n",
            "('Croft', 29)\n",
            "('Destroyed', 30)\n",
            "('Devonshire', 31)\n",
            "('Don', 32)\n",
            "('Dubarry', 33)\n",
            "('Emperors', 34)\n",
            "('End', 35)\n",
            "('FELT', 36)\n",
            "('Florence', 37)\n",
            "('For', 38)\n",
            "('Gallery', 39)\n",
            "('Gideon', 40)\n",
            "('Gisburn', 41)\n",
            "('Gisburns', 42)\n",
            "('Grafton', 43)\n",
            "('Greek', 44)\n",
            "('Grindle', 45)\n",
            "('Grindles', 46)\n",
            "('HAD', 47)\n",
            "('HAS', 48)\n",
            "('HAVE', 49)\n",
            "('Had', 50)\n"
          ]
        }
      ],
      "source": [
        "for i, item in enumerate(vocab.items()):\n",
        "    print(item)\n",
        "    if i >= 50:\n",
        "        break"
      ]
    },
    {
      "cell_type": "markdown",
      "metadata": {
        "id": "MzyeLxxyIdS1"
      },
      "source": [
        "As we can see, based on the output above, the dictionary contains individual tokens\n",
        "associated with unique integer labels."
      ]
    },
    {
      "cell_type": "markdown",
      "metadata": {
        "id": "id3IEJbdIhkm"
      },
      "source": [
        "> When we want to convert the outputs of an LLM from numbers back into\n",
        "text, we also need a way to turn token IDs into text.\n",
        "\n",
        "> For this, we can create an **inverse\n",
        "version** of the vocabulary that maps token IDs back to corresponding text tokens."
      ]
    },
    {
      "cell_type": "markdown",
      "metadata": {
        "id": "8fBw2oAUMIxL"
      },
      "source": [
        "## Implement a complete tokenizer class"
      ]
    },
    {
      "cell_type": "markdown",
      "metadata": {
        "id": "lDid2MvvMHAN"
      },
      "source": [
        "\n",
        "\n",
        "The class will have an encode method that splits\n",
        "text into tokens and carries out the string-to-integer mapping to produce token IDs via the\n",
        "vocabulary.\n",
        "\n",
        "In addition, we implement a decode method that carries out the reverse\n",
        "integer-to-string mapping to convert the token IDs back into text."
      ]
    },
    {
      "cell_type": "markdown",
      "metadata": {
        "id": "8ZPGtzk0MPNF"
      },
      "source": [
        "**Step 1:** Store the vocabulary as a class attribute for access in the encode and decode methods\n",
        "    \n",
        "**Step 2:** Create an inverse vocabulary that maps token IDs back to the original text tokens\n",
        "\n",
        "**Step 3:** Process input text into token IDs\n",
        "\n",
        "**Step 4**: Convert token IDs back into text\n",
        "\n",
        "**Step 5:** Replace spaces before the specified punctuation\n"
      ]
    },
    {
      "cell_type": "code",
      "execution_count": null,
      "metadata": {
        "id": "uWKsQvG2MVT9"
      },
      "outputs": [],
      "source": [
        "class SimpleTokenizerV1:\n",
        "    def __init__(self, vocab):\n",
        "        self.str_to_int = vocab\n",
        "        self.int_to_str = {i:s for s,i in vocab.items()}\n",
        "\n",
        "    def encode(self, text):\n",
        "        preprocessed = re.split(r'([,.:;?_!\"()\\']|--|\\s)', text)\n",
        "\n",
        "        preprocessed = [\n",
        "            item.strip() for item in preprocessed if item.strip()\n",
        "        ]\n",
        "        ids = [self.str_to_int[s] for s in preprocessed]\n",
        "        return ids\n",
        "\n",
        "    def decode(self, ids):\n",
        "        text = \" \".join([self.int_to_str[i] for i in ids])\n",
        "        # Replace spaces before the specified punctuations\n",
        "        text = re.sub(r'\\s+([,.?!\"()\\'])', r'\\1', text)\n",
        "        return text"
      ]
    },
    {
      "cell_type": "markdown",
      "metadata": {
        "id": "rgFeX4qEMaws"
      },
      "source": [
        "Let's instantiate a new tokenizer object from the SimpleTokenizerV1 class and tokenize a\n",
        "passage from Edith Wharton's short story to try it out in practice"
      ]
    },
    {
      "cell_type": "code",
      "execution_count": null,
      "metadata": {
        "colab": {
          "base_uri": "https://localhost:8080/"
        },
        "id": "WKB6rfACMdAU",
        "outputId": "29d57496-3508-4272-ad8f-777abf778fa2"
      },
      "outputs": [
        {
          "name": "stdout",
          "output_type": "stream",
          "text": [
            "[1, 61, 2, 865, 1003, 616, 547, 761, 5, 1141, 611, 5, 1, 74, 7, 41, 866, 1123, 769, 809, 7]\n"
          ]
        }
      ],
      "source": [
        "tokenizer = SimpleTokenizerV1(vocab)\n",
        "\n",
        "text = \"\"\"\"It's the last he painted, you know,\"\n",
        "           Mrs. Gisburn said with pardonable pride.\"\"\"\n",
        "ids = tokenizer.encode(text)\n",
        "print(ids)"
      ]
    },
    {
      "cell_type": "code",
      "execution_count": null,
      "metadata": {
        "colab": {
          "base_uri": "https://localhost:8080/",
          "height": 36
        },
        "id": "eGvWycChMfIc",
        "outputId": "4383ba39-d4b0-4943-8ca6-2f1245ea6d2e"
      },
      "outputs": [
        {
          "data": {
            "application/vnd.google.colaboratory.intrinsic+json": {
              "type": "string"
            },
            "text/plain": [
              "'\" It\\' s the last he painted, you know,\" Mrs. Gisburn said with pardonable pride.'"
            ]
          },
          "execution_count": 17,
          "metadata": {},
          "output_type": "execute_result"
        }
      ],
      "source": [
        "tokenizer.decode(ids)"
      ]
    },
    {
      "cell_type": "markdown",
      "metadata": {
        "id": "RXTWgmM3Mksl"
      },
      "source": [
        "> Let's now apply it to a new text sample that is not contained in the training set"
      ]
    },
    {
      "cell_type": "code",
      "execution_count": null,
      "metadata": {
        "colab": {
          "base_uri": "https://localhost:8080/",
          "height": 295
        },
        "id": "h1Hm26zyMk0R",
        "outputId": "25572b28-e777-437a-e08f-e72300244a1e"
      },
      "outputs": [
        {
          "ename": "KeyError",
          "evalue": "'Hello'",
          "output_type": "error",
          "traceback": [
            "\u001b[0;31m---------------------------------------------------------------------------\u001b[0m",
            "\u001b[0;31mKeyError\u001b[0m                                  Traceback (most recent call last)",
            "\u001b[0;32m/tmp/ipython-input-1763555282.py\u001b[0m in \u001b[0;36m<cell line: 0>\u001b[0;34m()\u001b[0m\n\u001b[1;32m      1\u001b[0m \u001b[0mtext\u001b[0m \u001b[0;34m=\u001b[0m \u001b[0;34m\"Hello, do you like tea?\"\u001b[0m\u001b[0;34m\u001b[0m\u001b[0;34m\u001b[0m\u001b[0m\n\u001b[0;32m----> 2\u001b[0;31m \u001b[0mprint\u001b[0m\u001b[0;34m(\u001b[0m\u001b[0mtokenizer\u001b[0m\u001b[0;34m.\u001b[0m\u001b[0mencode\u001b[0m\u001b[0;34m(\u001b[0m\u001b[0mtext\u001b[0m\u001b[0;34m)\u001b[0m\u001b[0;34m)\u001b[0m\u001b[0;34m\u001b[0m\u001b[0;34m\u001b[0m\u001b[0m\n\u001b[0m",
            "\u001b[0;32m/tmp/ipython-input-2118097954.py\u001b[0m in \u001b[0;36mencode\u001b[0;34m(self, text)\u001b[0m\n\u001b[1;32m     10\u001b[0m             \u001b[0mitem\u001b[0m\u001b[0;34m.\u001b[0m\u001b[0mstrip\u001b[0m\u001b[0;34m(\u001b[0m\u001b[0;34m)\u001b[0m \u001b[0;32mfor\u001b[0m \u001b[0mitem\u001b[0m \u001b[0;32min\u001b[0m \u001b[0mpreprocessed\u001b[0m \u001b[0;32mif\u001b[0m \u001b[0mitem\u001b[0m\u001b[0;34m.\u001b[0m\u001b[0mstrip\u001b[0m\u001b[0;34m(\u001b[0m\u001b[0;34m)\u001b[0m\u001b[0;34m\u001b[0m\u001b[0;34m\u001b[0m\u001b[0m\n\u001b[1;32m     11\u001b[0m         ]\n\u001b[0;32m---> 12\u001b[0;31m         \u001b[0mids\u001b[0m \u001b[0;34m=\u001b[0m \u001b[0;34m[\u001b[0m\u001b[0mself\u001b[0m\u001b[0;34m.\u001b[0m\u001b[0mstr_to_int\u001b[0m\u001b[0;34m[\u001b[0m\u001b[0ms\u001b[0m\u001b[0;34m]\u001b[0m \u001b[0;32mfor\u001b[0m \u001b[0ms\u001b[0m \u001b[0;32min\u001b[0m \u001b[0mpreprocessed\u001b[0m\u001b[0;34m]\u001b[0m\u001b[0;34m\u001b[0m\u001b[0;34m\u001b[0m\u001b[0m\n\u001b[0m\u001b[1;32m     13\u001b[0m         \u001b[0;32mreturn\u001b[0m \u001b[0mids\u001b[0m\u001b[0;34m\u001b[0m\u001b[0;34m\u001b[0m\u001b[0m\n\u001b[1;32m     14\u001b[0m \u001b[0;34m\u001b[0m\u001b[0m\n",
            "\u001b[0;31mKeyError\u001b[0m: 'Hello'"
          ]
        }
      ],
      "source": [
        "text = \"Hello, do you like tea?\"\n",
        "print(tokenizer.encode(text))"
      ]
    },
    {
      "cell_type": "markdown",
      "metadata": {
        "id": "C9dBYoF0Mr4U"
      },
      "source": [
        "The problem is that the word \"Hello\" was not used in the The Verdict short story.\n",
        "\n",
        "Hence, it is not contained in the vocabulary.\n",
        "\n",
        "> This highlights the need to consider large and diverse\n",
        "training sets to extend the vocabulary when working on LLMs."
      ]
    },
    {
      "cell_type": "markdown",
      "metadata": {
        "id": "2hi7vJMSMyl0"
      },
      "source": [
        "## ADDING SPECIAL CONTEXT TOKENS"
      ]
    },
    {
      "cell_type": "markdown",
      "metadata": {
        "id": "umyDdyaUM3r4"
      },
      "source": [
        "Modify the simplem tokenizer to handle unknown words.\n",
        "\n",
        "\n",
        "Modify the vocabulary and tokenizer we implemented in the previous sections, SimpleTokenizerV2, to support two new tokens, **<|unk|>** and\n",
        "**<|endoftext|>**"
      ]
    },
    {
      "cell_type": "code",
      "execution_count": null,
      "metadata": {
        "id": "kAiPNSXXNIr7"
      },
      "outputs": [],
      "source": [
        "# Add the tokens to the vocabulary\n",
        "all_tokens = sorted(list(set(preprocessed)))\n",
        "all_tokens.extend([\"<|endoftext|>\", \"<|unk|>\"])\n",
        "vocab = {token:integer for integer,token in enumerate(all_tokens)}"
      ]
    },
    {
      "cell_type": "code",
      "execution_count": null,
      "metadata": {
        "colab": {
          "base_uri": "https://localhost:8080/"
        },
        "id": "TnyjFd18NK_H",
        "outputId": "bbebb6ea-f2f5-4b3f-b5de-ec3e1f633639"
      },
      "outputs": [
        {
          "data": {
            "text/plain": [
              "1147"
            ]
          },
          "execution_count": 21,
          "metadata": {},
          "output_type": "execute_result"
        }
      ],
      "source": [
        "len(vocab.items())"
      ]
    },
    {
      "cell_type": "code",
      "execution_count": null,
      "metadata": {
        "colab": {
          "base_uri": "https://localhost:8080/"
        },
        "id": "Bx0uwjutNTAa",
        "outputId": "17228264-7812-4b94-ad32-2f90866de588"
      },
      "outputs": [
        {
          "name": "stdout",
          "output_type": "stream",
          "text": [
            "('younger', 1142)\n",
            "('your', 1143)\n",
            "('yourself', 1144)\n",
            "('<|endoftext|>', 1145)\n",
            "('<|unk|>', 1146)\n"
          ]
        }
      ],
      "source": [
        "# Print last 5 elements\n",
        "for i, item in enumerate(list(vocab.items())[-5:]):\n",
        "    print(item)"
      ]
    },
    {
      "cell_type": "markdown",
      "metadata": {
        "id": "ITAsW7GkNYq1"
      },
      "source": [
        "Now what we need to do is,\n",
        "\n",
        "> **Step 1:** Replace unknown words by <|unk|> tokens\n",
        "\n",
        "> **Step 2:** Replace spaces before the specified punctuations"
      ]
    },
    {
      "cell_type": "code",
      "execution_count": null,
      "metadata": {
        "id": "xnjx1pnbNV33"
      },
      "outputs": [],
      "source": [
        "class SimpleTokenizerV2:\n",
        "    def __init__(self, vocab):\n",
        "        self.str_to_int = vocab\n",
        "        self.int_to_str = { i:s for s,i in vocab.items()}\n",
        "\n",
        "    def encode(self, text):\n",
        "        preprocessed = re.split(r'([,.:;?_!\"()\\']|--|\\s)', text)\n",
        "        preprocessed = [item.strip() for item in preprocessed if item.strip()]\n",
        "        preprocessed = [\n",
        "            item if item in self.str_to_int\n",
        "            else \"<|unk|>\" for item in preprocessed\n",
        "        ]\n",
        "\n",
        "        ids = [self.str_to_int[s] for s in preprocessed]\n",
        "        return ids\n",
        "\n",
        "    def decode(self, ids):\n",
        "        text = \" \".join([self.int_to_str[i] for i in ids])\n",
        "        # Replace spaces before the specified punctuations\n",
        "        text = re.sub(r'\\s+([,.:;?!\"()\\'])', r'\\1', text)\n",
        "        return text"
      ]
    },
    {
      "cell_type": "code",
      "execution_count": null,
      "metadata": {
        "colab": {
          "base_uri": "https://localhost:8080/"
        },
        "id": "mUJolNo4NjZK",
        "outputId": "76475b02-3b1b-426a-9441-12d2c4b2d125"
      },
      "outputs": [
        {
          "name": "stdout",
          "output_type": "stream",
          "text": [
            "Hello, do you like tea? <|endoftext|> In the sunlit terraces of the palace.\n"
          ]
        }
      ],
      "source": [
        "tokenizer = SimpleTokenizerV2(vocab)\n",
        "\n",
        "text1 = \"Hello, do you like tea?\"\n",
        "text2 = \"In the sunlit terraces of the palace.\"\n",
        "\n",
        "text = \" <|endoftext|> \".join((text1, text2))\n",
        "\n",
        "print(text)"
      ]
    },
    {
      "cell_type": "code",
      "execution_count": null,
      "metadata": {
        "colab": {
          "base_uri": "https://localhost:8080/"
        },
        "id": "6hdz5lVZNm0-",
        "outputId": "5e0cce41-f4fe-4aff-a99e-43b0ecf7c13c"
      },
      "outputs": [
        {
          "data": {
            "text/plain": [
              "[1146,\n",
              " 5,\n",
              " 369,\n",
              " 1141,\n",
              " 642,\n",
              " 990,\n",
              " 10,\n",
              " 1145,\n",
              " 60,\n",
              " 1003,\n",
              " 971,\n",
              " 999,\n",
              " 737,\n",
              " 1003,\n",
              " 1146,\n",
              " 7]"
            ]
          },
          "execution_count": 25,
          "metadata": {},
          "output_type": "execute_result"
        }
      ],
      "source": [
        "tokenizer.encode(text)"
      ]
    },
    {
      "cell_type": "code",
      "execution_count": null,
      "metadata": {
        "colab": {
          "base_uri": "https://localhost:8080/",
          "height": 36
        },
        "id": "2OyZGaUsNo5D",
        "outputId": "c4bb15c3-04cf-4861-a1be-95e34a6e8b11"
      },
      "outputs": [
        {
          "data": {
            "application/vnd.google.colaboratory.intrinsic+json": {
              "type": "string"
            },
            "text/plain": [
              "'<|unk|>, do you like tea? <|endoftext|> In the sunlit terraces of the <|unk|>.'"
            ]
          },
          "execution_count": 26,
          "metadata": {},
          "output_type": "execute_result"
        }
      ],
      "source": [
        "tokenizer.decode(tokenizer.encode(text))"
      ]
    },
    {
      "cell_type": "markdown",
      "metadata": {
        "id": "zNxXyCFlOKks"
      },
      "source": [
        "### General Special Tokens"
      ]
    },
    {
      "cell_type": "markdown",
      "metadata": {
        "id": "T9B8LOyXOK3g"
      },
      "source": [
        "* **`<PAD>`** → Padding token (used to make all sequences equal length).\n",
        "* **`<UNK>`** → Unknown token (for words not in the vocabulary).\n",
        "* **`<BOS>`** or **`<s>`** → Beginning of sequence.\n",
        "* **`<EOS>`** or **`</s>`** → End of sequence.\n",
        "* **`<SEP>`** → Separator token (BERT uses this between sentences).\n",
        "* **`<CLS>`** → Classification token (used as a representation for classification tasks, e.g., BERT).\n",
        "* **`<MASK>`** → Mask token (used for masked language modeling)."
      ]
    },
    {
      "cell_type": "markdown",
      "metadata": {
        "id": "FLiOXC0-OK5u"
      },
      "source": [
        "### Model-Specific Tokens"
      ]
    },
    {
      "cell_type": "markdown",
      "metadata": {
        "id": "4zYZvMWoOQa0"
      },
      "source": [
        "* **BERT**\n",
        "\n",
        "  * `[PAD]`, `[UNK]`, `[CLS]`, `[SEP]`, `[MASK]`\n",
        "* **GPT family (GPT-2, GPT-3, GPT-4, GPT-5)**\n",
        "\n",
        "  * \\`\\` (end of text / stop token)\n",
        "  * `<|pad|>` (in some GPT variants for padding)\n",
        "  * `<|bos|>` / `<|startoftext|>` (optional beginning marker, not always used)\n",
        "* **T5**\n",
        "\n",
        "  * `<pad>`, `</s>` (end of text), `<extra_id_N>` (special mask tokens for span corruption)\n",
        "* **BART**\n",
        "\n",
        "  * `<s>`, `</s>`, `<pad>`, `<mask>`\n",
        "* **LLama / LLaMA2 / LLaMA3**\n",
        "\n",
        "  * `<s>`, `</s>`, `<unk>`, `<pad>` (sometimes unused), `<mask>` (if fine-tuned for MLM)"
      ]
    },
    {
      "cell_type": "markdown",
      "metadata": {
        "id": "ptmIRFy0OTGK"
      },
      "source": [
        "### Special Control Tokens (Chat / Instruction Models)"
      ]
    },
    {
      "cell_type": "markdown",
      "metadata": {
        "id": "D1sRrCYmN91j"
      },
      "source": [
        "* `<|system|>` → Marks system prompts.\n",
        "* `<|user|>` → Marks user input.\n",
        "* `<|assistant|>` → Marks assistant output.\n",
        "* `<|endofturn|>` → Marks the end of a conversational turn.\n"
      ]
    },
    {
      "cell_type": "code",
      "execution_count": null,
      "metadata": {
        "colab": {
          "base_uri": "https://localhost:8080/",
          "height": 311,
          "referenced_widgets": [
            "f7dee6cd2c05419ca7819f2d22a3fc40",
            "8550069b71f74f5b98263aab6b3c11b8",
            "2c1ddab704184524a9f044651bcb3a30",
            "67c5f9a9f87545edb5f41513c2fea588",
            "aaa0710fe9d2453e8cff3d3a3a03343e",
            "4ee15130ab1947d292d19da4e2283fa5",
            "e3ae2101b662452f829d4199332914e7",
            "6756efd6adbb4b249b1f8a31b874a732",
            "1c7167430ab540ccb5870efacc72b58e",
            "362ceaf785554012a8cb49bce4fa6fc8",
            "ca9eb4720dd54966a88c0e70f135c384",
            "7aeceff7363d4affb9b156cc4dd25b50",
            "9e923cfee10f49d997ee88fe61a90332",
            "e28af0b5e5a14222b78fcb4471f0ec41",
            "21adf0de62904cf09658c89f67a3fa52",
            "0c8d617408b04bc5864df25565dab3a4",
            "d034c47dd4284d6db0490df16f7aca3f",
            "376fa598778948feaceb2cac0a1869b5",
            "97fe83c13d1b4db68240cb46b1b31ebf",
            "5f51045819824021859724e3cf5cc93f",
            "c13649852d6e4e67bb752fd2c1991f64",
            "050515fad31c4ad5857644d65db2f1bc",
            "e82d534854e047199b54b67fa0f7764b",
            "124ac5faa43a49c888ebd1447ea0722c",
            "8333290634a840f79bfe6aeb06b2ce6e",
            "ae64f081244344f3a49981142ee75d88",
            "34954d4578104d17aac00bd81b576ca1",
            "244a5582b7e24332a981b4051cbe145b",
            "d89b910d912a4a658ccf6d4919420115",
            "020def069fcf4576a033c37e5c6c4e57",
            "c9f12edc8fd24ac0a954c95b92e1e807",
            "08274f07056b4826a841e58616fc8e46",
            "aeef59f9c0cf42d48512e175a4c4c004",
            "d2fd8b583c2e49f68d6856f49666daab",
            "202aa0a440894cf584fdb473af85e751",
            "404fed7f048a4e188ce0a037553e395f",
            "907379bbadce4434abd604530988106e",
            "10748f67d0524e6b84e2beb70537583d",
            "53cc6732f02d4faa8f75e848e3691f4a",
            "10cd41b744f64c20b1ad6604abe4539c",
            "f3461beb713d421d9de64dff1b36feee",
            "b1da1c9cc6424967b95c1c942aa8575e",
            "2ef01dea92d848ef9380af489aaa4d8a",
            "b14df3cd07754cc290daa419b9b183b1"
          ]
        },
        "id": "IKH-cpmYOH8t",
        "outputId": "50e9c1f8-7b5c-475e-b0ce-3204389b3dfc"
      },
      "outputs": [
        {
          "name": "stderr",
          "output_type": "stream",
          "text": [
            "/usr/local/lib/python3.12/dist-packages/huggingface_hub/utils/_auth.py:94: UserWarning: \n",
            "The secret `HF_TOKEN` does not exist in your Colab secrets.\n",
            "To authenticate with the Hugging Face Hub, create a token in your settings tab (https://huggingface.co/settings/tokens), set it as secret in your Google Colab and restart your session.\n",
            "You will be able to reuse this secret in all of your notebooks.\n",
            "Please note that authentication is recommended but still optional to access public models or datasets.\n",
            "  warnings.warn(\n"
          ]
        },
        {
          "data": {
            "application/vnd.jupyter.widget-view+json": {
              "model_id": "f7dee6cd2c05419ca7819f2d22a3fc40",
              "version_major": 2,
              "version_minor": 0
            },
            "text/plain": [
              "tokenizer_config.json:   0%|          | 0.00/48.0 [00:00<?, ?B/s]"
            ]
          },
          "metadata": {},
          "output_type": "display_data"
        },
        {
          "data": {
            "application/vnd.jupyter.widget-view+json": {
              "model_id": "7aeceff7363d4affb9b156cc4dd25b50",
              "version_major": 2,
              "version_minor": 0
            },
            "text/plain": [
              "config.json:   0%|          | 0.00/570 [00:00<?, ?B/s]"
            ]
          },
          "metadata": {},
          "output_type": "display_data"
        },
        {
          "data": {
            "application/vnd.jupyter.widget-view+json": {
              "model_id": "e82d534854e047199b54b67fa0f7764b",
              "version_major": 2,
              "version_minor": 0
            },
            "text/plain": [
              "vocab.txt:   0%|          | 0.00/232k [00:00<?, ?B/s]"
            ]
          },
          "metadata": {},
          "output_type": "display_data"
        },
        {
          "data": {
            "application/vnd.jupyter.widget-view+json": {
              "model_id": "d2fd8b583c2e49f68d6856f49666daab",
              "version_major": 2,
              "version_minor": 0
            },
            "text/plain": [
              "tokenizer.json:   0%|          | 0.00/466k [00:00<?, ?B/s]"
            ]
          },
          "metadata": {},
          "output_type": "display_data"
        },
        {
          "name": "stdout",
          "output_type": "stream",
          "text": [
            "{'unk_token': '[UNK]', 'sep_token': '[SEP]', 'pad_token': '[PAD]', 'cls_token': '[CLS]', 'mask_token': '[MASK]'}\n",
            "['[UNK]', '[SEP]', '[PAD]', '[CLS]', '[MASK]']\n",
            "[100, 102, 0, 101, 103]\n"
          ]
        }
      ],
      "source": [
        "from transformers import AutoTokenizer\n",
        "\n",
        "tokenizer = AutoTokenizer.from_pretrained(\"bert-base-uncased\")\n",
        "print(tokenizer.special_tokens_map)\n",
        "print(tokenizer.all_special_tokens)\n",
        "print(tokenizer.all_special_ids)"
      ]
    },
    {
      "cell_type": "markdown",
      "metadata": {
        "id": "Z3Yv-8dcOeNZ"
      },
      "source": [
        "---"
      ]
    },
    {
      "cell_type": "markdown",
      "metadata": {
        "id": "Ab593I2yOaJQ"
      },
      "source": [
        "## BYTE PAIR ENCODING"
      ]
    },
    {
      "cell_type": "markdown",
      "metadata": {
        "id": "skGWZZkqZuTQ"
      },
      "source": [
        "> The tokenizer used for GPT models also doesn't use an <|unk|> token for outof-vocabulary words. Instead, GPT models use a byte pair encoding tokenizer, which breaks\n",
        "down words into subword units"
      ]
    },
    {
      "cell_type": "markdown",
      "metadata": {
        "id": "Eb3XBIusPTP0"
      },
      "source": [
        "### Byte Pair Encoding (BPE) Algorithm\n"
      ]
    },
    {
      "cell_type": "markdown",
      "metadata": {
        "id": "FLCbEFICP086"
      },
      "source": [
        "#### What is Byte Pair Encoding (BPE)?\n",
        "\n",
        "\n",
        "\n"
      ]
    },
    {
      "cell_type": "markdown",
      "metadata": {
        "id": "hxkJzBZOQDtG"
      },
      "source": [
        "**Byte Pair Encoding (BPE)** is a **subword tokenization algorithm** commonly used in modern NLP models (like GPT, BERT, LLaMA).\n",
        "\n",
        "Instead of splitting text into words or single characters, BPE builds a vocabulary of the most frequent **character pairs** (byte pairs) and merges them repeatedly until a desired vocabulary size is reached."
      ]
    },
    {
      "cell_type": "markdown",
      "metadata": {
        "id": "0F2GqT5AP_9n"
      },
      "source": [
        "#### Why BPE?\n",
        "\n"
      ]
    },
    {
      "cell_type": "markdown",
      "metadata": {
        "id": "DofqDmNdQE-8"
      },
      "source": [
        "* Handles **out-of-vocabulary words** (unknown words are broken into smaller subwords/characters).\n",
        "* Efficient: frequent words/subwords become single tokens, rare words are split.\n",
        "* Works well with languages with complex morphology (e.g., German, Finnish)."
      ]
    },
    {
      "cell_type": "markdown",
      "metadata": {
        "id": "O2MRFLwSPgq_"
      },
      "source": [
        "### Examples"
      ]
    },
    {
      "cell_type": "markdown",
      "metadata": {
        "id": "8VfRbFW5PakS"
      },
      "source": [
        "**Corpus:** `\"low lowe lower\"`\n",
        "\n",
        "* Initial split: `[\"l\", \"o\", \"w\", </w>]`, `[\"l\",\"o\",\"w\",\"e\",</w>]`, `[\"l\",\"o\",\"w\",\"e\",\"r\",</w>]`\n",
        "\n",
        "Iteration 1\n",
        "\n",
        "* Most frequent pair: `\"l\"+\"o\"`\n",
        "* Merge → `\"lo\"`\n",
        "* Vocabulary now contains `\"lo\"`\n",
        "\n",
        "Iteration 2\n",
        "\n",
        "* Most frequent pair: `\"lo\"+\"w\"`\n",
        "* Merge → `\"low\"`\n",
        "\n",
        "Iteration 3\n",
        "\n",
        "* Most frequent pair: `\"e\"+\"r\"`\n",
        "* Merge → `\"er\"`\n",
        "\n",
        "**Final Vocabulary:** `{ \"l\", \"o\", \"w\", \"e\", \"r\", \"lo\", \"low\", \"er\" }`\n",
        "\n",
        "> That’s the core of BPE. Models like GPT-2 stop merging after \\~50k merges → giving a 50k-token vocabulary.\n"
      ]
    },
    {
      "cell_type": "markdown",
      "metadata": {
        "id": "PApojxPkQGB0"
      },
      "source": [
        "### Pseudo Algorithm"
      ]
    },
    {
      "cell_type": "markdown",
      "metadata": {
        "id": "t29wSlaFPeJe"
      },
      "source": [
        "```\n",
        "INPUT:\n",
        "  - corpus: a list of words (training data)\n",
        "  - num_merges: how many merge operations to perform\n",
        "\n",
        "OUTPUT:\n",
        "  - BPE vocabulary (subword units)\n",
        "\n",
        "-----------------------------------------------------\n",
        "\n",
        "1. Initialize the vocabulary:\n",
        "   For each word in the corpus:\n",
        "       Represent it as a sequence of characters + an end-of-word symbol (e.g., \"lower\" → [l, o, w, e, r, </w>])\n",
        "\n",
        "2. Count frequency of each word in the corpus.\n",
        "\n",
        "3. LOOP for num_merges times:\n",
        "     a. Count frequency of all symbol pairs across the corpus.\n",
        "        (e.g., in \"lower\" → (l,o), (o,w), (w,e), (e,r), (r,</w>))\n",
        "\n",
        "     b. Find the most frequent pair of symbols.\n",
        "\n",
        "     c. Merge this pair into a new symbol (e.g., \"l\"+\"o\" → \"lo\").\n",
        "        Update all word representations with this merged symbol.\n",
        "\n",
        "     d. Add this new merged symbol to the vocabulary.\n",
        "\n",
        "4. Return the final BPE vocabulary (characters + merged subwords).\n",
        "```\n",
        "\n",
        "\n"
      ]
    },
    {
      "cell_type": "markdown",
      "metadata": {
        "id": "chbhezvhPpK9"
      },
      "source": [
        "### Use Tiktoken"
      ]
    },
    {
      "cell_type": "code",
      "execution_count": null,
      "metadata": {
        "colab": {
          "base_uri": "https://localhost:8080/"
        },
        "id": "uc0D-VyxOhy2",
        "outputId": "fc3bee59-9701-4bd1-9ffb-a711b5dd3a61"
      },
      "outputs": [
        {
          "name": "stdout",
          "output_type": "stream",
          "text": [
            "Requirement already satisfied: tiktoken in /usr/local/lib/python3.12/dist-packages (0.11.0)\n",
            "Requirement already satisfied: regex>=2022.1.18 in /usr/local/lib/python3.12/dist-packages (from tiktoken) (2024.11.6)\n",
            "Requirement already satisfied: requests>=2.26.0 in /usr/local/lib/python3.12/dist-packages (from tiktoken) (2.32.4)\n",
            "Requirement already satisfied: charset_normalizer<4,>=2 in /usr/local/lib/python3.12/dist-packages (from requests>=2.26.0->tiktoken) (3.4.3)\n",
            "Requirement already satisfied: idna<4,>=2.5 in /usr/local/lib/python3.12/dist-packages (from requests>=2.26.0->tiktoken) (3.10)\n",
            "Requirement already satisfied: urllib3<3,>=1.21.1 in /usr/local/lib/python3.12/dist-packages (from requests>=2.26.0->tiktoken) (2.5.0)\n",
            "Requirement already satisfied: certifi>=2017.4.17 in /usr/local/lib/python3.12/dist-packages (from requests>=2.26.0->tiktoken) (2025.8.3)\n"
          ]
        }
      ],
      "source": [
        "! pip3 install tiktoken"
      ]
    },
    {
      "cell_type": "code",
      "execution_count": null,
      "metadata": {
        "colab": {
          "base_uri": "https://localhost:8080/"
        },
        "id": "C4c4y467OkTp",
        "outputId": "7adbe371-b761-4509-bc46-cbcd347403f1"
      },
      "outputs": [
        {
          "name": "stdout",
          "output_type": "stream",
          "text": [
            "tiktoken version: 0.11.0\n"
          ]
        }
      ],
      "source": [
        "import importlib\n",
        "import tiktoken # OpenAI's tokenizer library (used in GPT models)\n",
        "\n",
        "print(\"tiktoken version:\", importlib.metadata.version(\"tiktoken\"))"
      ]
    },
    {
      "cell_type": "code",
      "execution_count": null,
      "metadata": {
        "id": "1BfMrDauOnUY"
      },
      "outputs": [],
      "source": [
        "# Load GPT-2 tokenizer\n",
        "tokenizer = tiktoken.get_encoding(\"gpt2\")"
      ]
    },
    {
      "cell_type": "code",
      "execution_count": null,
      "metadata": {
        "colab": {
          "base_uri": "https://localhost:8080/"
        },
        "id": "x8wASn2BOpX_",
        "outputId": "333653ab-534f-48cd-944d-c0946195b21d"
      },
      "outputs": [
        {
          "name": "stdout",
          "output_type": "stream",
          "text": [
            "[15496, 11, 466, 345, 588, 8887, 30, 220, 50256, 554, 262, 4252, 18250, 8812, 2114, 1659, 617, 34680, 27271, 13]\n"
          ]
        }
      ],
      "source": [
        "# Input text with a special token <|endoftext|>\n",
        "text = (\n",
        "    \"Hello, do you like tea? <|endoftext|> In the sunlit terraces\"\n",
        "     \"of someunknownPlace.\"\n",
        ")\n",
        "\n",
        "# Encode text into integer token IDs\n",
        "# \"allowed_special\" ensures the special token <|endoftext|> is preserved as one token\n",
        "integers = tokenizer.encode(text, allowed_special={\"<|endoftext|>\"})\n",
        "\n",
        "print(integers)"
      ]
    },
    {
      "cell_type": "code",
      "execution_count": null,
      "metadata": {
        "colab": {
          "base_uri": "https://localhost:8080/"
        },
        "id": "UHUhZCyKOsMw",
        "outputId": "bbca0258-4fc9-4a37-e4d8-fb83d5d3bc9b"
      },
      "outputs": [
        {
          "name": "stdout",
          "output_type": "stream",
          "text": [
            "Hello, do you like tea? <|endoftext|> In the sunlit terracesof someunknownPlace.\n"
          ]
        }
      ],
      "source": [
        "# Decode back from integers to string\n",
        "strings = tokenizer.decode(integers)\n",
        "\n",
        "print(strings)"
      ]
    },
    {
      "cell_type": "code",
      "execution_count": null,
      "metadata": {
        "colab": {
          "base_uri": "https://localhost:8080/"
        },
        "id": "FGnPuvx6Ougt",
        "outputId": "8ba830ec-f552-4b98-f58f-39f0469ef1f0"
      },
      "outputs": [
        {
          "name": "stdout",
          "output_type": "stream",
          "text": [
            "[33901, 86, 343, 86, 220, 959]\n",
            "Akwirw ier\n"
          ]
        }
      ],
      "source": [
        "# Try encoding a random string (with unknown/rare patterns)\n",
        "integers = tokenizer.encode(\"Akwirw ier\")\n",
        "print(integers)\n",
        "\n",
        "strings = tokenizer.decode(integers)\n",
        "print(strings)"
      ]
    },
    {
      "cell_type": "markdown",
      "metadata": {
        "id": "G6jrg2bhcmSO"
      },
      "source": [
        "## Data sampling with sliding window"
      ]
    },
    {
      "cell_type": "code",
      "execution_count": null,
      "metadata": {
        "colab": {
          "base_uri": "https://localhost:8080/"
        },
        "id": "3QNygdAlQ1R3",
        "outputId": "12411df4-8222-4e3e-ddeb-3ff9116b5132"
      },
      "outputs": [
        {
          "name": "stdout",
          "output_type": "stream",
          "text": [
            "5765\n"
          ]
        }
      ],
      "source": [
        "# Open and read the text file\n",
        "with open(\"the-verdict.txt\", \"r\", encoding=\"utf-8\") as f:\n",
        "    raw_text = f.read()\n",
        "\n",
        "# Encode the raw text into integer tokens using the tokenizer\n",
        "# Each token is an integer ID from the tokenizer’s vocabulary\n",
        "enc_text = tokenizer.encode(raw_text)\n",
        "\n",
        "# Print the total number of tokens in the text\n",
        "print(len(enc_text))"
      ]
    },
    {
      "cell_type": "code",
      "execution_count": null,
      "metadata": {
        "id": "G1u0sWuccwk2"
      },
      "outputs": [],
      "source": [
        "# Skip the first 50 tokens (to avoid printing very beginning of the book)\n",
        "enc_sample = enc_text[50:]"
      ]
    },
    {
      "cell_type": "code",
      "execution_count": null,
      "metadata": {
        "colab": {
          "base_uri": "https://localhost:8080/"
        },
        "id": "4p_HuxmQczlp",
        "outputId": "0f19f258-d8aa-4f78-e522-69ce16a5c4c8"
      },
      "outputs": [
        {
          "name": "stdout",
          "output_type": "stream",
          "text": [
            "x: [30526, 257, 5527, 27075]\n",
            "y:      [257, 5527, 27075, 11]\n"
          ]
        }
      ],
      "source": [
        "# Define the context size\n",
        "#(how many tokens the model \"looks at\" before predicting the next one)\n",
        "context_size = 4\n",
        "\n",
        "# Create input (x) and target (y) sequences\n",
        "# x: first 'context_size' tokens\n",
        "# y: the same sequence, but shifted by 1 token to the right\n",
        "x = enc_sample[:context_size]\n",
        "y = enc_sample[1:context_size+1]\n",
        "\n",
        "\n",
        "print(f\"x: {x}\")\n",
        "print(f\"y:      {y}\")"
      ]
    },
    {
      "cell_type": "code",
      "execution_count": null,
      "metadata": {
        "colab": {
          "base_uri": "https://localhost:8080/"
        },
        "id": "WoBn4F4idlFi",
        "outputId": "ae9140be-f1ef-44ad-a9e6-294f2b05f88a"
      },
      "outputs": [
        {
          "name": "stdout",
          "output_type": "stream",
          "text": [
            "[30526] ----> 257\n",
            "[30526, 257] ----> 5527\n",
            "[30526, 257, 5527] ----> 27075\n",
            "[30526, 257, 5527, 27075] ----> 11\n"
          ]
        }
      ],
      "source": [
        "# ----------------------------------------\n",
        "# LOOP 1: Show how training pairs are formed\n",
        "# ----------------------------------------\n",
        "for i in range(1, context_size+1):\n",
        "    # Context = tokens up to position i\n",
        "    context = enc_sample[:i]\n",
        "\n",
        "    # Desired = the \"next token\" the model should predict\n",
        "    desired = enc_sample[i]\n",
        "\n",
        "    # Print token IDs (numerical format)\n",
        "    print(context, \"---->\", desired)"
      ]
    },
    {
      "cell_type": "code",
      "execution_count": null,
      "metadata": {
        "colab": {
          "base_uri": "https://localhost:8080/"
        },
        "id": "GNf8jz1Xdox9",
        "outputId": "a1f24834-42f4-4afe-9db6-cef9bea85803"
      },
      "outputs": [
        {
          "name": "stdout",
          "output_type": "stream",
          "text": [
            "married ---->  a\n",
            "married a ---->  rich\n",
            "married a rich ---->  widow\n",
            "married a rich widow ----> ,\n"
          ]
        }
      ],
      "source": [
        "# ----------------------------------------\n",
        "# LOOP 2: Show same thing, but decoded back into text\n",
        "# ----------------------------------------\n",
        "for i in range(1, context_size+1):\n",
        "    context = enc_sample[:i]\n",
        "    desired = enc_sample[i]\n",
        "\n",
        "    # Decode tokens into human-readable strings\n",
        "    print(tokenizer.decode(context), \"---->\", tokenizer.decode([desired]))"
      ]
    },
    {
      "cell_type": "markdown",
      "metadata": {
        "id": "cKqPiw7cfKyG"
      },
      "source": [
        "## A note on Embeddings"
      ]
    },
    {
      "cell_type": "markdown",
      "metadata": {
        "id": "IY0cmPdxfOcV"
      },
      "source": [
        "### Embedding"
      ]
    },
    {
      "cell_type": "markdown",
      "metadata": {
        "id": "oE8dszzvfM9W"
      },
      "source": [
        "\n",
        "Embeddings are real-valued dense vectors (multi-dimensional arrays) that carry the meaning of the words. They can capture the context of the word/sentence in a document, semantic similarity, relation with other words/sentences, etc. A popular example of how they extract the contexts from the words is if you remove a man from the king and add a woman, it will output a vector similar to a queen. Also, similar words are close to each other in the embedding space. Many pre-trained models are available such as Word2Vec, GloVe, Bert, etc."
      ]
    },
    {
      "cell_type": "markdown",
      "metadata": {
        "id": "jOShsoc-fP5z"
      },
      "source": [
        "### Pytorch Embedding"
      ]
    },
    {
      "cell_type": "markdown",
      "metadata": {
        "id": "GcI2KVY9fZQP"
      },
      "source": [
        "As defined in the official Pytorch Documentation, an Embedding layer is - \"A simple lookup table that stores embeddings of a fixed dictionary and size.\" So basically at the low level, the Embedding layer is just a lookup table that maps an index value to a weight matrix of some dimension. This weight matrix is further optimised during training (updated during backpropagation to reduce the loss) to produce more useful vectors.This means the vectors are adjusted to better represent the semantics and relationships between words."
      ]
    },
    {
      "cell_type": "markdown",
      "metadata": {
        "id": "Jsgn2iytfpyc"
      },
      "source": [
        "Embedding layer takes minimum of two arguments - num_embeddings and embedding_dim. There are various other optional parameters also such as padding_idx, max_norm, etc. Refer to the official docs for this. Now the first required parameter is num_embeddings which means what is the dictionary size. For example, if you have a vocabulary of 5000 words, then the value that will go into the first parameter will be 5000. The second required parameter is embedding_dim which means the size of each embedding vector(as all the learned vectors will have a fixed size)."
      ]
    },
    {
      "cell_type": "markdown",
      "metadata": {
        "id": "7zbJQfqAfs3P"
      },
      "source": [
        "### CBOW and Skip-gram Techniques"
      ]
    },
    {
      "cell_type": "markdown",
      "metadata": {
        "id": "qpHsT71ifzR7"
      },
      "source": [
        "#### Continuous Bag of Words (CBOW)"
      ]
    },
    {
      "cell_type": "markdown",
      "metadata": {
        "id": "mZPh8Cpyft2w"
      },
      "source": [
        "Continuous Bag of Words (CBOW)- BOW predicts a target word based on the surrounding context words. This means that, for it to predict the focus word (the word we are interested in), it checks the surrounding words around it. The contextual representation of surrounding words for the focus word, helps in clearly predicting the word. It takes a pre-defined fixed window size into account and tries to predict the target word."
      ]
    },
    {
      "cell_type": "markdown",
      "metadata": {
        "id": "Evmo9lxIgUZP"
      },
      "source": [
        "👉 **Goal**: Predict the **target word** from the **context words**. <br>\n",
        "👉 Think of it as: *“Given the neighbors, guess the missing word.”*"
      ]
    },
    {
      "cell_type": "markdown",
      "metadata": {
        "id": "oIKmfI6Vf2Ri"
      },
      "source": [
        "![image.png](data:image/png;base64,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)"
      ]
    },
    {
      "cell_type": "markdown",
      "metadata": {
        "id": "h7j8HEn0gblq"
      },
      "source": [
        "```\n",
        "\"The cat sits on the mat\"\n",
        "```\n",
        "\n",
        "Training example (window size = 2):\n",
        "\n",
        "* Context: `[\"the\", \"sits\"]`\n",
        "* Target: `\"cat\"`\n",
        "\n",
        "So the model learns:\n",
        "\n",
        "```\n",
        "Input:  [\"the\", \"sits\"]  \n",
        "Output: \"cat\"\n",
        "```\n",
        "\n",
        "➡️ Over time, the model learns that *“cat” often appears near “the” and “sits.”*\n"
      ]
    },
    {
      "cell_type": "markdown",
      "metadata": {
        "id": "-EjXK9JPf250"
      },
      "source": [
        "#### Skip-gram"
      ]
    },
    {
      "cell_type": "markdown",
      "metadata": {
        "id": "tbVxGVBIguKe"
      },
      "source": [
        "👉 **Goal**: Predict the **context words** from the **target word**.\n",
        "👉 Think of it as: *“Given one word, guess its neighbors.”*\n",
        "\n",
        "\n",
        "\n",
        "```\n",
        "\"The cat sits on the mat\"\n",
        "```\n",
        "\n",
        "Training example (window size = 2):\n",
        "\n",
        "* Target: `\"cat\"`\n",
        "* Context: `[\"the\", \"sits\"]`\n",
        "\n",
        "So the model learns:\n",
        "\n",
        "```\n",
        "Input:  \"cat\"  \n",
        "Output: \"the\", \"sits\"\n",
        "```\n",
        "\n",
        "➡️ Over time, the model learns that *“cat” is often surrounded by words like “the” and “sits.”*"
      ]
    },
    {
      "cell_type": "markdown",
      "metadata": {
        "id": "iqWsyDJOgo5u"
      },
      "source": [
        "![image.png](data:image/png;base64,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)"
      ]
    },
    {
      "cell_type": "markdown",
      "metadata": {
        "id": "YCs1O0dSg1fA"
      },
      "source": [
        "#### Comparison"
      ]
    },
    {
      "cell_type": "markdown",
      "metadata": {
        "id": "OzZIkgVUg3Bb"
      },
      "source": [
        "| Feature      | CBOW (Continuous Bag of Words)  | Skip-gram                          |\n",
        "| ------------ | ------------------------------- | ---------------------------------- |\n",
        "| Input        | Context words (neighbors)       | Target word (center word)          |\n",
        "| Output       | Target word (center)            | Context words (neighbors)          |\n",
        "| Works better | Small datasets                  | Large datasets                     |\n",
        "| Fast or Slow | Faster (averages context words) | Slower (predicts multiple outputs) |\n",
        "| Example      | `[\"the\",\"sits\"] → \"cat\"`        | `\"cat\" → [\"the\",\"sits\"]`           |\n",
        "\n",
        "**Beginner-Friendly Analogy**\n",
        "\n",
        "* **CBOW**: Like a **detective** — you look at the surrounding clues (context) and guess the missing word.\n",
        "* **Skip-gram**: Like a **teacher** — you take a word and explain what kind of neighbors it usually has.\n",
        "\n",
        "**Why Both Are Useful?**\n",
        "\n",
        "* **CBOW** is efficient: good when data is small.\n",
        "* **Skip-gram** gives better embeddings for rare words: good for larger datasets.\n"
      ]
    },
    {
      "cell_type": "markdown",
      "metadata": {
        "id": "9ZLDYVquR6sS"
      },
      "source": [
        "## Applied Pytorch Embedding"
      ]
    },
    {
      "cell_type": "markdown",
      "metadata": {
        "id": "ba4aQjPSSAtd"
      },
      "source": [
        "**What is an embedding layer?**\n",
        "> An embedding layer in PyTorch (`nn.Embedding`) is a lookup table that maps discrete indices (like words, IDs, tokens) into continuous vectors.\n",
        "> Example: word `\"cat\"` → index `3` → embedding vector `[0.25, -0.11, 0.78]`.\n",
        "\n",
        "**Why do we use it?**\n",
        "> Instead of representing words as one-hot vectors (huge and sparse), embeddings give a **dense, learnable representation** that captures meaning/relationships.\n",
        "\n",
        "**How does it train?**\n",
        "\n",
        ">  * Embedding weights are stored in a matrix.\n",
        ">  * Each index looks up one row.\n",
        ">  * During training (via backpropagation), only the embeddings used in that batch are updated.\n",
        ">  * Optimizers like SGD/Adam adjust these vectors so that they better fit the task (classification, prediction, etc.).\n",
        "\n"
      ]
    },
    {
      "cell_type": "markdown",
      "metadata": {
        "id": "1w62NtvISnRH"
      },
      "source": [
        "###  Example: Training a Tiny Embedding Layer"
      ]
    },
    {
      "cell_type": "code",
      "execution_count": null,
      "metadata": {
        "colab": {
          "base_uri": "https://localhost:8080/"
        },
        "id": "JPqvedVmSt4w",
        "outputId": "a0ffd2ea-0902-4e6a-e9b1-ebb1b5e46274"
      },
      "outputs": [
        {
          "name": "stdout",
          "output_type": "stream",
          "text": [
            "Epoch [5/20], Loss: 0.6431\n",
            "Epoch [10/20], Loss: 0.6149\n",
            "Epoch [15/20], Loss: 0.6001\n",
            "Epoch [20/20], Loss: 0.5868\n",
            "\n",
            "Learned Embedding Weights:\n",
            "tensor([[-1.7881,  1.6190, -0.8313],\n",
            "        [-0.7699,  2.1302,  0.7981],\n",
            "        [ 0.5729, -1.0448,  0.7699],\n",
            "        [ 0.5150,  0.2685, -0.6719],\n",
            "        [-2.3819,  0.1545,  0.9881],\n",
            "        [ 1.1943, -0.8256,  0.2709]])\n"
          ]
        }
      ],
      "source": [
        "import torch\n",
        "import torch.nn as nn\n",
        "import torch.optim as optim\n",
        "\n",
        "# -----------------------------\n",
        "# 1. Setup: Vocabulary & Data\n",
        "# -----------------------------\n",
        "# Suppose we have 6 \"words\" (0 to 5)\n",
        "vocab_size = 6\n",
        "embedding_dim = 3   # Each word will be represented by a 3D vector\n",
        "\n",
        "# Toy dataset: word indices and labels (binary classification)\n",
        "# Words 0,1,2 -> class 0 ; Words 3,4,5 -> class 1\n",
        "inputs  = torch.tensor([0, 1, 2, 3, 4, 5])\n",
        "labels  = torch.tensor([0, 0, 0, 1, 1, 1])\n",
        "\n",
        "# -----------------------------\n",
        "# 2. Define Model\n",
        "# -----------------------------\n",
        "class SimpleEmbeddingModel(nn.Module):\n",
        "    def __init__(self, vocab_size, embedding_dim):\n",
        "        super(SimpleEmbeddingModel, self).__init__()\n",
        "        # Embedding layer: turns word indices into vectors\n",
        "        self.embedding = nn.Embedding(vocab_size, embedding_dim)\n",
        "        # Linear layer: maps embedding to output class (0 or 1)\n",
        "        self.fc = nn.Linear(embedding_dim, 2)\n",
        "\n",
        "    def forward(self, x):\n",
        "        # Look up embedding vector\n",
        "        x = self.embedding(x)\n",
        "        # Pass through linear layer\n",
        "        x = self.fc(x)\n",
        "        return x\n",
        "\n",
        "model = SimpleEmbeddingModel(vocab_size, embedding_dim)\n",
        "\n",
        "# -----------------------------\n",
        "# 3. Loss & Optimizer\n",
        "# -----------------------------\n",
        "criterion = nn.CrossEntropyLoss()\n",
        "optimizer = optim.SGD(model.parameters(), lr=0.1)\n",
        "\n",
        "# -----------------------------\n",
        "# 4. Training Loop\n",
        "# -----------------------------\n",
        "for epoch in range(20):\n",
        "    # Forward pass\n",
        "    outputs = model(inputs)           # shape: [6,2]\n",
        "    loss = criterion(outputs, labels)\n",
        "\n",
        "    # Backward pass\n",
        "    optimizer.zero_grad()\n",
        "    loss.backward()\n",
        "    optimizer.step()\n",
        "\n",
        "    # Print progress\n",
        "    if (epoch+1) % 5 == 0:\n",
        "        print(f\"Epoch [{epoch+1}/20], Loss: {loss.item():.4f}\")\n",
        "\n",
        "# -----------------------------\n",
        "# 5. Inspect Learned Embeddings\n",
        "# -----------------------------\n",
        "print(\"\\nLearned Embedding Weights:\")\n",
        "print(model.embedding.weight.data)"
      ]
    },
    {
      "cell_type": "markdown",
      "metadata": {
        "id": "hXotKNGXS1Zk"
      },
      "source": [
        "### What happens here?"
      ]
    },
    {
      "cell_type": "markdown",
      "metadata": {
        "id": "M0OlvMHLSlHc"
      },
      "source": [
        "\n",
        "\n",
        "> * `nn.Embedding(vocab_size, embedding_dim)` creates a **matrix of size `[6 × 3]`** (6 words, each with a 3D vector).\n",
        "> * Each input index selects a row. Example: index `2` → `[0.12, -0.55, 0.33]`.\n",
        "> * Training updates these rows so words in the same class (`0,1,2` vs `3,4,5`) get embeddings that help the classifier separate them.\n",
        "\n"
      ]
    },
    {
      "cell_type": "markdown",
      "metadata": {
        "id": "SUyTFK4Hdsnt"
      },
      "source": [
        "## Implementing a Data Loader"
      ]
    },
    {
      "cell_type": "markdown",
      "metadata": {
        "id": "ZArxHIMFZVGD"
      },
      "source": [
        "Step 1: Tokenize the entire text\n",
        "    \n",
        "Step 2: Use a sliding window to chunk the book into overlapping sequences of max_length\n",
        "\n",
        "Step 3: Return the total number of rows in the dataset\n",
        "\n",
        "Step 4: Return a single row from the dataset"
      ]
    },
    {
      "cell_type": "code",
      "execution_count": null,
      "metadata": {
        "id": "NHOa2LoHdsLw"
      },
      "outputs": [],
      "source": [
        "from torch.utils.data import Dataset, DataLoader\n",
        "import torch   # Needed for tensor conversion\n",
        "\n",
        "\n",
        "class GPTDatasetV1(Dataset):\n",
        "    def __init__(self, txt, tokenizer, max_length, stride):\n",
        "        \"\"\"\n",
        "        Args:\n",
        "            txt (str): The raw text to train on.\n",
        "            tokenizer: A tokenizer (e.g., GPT-2 tokenizer from tiktoken).\n",
        "            max_length (int): The sequence length (number of tokens) each sample should contain.\n",
        "            stride (int): Step size for the sliding window.\n",
        "                          (Controls overlap between consecutive samples.)\n",
        "        \"\"\"\n",
        "        self.input_ids = []   # Stores input token sequences\n",
        "        self.target_ids = []  # Stores shifted target token sequences\n",
        "\n",
        "        # -------------------------------\n",
        "        # 1. Tokenize the entire text\n",
        "        # -------------------------------\n",
        "        token_ids = tokenizer.encode(txt, allowed_special={\"<|endoftext|>\"})\n",
        "\n",
        "        # -------------------------------\n",
        "        # 2. Sliding Window\n",
        "        # -------------------------------\n",
        "        # Break text into chunks of length `max_length`\n",
        "        # Move the window forward by `stride` each time\n",
        "        for i in range(0, len(token_ids) - max_length, stride):\n",
        "            # Input sequence\n",
        "            input_chunk = token_ids[i:i + max_length]\n",
        "\n",
        "            # Target sequence = same as input, but shifted by one position\n",
        "            target_chunk = token_ids[i + 1: i + max_length + 1]\n",
        "\n",
        "            # Convert to PyTorch tensors\n",
        "            self.input_ids.append(torch.tensor(input_chunk))\n",
        "            self.target_ids.append(torch.tensor(target_chunk))\n",
        "\n",
        "    def __len__(self):\n",
        "        # Total number of samples in dataset\n",
        "        return len(self.input_ids)\n",
        "\n",
        "    def __getitem__(self, idx):\n",
        "        # Fetch one sample (input sequence, target sequence)\n",
        "        return self.input_ids[idx], self.target_ids[idx]\n"
      ]
    },
    {
      "cell_type": "markdown",
      "metadata": {
        "id": "M3T-D35kZbIa"
      },
      "source": [
        "The GPTDatasetV1 class is based on the PyTorch Dataset class.\n",
        "\n",
        "It defines how individual rows are fetched from the dataset.\n",
        "\n",
        "Each row consists of a number of\n",
        "token IDs (based on a max_length) assigned to an input_chunk tensor.\n",
        "\n",
        "The target_chunk\n",
        "tensor contains the corresponding targets.\n",
        "\n",
        "I recommend reading on to see how the data\n",
        "returned from this dataset looks like when we combine the dataset with a PyTorch\n",
        "DataLoader -- this will bring additional intuition and clarity."
      ]
    },
    {
      "cell_type": "code",
      "execution_count": null,
      "metadata": {
        "id": "l8L5LKoNd_l1"
      },
      "outputs": [],
      "source": [
        "def create_dataloader_v1(\n",
        "    txt,\n",
        "    batch_size=4,\n",
        "    max_length=256,\n",
        "    stride=128,\n",
        "    shuffle=True,\n",
        "    drop_last=True,\n",
        "    num_workers=0\n",
        "):\n",
        "    \"\"\"\n",
        "    Create a PyTorch DataLoader for training a GPT-like model.\n",
        "\n",
        "    Args:\n",
        "        txt (str): Raw training text.\n",
        "        batch_size (int): Number of sequences per batch (default=4).\n",
        "        max_length (int): Length of each input sequence in tokens (default=256).\n",
        "        stride (int): Step size for the sliding window (default=128).\n",
        "                      - Smaller stride → more overlap, more training samples.\n",
        "                      - Larger stride → less overlap, fewer samples.\n",
        "        shuffle (bool): Whether to shuffle samples each epoch (default=True).\n",
        "        drop_last (bool): Drop the last incomplete batch if dataset size\n",
        "                          is not divisible by batch_size (default=True).\n",
        "        num_workers (int): Number of subprocesses for data loading\n",
        "                           (0 = load in main process, good for small datasets).\n",
        "\n",
        "    Returns:\n",
        "        dataloader (torch.utils.data.DataLoader): A DataLoader that yields\n",
        "        (input_ids, target_ids) batches.\n",
        "    \"\"\"\n",
        "\n",
        "    # --------------------------------\n",
        "    # 1. Initialize the tokenizer\n",
        "    # --------------------------------\n",
        "    # GPT-2 tokenizer with Byte Pair Encoding (BPE)\n",
        "    tokenizer = tiktoken.get_encoding(\"gpt2\")\n",
        "\n",
        "    # --------------------------------\n",
        "    # 2. Create custom dataset\n",
        "    # --------------------------------\n",
        "    dataset = GPTDatasetV1(txt, tokenizer, max_length, stride)\n",
        "\n",
        "    # --------------------------------\n",
        "    # 3. Wrap dataset in DataLoader\n",
        "    # --------------------------------\n",
        "    dataloader = DataLoader(\n",
        "        dataset,\n",
        "        batch_size=batch_size,  # how many (input, target) pairs per batch\n",
        "        shuffle=shuffle,        # randomize order each epoch (helps training)\n",
        "        drop_last=drop_last,    # ensures all batches are full\n",
        "        num_workers=num_workers # parallel loading (keep 0 on Windows for safety)\n",
        "    )\n",
        "\n",
        "    return dataloader\n"
      ]
    },
    {
      "cell_type": "markdown",
      "metadata": {
        "id": "E25Tod5v6a6S"
      },
      "source": [
        "---\n",
        "\n",
        "| Parameter                                    | Meaning                                                                                                                                                                    | Effect/Impact                                                                                                                                                           <br>                                                                                                                                  |\n",
        "| -------------------------------------------- | -------------------------------------------------------------------------------------------------------------------------------------------------------------------------- | --------------------------------------------------------------------------------------------------------------------------------------------------------------------------------------------------------------------------------------------------------------------------------------------------------- |\n",
        "| **batch\\_size=4**                            | Number of samples processed<br> together in one forward/backward pass.                                                                                                         | Smaller batch → noisier gradients (may generalize better), <br> faster iteration, less GPU memory. <br><br>Larger batch → smoother gradients, <br>stable convergence, but more memory/computation.                                                                                                                         |\n",
        "| **max\\_length=256**                          | Maximum sequence length (tokens)<br> allowed per sample. Shorter padded, <br>longer truncated.                                                                                     | Higher → model captures more context but slower <br>& memory-heavy.<br><br> Lower → faster, but context may be lost.                                                                                                                                                                                                  |\n",
        "| **stride=128**                               | Tokens to shift when splitting <br>overlapping text windows.                                                                                                                   | Small stride → more overlap, better context coverage,<br> but redundancy and more training data.<br><br> Large stride → less overlap, fewer samples, but may lose <br> continuity.                                                                                                                                         |\n",
        "| **shuffle=True**                             | Randomizes dataset order each<br> epoch.                                                                                                                                       | Breaks sequential bias, improves generalization.<br> Without shuffle, the model may overfit to order patterns.                                                                                                                                                                                                |\n",
        "| **drop\\_last=True**                          | Drops the last incomplete batch if<br> dataset size isn’t divisible by batch\\_size.                                                                                            | Ensures **all batches equal size** <br> (important in distributed training). <br><br> If True, dataset size reduces slightly each epoch<br> → can cause **small fluctuations (training spikes)** <br>in loss/metrics at epoch boundaries. <br><br>If False, last batch is smaller, which may cause **instability**<br> in gradient updates. |\n",
        "| **num\\_workers=0**                           | Number of parallel subprocesses for <br> data loading.                                                                                                                          | `0` → loads data in main process (stable but slower).<br><br> Higher values → faster data fetching, better GPU utilization,<br> but risk of CPU overhead, memory spikes, or deadlocks if <br> too high.                                                                                                                    |\n",
        "| **Difference: batch\\_size vs. num\\_workers** | **batch\\_size** = how many samples are <br>processed **per training step**. <br> **num\\_workers** = how many CPU <br>subprocesses fetch data **in parallel** to <br>keep the GPU busy. | Increasing **batch\\_size** affects **model training dynamics** <br>(gradient quality, memory).<br><br> Increasing **num\\_workers** affects only **data loading speed**, <br> not training convergence.                                                                                                                     |\n",
        "\n",
        "<br>\n",
        "\n",
        "\n",
        "* `drop_last=True` can cause **training spikes** because each epoch may discard a few samples. That slightly changes data distribution across epochs, causing small but noticeable jumps in loss curves.\n",
        "* `batch_size` is tied to **GPU usage and gradient updates**.\n",
        "* `num_workers` is tied to **CPU usage and data pipeline throughput**.\n",
        "\n",
        "---\n",
        "\n",
        "\n"
      ]
    },
    {
      "cell_type": "code",
      "execution_count": null,
      "metadata": {
        "id": "zCYgva2aeBiR"
      },
      "outputs": [],
      "source": [
        "with open(\"the-verdict.txt\", \"r\", encoding=\"utf-8\") as f:\n",
        "    raw_text = f.read()"
      ]
    },
    {
      "cell_type": "code",
      "execution_count": null,
      "metadata": {
        "colab": {
          "base_uri": "https://localhost:8080/"
        },
        "id": "LqGQ3KsMeDk5",
        "outputId": "a22d4be2-d6d8-4460-d150-df06f3b4b749"
      },
      "outputs": [
        {
          "name": "stdout",
          "output_type": "stream",
          "text": [
            "PyTorch version: 2.8.0+cu126\n",
            "[tensor([[  40,  550, 1464, 1807]]), tensor([[ 550, 1464, 1807, 3619]])]\n"
          ]
        }
      ],
      "source": [
        "import torch\n",
        "print(\"PyTorch version:\", torch.__version__)\n",
        "dataloader = create_dataloader_v1(\n",
        "    raw_text, batch_size=1, max_length=4, stride=1, shuffle=False\n",
        ")\n",
        "\n",
        "data_iter = iter(dataloader)\n",
        "first_batch = next(data_iter)\n",
        "print(first_batch)"
      ]
    },
    {
      "cell_type": "markdown",
      "metadata": {
        "id": "rf_rYWe668jq"
      },
      "source": [
        "The first_batch variable contains two tensors: the first tensor stores the input token IDs,\n",
        "and the second tensor stores the target token IDs.\n",
        "\n",
        "Since the max_length is set to 4, each of the two tensors contains 4 token IDs.\n",
        "\n",
        "Note that an input size of 4 is relatively small and only chosen for illustration purposes. It is common to train LLMs with input sizes of at least\n",
        "256."
      ]
    },
    {
      "cell_type": "markdown",
      "metadata": {
        "id": "l-r55XYX7AwD"
      },
      "source": [
        "To illustrate the meaning of stride=1, let's fetch another batch from this dataset"
      ]
    },
    {
      "cell_type": "code",
      "execution_count": null,
      "metadata": {
        "colab": {
          "base_uri": "https://localhost:8080/"
        },
        "id": "xJVuj0L9eFUU",
        "outputId": "e414a5aa-30dc-4fa6-953b-623f5ea0e730"
      },
      "outputs": [
        {
          "name": "stdout",
          "output_type": "stream",
          "text": [
            "[tensor([[ 550, 1464, 1807, 3619]]), tensor([[1464, 1807, 3619,  402]])]\n"
          ]
        }
      ],
      "source": [
        "second_batch = next(data_iter)\n",
        "print(second_batch)"
      ]
    },
    {
      "cell_type": "markdown",
      "metadata": {
        "id": "67fL-G1r7Doc"
      },
      "source": [
        "If we compare the first with the second batch, we can see that the second batch's token\n",
        "IDs are shifted by one position compared to the first batch.\n",
        "\n",
        "For example, the second ID in\n",
        "the first batch's input is 367, which is the first ID of the second batch's input.\n",
        "\n",
        "The stride\n",
        "setting dictates the number of positions the inputs shift across batches, emulating a sliding\n",
        "window approach\n",
        "\n",
        "\n",
        "Just like in regular deep learning, the batch size is a trade-off and hyperparameter\n",
        "to experiment with when training LLMs.\n",
        "\n",
        "Small batch sizes require less memory during training but lead to more noisy model updates."
      ]
    },
    {
      "cell_type": "code",
      "execution_count": null,
      "metadata": {
        "colab": {
          "base_uri": "https://localhost:8080/"
        },
        "id": "SyW4C3RweGil",
        "outputId": "7af9c4a1-4e27-4992-cf70-ef3515ae2571"
      },
      "outputs": [
        {
          "name": "stdout",
          "output_type": "stream",
          "text": [
            "Inputs:\n",
            " tensor([[   40,   550,  1464,  1807],\n",
            "        [ 3619,   402,   271, 10899],\n",
            "        [ 2138,   257,  7026, 15632],\n",
            "        [  438,  2016,   257,   198],\n",
            "        [  198, 11274,  5891,  1576],\n",
            "        [  438,   568,   340,   373],\n",
            "        [  645,  1049,  5975,   284],\n",
            "        [  502,   284,  3285,   198]])\n",
            "\n",
            "Targets:\n",
            " tensor([[  550,  1464,  1807,  3619],\n",
            "        [  402,   271, 10899,  2138],\n",
            "        [  257,  7026, 15632,   438],\n",
            "        [ 2016,   257,   198,   198],\n",
            "        [11274,  5891,  1576,   438],\n",
            "        [  568,   340,   373,   645],\n",
            "        [ 1049,  5975,   284,   502],\n",
            "        [  284,  3285,   198,   198]])\n"
          ]
        }
      ],
      "source": [
        "dataloader = create_dataloader_v1(raw_text, batch_size=8, max_length=4, stride=4, shuffle=False)\n",
        "\n",
        "data_iter = iter(dataloader)\n",
        "inputs, targets = next(data_iter)\n",
        "print(\"Inputs:\\n\", inputs)\n",
        "print(\"\\nTargets:\\n\", targets)"
      ]
    },
    {
      "cell_type": "markdown",
      "metadata": {
        "id": "FJs-oVOAeWLD"
      },
      "source": [
        "## Create Token Embeddings"
      ]
    },
    {
      "cell_type": "code",
      "execution_count": null,
      "metadata": {
        "id": "pM9eeT6UeMG-"
      },
      "outputs": [],
      "source": [
        "input_ids = torch.tensor([2, 3, 5, 1])"
      ]
    },
    {
      "cell_type": "code",
      "execution_count": null,
      "metadata": {
        "id": "KYTeavlWeayr"
      },
      "outputs": [],
      "source": [
        "# Vocabulary size = number of unique tokens (like words/subwords in your vocab)\n",
        "vocab_size = 6\n",
        "\n",
        "# Embedding dimension = size of each token’s vector representation\n",
        "output_dim = 3\n",
        "\n",
        "# Set random seed for reproducibility (so weights are the same each run)\n",
        "torch.manual_seed(123)\n",
        "\n",
        "# Create embedding layer\n",
        "# - Input: token IDs (0 to vocab_size-1)\n",
        "# - Output: dense vectors of size `output_dim`\n",
        "embedding_layer = torch.nn.Embedding(vocab_size, output_dim)\n"
      ]
    },
    {
      "cell_type": "code",
      "execution_count": null,
      "metadata": {
        "colab": {
          "base_uri": "https://localhost:8080/"
        },
        "id": "sZjbfG3Eeh0g",
        "outputId": "26f216b8-04a5-493d-f558-714d9b88dc09"
      },
      "outputs": [
        {
          "name": "stdout",
          "output_type": "stream",
          "text": [
            "Parameter containing:\n",
            "tensor([[ 0.3374, -0.1778, -0.1690],\n",
            "        [ 0.9178,  1.5810,  1.3010],\n",
            "        [ 1.2753, -0.2010, -0.1606],\n",
            "        [-0.4015,  0.9666, -1.1481],\n",
            "        [-1.1589,  0.3255, -0.6315],\n",
            "        [-2.8400, -0.7849, -1.4096]], requires_grad=True)\n"
          ]
        }
      ],
      "source": [
        "print(embedding_layer.weight)"
      ]
    },
    {
      "cell_type": "code",
      "execution_count": null,
      "metadata": {
        "colab": {
          "base_uri": "https://localhost:8080/"
        },
        "id": "v89TRFcKejT6",
        "outputId": "e35d2ccc-6bce-4946-bfff-bc33a97b6b74"
      },
      "outputs": [
        {
          "name": "stdout",
          "output_type": "stream",
          "text": [
            "tensor([[-0.4015,  0.9666, -1.1481]], grad_fn=<EmbeddingBackward0>)\n"
          ]
        }
      ],
      "source": [
        "print(embedding_layer(torch.tensor([3])))"
      ]
    },
    {
      "cell_type": "code",
      "execution_count": null,
      "metadata": {
        "colab": {
          "base_uri": "https://localhost:8080/"
        },
        "id": "i9lsW9-Xek-z",
        "outputId": "97676f46-d12f-454b-86fe-e881388171f7"
      },
      "outputs": [
        {
          "name": "stdout",
          "output_type": "stream",
          "text": [
            "tensor([[ 1.2753, -0.2010, -0.1606],\n",
            "        [-0.4015,  0.9666, -1.1481],\n",
            "        [-2.8400, -0.7849, -1.4096],\n",
            "        [ 0.9178,  1.5810,  1.3010]], grad_fn=<EmbeddingBackward0>)\n"
          ]
        }
      ],
      "source": [
        "print(embedding_layer(input_ids))"
      ]
    },
    {
      "cell_type": "markdown",
      "metadata": {
        "id": "aKoeEov2emHN"
      },
      "source": [
        "## Positional Embeddings"
      ]
    },
    {
      "cell_type": "code",
      "execution_count": null,
      "metadata": {
        "id": "UZ231IAUenGK"
      },
      "outputs": [],
      "source": [
        "vocab_size = 50257\n",
        "output_dim = 256\n",
        "\n",
        "token_embedding_layer = torch.nn.Embedding(vocab_size, output_dim)"
      ]
    },
    {
      "cell_type": "code",
      "execution_count": null,
      "metadata": {
        "id": "7oEcxP2tenDF"
      },
      "outputs": [],
      "source": [
        "max_length = 4\n",
        "dataloader = create_dataloader_v1(\n",
        "    raw_text, batch_size=8, max_length=max_length,\n",
        "    stride=max_length, shuffle=False\n",
        ")\n",
        "data_iter = iter(dataloader)\n",
        "inputs, targets = next(data_iter)"
      ]
    },
    {
      "cell_type": "code",
      "execution_count": null,
      "metadata": {
        "colab": {
          "base_uri": "https://localhost:8080/"
        },
        "id": "csBq7XuGeszS",
        "outputId": "59e34233-ef29-400d-9d9d-46732d2274cd"
      },
      "outputs": [
        {
          "name": "stdout",
          "output_type": "stream",
          "text": [
            "Token IDs:\n",
            " tensor([[   40,   550,  1464,  1807],\n",
            "        [ 3619,   402,   271, 10899],\n",
            "        [ 2138,   257,  7026, 15632],\n",
            "        [  438,  2016,   257,   198],\n",
            "        [  198, 11274,  5891,  1576],\n",
            "        [  438,   568,   340,   373],\n",
            "        [  645,  1049,  5975,   284],\n",
            "        [  502,   284,  3285,   198]])\n",
            "\n",
            "Inputs shape:\n",
            " torch.Size([8, 4])\n"
          ]
        }
      ],
      "source": [
        "print(\"Token IDs:\\n\", inputs)\n",
        "print(\"\\nInputs shape:\\n\", inputs.shape)"
      ]
    },
    {
      "cell_type": "code",
      "execution_count": null,
      "metadata": {
        "colab": {
          "base_uri": "https://localhost:8080/"
        },
        "id": "3IL6w72ZeuNb",
        "outputId": "e333215a-0141-4bb4-b47c-8f5ba5995df7"
      },
      "outputs": [
        {
          "name": "stdout",
          "output_type": "stream",
          "text": [
            "torch.Size([8, 4, 256])\n"
          ]
        }
      ],
      "source": [
        "token_embeddings = token_embedding_layer(inputs)\n",
        "print(token_embeddings.shape)"
      ]
    },
    {
      "cell_type": "code",
      "execution_count": null,
      "metadata": {
        "id": "w2_3KqZeevzu"
      },
      "outputs": [],
      "source": [
        "context_length = max_length\n",
        "pos_embedding_layer = torch.nn.Embedding(context_length, output_dim)"
      ]
    },
    {
      "cell_type": "code",
      "execution_count": null,
      "metadata": {
        "colab": {
          "base_uri": "https://localhost:8080/"
        },
        "id": "9CykTSSzew0Z",
        "outputId": "9e60b65e-49de-472f-8083-c8cd991d0704"
      },
      "outputs": [
        {
          "name": "stdout",
          "output_type": "stream",
          "text": [
            "torch.Size([4, 256])\n"
          ]
        }
      ],
      "source": [
        "pos_embeddings = pos_embedding_layer(torch.arange(max_length))\n",
        "print(pos_embeddings.shape)"
      ]
    },
    {
      "cell_type": "code",
      "execution_count": null,
      "metadata": {
        "colab": {
          "base_uri": "https://localhost:8080/"
        },
        "id": "_Riw2e8xex7M",
        "outputId": "3bdf772b-37d8-4ec1-82a7-1e4c27439f9f"
      },
      "outputs": [
        {
          "name": "stdout",
          "output_type": "stream",
          "text": [
            "torch.Size([8, 4, 256])\n"
          ]
        }
      ],
      "source": [
        "input_embeddings = token_embeddings + pos_embeddings\n",
        "print(input_embeddings.shape)"
      ]
    }
  ],
  "metadata": {
    "colab": {
      "provenance": [],
      "toc_visible": true
    },
    "kernelspec": {
      "display_name": "Python 3",
      "name": "python3"
    },
    "language_info": {
      "name": "python"
    },
    "widgets": {
      "application/vnd.jupyter.widget-state+json": {
        "020def069fcf4576a033c37e5c6c4e57": {
          "model_module": "@jupyter-widgets/base",
          "model_module_version": "1.2.0",
          "model_name": "LayoutModel",
          "state": {
            "_model_module": "@jupyter-widgets/base",
            "_model_module_version": "1.2.0",
            "_model_name": "LayoutModel",
            "_view_count": null,
            "_view_module": "@jupyter-widgets/base",
            "_view_module_version": "1.2.0",
            "_view_name": "LayoutView",
            "align_content": null,
            "align_items": null,
            "align_self": null,
            "border": null,
            "bottom": null,
            "display": null,
            "flex": null,
            "flex_flow": null,
            "grid_area": null,
            "grid_auto_columns": null,
            "grid_auto_flow": null,
            "grid_auto_rows": null,
            "grid_column": null,
            "grid_gap": null,
            "grid_row": null,
            "grid_template_areas": null,
            "grid_template_columns": null,
            "grid_template_rows": null,
            "height": null,
            "justify_content": null,
            "justify_items": null,
            "left": null,
            "margin": null,
            "max_height": null,
            "max_width": null,
            "min_height": null,
            "min_width": null,
            "object_fit": null,
            "object_position": null,
            "order": null,
            "overflow": null,
            "overflow_x": null,
            "overflow_y": null,
            "padding": null,
            "right": null,
            "top": null,
            "visibility": null,
            "width": null
          }
        },
        "050515fad31c4ad5857644d65db2f1bc": {
          "model_module": "@jupyter-widgets/controls",
          "model_module_version": "1.5.0",
          "model_name": "DescriptionStyleModel",
          "state": {
            "_model_module": "@jupyter-widgets/controls",
            "_model_module_version": "1.5.0",
            "_model_name": "DescriptionStyleModel",
            "_view_count": null,
            "_view_module": "@jupyter-widgets/base",
            "_view_module_version": "1.2.0",
            "_view_name": "StyleView",
            "description_width": ""
          }
        },
        "08274f07056b4826a841e58616fc8e46": {
          "model_module": "@jupyter-widgets/base",
          "model_module_version": "1.2.0",
          "model_name": "LayoutModel",
          "state": {
            "_model_module": "@jupyter-widgets/base",
            "_model_module_version": "1.2.0",
            "_model_name": "LayoutModel",
            "_view_count": null,
            "_view_module": "@jupyter-widgets/base",
            "_view_module_version": "1.2.0",
            "_view_name": "LayoutView",
            "align_content": null,
            "align_items": null,
            "align_self": null,
            "border": null,
            "bottom": null,
            "display": null,
            "flex": null,
            "flex_flow": null,
            "grid_area": null,
            "grid_auto_columns": null,
            "grid_auto_flow": null,
            "grid_auto_rows": null,
            "grid_column": null,
            "grid_gap": null,
            "grid_row": null,
            "grid_template_areas": null,
            "grid_template_columns": null,
            "grid_template_rows": null,
            "height": null,
            "justify_content": null,
            "justify_items": null,
            "left": null,
            "margin": null,
            "max_height": null,
            "max_width": null,
            "min_height": null,
            "min_width": null,
            "object_fit": null,
            "object_position": null,
            "order": null,
            "overflow": null,
            "overflow_x": null,
            "overflow_y": null,
            "padding": null,
            "right": null,
            "top": null,
            "visibility": null,
            "width": null
          }
        },
        "0c8d617408b04bc5864df25565dab3a4": {
          "model_module": "@jupyter-widgets/base",
          "model_module_version": "1.2.0",
          "model_name": "LayoutModel",
          "state": {
            "_model_module": "@jupyter-widgets/base",
            "_model_module_version": "1.2.0",
            "_model_name": "LayoutModel",
            "_view_count": null,
            "_view_module": "@jupyter-widgets/base",
            "_view_module_version": "1.2.0",
            "_view_name": "LayoutView",
            "align_content": null,
            "align_items": null,
            "align_self": null,
            "border": null,
            "bottom": null,
            "display": null,
            "flex": null,
            "flex_flow": null,
            "grid_area": null,
            "grid_auto_columns": null,
            "grid_auto_flow": null,
            "grid_auto_rows": null,
            "grid_column": null,
            "grid_gap": null,
            "grid_row": null,
            "grid_template_areas": null,
            "grid_template_columns": null,
            "grid_template_rows": null,
            "height": null,
            "justify_content": null,
            "justify_items": null,
            "left": null,
            "margin": null,
            "max_height": null,
            "max_width": null,
            "min_height": null,
            "min_width": null,
            "object_fit": null,
            "object_position": null,
            "order": null,
            "overflow": null,
            "overflow_x": null,
            "overflow_y": null,
            "padding": null,
            "right": null,
            "top": null,
            "visibility": null,
            "width": null
          }
        },
        "10748f67d0524e6b84e2beb70537583d": {
          "model_module": "@jupyter-widgets/base",
          "model_module_version": "1.2.0",
          "model_name": "LayoutModel",
          "state": {
            "_model_module": "@jupyter-widgets/base",
            "_model_module_version": "1.2.0",
            "_model_name": "LayoutModel",
            "_view_count": null,
            "_view_module": "@jupyter-widgets/base",
            "_view_module_version": "1.2.0",
            "_view_name": "LayoutView",
            "align_content": null,
            "align_items": null,
            "align_self": null,
            "border": null,
            "bottom": null,
            "display": null,
            "flex": null,
            "flex_flow": null,
            "grid_area": null,
            "grid_auto_columns": null,
            "grid_auto_flow": null,
            "grid_auto_rows": null,
            "grid_column": null,
            "grid_gap": null,
            "grid_row": null,
            "grid_template_areas": null,
            "grid_template_columns": null,
            "grid_template_rows": null,
            "height": null,
            "justify_content": null,
            "justify_items": null,
            "left": null,
            "margin": null,
            "max_height": null,
            "max_width": null,
            "min_height": null,
            "min_width": null,
            "object_fit": null,
            "object_position": null,
            "order": null,
            "overflow": null,
            "overflow_x": null,
            "overflow_y": null,
            "padding": null,
            "right": null,
            "top": null,
            "visibility": null,
            "width": null
          }
        },
        "10cd41b744f64c20b1ad6604abe4539c": {
          "model_module": "@jupyter-widgets/controls",
          "model_module_version": "1.5.0",
          "model_name": "DescriptionStyleModel",
          "state": {
            "_model_module": "@jupyter-widgets/controls",
            "_model_module_version": "1.5.0",
            "_model_name": "DescriptionStyleModel",
            "_view_count": null,
            "_view_module": "@jupyter-widgets/base",
            "_view_module_version": "1.2.0",
            "_view_name": "StyleView",
            "description_width": ""
          }
        },
        "124ac5faa43a49c888ebd1447ea0722c": {
          "model_module": "@jupyter-widgets/controls",
          "model_module_version": "1.5.0",
          "model_name": "HTMLModel",
          "state": {
            "_dom_classes": [],
            "_model_module": "@jupyter-widgets/controls",
            "_model_module_version": "1.5.0",
            "_model_name": "HTMLModel",
            "_view_count": null,
            "_view_module": "@jupyter-widgets/controls",
            "_view_module_version": "1.5.0",
            "_view_name": "HTMLView",
            "description": "",
            "description_tooltip": null,
            "layout": "IPY_MODEL_244a5582b7e24332a981b4051cbe145b",
            "placeholder": "​",
            "style": "IPY_MODEL_d89b910d912a4a658ccf6d4919420115",
            "value": "vocab.txt: 100%"
          }
        },
        "1c7167430ab540ccb5870efacc72b58e": {
          "model_module": "@jupyter-widgets/controls",
          "model_module_version": "1.5.0",
          "model_name": "ProgressStyleModel",
          "state": {
            "_model_module": "@jupyter-widgets/controls",
            "_model_module_version": "1.5.0",
            "_model_name": "ProgressStyleModel",
            "_view_count": null,
            "_view_module": "@jupyter-widgets/base",
            "_view_module_version": "1.2.0",
            "_view_name": "StyleView",
            "bar_color": null,
            "description_width": ""
          }
        },
        "202aa0a440894cf584fdb473af85e751": {
          "model_module": "@jupyter-widgets/controls",
          "model_module_version": "1.5.0",
          "model_name": "HTMLModel",
          "state": {
            "_dom_classes": [],
            "_model_module": "@jupyter-widgets/controls",
            "_model_module_version": "1.5.0",
            "_model_name": "HTMLModel",
            "_view_count": null,
            "_view_module": "@jupyter-widgets/controls",
            "_view_module_version": "1.5.0",
            "_view_name": "HTMLView",
            "description": "",
            "description_tooltip": null,
            "layout": "IPY_MODEL_53cc6732f02d4faa8f75e848e3691f4a",
            "placeholder": "​",
            "style": "IPY_MODEL_10cd41b744f64c20b1ad6604abe4539c",
            "value": "tokenizer.json: 100%"
          }
        },
        "21adf0de62904cf09658c89f67a3fa52": {
          "model_module": "@jupyter-widgets/controls",
          "model_module_version": "1.5.0",
          "model_name": "HTMLModel",
          "state": {
            "_dom_classes": [],
            "_model_module": "@jupyter-widgets/controls",
            "_model_module_version": "1.5.0",
            "_model_name": "HTMLModel",
            "_view_count": null,
            "_view_module": "@jupyter-widgets/controls",
            "_view_module_version": "1.5.0",
            "_view_name": "HTMLView",
            "description": "",
            "description_tooltip": null,
            "layout": "IPY_MODEL_c13649852d6e4e67bb752fd2c1991f64",
            "placeholder": "​",
            "style": "IPY_MODEL_050515fad31c4ad5857644d65db2f1bc",
            "value": " 570/570 [00:00&lt;00:00, 29.0kB/s]"
          }
        },
        "244a5582b7e24332a981b4051cbe145b": {
          "model_module": "@jupyter-widgets/base",
          "model_module_version": "1.2.0",
          "model_name": "LayoutModel",
          "state": {
            "_model_module": "@jupyter-widgets/base",
            "_model_module_version": "1.2.0",
            "_model_name": "LayoutModel",
            "_view_count": null,
            "_view_module": "@jupyter-widgets/base",
            "_view_module_version": "1.2.0",
            "_view_name": "LayoutView",
            "align_content": null,
            "align_items": null,
            "align_self": null,
            "border": null,
            "bottom": null,
            "display": null,
            "flex": null,
            "flex_flow": null,
            "grid_area": null,
            "grid_auto_columns": null,
            "grid_auto_flow": null,
            "grid_auto_rows": null,
            "grid_column": null,
            "grid_gap": null,
            "grid_row": null,
            "grid_template_areas": null,
            "grid_template_columns": null,
            "grid_template_rows": null,
            "height": null,
            "justify_content": null,
            "justify_items": null,
            "left": null,
            "margin": null,
            "max_height": null,
            "max_width": null,
            "min_height": null,
            "min_width": null,
            "object_fit": null,
            "object_position": null,
            "order": null,
            "overflow": null,
            "overflow_x": null,
            "overflow_y": null,
            "padding": null,
            "right": null,
            "top": null,
            "visibility": null,
            "width": null
          }
        },
        "2c1ddab704184524a9f044651bcb3a30": {
          "model_module": "@jupyter-widgets/controls",
          "model_module_version": "1.5.0",
          "model_name": "FloatProgressModel",
          "state": {
            "_dom_classes": [],
            "_model_module": "@jupyter-widgets/controls",
            "_model_module_version": "1.5.0",
            "_model_name": "FloatProgressModel",
            "_view_count": null,
            "_view_module": "@jupyter-widgets/controls",
            "_view_module_version": "1.5.0",
            "_view_name": "ProgressView",
            "bar_style": "success",
            "description": "",
            "description_tooltip": null,
            "layout": "IPY_MODEL_6756efd6adbb4b249b1f8a31b874a732",
            "max": 48,
            "min": 0,
            "orientation": "horizontal",
            "style": "IPY_MODEL_1c7167430ab540ccb5870efacc72b58e",
            "value": 48
          }
        },
        "2ef01dea92d848ef9380af489aaa4d8a": {
          "model_module": "@jupyter-widgets/base",
          "model_module_version": "1.2.0",
          "model_name": "LayoutModel",
          "state": {
            "_model_module": "@jupyter-widgets/base",
            "_model_module_version": "1.2.0",
            "_model_name": "LayoutModel",
            "_view_count": null,
            "_view_module": "@jupyter-widgets/base",
            "_view_module_version": "1.2.0",
            "_view_name": "LayoutView",
            "align_content": null,
            "align_items": null,
            "align_self": null,
            "border": null,
            "bottom": null,
            "display": null,
            "flex": null,
            "flex_flow": null,
            "grid_area": null,
            "grid_auto_columns": null,
            "grid_auto_flow": null,
            "grid_auto_rows": null,
            "grid_column": null,
            "grid_gap": null,
            "grid_row": null,
            "grid_template_areas": null,
            "grid_template_columns": null,
            "grid_template_rows": null,
            "height": null,
            "justify_content": null,
            "justify_items": null,
            "left": null,
            "margin": null,
            "max_height": null,
            "max_width": null,
            "min_height": null,
            "min_width": null,
            "object_fit": null,
            "object_position": null,
            "order": null,
            "overflow": null,
            "overflow_x": null,
            "overflow_y": null,
            "padding": null,
            "right": null,
            "top": null,
            "visibility": null,
            "width": null
          }
        },
        "34954d4578104d17aac00bd81b576ca1": {
          "model_module": "@jupyter-widgets/base",
          "model_module_version": "1.2.0",
          "model_name": "LayoutModel",
          "state": {
            "_model_module": "@jupyter-widgets/base",
            "_model_module_version": "1.2.0",
            "_model_name": "LayoutModel",
            "_view_count": null,
            "_view_module": "@jupyter-widgets/base",
            "_view_module_version": "1.2.0",
            "_view_name": "LayoutView",
            "align_content": null,
            "align_items": null,
            "align_self": null,
            "border": null,
            "bottom": null,
            "display": null,
            "flex": null,
            "flex_flow": null,
            "grid_area": null,
            "grid_auto_columns": null,
            "grid_auto_flow": null,
            "grid_auto_rows": null,
            "grid_column": null,
            "grid_gap": null,
            "grid_row": null,
            "grid_template_areas": null,
            "grid_template_columns": null,
            "grid_template_rows": null,
            "height": null,
            "justify_content": null,
            "justify_items": null,
            "left": null,
            "margin": null,
            "max_height": null,
            "max_width": null,
            "min_height": null,
            "min_width": null,
            "object_fit": null,
            "object_position": null,
            "order": null,
            "overflow": null,
            "overflow_x": null,
            "overflow_y": null,
            "padding": null,
            "right": null,
            "top": null,
            "visibility": null,
            "width": null
          }
        },
        "362ceaf785554012a8cb49bce4fa6fc8": {
          "model_module": "@jupyter-widgets/base",
          "model_module_version": "1.2.0",
          "model_name": "LayoutModel",
          "state": {
            "_model_module": "@jupyter-widgets/base",
            "_model_module_version": "1.2.0",
            "_model_name": "LayoutModel",
            "_view_count": null,
            "_view_module": "@jupyter-widgets/base",
            "_view_module_version": "1.2.0",
            "_view_name": "LayoutView",
            "align_content": null,
            "align_items": null,
            "align_self": null,
            "border": null,
            "bottom": null,
            "display": null,
            "flex": null,
            "flex_flow": null,
            "grid_area": null,
            "grid_auto_columns": null,
            "grid_auto_flow": null,
            "grid_auto_rows": null,
            "grid_column": null,
            "grid_gap": null,
            "grid_row": null,
            "grid_template_areas": null,
            "grid_template_columns": null,
            "grid_template_rows": null,
            "height": null,
            "justify_content": null,
            "justify_items": null,
            "left": null,
            "margin": null,
            "max_height": null,
            "max_width": null,
            "min_height": null,
            "min_width": null,
            "object_fit": null,
            "object_position": null,
            "order": null,
            "overflow": null,
            "overflow_x": null,
            "overflow_y": null,
            "padding": null,
            "right": null,
            "top": null,
            "visibility": null,
            "width": null
          }
        },
        "376fa598778948feaceb2cac0a1869b5": {
          "model_module": "@jupyter-widgets/controls",
          "model_module_version": "1.5.0",
          "model_name": "DescriptionStyleModel",
          "state": {
            "_model_module": "@jupyter-widgets/controls",
            "_model_module_version": "1.5.0",
            "_model_name": "DescriptionStyleModel",
            "_view_count": null,
            "_view_module": "@jupyter-widgets/base",
            "_view_module_version": "1.2.0",
            "_view_name": "StyleView",
            "description_width": ""
          }
        },
        "404fed7f048a4e188ce0a037553e395f": {
          "model_module": "@jupyter-widgets/controls",
          "model_module_version": "1.5.0",
          "model_name": "FloatProgressModel",
          "state": {
            "_dom_classes": [],
            "_model_module": "@jupyter-widgets/controls",
            "_model_module_version": "1.5.0",
            "_model_name": "FloatProgressModel",
            "_view_count": null,
            "_view_module": "@jupyter-widgets/controls",
            "_view_module_version": "1.5.0",
            "_view_name": "ProgressView",
            "bar_style": "success",
            "description": "",
            "description_tooltip": null,
            "layout": "IPY_MODEL_f3461beb713d421d9de64dff1b36feee",
            "max": 466062,
            "min": 0,
            "orientation": "horizontal",
            "style": "IPY_MODEL_b1da1c9cc6424967b95c1c942aa8575e",
            "value": 466062
          }
        },
        "4ee15130ab1947d292d19da4e2283fa5": {
          "model_module": "@jupyter-widgets/base",
          "model_module_version": "1.2.0",
          "model_name": "LayoutModel",
          "state": {
            "_model_module": "@jupyter-widgets/base",
            "_model_module_version": "1.2.0",
            "_model_name": "LayoutModel",
            "_view_count": null,
            "_view_module": "@jupyter-widgets/base",
            "_view_module_version": "1.2.0",
            "_view_name": "LayoutView",
            "align_content": null,
            "align_items": null,
            "align_self": null,
            "border": null,
            "bottom": null,
            "display": null,
            "flex": null,
            "flex_flow": null,
            "grid_area": null,
            "grid_auto_columns": null,
            "grid_auto_flow": null,
            "grid_auto_rows": null,
            "grid_column": null,
            "grid_gap": null,
            "grid_row": null,
            "grid_template_areas": null,
            "grid_template_columns": null,
            "grid_template_rows": null,
            "height": null,
            "justify_content": null,
            "justify_items": null,
            "left": null,
            "margin": null,
            "max_height": null,
            "max_width": null,
            "min_height": null,
            "min_width": null,
            "object_fit": null,
            "object_position": null,
            "order": null,
            "overflow": null,
            "overflow_x": null,
            "overflow_y": null,
            "padding": null,
            "right": null,
            "top": null,
            "visibility": null,
            "width": null
          }
        },
        "53cc6732f02d4faa8f75e848e3691f4a": {
          "model_module": "@jupyter-widgets/base",
          "model_module_version": "1.2.0",
          "model_name": "LayoutModel",
          "state": {
            "_model_module": "@jupyter-widgets/base",
            "_model_module_version": "1.2.0",
            "_model_name": "LayoutModel",
            "_view_count": null,
            "_view_module": "@jupyter-widgets/base",
            "_view_module_version": "1.2.0",
            "_view_name": "LayoutView",
            "align_content": null,
            "align_items": null,
            "align_self": null,
            "border": null,
            "bottom": null,
            "display": null,
            "flex": null,
            "flex_flow": null,
            "grid_area": null,
            "grid_auto_columns": null,
            "grid_auto_flow": null,
            "grid_auto_rows": null,
            "grid_column": null,
            "grid_gap": null,
            "grid_row": null,
            "grid_template_areas": null,
            "grid_template_columns": null,
            "grid_template_rows": null,
            "height": null,
            "justify_content": null,
            "justify_items": null,
            "left": null,
            "margin": null,
            "max_height": null,
            "max_width": null,
            "min_height": null,
            "min_width": null,
            "object_fit": null,
            "object_position": null,
            "order": null,
            "overflow": null,
            "overflow_x": null,
            "overflow_y": null,
            "padding": null,
            "right": null,
            "top": null,
            "visibility": null,
            "width": null
          }
        },
        "5f51045819824021859724e3cf5cc93f": {
          "model_module": "@jupyter-widgets/controls",
          "model_module_version": "1.5.0",
          "model_name": "ProgressStyleModel",
          "state": {
            "_model_module": "@jupyter-widgets/controls",
            "_model_module_version": "1.5.0",
            "_model_name": "ProgressStyleModel",
            "_view_count": null,
            "_view_module": "@jupyter-widgets/base",
            "_view_module_version": "1.2.0",
            "_view_name": "StyleView",
            "bar_color": null,
            "description_width": ""
          }
        },
        "6756efd6adbb4b249b1f8a31b874a732": {
          "model_module": "@jupyter-widgets/base",
          "model_module_version": "1.2.0",
          "model_name": "LayoutModel",
          "state": {
            "_model_module": "@jupyter-widgets/base",
            "_model_module_version": "1.2.0",
            "_model_name": "LayoutModel",
            "_view_count": null,
            "_view_module": "@jupyter-widgets/base",
            "_view_module_version": "1.2.0",
            "_view_name": "LayoutView",
            "align_content": null,
            "align_items": null,
            "align_self": null,
            "border": null,
            "bottom": null,
            "display": null,
            "flex": null,
            "flex_flow": null,
            "grid_area": null,
            "grid_auto_columns": null,
            "grid_auto_flow": null,
            "grid_auto_rows": null,
            "grid_column": null,
            "grid_gap": null,
            "grid_row": null,
            "grid_template_areas": null,
            "grid_template_columns": null,
            "grid_template_rows": null,
            "height": null,
            "justify_content": null,
            "justify_items": null,
            "left": null,
            "margin": null,
            "max_height": null,
            "max_width": null,
            "min_height": null,
            "min_width": null,
            "object_fit": null,
            "object_position": null,
            "order": null,
            "overflow": null,
            "overflow_x": null,
            "overflow_y": null,
            "padding": null,
            "right": null,
            "top": null,
            "visibility": null,
            "width": null
          }
        },
        "67c5f9a9f87545edb5f41513c2fea588": {
          "model_module": "@jupyter-widgets/controls",
          "model_module_version": "1.5.0",
          "model_name": "HTMLModel",
          "state": {
            "_dom_classes": [],
            "_model_module": "@jupyter-widgets/controls",
            "_model_module_version": "1.5.0",
            "_model_name": "HTMLModel",
            "_view_count": null,
            "_view_module": "@jupyter-widgets/controls",
            "_view_module_version": "1.5.0",
            "_view_name": "HTMLView",
            "description": "",
            "description_tooltip": null,
            "layout": "IPY_MODEL_362ceaf785554012a8cb49bce4fa6fc8",
            "placeholder": "​",
            "style": "IPY_MODEL_ca9eb4720dd54966a88c0e70f135c384",
            "value": " 48.0/48.0 [00:00&lt;00:00, 1.36kB/s]"
          }
        },
        "7aeceff7363d4affb9b156cc4dd25b50": {
          "model_module": "@jupyter-widgets/controls",
          "model_module_version": "1.5.0",
          "model_name": "HBoxModel",
          "state": {
            "_dom_classes": [],
            "_model_module": "@jupyter-widgets/controls",
            "_model_module_version": "1.5.0",
            "_model_name": "HBoxModel",
            "_view_count": null,
            "_view_module": "@jupyter-widgets/controls",
            "_view_module_version": "1.5.0",
            "_view_name": "HBoxView",
            "box_style": "",
            "children": [
              "IPY_MODEL_9e923cfee10f49d997ee88fe61a90332",
              "IPY_MODEL_e28af0b5e5a14222b78fcb4471f0ec41",
              "IPY_MODEL_21adf0de62904cf09658c89f67a3fa52"
            ],
            "layout": "IPY_MODEL_0c8d617408b04bc5864df25565dab3a4"
          }
        },
        "8333290634a840f79bfe6aeb06b2ce6e": {
          "model_module": "@jupyter-widgets/controls",
          "model_module_version": "1.5.0",
          "model_name": "FloatProgressModel",
          "state": {
            "_dom_classes": [],
            "_model_module": "@jupyter-widgets/controls",
            "_model_module_version": "1.5.0",
            "_model_name": "FloatProgressModel",
            "_view_count": null,
            "_view_module": "@jupyter-widgets/controls",
            "_view_module_version": "1.5.0",
            "_view_name": "ProgressView",
            "bar_style": "success",
            "description": "",
            "description_tooltip": null,
            "layout": "IPY_MODEL_020def069fcf4576a033c37e5c6c4e57",
            "max": 231508,
            "min": 0,
            "orientation": "horizontal",
            "style": "IPY_MODEL_c9f12edc8fd24ac0a954c95b92e1e807",
            "value": 231508
          }
        },
        "8550069b71f74f5b98263aab6b3c11b8": {
          "model_module": "@jupyter-widgets/controls",
          "model_module_version": "1.5.0",
          "model_name": "HTMLModel",
          "state": {
            "_dom_classes": [],
            "_model_module": "@jupyter-widgets/controls",
            "_model_module_version": "1.5.0",
            "_model_name": "HTMLModel",
            "_view_count": null,
            "_view_module": "@jupyter-widgets/controls",
            "_view_module_version": "1.5.0",
            "_view_name": "HTMLView",
            "description": "",
            "description_tooltip": null,
            "layout": "IPY_MODEL_4ee15130ab1947d292d19da4e2283fa5",
            "placeholder": "​",
            "style": "IPY_MODEL_e3ae2101b662452f829d4199332914e7",
            "value": "tokenizer_config.json: 100%"
          }
        },
        "907379bbadce4434abd604530988106e": {
          "model_module": "@jupyter-widgets/controls",
          "model_module_version": "1.5.0",
          "model_name": "HTMLModel",
          "state": {
            "_dom_classes": [],
            "_model_module": "@jupyter-widgets/controls",
            "_model_module_version": "1.5.0",
            "_model_name": "HTMLModel",
            "_view_count": null,
            "_view_module": "@jupyter-widgets/controls",
            "_view_module_version": "1.5.0",
            "_view_name": "HTMLView",
            "description": "",
            "description_tooltip": null,
            "layout": "IPY_MODEL_2ef01dea92d848ef9380af489aaa4d8a",
            "placeholder": "​",
            "style": "IPY_MODEL_b14df3cd07754cc290daa419b9b183b1",
            "value": " 466k/466k [00:00&lt;00:00, 4.04MB/s]"
          }
        },
        "97fe83c13d1b4db68240cb46b1b31ebf": {
          "model_module": "@jupyter-widgets/base",
          "model_module_version": "1.2.0",
          "model_name": "LayoutModel",
          "state": {
            "_model_module": "@jupyter-widgets/base",
            "_model_module_version": "1.2.0",
            "_model_name": "LayoutModel",
            "_view_count": null,
            "_view_module": "@jupyter-widgets/base",
            "_view_module_version": "1.2.0",
            "_view_name": "LayoutView",
            "align_content": null,
            "align_items": null,
            "align_self": null,
            "border": null,
            "bottom": null,
            "display": null,
            "flex": null,
            "flex_flow": null,
            "grid_area": null,
            "grid_auto_columns": null,
            "grid_auto_flow": null,
            "grid_auto_rows": null,
            "grid_column": null,
            "grid_gap": null,
            "grid_row": null,
            "grid_template_areas": null,
            "grid_template_columns": null,
            "grid_template_rows": null,
            "height": null,
            "justify_content": null,
            "justify_items": null,
            "left": null,
            "margin": null,
            "max_height": null,
            "max_width": null,
            "min_height": null,
            "min_width": null,
            "object_fit": null,
            "object_position": null,
            "order": null,
            "overflow": null,
            "overflow_x": null,
            "overflow_y": null,
            "padding": null,
            "right": null,
            "top": null,
            "visibility": null,
            "width": null
          }
        },
        "9e923cfee10f49d997ee88fe61a90332": {
          "model_module": "@jupyter-widgets/controls",
          "model_module_version": "1.5.0",
          "model_name": "HTMLModel",
          "state": {
            "_dom_classes": [],
            "_model_module": "@jupyter-widgets/controls",
            "_model_module_version": "1.5.0",
            "_model_name": "HTMLModel",
            "_view_count": null,
            "_view_module": "@jupyter-widgets/controls",
            "_view_module_version": "1.5.0",
            "_view_name": "HTMLView",
            "description": "",
            "description_tooltip": null,
            "layout": "IPY_MODEL_d034c47dd4284d6db0490df16f7aca3f",
            "placeholder": "​",
            "style": "IPY_MODEL_376fa598778948feaceb2cac0a1869b5",
            "value": "config.json: 100%"
          }
        },
        "aaa0710fe9d2453e8cff3d3a3a03343e": {
          "model_module": "@jupyter-widgets/base",
          "model_module_version": "1.2.0",
          "model_name": "LayoutModel",
          "state": {
            "_model_module": "@jupyter-widgets/base",
            "_model_module_version": "1.2.0",
            "_model_name": "LayoutModel",
            "_view_count": null,
            "_view_module": "@jupyter-widgets/base",
            "_view_module_version": "1.2.0",
            "_view_name": "LayoutView",
            "align_content": null,
            "align_items": null,
            "align_self": null,
            "border": null,
            "bottom": null,
            "display": null,
            "flex": null,
            "flex_flow": null,
            "grid_area": null,
            "grid_auto_columns": null,
            "grid_auto_flow": null,
            "grid_auto_rows": null,
            "grid_column": null,
            "grid_gap": null,
            "grid_row": null,
            "grid_template_areas": null,
            "grid_template_columns": null,
            "grid_template_rows": null,
            "height": null,
            "justify_content": null,
            "justify_items": null,
            "left": null,
            "margin": null,
            "max_height": null,
            "max_width": null,
            "min_height": null,
            "min_width": null,
            "object_fit": null,
            "object_position": null,
            "order": null,
            "overflow": null,
            "overflow_x": null,
            "overflow_y": null,
            "padding": null,
            "right": null,
            "top": null,
            "visibility": null,
            "width": null
          }
        },
        "ae64f081244344f3a49981142ee75d88": {
          "model_module": "@jupyter-widgets/controls",
          "model_module_version": "1.5.0",
          "model_name": "HTMLModel",
          "state": {
            "_dom_classes": [],
            "_model_module": "@jupyter-widgets/controls",
            "_model_module_version": "1.5.0",
            "_model_name": "HTMLModel",
            "_view_count": null,
            "_view_module": "@jupyter-widgets/controls",
            "_view_module_version": "1.5.0",
            "_view_name": "HTMLView",
            "description": "",
            "description_tooltip": null,
            "layout": "IPY_MODEL_08274f07056b4826a841e58616fc8e46",
            "placeholder": "​",
            "style": "IPY_MODEL_aeef59f9c0cf42d48512e175a4c4c004",
            "value": " 232k/232k [00:00&lt;00:00, 1.61MB/s]"
          }
        },
        "aeef59f9c0cf42d48512e175a4c4c004": {
          "model_module": "@jupyter-widgets/controls",
          "model_module_version": "1.5.0",
          "model_name": "DescriptionStyleModel",
          "state": {
            "_model_module": "@jupyter-widgets/controls",
            "_model_module_version": "1.5.0",
            "_model_name": "DescriptionStyleModel",
            "_view_count": null,
            "_view_module": "@jupyter-widgets/base",
            "_view_module_version": "1.2.0",
            "_view_name": "StyleView",
            "description_width": ""
          }
        },
        "b14df3cd07754cc290daa419b9b183b1": {
          "model_module": "@jupyter-widgets/controls",
          "model_module_version": "1.5.0",
          "model_name": "DescriptionStyleModel",
          "state": {
            "_model_module": "@jupyter-widgets/controls",
            "_model_module_version": "1.5.0",
            "_model_name": "DescriptionStyleModel",
            "_view_count": null,
            "_view_module": "@jupyter-widgets/base",
            "_view_module_version": "1.2.0",
            "_view_name": "StyleView",
            "description_width": ""
          }
        },
        "b1da1c9cc6424967b95c1c942aa8575e": {
          "model_module": "@jupyter-widgets/controls",
          "model_module_version": "1.5.0",
          "model_name": "ProgressStyleModel",
          "state": {
            "_model_module": "@jupyter-widgets/controls",
            "_model_module_version": "1.5.0",
            "_model_name": "ProgressStyleModel",
            "_view_count": null,
            "_view_module": "@jupyter-widgets/base",
            "_view_module_version": "1.2.0",
            "_view_name": "StyleView",
            "bar_color": null,
            "description_width": ""
          }
        },
        "c13649852d6e4e67bb752fd2c1991f64": {
          "model_module": "@jupyter-widgets/base",
          "model_module_version": "1.2.0",
          "model_name": "LayoutModel",
          "state": {
            "_model_module": "@jupyter-widgets/base",
            "_model_module_version": "1.2.0",
            "_model_name": "LayoutModel",
            "_view_count": null,
            "_view_module": "@jupyter-widgets/base",
            "_view_module_version": "1.2.0",
            "_view_name": "LayoutView",
            "align_content": null,
            "align_items": null,
            "align_self": null,
            "border": null,
            "bottom": null,
            "display": null,
            "flex": null,
            "flex_flow": null,
            "grid_area": null,
            "grid_auto_columns": null,
            "grid_auto_flow": null,
            "grid_auto_rows": null,
            "grid_column": null,
            "grid_gap": null,
            "grid_row": null,
            "grid_template_areas": null,
            "grid_template_columns": null,
            "grid_template_rows": null,
            "height": null,
            "justify_content": null,
            "justify_items": null,
            "left": null,
            "margin": null,
            "max_height": null,
            "max_width": null,
            "min_height": null,
            "min_width": null,
            "object_fit": null,
            "object_position": null,
            "order": null,
            "overflow": null,
            "overflow_x": null,
            "overflow_y": null,
            "padding": null,
            "right": null,
            "top": null,
            "visibility": null,
            "width": null
          }
        },
        "c9f12edc8fd24ac0a954c95b92e1e807": {
          "model_module": "@jupyter-widgets/controls",
          "model_module_version": "1.5.0",
          "model_name": "ProgressStyleModel",
          "state": {
            "_model_module": "@jupyter-widgets/controls",
            "_model_module_version": "1.5.0",
            "_model_name": "ProgressStyleModel",
            "_view_count": null,
            "_view_module": "@jupyter-widgets/base",
            "_view_module_version": "1.2.0",
            "_view_name": "StyleView",
            "bar_color": null,
            "description_width": ""
          }
        },
        "ca9eb4720dd54966a88c0e70f135c384": {
          "model_module": "@jupyter-widgets/controls",
          "model_module_version": "1.5.0",
          "model_name": "DescriptionStyleModel",
          "state": {
            "_model_module": "@jupyter-widgets/controls",
            "_model_module_version": "1.5.0",
            "_model_name": "DescriptionStyleModel",
            "_view_count": null,
            "_view_module": "@jupyter-widgets/base",
            "_view_module_version": "1.2.0",
            "_view_name": "StyleView",
            "description_width": ""
          }
        },
        "d034c47dd4284d6db0490df16f7aca3f": {
          "model_module": "@jupyter-widgets/base",
          "model_module_version": "1.2.0",
          "model_name": "LayoutModel",
          "state": {
            "_model_module": "@jupyter-widgets/base",
            "_model_module_version": "1.2.0",
            "_model_name": "LayoutModel",
            "_view_count": null,
            "_view_module": "@jupyter-widgets/base",
            "_view_module_version": "1.2.0",
            "_view_name": "LayoutView",
            "align_content": null,
            "align_items": null,
            "align_self": null,
            "border": null,
            "bottom": null,
            "display": null,
            "flex": null,
            "flex_flow": null,
            "grid_area": null,
            "grid_auto_columns": null,
            "grid_auto_flow": null,
            "grid_auto_rows": null,
            "grid_column": null,
            "grid_gap": null,
            "grid_row": null,
            "grid_template_areas": null,
            "grid_template_columns": null,
            "grid_template_rows": null,
            "height": null,
            "justify_content": null,
            "justify_items": null,
            "left": null,
            "margin": null,
            "max_height": null,
            "max_width": null,
            "min_height": null,
            "min_width": null,
            "object_fit": null,
            "object_position": null,
            "order": null,
            "overflow": null,
            "overflow_x": null,
            "overflow_y": null,
            "padding": null,
            "right": null,
            "top": null,
            "visibility": null,
            "width": null
          }
        },
        "d2fd8b583c2e49f68d6856f49666daab": {
          "model_module": "@jupyter-widgets/controls",
          "model_module_version": "1.5.0",
          "model_name": "HBoxModel",
          "state": {
            "_dom_classes": [],
            "_model_module": "@jupyter-widgets/controls",
            "_model_module_version": "1.5.0",
            "_model_name": "HBoxModel",
            "_view_count": null,
            "_view_module": "@jupyter-widgets/controls",
            "_view_module_version": "1.5.0",
            "_view_name": "HBoxView",
            "box_style": "",
            "children": [
              "IPY_MODEL_202aa0a440894cf584fdb473af85e751",
              "IPY_MODEL_404fed7f048a4e188ce0a037553e395f",
              "IPY_MODEL_907379bbadce4434abd604530988106e"
            ],
            "layout": "IPY_MODEL_10748f67d0524e6b84e2beb70537583d"
          }
        },
        "d89b910d912a4a658ccf6d4919420115": {
          "model_module": "@jupyter-widgets/controls",
          "model_module_version": "1.5.0",
          "model_name": "DescriptionStyleModel",
          "state": {
            "_model_module": "@jupyter-widgets/controls",
            "_model_module_version": "1.5.0",
            "_model_name": "DescriptionStyleModel",
            "_view_count": null,
            "_view_module": "@jupyter-widgets/base",
            "_view_module_version": "1.2.0",
            "_view_name": "StyleView",
            "description_width": ""
          }
        },
        "e28af0b5e5a14222b78fcb4471f0ec41": {
          "model_module": "@jupyter-widgets/controls",
          "model_module_version": "1.5.0",
          "model_name": "FloatProgressModel",
          "state": {
            "_dom_classes": [],
            "_model_module": "@jupyter-widgets/controls",
            "_model_module_version": "1.5.0",
            "_model_name": "FloatProgressModel",
            "_view_count": null,
            "_view_module": "@jupyter-widgets/controls",
            "_view_module_version": "1.5.0",
            "_view_name": "ProgressView",
            "bar_style": "success",
            "description": "",
            "description_tooltip": null,
            "layout": "IPY_MODEL_97fe83c13d1b4db68240cb46b1b31ebf",
            "max": 570,
            "min": 0,
            "orientation": "horizontal",
            "style": "IPY_MODEL_5f51045819824021859724e3cf5cc93f",
            "value": 570
          }
        },
        "e3ae2101b662452f829d4199332914e7": {
          "model_module": "@jupyter-widgets/controls",
          "model_module_version": "1.5.0",
          "model_name": "DescriptionStyleModel",
          "state": {
            "_model_module": "@jupyter-widgets/controls",
            "_model_module_version": "1.5.0",
            "_model_name": "DescriptionStyleModel",
            "_view_count": null,
            "_view_module": "@jupyter-widgets/base",
            "_view_module_version": "1.2.0",
            "_view_name": "StyleView",
            "description_width": ""
          }
        },
        "e82d534854e047199b54b67fa0f7764b": {
          "model_module": "@jupyter-widgets/controls",
          "model_module_version": "1.5.0",
          "model_name": "HBoxModel",
          "state": {
            "_dom_classes": [],
            "_model_module": "@jupyter-widgets/controls",
            "_model_module_version": "1.5.0",
            "_model_name": "HBoxModel",
            "_view_count": null,
            "_view_module": "@jupyter-widgets/controls",
            "_view_module_version": "1.5.0",
            "_view_name": "HBoxView",
            "box_style": "",
            "children": [
              "IPY_MODEL_124ac5faa43a49c888ebd1447ea0722c",
              "IPY_MODEL_8333290634a840f79bfe6aeb06b2ce6e",
              "IPY_MODEL_ae64f081244344f3a49981142ee75d88"
            ],
            "layout": "IPY_MODEL_34954d4578104d17aac00bd81b576ca1"
          }
        },
        "f3461beb713d421d9de64dff1b36feee": {
          "model_module": "@jupyter-widgets/base",
          "model_module_version": "1.2.0",
          "model_name": "LayoutModel",
          "state": {
            "_model_module": "@jupyter-widgets/base",
            "_model_module_version": "1.2.0",
            "_model_name": "LayoutModel",
            "_view_count": null,
            "_view_module": "@jupyter-widgets/base",
            "_view_module_version": "1.2.0",
            "_view_name": "LayoutView",
            "align_content": null,
            "align_items": null,
            "align_self": null,
            "border": null,
            "bottom": null,
            "display": null,
            "flex": null,
            "flex_flow": null,
            "grid_area": null,
            "grid_auto_columns": null,
            "grid_auto_flow": null,
            "grid_auto_rows": null,
            "grid_column": null,
            "grid_gap": null,
            "grid_row": null,
            "grid_template_areas": null,
            "grid_template_columns": null,
            "grid_template_rows": null,
            "height": null,
            "justify_content": null,
            "justify_items": null,
            "left": null,
            "margin": null,
            "max_height": null,
            "max_width": null,
            "min_height": null,
            "min_width": null,
            "object_fit": null,
            "object_position": null,
            "order": null,
            "overflow": null,
            "overflow_x": null,
            "overflow_y": null,
            "padding": null,
            "right": null,
            "top": null,
            "visibility": null,
            "width": null
          }
        },
        "f7dee6cd2c05419ca7819f2d22a3fc40": {
          "model_module": "@jupyter-widgets/controls",
          "model_module_version": "1.5.0",
          "model_name": "HBoxModel",
          "state": {
            "_dom_classes": [],
            "_model_module": "@jupyter-widgets/controls",
            "_model_module_version": "1.5.0",
            "_model_name": "HBoxModel",
            "_view_count": null,
            "_view_module": "@jupyter-widgets/controls",
            "_view_module_version": "1.5.0",
            "_view_name": "HBoxView",
            "box_style": "",
            "children": [
              "IPY_MODEL_8550069b71f74f5b98263aab6b3c11b8",
              "IPY_MODEL_2c1ddab704184524a9f044651bcb3a30",
              "IPY_MODEL_67c5f9a9f87545edb5f41513c2fea588"
            ],
            "layout": "IPY_MODEL_aaa0710fe9d2453e8cff3d3a3a03343e"
          }
        }
      }
    }
  },
  "nbformat": 4,
  "nbformat_minor": 0
}
