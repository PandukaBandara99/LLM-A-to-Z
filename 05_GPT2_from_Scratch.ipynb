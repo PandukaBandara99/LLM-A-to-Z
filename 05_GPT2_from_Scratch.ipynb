{
  "cells": [
    {
      "cell_type": "markdown",
      "metadata": {
        "id": "QZMPSq1gIZQz"
      },
      "source": [
        "# **IMPLEMENTING A GPT MODEL FROM SCRATCH TO GENERATE TEXT**"
      ]
    },
    {
      "cell_type": "code",
      "execution_count": null,
      "metadata": {
        "id": "pzsQklDLIZQz"
      },
      "outputs": [],
      "source": [
        "GPT_CONFIG_124M = {\n",
        "    \"vocab_size\": 50257,    # Vocabulary size\n",
        "    \"context_length\": 1024, # Context length\n",
        "    \"emb_dim\": 768,         # Embedding dimension\n",
        "    \"n_heads\": 12,          # Number of attention heads\n",
        "    \"n_layers\": 12,         # Number of layers\n",
        "    \"drop_rate\": 0.1,       # Dropout rate\n",
        "    \"qkv_bias\": False       # Query-Key-Value bias\n",
        "}"
      ]
    },
    {
      "cell_type": "markdown",
      "metadata": {
        "id": "02GtSAIsIZQz"
      },
      "source": [
        "## **GPT ARCHITECTURE PART 1: DUMMY GPT MODEL CLASS**"
      ]
    },
    {
      "cell_type": "markdown",
      "metadata": {
        "id": "4PHnrEzGIZQz"
      },
      "source": [
        "Step 1: Use a placeholder for TransformerBlock\n",
        "\n",
        "Step 2: Use a placeholder for LayerNorm"
      ]
    },
    {
      "cell_type": "code",
      "execution_count": null,
      "metadata": {
        "id": "ZPcyWGCiIZQz"
      },
      "outputs": [],
      "source": [
        "import torch\n",
        "import torch.nn as nn\n",
        "\n",
        "# ===============================\n",
        "# DummyGPTModel — A minimal GPT-like model structure\n",
        "# ===============================\n",
        "class DummyGPTModel(nn.Module):\n",
        "    def __init__(self, cfg):\n",
        "        \"\"\"\n",
        "        Initialize the DummyGPTModel using the given configuration dictionary.\n",
        "\n",
        "        Args:\n",
        "            cfg (dict): A configuration dictionary containing model hyperparameters:\n",
        "                - \"vocab_size\": Size of the token vocabulary.\n",
        "                - \"emb_dim\": Dimensionality of token and positional embeddings.\n",
        "                - \"context_length\": Maximum sequence length (number of positions).\n",
        "                - \"drop_rate\": Dropout probability for embeddings.\n",
        "                - \"n_layers\": Number of Transformer blocks.\n",
        "        \"\"\"\n",
        "        super().__init__()\n",
        "\n",
        "        # Embedding layer for tokens (converts token IDs into embedding vectors)\n",
        "        self.tok_emb = nn.Embedding(cfg[\"vocab_size\"], cfg[\"emb_dim\"])\n",
        "\n",
        "        # Embedding layer for positional encodings (represents token position in sequence)\n",
        "        self.pos_emb = nn.Embedding(cfg[\"context_length\"], cfg[\"emb_dim\"])\n",
        "\n",
        "        # Dropout layer applied after combining token and positional embeddings\n",
        "        self.drop_emb = nn.Dropout(cfg[\"drop_rate\"])\n",
        "\n",
        "        # A stack of \"Transformer blocks\" — here they are dummy placeholders\n",
        "        # Each block would normally contain self-attention + feedforward layers.\n",
        "        self.trf_blocks = nn.Sequential(\n",
        "            *[DummyTransformerBlock(cfg) for _ in range(cfg[\"n_layers\"])]\n",
        "        )\n",
        "\n",
        "        # A final normalization layer (placeholder)\n",
        "        self.final_norm = DummyLayerNorm(cfg[\"emb_dim\"])\n",
        "\n",
        "        # Output layer that maps from embedding dimension to vocabulary size\n",
        "        # Used to generate logits for each token in the vocabulary.\n",
        "        self.out_head = nn.Linear(cfg[\"emb_dim\"], cfg[\"vocab_size\"], bias=False)\n",
        "\n",
        "    def forward(self, in_idx):\n",
        "        \"\"\"\n",
        "        Forward pass of the DummyGPTModel.\n",
        "\n",
        "        Args:\n",
        "            in_idx (torch.Tensor): Tensor of token indices with shape (batch_size, seq_len)\n",
        "\n",
        "        Returns:\n",
        "            logits (torch.Tensor): Output predictions (unnormalized probabilities)\n",
        "                                   of shape (batch_size, seq_len, vocab_size)\n",
        "        \"\"\"\n",
        "        # Extract batch size and sequence length from input\n",
        "        batch_size, seq_len = in_idx.shape\n",
        "\n",
        "        # Token embeddings: Convert token IDs to embedding vectors\n",
        "        tok_embeds = self.tok_emb(in_idx)\n",
        "\n",
        "        # Positional embeddings: Create embeddings for each position in the sequence\n",
        "        pos_embeds = self.pos_emb(torch.arange(seq_len, device=in_idx.device))\n",
        "\n",
        "        # Combine token embeddings with positional embeddings (broadcasting adds position info)\n",
        "        x = tok_embeds + pos_embeds\n",
        "\n",
        "        # Apply dropout regularization\n",
        "        x = self.drop_emb(x)\n",
        "\n",
        "        # Pass through a series of Transformer blocks (here, they do nothing)\n",
        "        x = self.trf_blocks(x)\n",
        "\n",
        "        # Apply final normalization (dummy layer)\n",
        "        x = self.final_norm(x)\n",
        "\n",
        "        # Compute output logits for each token position\n",
        "        logits = self.out_head(x)\n",
        "\n",
        "        return logits\n",
        "\n",
        "\n",
        "# ===============================\n",
        "# DummyTransformerBlock — Placeholder for a real Transformer block\n",
        "# ===============================\n",
        "class DummyTransformerBlock(nn.Module):\n",
        "    def __init__(self, cfg):\n",
        "        \"\"\"\n",
        "        Placeholder Transformer block.\n",
        "        In a real model, this would include:\n",
        "            - Multi-head self-attention\n",
        "            - Feed-forward neural network\n",
        "            - Layer normalization\n",
        "            - Residual connections\n",
        "        \"\"\"\n",
        "        super().__init__()\n",
        "        # No real operations here — just a placeholder for architecture structure\n",
        "\n",
        "    def forward(self, x):\n",
        "        \"\"\"\n",
        "        Forward pass through the dummy Transformer block.\n",
        "        Simply returns the input tensor unchanged.\n",
        "        \"\"\"\n",
        "        return x\n",
        "\n",
        "\n",
        "# ===============================\n",
        "# DummyLayerNorm — Placeholder for Layer Normalization\n",
        "# ===============================\n",
        "class DummyLayerNorm(nn.Module):\n",
        "    def __init__(self, normalized_shape, eps=1e-5):\n",
        "        \"\"\"\n",
        "        Dummy LayerNorm initialization.\n",
        "        In a real implementation, this would compute normalization over features.\n",
        "\n",
        "        Args:\n",
        "            normalized_shape (int): Number of features in the input tensor to normalize.\n",
        "            eps (float): Small constant added to denominator for numerical stability.\n",
        "        \"\"\"\n",
        "        super().__init__()\n",
        "        # Placeholder — does not actually normalize the input\n",
        "\n",
        "    def forward(self, x):\n",
        "        \"\"\"\n",
        "        Forward pass through the dummy normalization layer.\n",
        "        Simply returns the input tensor unchanged.\n",
        "        \"\"\"\n",
        "        return x\n"
      ]
    },
    {
      "cell_type": "markdown",
      "metadata": {
        "id": "QGGOyl0OIZQz"
      },
      "source": [
        "The DummyGPTModel class in this code defines a simplified version of a GPT-like model using\n",
        "PyTorch's neural network module (nn.Module).\n",
        "\n",
        "The model architecture in the\n",
        "DummyGPTModel class consists of token and positional embeddings, dropout, a series of\n",
        "transformer blocks (DummyTransformerBlock), a final layer normalization\n",
        "(DummyLayerNorm), and a linear output layer (out_head).\n",
        "\n",
        "The configuration is passed in via\n",
        "a Python dictionary, for instance, the GPT_CONFIG_124M dictionary we created earlier."
      ]
    },
    {
      "cell_type": "markdown",
      "metadata": {
        "id": "WcI1Gz6CIZQz"
      },
      "source": [
        "The forward method describes the data flow through the model: it computes token and\n",
        "positional embeddings for the input indices, applies dropout, processes the data through\n",
        "the transformer blocks, applies normalization, and finally produces logits with the linear\n",
        "output layer."
      ]
    },
    {
      "cell_type": "markdown",
      "metadata": {
        "id": "ae5sjdGiIZQ0"
      },
      "source": [
        "The code above is already functional, as we will see later in this section after we prepare\n",
        "the input data.\n",
        "\n",
        "However, for now, note in the code above that we have used placeholders\n",
        "(DummyLayerNorm and DummyTransformerBlock) for the transformer block and layer\n",
        "normalization, which we will develop in later sections\n"
      ]
    },
    {
      "cell_type": "markdown",
      "metadata": {
        "id": "orYtGvkOIZQ0"
      },
      "source": [
        "Next, we will prepare the input data and initialize a new GPT model to illustrate its\n",
        "usage."
      ]
    },
    {
      "cell_type": "markdown",
      "metadata": {
        "id": "Ws4opT1mIZQ0"
      },
      "source": [
        "### **STEP 1: TOKENIZATION**"
      ]
    },
    {
      "cell_type": "code",
      "execution_count": null,
      "metadata": {
        "colab": {
          "base_uri": "https://localhost:8080/"
        },
        "id": "tXmvM-DqIZQ0",
        "outputId": "1e6ce050-ee9e-4b7d-d499-2ca2216de79d"
      },
      "outputs": [
        {
          "name": "stdout",
          "output_type": "stream",
          "text": [
            "tensor([[6109, 3626, 6100,  345],\n",
            "        [6109, 1110, 6622,  257]])\n"
          ]
        }
      ],
      "source": [
        "import tiktoken\n",
        "tokenizer = tiktoken.get_encoding(\"gpt2\")\n",
        "batch = []\n",
        "txt1 = \"Every effort moves you\"\n",
        "txt2 = \"Every day holds a\"\n",
        "batch.append(torch.tensor(tokenizer.encode(txt1)))\n",
        "batch.append(torch.tensor(tokenizer.encode(txt2)))\n",
        "batch = torch.stack(batch, dim=0)\n",
        "print(batch)"
      ]
    },
    {
      "cell_type": "markdown",
      "metadata": {
        "id": "LksOfLNjIZQ1"
      },
      "source": [
        "### **STEP 2: CREATE AN INSTANCE OF DUMMYGPTMODEL**"
      ]
    },
    {
      "cell_type": "code",
      "execution_count": null,
      "metadata": {
        "colab": {
          "base_uri": "https://localhost:8080/"
        },
        "id": "YXuklEoOIZQ1",
        "outputId": "8d69d88c-31ad-4e2e-de35-e987e9672448"
      },
      "outputs": [
        {
          "name": "stdout",
          "output_type": "stream",
          "text": [
            "Output shape: torch.Size([2, 4, 50257])\n",
            "tensor([[[-1.2034,  0.3201, -0.7130,  ..., -1.5548, -0.2390, -0.4667],\n",
            "         [-0.1192,  0.4539, -0.4432,  ...,  0.2392,  1.3469,  1.2430],\n",
            "         [ 0.5307,  1.6720, -0.4695,  ...,  1.1966,  0.0111,  0.5835],\n",
            "         [ 0.0139,  1.6755, -0.3388,  ...,  1.1586, -0.0435, -1.0400]],\n",
            "\n",
            "        [[-1.0908,  0.1798, -0.9484,  ..., -1.6047,  0.2439, -0.4530],\n",
            "         [-0.7860,  0.5581, -0.0610,  ...,  0.4835, -0.0077,  1.6621],\n",
            "         [ 0.3567,  1.2698, -0.6398,  ..., -0.0162, -0.1296,  0.3717],\n",
            "         [-0.2407, -0.7349, -0.5102,  ...,  2.0057, -0.3694,  0.1814]]],\n",
            "       grad_fn=<UnsafeViewBackward0>)\n"
          ]
        }
      ],
      "source": [
        "torch.manual_seed(123)\n",
        "model = DummyGPTModel(GPT_CONFIG_124M)\n",
        "logits = model(batch)\n",
        "print(\"Output shape:\", logits.shape)\n",
        "print(logits)"
      ]
    },
    {
      "cell_type": "markdown",
      "metadata": {
        "id": "rcNeNP8UIZQ1"
      },
      "source": [
        "The output tensor has two rows corresponding to the two text samples. Each text sample\n",
        "consists of 4 tokens; each token is a 50,257-dimensional vector, which matches the size of\n",
        "the tokenizer's vocabulary.\n",
        "\n",
        "\n",
        "The embedding has 50,257 dimensions because each of these dimensions refers to a\n",
        "unique token in the vocabulary. At the end of this chapter, when we implement the\n",
        "postprocessing code, we will convert these 50,257-dimensional vectors back into token IDs,\n",
        "which we can then decode into words."
      ]
    },
    {
      "cell_type": "markdown",
      "metadata": {
        "id": "GGshYi_9IZQ1"
      },
      "source": [
        "Now that we have taken a top-down look at the GPT architecture and its in- and outputs,\n",
        "we will code the individual placeholders in the upcoming sections, starting with the real\n",
        "layer normalization class that will replace the DummyLayerNorm in the previous code."
      ]
    },
    {
      "cell_type": "markdown",
      "metadata": {
        "id": "FoPQEqUGIZQ1"
      },
      "source": [
        "## **GPT ARCHITECTURE PART 2: LAYER NORMALIZATION**"
      ]
    },
    {
      "cell_type": "markdown",
      "metadata": {
        "id": "De8dzXqdIZQ1"
      },
      "source": [
        "#### **Explanation with a simple example**"
      ]
    },
    {
      "cell_type": "code",
      "execution_count": null,
      "metadata": {
        "colab": {
          "base_uri": "https://localhost:8080/"
        },
        "id": "5fOnx3R0IZQ1",
        "outputId": "90871d88-a29f-4871-92ef-946d0039e308"
      },
      "outputs": [
        {
          "name": "stdout",
          "output_type": "stream",
          "text": [
            "tensor([[0.2260, 0.3470, 0.0000, 0.2216, 0.0000, 0.0000],\n",
            "        [0.2133, 0.2394, 0.0000, 0.5198, 0.3297, 0.0000]],\n",
            "       grad_fn=<ReluBackward0>)\n"
          ]
        }
      ],
      "source": [
        "torch.manual_seed(123)\n",
        "batch_example = torch.randn(2, 5) #A\n",
        "layer = nn.Sequential(nn.Linear(5, 6), nn.ReLU())\n",
        "out = layer(batch_example)\n",
        "print(out)"
      ]
    },
    {
      "cell_type": "markdown",
      "metadata": {
        "id": "XsWUZHdGIZQ2"
      },
      "source": [
        "The neural network layer we have coded consists of a Linear layer followed by a non-linear\n",
        "activation function, ReLU (short for Rectified Linear Unit), which is a standard activation\n",
        "function in neural networks.\n",
        "\n",
        "If you are unfamiliar with ReLU, it simply thresholds negative\n",
        "inputs to 0, ensuring that a layer outputs only positive values, which explains why the\n",
        "resulting layer output does not contain any negative values.\n",
        "\n",
        "(Note that we will use another,\n",
        "more sophisticated activation function in GPT, which we will introduce in the next section).\n"
      ]
    },
    {
      "cell_type": "markdown",
      "metadata": {
        "id": "rfr-cBxCIZQ2"
      },
      "source": [
        "Before we apply layer normalization to these outputs, let's examine the mean and\n",
        "variance"
      ]
    },
    {
      "cell_type": "code",
      "execution_count": null,
      "metadata": {
        "colab": {
          "base_uri": "https://localhost:8080/"
        },
        "id": "hobvLu9IIZQ2",
        "outputId": "c9cf1424-59d5-4163-9b57-72c1b8cc9f30"
      },
      "outputs": [
        {
          "name": "stdout",
          "output_type": "stream",
          "text": [
            "Mean:\n",
            " tensor([[0.1324],\n",
            "        [0.2170]], grad_fn=<MeanBackward1>)\n",
            "Variance:\n",
            " tensor([[0.0231],\n",
            "        [0.0398]], grad_fn=<VarBackward0>)\n"
          ]
        }
      ],
      "source": [
        "mean = out.mean(dim=-1, keepdim=True)\n",
        "var = out.var(dim=-1, keepdim=True)\n",
        "print(\"Mean:\\n\", mean)\n",
        "print(\"Variance:\\n\", var)"
      ]
    },
    {
      "cell_type": "markdown",
      "metadata": {
        "id": "TBKYnrUIIZQ2"
      },
      "source": [
        "The first row in the mean tensor above contains the mean value for the first input row, and\n",
        "the second output row contains the mean for the second input row."
      ]
    },
    {
      "cell_type": "markdown",
      "metadata": {
        "id": "jQSv91k5IZQ2"
      },
      "source": [
        "Using keepdim=True in operations like mean or variance calculation ensures that the\n",
        "output tensor retains the same number of dimensions as the input tensor, even though the\n",
        "operation reduces the tensor along the dimension specified via dim.\n",
        "\n",
        "For instance, without\n",
        "keepdim=True, the returned mean tensor would be a 2-dimensional vector [0.1324,\n",
        "0.2170] instead of a 2×1-dimensional matrix [[0.1324], [0.2170]].\n"
      ]
    },
    {
      "cell_type": "markdown",
      "metadata": {
        "id": "c9wBM53yIZQ2"
      },
      "source": [
        "For a 2D tensor (like a matrix), using dim=-1 for operations such as\n",
        "mean or variance calculation is the same as using dim=1.\n",
        "\n",
        "This is because -1 refers to the\n",
        "tensor's last dimension, which corresponds to the columns in a 2D tensor.\n",
        "\n",
        "Later, when\n",
        "adding layer normalization to the GPT model, which produces 3D tensors with shape\n",
        "[batch_size, num_tokens, embedding_size], we can still use dim=-1 for normalization\n",
        "across the last dimension, avoiding a change from dim=1 to dim=2."
      ]
    },
    {
      "cell_type": "markdown",
      "metadata": {
        "id": "cqpV__2JIZQ2"
      },
      "source": [
        "Next, let us apply layer normalization to the layer outputs we obtained earlier. The\n",
        "operation consists of subtracting the mean and dividing by the square root of the variance\n",
        "(also known as standard deviation)"
      ]
    },
    {
      "cell_type": "code",
      "execution_count": null,
      "metadata": {
        "colab": {
          "base_uri": "https://localhost:8080/"
        },
        "id": "LWYT4TlWIZQ2",
        "outputId": "a5d26256-ab80-485f-a3e1-67fcbbe10aeb"
      },
      "outputs": [
        {
          "name": "stdout",
          "output_type": "stream",
          "text": [
            "Normalized layer outputs:\n",
            " tensor([[ 0.6159,  1.4126, -0.8719,  0.5872, -0.8719, -0.8719],\n",
            "        [-0.0189,  0.1121, -1.0876,  1.5173,  0.5647, -1.0876]],\n",
            "       grad_fn=<DivBackward0>)\n",
            "Mean:\n",
            " tensor([[9.9341e-09],\n",
            "        [1.9868e-08]], grad_fn=<MeanBackward1>)\n",
            "Variance:\n",
            " tensor([[1.0000],\n",
            "        [1.0000]], grad_fn=<VarBackward0>)\n"
          ]
        }
      ],
      "source": [
        "out_norm = (out - mean) / torch.sqrt(var)\n",
        "mean = out_norm.mean(dim=-1, keepdim=True)\n",
        "var = out_norm.var(dim=-1, keepdim=True)\n",
        "print(\"Normalized layer outputs:\\n\", out_norm)\n",
        "print(\"Mean:\\n\", mean)\n",
        "print(\"Variance:\\n\", var)"
      ]
    },
    {
      "cell_type": "markdown",
      "metadata": {
        "id": "YSJowsBDIZQ2"
      },
      "source": [
        "Note that the value 2.9802e-08 in the output tensor is the scientific notation for 2.9802 ×\n",
        "10-8, which is 0.0000000298 in decimal form. This value is very close to 0, but it is not\n",
        "exactly 0 due to small numerical errors that can accumulate because of the finite precision\n",
        "with which computers represent numbers."
      ]
    },
    {
      "cell_type": "markdown",
      "metadata": {
        "id": "2bJuRgg9IZQ2"
      },
      "source": [
        "To improve readability, we can also turn off the scientific notation when printing tensor\n",
        "values by setting sci_mode to False"
      ]
    },
    {
      "cell_type": "code",
      "execution_count": null,
      "metadata": {
        "colab": {
          "base_uri": "https://localhost:8080/"
        },
        "id": "Ub-iTTllIZQ2",
        "outputId": "75c14b1f-bc42-4c91-ba7f-8e10731870c3"
      },
      "outputs": [
        {
          "name": "stdout",
          "output_type": "stream",
          "text": [
            "Mean:\n",
            " tensor([[    0.0000],\n",
            "        [    0.0000]], grad_fn=<MeanBackward1>)\n",
            "Variance:\n",
            " tensor([[1.0000],\n",
            "        [1.0000]], grad_fn=<VarBackward0>)\n"
          ]
        }
      ],
      "source": [
        "torch.set_printoptions(sci_mode=False)\n",
        "print(\"Mean:\\n\", mean)\n",
        "print(\"Variance:\\n\", var)"
      ]
    },
    {
      "cell_type": "markdown",
      "metadata": {
        "id": "GL5y4NNMIZQ2"
      },
      "source": [
        "Let's now encapsulate this process in a PyTorch module that we can use in the GPT\n",
        "model later"
      ]
    },
    {
      "cell_type": "code",
      "execution_count": null,
      "metadata": {
        "id": "oGcGuVPbIZQ2"
      },
      "outputs": [],
      "source": [
        "class LayerNorm(nn.Module):\n",
        "    def __init__(self, emb_dim):\n",
        "        super().__init__()\n",
        "        self.eps = 1e-5\n",
        "        self.scale = nn.Parameter(torch.ones(emb_dim))\n",
        "        self.shift = nn.Parameter(torch.zeros(emb_dim))\n",
        "\n",
        "    def forward(self, x):\n",
        "        mean = x.mean(dim=-1, keepdim=True)\n",
        "        var = x.var(dim=-1, keepdim=True, unbiased=False)\n",
        "        norm_x = (x - mean) / torch.sqrt(var + self.eps)\n",
        "        return self.scale * norm_x + self.shift"
      ]
    },
    {
      "cell_type": "markdown",
      "metadata": {
        "id": "fDJa-t_7IZQ3"
      },
      "source": [
        "This specific implementation of layer Normalization operates on the last dimension of the\n",
        "input tensor x, which represents the embedding dimension (emb_dim).\n",
        "\n",
        "The variable eps is a\n",
        "small constant (epsilon) added to the variance to prevent division by zero during\n",
        "normalization.\n",
        "\n",
        "The scale and shift are two trainable parameters (of the same dimension\n",
        "as the input) that the LLM automatically adjusts during training if it is determined that\n",
        "doing so would improve the model's performance on its training task.\n",
        "\n",
        "This allows the model\n",
        "to learn appropriate scaling and shifting that best suit the data it is processing."
      ]
    },
    {
      "cell_type": "markdown",
      "metadata": {
        "id": "OmCLUM80IZQ3"
      },
      "source": [
        "### **A small note on biased variance**"
      ]
    },
    {
      "cell_type": "markdown",
      "metadata": {
        "id": "Ne7NQbfpIZQ3"
      },
      "source": [
        "In our variance calculation method, we have opted for an implementation detail by\n",
        "setting unbiased=False.\n",
        "\n",
        "For those curious about what this means, in the variance\n",
        "calculation, we divide by the number of inputs n in the variance formula.\n",
        "\n",
        "This approach does not apply Bessel's correction, which typically uses n-1 instead of n in\n",
        "the denominator to adjust for bias in sample variance estimation.\n",
        "\n",
        "This decision results in a so-called biased estimate of the variance.\n",
        "\n",
        "For large-scale language\n",
        "models (LLMs), where the embedding dimension n is significantly large, the\n",
        "difference between using n and n-1 is practically negligible.\n",
        "\n",
        "We chose this approach to ensure compatibility with the GPT-2 model's normalization layers and because it\n",
        "reflects TensorFlow's default behavior, which was used to implement the original GPT2 model.\n"
      ]
    },
    {
      "cell_type": "markdown",
      "metadata": {
        "id": "vJTSy9fRIZQ3"
      },
      "source": [
        "Let's now try the LayerNorm module in practice and apply it to the batch input"
      ]
    },
    {
      "cell_type": "code",
      "execution_count": null,
      "metadata": {
        "colab": {
          "base_uri": "https://localhost:8080/"
        },
        "id": "-KVwBN8fIZQ3",
        "outputId": "32e52581-07aa-47e1-bcaf-680b2cdaae9d"
      },
      "outputs": [
        {
          "name": "stdout",
          "output_type": "stream",
          "text": [
            "Mean:\n",
            " tensor([[    -0.0000],\n",
            "        [     0.0000]], grad_fn=<MeanBackward1>)\n",
            "Variance:\n",
            " tensor([[1.0000],\n",
            "        [1.0000]], grad_fn=<VarBackward0>)\n"
          ]
        }
      ],
      "source": [
        "ln = LayerNorm(emb_dim=5)\n",
        "out_ln = ln(batch_example)\n",
        "mean = out_ln.mean(dim=-1, keepdim=True)\n",
        "var = out_ln.var(dim=-1, unbiased=False, keepdim=True)\n",
        "print(\"Mean:\\n\", mean)\n",
        "print(\"Variance:\\n\", var)"
      ]
    },
    {
      "cell_type": "markdown",
      "metadata": {
        "id": "X-dH-lujIZQ3"
      },
      "source": [
        "As we can see based on the results, the layer normalization code works as expected and\n",
        "normalizes the values of each of the two inputs such that they have a mean of 0 and a\n",
        "variance of 1"
      ]
    },
    {
      "cell_type": "markdown",
      "metadata": {
        "id": "NtKNdITSLjIx"
      },
      "source": [
        "### **Why Normalization does not do negative effect?**"
      ]
    },
    {
      "cell_type": "markdown",
      "metadata": {
        "id": "Sqt5VsXEL26K"
      },
      "source": [
        "The Core Question\n",
        "\n",
        "> “Layer normalization changes the output values numerically, and two same vectors can have different values after normalization at different times.\n",
        "> Why doesn’t this negatively affect training globally?”"
      ]
    },
    {
      "cell_type": "markdown",
      "metadata": {
        "id": "mZb44CmNLhoz"
      },
      "source": [
        "**What really happens when we normalize**\n",
        "\n",
        "When you apply Layer Normalization, you compute\n",
        "$$\\text{LN}(x) = \\gamma \\cdot \\frac{x - \\mu}{\\sigma + \\epsilon} + \\beta$$\n",
        "\n",
        "* Here, $ \\mu $ and $ \\sigma $ are computed for each input sample separately.\n",
        "* So yes — even if the same input vector appears at different training steps,\n",
        "  its surrounding network context (weights before it, gradients, etc.) may have changed\n",
        "   → which means $ x $, $\\mu $, and $ \\sigma $ will differ slightly.\n",
        "\n",
        "Hence, the *numerical values* after normalization can differ over time.\n",
        "\n",
        "But that’s *not a bug* — it’s part of what helps the model train.\n",
        "\n"
      ]
    },
    {
      "cell_type": "markdown",
      "metadata": {
        "id": "9Q0EOsq9Msv7"
      },
      "source": [
        "**Why that’s not harmful (and actually helpful)**\n",
        "\n",
        "Even though normalization changes numbers dynamically, training doesn’t get confused because\n",
        "\n",
        "1. The model learns to adapt to normalization\n",
        "\n",
        "> - LayerNorm has trainable parameters γ (scale) and β (bias).They let the network re-scale and re-shift normalized values as needed.\n",
        "> - So if the network needs certain magnitude or offset to represent information,γ and β will learn to bring that back.\n",
        "> - Normalization doesn’t destroy information — it just stabilizes it, then allows the network to “recover” whatever scale/offset it wants.\n",
        "\n",
        "2. Normalization keeps the \"direction\" of information consistent\n",
        "\n",
        "> - When you normalize, you change the magnitude of the activations but keep their relative direction in feature space.\n",
        "> - In deep learning, the relative direction (how features vary together) is what carries information, not the absolute scale.\n",
        "> - So even if the numeric values change, the pattern of information remains intact — and that’s what the next layer learns from.\n",
        "\n",
        "3. It makes optimization more stable globally\n",
        "\n",
        "> Without normalization, during backpropagation\n",
        "> - Activations can explode or vanish (causing unstable gradients)\n",
        "> - Each layer can shift its output distribution unpredictably (called *internal covariate shift*).\n",
        "> - LayerNorm ensures that every layer sees inputs that are roughly **centered and scaled**, regardless of how other layers change.\n",
        "> - This stability lets optimizers (like Adam) make consistent updates even when earlier weights shift slightly.\n",
        "> - So even though the *numbers* change locally, the overall learning process stays stable globally.\n",
        "\n",
        "4. Global model behavior depends on *relative changes*, not absolute values\n",
        "\n",
        "> - Let’s think in terms of training dynamics\n",
        "> - Suppose at time step T₁, a vector $ x_1 $ → normalized → $ y_1 $\n",
        "> - At time step T₂, same vector (but slightly different due to learned weights) → normalized → $ y_2 $\n",
        "> - Even though $ y_1 \\ne y_2 $, the *entire model* (all layers, parameters, gradients) is changing together in a **coordinated way**.\n",
        "> - Training doesn’t require outputs to be numerically stable — only that the optimization process is *consistent* and *gradient-friendly*.\n",
        "> - The model doesn’t rely on *exact numbers*, but rather on how they change relative to the loss landscape.\n",
        "\n"
      ]
    },
    {
      "cell_type": "markdown",
      "metadata": {
        "id": "PRUH9FsMNrTM"
      },
      "source": [
        "**Analogy**\n",
        "\n",
        ">Think of LayerNorm like a **thermostat** in a large system.\n",
        ">\n",
        "> - Even though the exact temperature readings (values) fluctuate,\n",
        "> - The thermostat keeps things in a healthy range — preventing overheat or freeze,\n",
        "> - So the overall system (the model) can keep working efficiently.\n",
        "> - The local variations don’t harm the global function — they help maintain global *stability*.\n",
        "\n",
        "**In short**\n",
        "\n",
        "> LayerNorm changes local values dynamically,\n",
        "> but globally it **preserves representational meaning, stabilizes optimization, and keeps gradients healthy.**\n",
        "> That’s why it *helps* rather than hurts training."
      ]
    },
    {
      "cell_type": "markdown",
      "metadata": {
        "id": "i3DcbruWODH1"
      },
      "source": [
        "### **Batch Normalization vs Layer Normalization**\n"
      ]
    },
    {
      "cell_type": "markdown",
      "metadata": {
        "id": "2iCC21hEN-o2"
      },
      "source": [
        "\n",
        "| Feature                              | **Batch Normalization (BatchNorm)**                                                                | **Layer Normalization (LayerNorm)**                                                             |\n",
        "| ------------------------------------ | -------------------------------------------------------------------------------------------------- | ----------------------------------------------------------------------------------------------- |\n",
        "| **Normalization Scope**              | Across the **batch dimension** (mean and variance are computed for each feature across the batch). | Across the **feature dimension** (mean and variance are computed for each sample individually). |\n",
        "| **Used in**                          | Common in **CNNs** and feedforward networks.                                                       | Common in **Transformers**, **RNNs**, and **language models**.                                  |\n",
        "| **Dependency on Batch Size**         | Depends on batch statistics — smaller batches can make training unstable.                          | Independent of batch size — works well even with batch size = 1.                                |\n",
        "| **When statistics are computed**     | During **training**, uses batch stats; during **inference**, uses running (moving average) stats.  | Uses **current input only**, both during training and inference.                                |\n",
        "| **Computation axis**                 | Normalizes each feature across all samples in the batch.                                           | Normalizes all features within a single sample.                                                 |\n",
        "| **Formula**                          | ( \\hat{x} = \\frac{x - \\mu_{batch}}{\\sigma_{batch} + \\epsilon} )                                    | ( \\hat{x} = \\frac{x - \\mu_{layer}}{\\sigma_{layer} + \\epsilon} )                                 |\n",
        "| **Best suited for**                  | Vision models (CNNs), large batches.                                                               | Sequence models (Transformers, NLP), small batches, or variable-length inputs.                  |\n",
        "| **Typical location in architecture** | After linear/convolutional layers.                                                                 | After linear or attention layers.                                                               |\n",
        "| **Training Stability**               | Can fluctuate with batch composition.                                                              | More stable, since normalization is per sample.                                                 |\n",
        "| **Example Use**                      | ResNet, EfficientNet                                                                               | GPT, BERT, Transformer                                                                          |\n",
        "\n",
        "**Simple Intuition**\n",
        "\n",
        "* **BatchNorm:** “I’ll normalize each feature across the whole mini-batch.”\n",
        "* **LayerNorm:** “I’ll normalize all features within each training example.”\n"
      ]
    },
    {
      "cell_type": "markdown",
      "metadata": {
        "id": "vIssd5eBIZQ3"
      },
      "source": [
        "## **GPT ARCHITECTURE PART 3: FEEDFORWARD NEURAL NETWORK WITH GELU ACTIVATION**"
      ]
    },
    {
      "cell_type": "markdown",
      "metadata": {
        "id": "guOOKRHAIZQ3"
      },
      "source": [
        "Let's implement the GELU activation function approximation used by GPT-2"
      ]
    },
    {
      "cell_type": "code",
      "execution_count": null,
      "metadata": {
        "id": "9MvJ6r5uIZQ3"
      },
      "outputs": [],
      "source": [
        "class GELU(nn.Module):\n",
        "    def __init__(self):\n",
        "        super().__init__()\n",
        "\n",
        "    def forward(self, x):\n",
        "        return 0.5 * x * (1 + torch.tanh(\n",
        "            torch.sqrt(torch.tensor(2.0 / torch.pi)) *\n",
        "            (x + 0.044715 * torch.pow(x, 3))\n",
        "        ))"
      ]
    },
    {
      "cell_type": "markdown",
      "metadata": {
        "id": "8ny5w6nsIZQ3"
      },
      "source": [
        "To get an idea of what this GELU function looks like and how it compares to the ReLU\n",
        "function, let's plot these functions side by side"
      ]
    },
    {
      "cell_type": "code",
      "execution_count": null,
      "metadata": {
        "colab": {
          "base_uri": "https://localhost:8080/",
          "height": 307
        },
        "id": "Me-CGXrYIZQ3",
        "outputId": "efbe8a87-0859-4ab9-d2f3-c3b0a345510c"
      },
      "outputs": [
        {
          "data": {
            "image/png": "[encoded data removed]",
            "text/plain": [
              "<Figure size 800x300 with 2 Axes>"
            ]
          },
          "metadata": {},
          "output_type": "display_data"
        }
      ],
      "source": [
        "import matplotlib.pyplot as plt\n",
        "\n",
        "gelu, relu = GELU(), nn.ReLU()\n",
        "\n",
        "# Some sample data\n",
        "x = torch.linspace(-3, 3, 100)\n",
        "y_gelu, y_relu = gelu(x), relu(x)\n",
        "\n",
        "plt.figure(figsize=(8, 3))\n",
        "for i, (y, label) in enumerate(zip([y_gelu, y_relu], [\"GELU\", \"ReLU\"]), 1):\n",
        "    plt.subplot(1, 2, i)\n",
        "    plt.plot(x, y)\n",
        "    plt.title(f\"{label} activation function\")\n",
        "    plt.xlabel(\"x\")\n",
        "    plt.ylabel(f\"{label}(x)\")\n",
        "    plt.grid(True)\n",
        "\n",
        "plt.tight_layout()\n",
        "plt.show()\n"
      ]
    },
    {
      "cell_type": "markdown",
      "metadata": {
        "id": "AAlHY7XmIZQ3"
      },
      "source": [
        "As we can see in the resulting plot, ReLU is a piecewise linear function that\n",
        "outputs the input directly if it is positive; otherwise, it outputs zero.\n",
        "\n",
        "GELU is a smooth, nonlinear function that approximates ReLU but with a non-zero gradient for negative values.\n"
      ]
    },
    {
      "cell_type": "markdown",
      "metadata": {
        "id": "hXaciaH_IZQ3"
      },
      "source": [
        "The smoothness of GELU, as shown in the above figure, can lead to better optimization properties\n",
        "during training, as it allows for more nuanced adjustments to the model's parameters.\n",
        "\n",
        "In contrast, ReLU has a sharp corner at zero, which can sometimes make optimization harder,\n",
        "especially in networks that are very deep or have complex architectures.\n",
        "\n",
        "Moreover, unlike RELU, which outputs zero for any negative input, GELU allows for a small, non-zero output\n",
        "for negative values.\n",
        "\n",
        "This characteristic means that during the training process, neurons that\n",
        "receive negative input can still contribute to the learning process, albeit to a lesser extent\n",
        "than positive inputs."
      ]
    },
    {
      "cell_type": "markdown",
      "metadata": {
        "id": "xw_gUYqQIZQ3"
      },
      "source": [
        "Next, let's use the GELU function to implement the small neural network module,\n",
        "FeedForward, that we will be using in the LLM's transformer block later:"
      ]
    },
    {
      "cell_type": "code",
      "execution_count": null,
      "metadata": {
        "id": "7Sk8rENuIZQ4"
      },
      "outputs": [],
      "source": [
        "class FeedForward(nn.Module):\n",
        "    def __init__(self, cfg):\n",
        "        super().__init__()\n",
        "        self.layers = nn.Sequential(\n",
        "            nn.Linear(cfg[\"emb_dim\"], 4 * cfg[\"emb_dim\"]),\n",
        "            GELU(),\n",
        "            nn.Linear(4 * cfg[\"emb_dim\"], cfg[\"emb_dim\"]),\n",
        "        )\n",
        "\n",
        "    def forward(self, x):\n",
        "        return self.layers(x)"
      ]
    },
    {
      "cell_type": "code",
      "execution_count": null,
      "metadata": {
        "colab": {
          "base_uri": "https://localhost:8080/"
        },
        "id": "J-sztEOnIZQ4",
        "outputId": "e7fec071-9aee-4a11-cca1-919859527e3f"
      },
      "outputs": [
        {
          "name": "stdout",
          "output_type": "stream",
          "text": [
            "768\n"
          ]
        }
      ],
      "source": [
        "print(GPT_CONFIG_124M[\"emb_dim\"])\n"
      ]
    },
    {
      "cell_type": "markdown",
      "metadata": {
        "id": "XCdephV1IZQ4"
      },
      "source": [
        "As we can see in the preceding code, the FeedForward module is a small neural network\n",
        "consisting of two Linear layers and a GELU activation function.\n",
        "\n",
        "In the 124 million parameter GPT model, it receives the input batches with tokens that have an embedding\n",
        "size of 768 each via the GPT_CONFIG_124M dictionary where GPT_CONFIG_124M[\"emb_dim\"]\n",
        "= 768.\n"
      ]
    },
    {
      "cell_type": "markdown",
      "metadata": {
        "id": "SdP5JzxOIZQ4"
      },
      "source": [
        "Let's use the GELU function to implement the small neural network module,\n",
        "FeedForward, that we will be using in the LLM's transformer block later"
      ]
    },
    {
      "cell_type": "code",
      "execution_count": null,
      "metadata": {
        "colab": {
          "base_uri": "https://localhost:8080/"
        },
        "id": "CQZ0Ez4PIZQ4",
        "outputId": "4281e118-b7bd-45ca-c05e-c453b7b3b693"
      },
      "outputs": [
        {
          "name": "stdout",
          "output_type": "stream",
          "text": [
            "torch.Size([2, 3, 768])\n"
          ]
        }
      ],
      "source": [
        "ffn = FeedForward(GPT_CONFIG_124M)\n",
        "x = torch.rand(2, 3, 768) #A\n",
        "out = ffn(x)\n",
        "print(out.shape)"
      ]
    },
    {
      "cell_type": "markdown",
      "metadata": {
        "id": "04dADeiGIZQ4"
      },
      "source": [
        "The FeedForward module we implemented in this section plays a crucial role in enhancing\n",
        "the model's ability to learn from and generalize the data.\n",
        "\n",
        "\n",
        "Although the input and output dimensions of this module are the same, it internally expands the embedding dimension\n",
        "into a higher-dimensional space through the first linear layer.\n",
        "\n",
        "This expansion is followed by a non-linear GELU activation, and then a contraction back to\n",
        "the original dimension with the second linear transformation.\n",
        "\n",
        "Such a design allows for the\n",
        "exploration of a richer representation space."
      ]
    },
    {
      "cell_type": "markdown",
      "metadata": {
        "id": "Sm1GFrIwIZQ4"
      },
      "source": [
        "Moreover, the uniformity in input and output dimensions simplifies the architecture by\n",
        "enabling the stacking of multiple layers, as we will do later, without the need to adjust\n",
        "dimensions between them, thus making the model more scalable."
      ]
    },
    {
      "cell_type": "markdown",
      "metadata": {
        "id": "Tu7_w077IZQ4"
      },
      "source": [
        "## **GPT ARCHITECTURE PART 4: SHORTCUT CONNECTIONS**"
      ]
    },
    {
      "cell_type": "markdown",
      "metadata": {
        "id": "_0197fgdIZQ4"
      },
      "source": [
        "Let us see how we can add shortcut connections to the forward method"
      ]
    },
    {
      "cell_type": "code",
      "execution_count": null,
      "metadata": {
        "id": "Nqld4dO9IZQ4"
      },
      "outputs": [],
      "source": [
        "class ExampleDeepNeuralNetwork(nn.Module):\n",
        "    def __init__(self, layer_sizes, use_shortcut):\n",
        "        super().__init__()\n",
        "        self.use_shortcut = use_shortcut\n",
        "        self.layers = nn.ModuleList([\n",
        "            nn.Sequential(nn.Linear(layer_sizes[0], layer_sizes[1]), GELU()),\n",
        "            nn.Sequential(nn.Linear(layer_sizes[1], layer_sizes[2]), GELU()),\n",
        "            nn.Sequential(nn.Linear(layer_sizes[2], layer_sizes[3]), GELU()),\n",
        "            nn.Sequential(nn.Linear(layer_sizes[3], layer_sizes[4]), GELU()),\n",
        "            nn.Sequential(nn.Linear(layer_sizes[4], layer_sizes[5]), GELU())\n",
        "        ])\n",
        "\n",
        "    def forward(self, x):\n",
        "        for layer in self.layers:\n",
        "            # Compute the output of the current layer\n",
        "            layer_output = layer(x)\n",
        "            # Check if shortcut can be applied\n",
        "            if self.use_shortcut and x.shape == layer_output.shape:\n",
        "                x = x + layer_output\n",
        "            else:\n",
        "                x = layer_output\n",
        "        return x\n"
      ]
    },
    {
      "cell_type": "markdown",
      "metadata": {
        "id": "WkJTfS48IZQ5"
      },
      "source": [
        "The code implements a deep neural network with 5 layers, each consisting of a Linear\n",
        "layer and a GELU activation function.\n",
        "\n",
        "In the forward pass, we iteratively pass the input\n",
        "through the layers and optionally add the shortcut connections  if\n",
        "the self.use_shortcut attribute is set to True."
      ]
    },
    {
      "cell_type": "markdown",
      "metadata": {
        "id": "oOEzFML-IZQ5"
      },
      "source": [
        "Let's use this code to first initialize a neural network without shortcut connections. Here,\n",
        "each layer will be initialized such that it accepts an example with 3 input values and returns\n",
        "3 output values. The last layer returns a single output value"
      ]
    },
    {
      "cell_type": "code",
      "execution_count": null,
      "metadata": {
        "id": "mTRapbkEIZQ5"
      },
      "outputs": [],
      "source": [
        "layer_sizes = [3, 3, 3, 3, 3, 1]\n",
        "sample_input = torch.tensor([[1., 0., -1.]])\n",
        "torch.manual_seed(123) # specify random seed for the initial weights for reproducibility\n",
        "model_without_shortcut = ExampleDeepNeuralNetwork(\n",
        "layer_sizes, use_shortcut=False\n",
        ")"
      ]
    },
    {
      "cell_type": "markdown",
      "metadata": {
        "id": "pMS-7BQQIZQ5"
      },
      "source": [
        "Next, we implement a function that computes the gradients in the the model's backward\n",
        "pass"
      ]
    },
    {
      "cell_type": "code",
      "execution_count": null,
      "metadata": {
        "id": "4OmWuCcxIZQ5"
      },
      "outputs": [],
      "source": [
        "def print_gradients(model, x):\n",
        "    # Forward pass\n",
        "    output = model(x)\n",
        "    target = torch.tensor([[0.]])\n",
        "\n",
        "    # Calculate loss based on how close the target\n",
        "    # and output are\n",
        "    loss = nn.MSELoss()\n",
        "    loss = loss(output, target)\n",
        "\n",
        "    # Backward pass to calculate the gradients\n",
        "    loss.backward()\n",
        "\n",
        "    for name, param in model.named_parameters():\n",
        "        if 'weight' in name:\n",
        "            # Print the mean absolute gradient of the weights\n",
        "            print(f\"{name} has gradient mean of {param.grad.abs().mean().item()}\")"
      ]
    },
    {
      "cell_type": "markdown",
      "metadata": {
        "id": "9bU8pJ-QIZQ5"
      },
      "source": [
        "In the preceding code, we specify a loss function that computes how close the model output\n",
        "and a user-specified target (here, for simplicity, the value 0) are.\n",
        "\n",
        "Then, when calling loss.backward(), PyTorch computes the loss gradient for each layer in the model.\n",
        "\n",
        "We can iterate through the weight parameters via model.named_parameters().\n",
        "\n",
        "Suppose we have a 3×3 weight parameter matrix for a given layer.\n",
        "\n",
        "In that case, this layer will have 3×3 gradient values, and we print the mean absolute gradient of these 3×3 gradient values to\n",
        "obtain a single gradient value per layer to compare the gradients between layers more\n",
        "easily."
      ]
    },
    {
      "cell_type": "markdown",
      "metadata": {
        "id": "nAg1qbYvIZQ5"
      },
      "source": [
        "In short, the .backward() method is a convenient method in PyTorch that computes loss\n",
        "gradients, which are required during model training, without implementing the math for the\n",
        "gradient calculation ourselves, thereby making working with deep neural networks much\n",
        "more accessible."
      ]
    },
    {
      "cell_type": "markdown",
      "metadata": {
        "id": "6pyl0qx9IZQ5"
      },
      "source": [
        "Let's now use the `print_gradients` function and apply it to the model without skip\n",
        "connections"
      ]
    },
    {
      "cell_type": "code",
      "execution_count": null,
      "metadata": {
        "colab": {
          "base_uri": "https://localhost:8080/"
        },
        "id": "GOeTs4SdIZQ5",
        "outputId": "4ec29006-127c-40e7-836e-7b2998a03031"
      },
      "outputs": [
        {
          "name": "stdout",
          "output_type": "stream",
          "text": [
            "layers.0.0.weight has gradient mean of 0.00020173587836325169\n",
            "layers.1.0.weight has gradient mean of 0.00012011159560643137\n",
            "layers.2.0.weight has gradient mean of 0.0007152040489017963\n",
            "layers.3.0.weight has gradient mean of 0.0013988736318424344\n",
            "layers.4.0.weight has gradient mean of 0.005049645435065031\n"
          ]
        }
      ],
      "source": [
        "print_gradients(model_without_shortcut, sample_input)"
      ]
    },
    {
      "cell_type": "markdown",
      "metadata": {
        "id": "wfVA4kRnIZQ5"
      },
      "source": [
        "As we can see based on the output of the print_gradients function, the gradients become\n",
        "smaller as we progress from the last layer (layers.4) to the first layer (layers.0), which\n",
        "is a phenomenon called the vanishing gradient problem."
      ]
    },
    {
      "cell_type": "markdown",
      "metadata": {
        "id": "Zo87eRUyIZQ5"
      },
      "source": [
        "Let's now instantiate a model with skip connections and see how it compares"
      ]
    },
    {
      "cell_type": "code",
      "execution_count": null,
      "metadata": {
        "colab": {
          "base_uri": "https://localhost:8080/"
        },
        "id": "m6s3A9NnIZQ5",
        "outputId": "a9bad013-2a1b-420e-d87f-38f2863f8d3b"
      },
      "outputs": [
        {
          "name": "stdout",
          "output_type": "stream",
          "text": [
            "layers.0.0.weight has gradient mean of 0.22169798612594604\n",
            "layers.1.0.weight has gradient mean of 0.20694111287593842\n",
            "layers.2.0.weight has gradient mean of 0.3289700150489807\n",
            "layers.3.0.weight has gradient mean of 0.26657330989837646\n",
            "layers.4.0.weight has gradient mean of 1.3258544206619263\n"
          ]
        }
      ],
      "source": [
        "torch.manual_seed(123)\n",
        "model_with_shortcut = ExampleDeepNeuralNetwork(\n",
        "layer_sizes, use_shortcut=True\n",
        ")\n",
        "print_gradients(model_with_shortcut, sample_input)"
      ]
    },
    {
      "cell_type": "markdown",
      "metadata": {
        "id": "DfmoGzwGIZQ5"
      },
      "source": [
        "As we can see, based on the output, the last layer (layers.4) still has a larger gradient\n",
        "than the other layers.\n",
        "\n",
        "However, the gradient value stabilizes as we progress towards the\n",
        "first layer (layers.0) and doesn't shrink to a vanishingly small value."
      ]
    },
    {
      "cell_type": "markdown",
      "metadata": {
        "id": "Pwu1Zy4fIZQ6"
      },
      "source": [
        "In conclusion, shortcut connections are important for overcoming the limitations posed\n",
        "by the vanishing gradient problem in deep neural networks.\n",
        "\n",
        "Shortcut connections are a core building block of very large models such as LLMs, and they will help facilitate more effective\n",
        "training by ensuring consistent gradient flow across layers when we train the GPT model"
      ]
    },
    {
      "cell_type": "markdown",
      "metadata": {
        "id": "kJDdGbv7IZQ6"
      },
      "source": [
        "## **GPT ARCHITECTURE PART 5: CODING ATTENTION AND LINEAR LAYERS IN A TRANSFORMER BLOCK**"
      ]
    },
    {
      "cell_type": "markdown",
      "metadata": {
        "id": "6juKSJWAIZQ6"
      },
      "source": [
        "Let us code a transformer block as follows"
      ]
    },
    {
      "cell_type": "markdown",
      "metadata": {
        "id": "pO5VjqP5IZQ6"
      },
      "source": [
        "Step 1: Shortcut connection for attention block\n",
        "\n",
        "Step 2:  Shortcut connection for feed forward block\n",
        "\n",
        "Step 3: Add the original input back"
      ]
    },
    {
      "cell_type": "code",
      "execution_count": null,
      "metadata": {
        "id": "qeXZFL3CIZQ9"
      },
      "outputs": [],
      "source": [
        "class TransformerBlock(nn.Module):\n",
        "    def __init__(self, cfg):\n",
        "        \"\"\"\n",
        "        A single Transformer block that combines:\n",
        "        1. Multi-Head Self-Attention\n",
        "        2. Feed-Forward Network\n",
        "        3. Layer Normalization\n",
        "        4. Residual (skip) connections\n",
        "        5. Dropout regularization\n",
        "\n",
        "        Args:\n",
        "            cfg (dict): Configuration dictionary containing:\n",
        "                - emb_dim: Embedding dimension (input/output feature size)\n",
        "                - context_length: Maximum number of tokens (sequence length)\n",
        "                - n_heads: Number of attention heads\n",
        "                - drop_rate: Dropout rate\n",
        "                - qkv_bias: Whether to use bias in query/key/value projections\n",
        "        \"\"\"\n",
        "        super().__init__()\n",
        "\n",
        "        # Multi-Head Self-Attention layer\n",
        "        # This lets each token \"attend\" to (look at) other tokens in the sequence\n",
        "        self.att = MultiHeadAttention(\n",
        "            d_in=cfg[\"emb_dim\"],            # Input embedding dimension\n",
        "            d_out=cfg[\"emb_dim\"],           # Output dimension (same as input)\n",
        "            context_length=cfg[\"context_length\"],  # Sequence length (number of tokens)\n",
        "            num_heads=cfg[\"n_heads\"],       # Number of parallel attention heads\n",
        "            dropout=cfg[\"drop_rate\"],       # Dropout applied inside attention\n",
        "            qkv_bias=cfg[\"qkv_bias\"]        # Whether to use bias terms in Q, K, V projections\n",
        "        )\n",
        "\n",
        "        # Feed-forward sublayer (position-wise fully connected network)\n",
        "        # Usually consists of two linear layers with a GELU/ReLU activation\n",
        "        self.ff = FeedForward(cfg)\n",
        "\n",
        "        # First Layer Normalization (applied before attention)\n",
        "        self.norm1 = LayerNorm(cfg[\"emb_dim\"])\n",
        "\n",
        "        # Second Layer Normalization (applied before feed-forward)\n",
        "        self.norm2 = LayerNorm(cfg[\"emb_dim\"])\n",
        "\n",
        "        # Dropout applied to residual (shortcut) connections to prevent overfitting\n",
        "        self.drop_shortcut = nn.Dropout(cfg[\"drop_rate\"])\n",
        "\n",
        "    def forward(self, x):\n",
        "        \"\"\"\n",
        "        Forward pass through the Transformer block.\n",
        "\n",
        "        Args:\n",
        "            x (torch.Tensor): Input tensor of shape [batch_size, num_tokens, emb_dim]\n",
        "\n",
        "        Returns:\n",
        "            torch.Tensor: Output tensor of the same shape as input\n",
        "        \"\"\"\n",
        "\n",
        "        # ==============================\n",
        "        # 1️⃣ Attention Sub-Layer\n",
        "        # ==============================\n",
        "\n",
        "        # Save input as shortcut (for residual connection)\n",
        "        shortcut = x\n",
        "\n",
        "        # Apply layer normalization before attention\n",
        "        x = self.norm1(x)\n",
        "\n",
        "        # Apply multi-head self-attention\n",
        "        # Each token attends to other tokens and aggregates contextual info\n",
        "        x = self.att(x)  # Shape: [batch_size, num_tokens, emb_dim]\n",
        "\n",
        "        # Apply dropout to attention output for regularization\n",
        "        x = self.drop_shortcut(x)\n",
        "\n",
        "        # Add the original input (residual connection)\n",
        "        # Helps prevent vanishing gradients and preserves original information\n",
        "        x = x + shortcut\n",
        "\n",
        "        # ==============================\n",
        "        # 2️⃣ Feed-Forward Sub-Layer\n",
        "        # ==============================\n",
        "\n",
        "        # Save input again for another residual connection\n",
        "        shortcut = x\n",
        "\n",
        "        # Apply layer normalization before feed-forward network\n",
        "        x = self.norm2(x)\n",
        "\n",
        "        # Pass through the feed-forward network\n",
        "        x = self.ff(x)\n",
        "\n",
        "        # Apply dropout to feed-forward output\n",
        "        x = self.drop_shortcut(x)\n",
        "\n",
        "        # Add the shortcut again (residual connection)\n",
        "        x = x + shortcut\n",
        "\n",
        "        # ==============================\n",
        "        # 3️⃣ Output\n",
        "        # ==============================\n",
        "\n",
        "        # Return the transformed tensor (same shape as input)\n",
        "        return x\n"
      ]
    },
    {
      "cell_type": "markdown",
      "metadata": {
        "id": "WWIbWqmHIZQ9"
      },
      "source": [
        "The given code defines a TransformerBlock class in PyTorch that includes a multi-head\n",
        "attention mechanism (MultiHeadAttention) and a feed forward network (FeedForward),\n",
        "both configured based on a provided configuration dictionary (cfg), such as\n",
        "GPT_CONFIG_124M"
      ]
    },
    {
      "cell_type": "markdown",
      "metadata": {
        "id": "BBfnIZ5hIZQ9"
      },
      "source": [
        "Layer normalization (LayerNorm) is applied before each of these two components, and\n",
        "dropout is applied after them to regularize the model and prevent overfitting.\n",
        "\n",
        "This is also known as Pre-LayerNorm.\n",
        "\n",
        "Older architectures, such as the original transformer model,\n",
        "applied layer normalization after the self-attention and feed-forward networks instead,\n",
        "known as Post-LayerNorm, which often leads to worse training dynamics."
      ]
    },
    {
      "cell_type": "markdown",
      "metadata": {
        "id": "kqC2uxczIZQ9"
      },
      "source": [
        "The class also implements the forward pass, where each component is followed by a\n",
        "shortcut connection that adds the input of the block to its output. This critical feature helps\n",
        "gradients flow through the network during training and improves the learning of deep\n",
        "models"
      ]
    },
    {
      "cell_type": "markdown",
      "metadata": {
        "id": "zaftcnuwIZQ9"
      },
      "source": [
        "Using the GPT_CONFIG_124M dictionary we defined earlier, let's instantiate a transformer\n",
        "block and feed it some sample data"
      ]
    },
    {
      "cell_type": "markdown",
      "metadata": {
        "id": "8qA6jRILIZQ9"
      },
      "source": [
        "Create sample input of shape [batch_size, num_tokens, emb_dim]"
      ]
    },
    {
      "cell_type": "code",
      "execution_count": null,
      "metadata": {
        "colab": {
          "base_uri": "https://localhost:8080/"
        },
        "id": "-dDEfFX6IZQ-",
        "outputId": "e3d041d1-1ce4-43b4-af25-a456f1f95fbc"
      },
      "outputs": [
        {
          "name": "stdout",
          "output_type": "stream",
          "text": [
            "Input shape: torch.Size([2, 4, 768])\n",
            "Output shape: torch.Size([2, 4, 768])\n"
          ]
        }
      ],
      "source": [
        "torch.manual_seed(123)\n",
        "x = torch.rand(2, 4, 768) #A\n",
        "block = TransformerBlock(GPT_CONFIG_124M)\n",
        "output = block(x)\n",
        "print(\"Input shape:\", x.shape)\n",
        "print(\"Output shape:\", output.shape)"
      ]
    },
    {
      "cell_type": "markdown",
      "metadata": {
        "id": "99e3cOGUIZQ-"
      },
      "source": [
        "As we can see from the code output, the transformer block maintains the input dimensions\n",
        "in its output, indicating that the transformer architecture processes sequences of data\n",
        "without altering their shape throughout the network."
      ]
    },
    {
      "cell_type": "markdown",
      "metadata": {
        "id": "UpcG_iMeIZQ-"
      },
      "source": [
        "  \n",
        "The preservation of shape throughout the transformer block architecture is not incidental\n",
        "but a crucial aspect of its design.\n",
        "\n",
        "This design enables its effective application across a wide\n",
        "range of sequence-to-sequence tasks, where each output vector directly corresponds to an\n",
        "input vector, maintaining a one-to-one relationship."
      ]
    },
    {
      "cell_type": "markdown",
      "metadata": {
        "id": "n2waF1KGIZQ-"
      },
      "source": [
        "However, the output is a context vector\n",
        "that encapsulates information from the entire input sequence.\n",
        "\n",
        "This means that while the physical dimensions of the sequence (length and feature size)\n",
        "remain unchanged as it passes through the transformer block, the content of each output\n",
        "vector is re-encoded to integrate contextual information from across the entire input\n",
        "sequence."
      ]
    },
    {
      "cell_type": "markdown",
      "metadata": {
        "id": "bvctwN7NIZQ-"
      },
      "source": [
        "## **GPT ARCHITECTURE PART 6: ENTIRE GPT MODEL ARCHITECTURE IMPLEMENTATION**"
      ]
    },
    {
      "cell_type": "markdown",
      "metadata": {
        "id": "F5ayGy00IZQ-"
      },
      "source": [
        "The device setting will allow us to train the model on a CPU or GPU, depending on which device the input\n",
        "data sits"
      ]
    },
    {
      "cell_type": "code",
      "execution_count": null,
      "metadata": {
        "id": "yMdf4fJCIZQ_"
      },
      "outputs": [],
      "source": [
        "class GPTModel(nn.Module):\n",
        "    def __init__(self, cfg):\n",
        "        \"\"\"\n",
        "        GPTModel — A simplified Generative Pretrained Transformer (GPT)-style model.\n",
        "\n",
        "        This model processes sequences of token IDs and predicts the next token\n",
        "        in a sequence using a stack of Transformer blocks.\n",
        "\n",
        "        Args:\n",
        "            cfg (dict): Configuration dictionary containing:\n",
        "                - vocab_size: Total number of unique tokens (vocabulary size)\n",
        "                - emb_dim: Embedding dimension (size of each token vector)\n",
        "                - context_length: Maximum number of tokens in one input sequence\n",
        "                - drop_rate: Dropout probability (for regularization)\n",
        "                - n_layers: Number of stacked Transformer blocks\n",
        "        \"\"\"\n",
        "        super().__init__()\n",
        "\n",
        "        # ===============================\n",
        "        # 1️⃣ Embedding Layers\n",
        "        # ===============================\n",
        "\n",
        "        # Token embedding: Converts token indices into continuous embedding vectors\n",
        "        # Shape after embedding → [batch_size, seq_len, emb_dim]\n",
        "        self.tok_emb = nn.Embedding(cfg[\"vocab_size\"], cfg[\"emb_dim\"])\n",
        "\n",
        "        # Positional embedding: Adds information about token positions in the sequence\n",
        "        # Each position (0, 1, 2, … context_length-1) has its own embedding vector\n",
        "        self.pos_emb = nn.Embedding(cfg[\"context_length\"], cfg[\"emb_dim\"])\n",
        "\n",
        "        # Dropout layer for regularization applied to embeddings\n",
        "        self.drop_emb = nn.Dropout(cfg[\"drop_rate\"])\n",
        "\n",
        "        # ===============================\n",
        "        # 2️⃣ Transformer Blocks\n",
        "        # ===============================\n",
        "\n",
        "        # Stack of multiple Transformer blocks (each block = attention + feedforward)\n",
        "        # The '*' operator unpacks the list of blocks inside nn.Sequential\n",
        "        self.trf_blocks = nn.Sequential(\n",
        "            *[TransformerBlock(cfg) for _ in range(cfg[\"n_layers\"])]\n",
        "        )\n",
        "\n",
        "        # ===============================\n",
        "        # 3️⃣ Final Layers\n",
        "        # ===============================\n",
        "\n",
        "        # Layer normalization applied after all transformer layers\n",
        "        # This helps stabilize the output representations\n",
        "        self.final_norm = LayerNorm(cfg[\"emb_dim\"])\n",
        "\n",
        "        # Linear layer (output head): Maps each token’s embedding\n",
        "        # to a vector of size 'vocab_size' — i.e., prediction logits for each token\n",
        "        # No bias term because embedding and output projections often share weights\n",
        "        self.out_head = nn.Linear(cfg[\"emb_dim\"], cfg[\"vocab_size\"], bias=False)\n",
        "\n",
        "    def forward(self, in_idx):\n",
        "        \"\"\"\n",
        "        Forward pass through the GPT model.\n",
        "\n",
        "        Args:\n",
        "            in_idx (torch.Tensor): Input tensor of token indices,\n",
        "                                   shape [batch_size, seq_len]\n",
        "\n",
        "        Returns:\n",
        "            logits (torch.Tensor): Predicted unnormalized probabilities for each token,\n",
        "                                   shape [batch_size, seq_len, vocab_size]\n",
        "        \"\"\"\n",
        "        # Extract batch size and sequence length from the input tensor\n",
        "        batch_size, seq_len = in_idx.shape\n",
        "\n",
        "        # ===============================\n",
        "        # 1️⃣ Token + Positional Embeddings\n",
        "        # ===============================\n",
        "\n",
        "        # Get token embeddings for each input token ID\n",
        "        tok_embeds = self.tok_emb(in_idx)  # Shape: [batch_size, seq_len, emb_dim]\n",
        "\n",
        "        # Create position indices (0 to seq_len-1) and get their embeddings\n",
        "        pos_embeds = self.pos_emb(torch.arange(seq_len, device=in_idx.device))\n",
        "\n",
        "        # Combine token embeddings with position embeddings\n",
        "        # Adds positional information to each token representation\n",
        "        x = tok_embeds + pos_embeds  # Shape: [batch_size, seq_len, emb_dim]\n",
        "\n",
        "        # Apply dropout to prevent overfitting\n",
        "        x = self.drop_emb(x)\n",
        "\n",
        "        # ===============================\n",
        "        # 2️⃣ Transformer Encoder Blocks\n",
        "        # ===============================\n",
        "\n",
        "        # Pass embeddings through the stack of Transformer blocks\n",
        "        # Each block performs self-attention + feed-forward processing\n",
        "        x = self.trf_blocks(x)\n",
        "\n",
        "        # Apply final layer normalization\n",
        "        x = self.final_norm(x)\n",
        "\n",
        "        # ===============================\n",
        "        # 3️⃣ Output Projection\n",
        "        # ===============================\n",
        "\n",
        "        # Project each embedding vector to vocabulary logits\n",
        "        # This produces predictions for the next token at each position\n",
        "        logits = self.out_head(x)  # Shape: [batch_size, seq_len, vocab_size]\n",
        "\n",
        "        # Return logits (to be used with cross-entropy loss during training)\n",
        "        return logits"
      ]
    },
    {
      "cell_type": "markdown",
      "metadata": {
        "id": "1r0Ae5_aIZQ_"
      },
      "source": [
        "  \n",
        "The `__init__` constructor of this GPTModel class initializes the token and positional\n",
        "embedding layers using the configurations passed in via a Python dictionary, cfg.\n",
        "\n",
        "These\n",
        "embedding layers are responsible for converting input token indices into dense vectors and\n",
        "adding positional information."
      ]
    },
    {
      "cell_type": "markdown",
      "metadata": {
        "id": "FiLgb6hnIZQ_"
      },
      "source": [
        "   \n",
        "Next, the `__init__` method creates a sequential stack of TransformerBlock modules\n",
        "equal to the number of layers specified in cfg.\n",
        "\n",
        "Following the transformer blocks, a\n",
        "LayerNorm layer is applied, standardizing the outputs from the transformer blocks to\n",
        "stabilize the learning process.\n",
        "\n",
        "Finally, a linear output head without bias is defined, which\n",
        "projects the transformer's output into the vocabulary space of the tokenizer to generate\n",
        "logits for each token in the vocabulary."
      ]
    },
    {
      "cell_type": "markdown",
      "metadata": {
        "id": "miHymGhjIZQ_"
      },
      "source": [
        "   \n",
        "The forward method takes a batch of input token indices, computes their embeddings,\n",
        "applies the positional embeddings, passes the sequence through the transformer blocks,\n",
        "normalizes the final output, and then computes the logits, representing the next token's\n",
        "unnormalized probabilities. We will convert these logits into tokens and text outputs in the\n",
        "next section."
      ]
    },
    {
      "cell_type": "markdown",
      "metadata": {
        "id": "mZCFEw4kIZQ_"
      },
      "source": [
        "Let's now initialize the 124 million parameter GPT model using the GPT_CONFIG_124M\n",
        "dictionary we pass into the cfg parameter and feed it with the batch text input we created\n",
        "at the beginning of this chapter"
      ]
    },
    {
      "cell_type": "code",
      "execution_count": null,
      "metadata": {
        "colab": {
          "base_uri": "https://localhost:8080/"
        },
        "id": "8dDHLqulIZQ_",
        "outputId": "0c09130e-0dae-4b95-c209-a315b223a923"
      },
      "outputs": [
        {
          "name": "stdout",
          "output_type": "stream",
          "text": [
            "Input batch:\n",
            " tensor([[6109, 3626, 6100,  345],\n",
            "        [6109, 1110, 6622,  257]])\n",
            "\n",
            "Output shape: torch.Size([2, 4, 50257])\n",
            "tensor([[[ 0.3613,  0.4222, -0.0711,  ...,  0.3483,  0.4661, -0.2838],\n",
            "         [-0.1792, -0.5660, -0.9485,  ...,  0.0477,  0.5181, -0.3168],\n",
            "         [ 0.7120,  0.0332,  0.1085,  ...,  0.1018, -0.4327, -0.2553],\n",
            "         [-1.0076,  0.3418, -0.1190,  ...,  0.7195,  0.4023,  0.0532]],\n",
            "\n",
            "        [[-0.2564,  0.0900,  0.0335,  ...,  0.2659,  0.4454, -0.6806],\n",
            "         [ 0.1230,  0.3653, -0.2074,  ...,  0.7705,  0.2710,  0.2246],\n",
            "         [ 1.0558,  1.0318, -0.2800,  ...,  0.6936,  0.3205, -0.3178],\n",
            "         [-0.1565,  0.3926,  0.3288,  ...,  1.2630, -0.1858,  0.0388]]],\n",
            "       grad_fn=<UnsafeViewBackward0>)\n"
          ]
        }
      ],
      "source": [
        "torch.manual_seed(123)\n",
        "model = GPTModel(GPT_CONFIG_124M)\n",
        "out = model(batch)\n",
        "print(\"Input batch:\\n\", batch)\n",
        "print(\"\\nOutput shape:\", out.shape)\n",
        "print(out)"
      ]
    },
    {
      "cell_type": "markdown",
      "metadata": {
        "id": "tHCtJMMCIZQ_"
      },
      "source": [
        "As we can see, the output tensor has the shape [2, 4, 50257], since we passed in 2 input\n",
        "texts with 4 tokens each. The last dimension, 50,257, corresponds to the vocabulary size of\n",
        "the tokenizer. In the next section, we will see how to convert each of these 50,257-\n",
        "dimensional output vectors back into tokens."
      ]
    },
    {
      "cell_type": "markdown",
      "metadata": {
        "id": "m2NBUG3VIZRA"
      },
      "source": [
        "Using the numel() method, short for \"number of elements,\" we can collect the total\n",
        "number of parameters in the model's parameter tensors"
      ]
    },
    {
      "cell_type": "code",
      "execution_count": null,
      "metadata": {
        "colab": {
          "base_uri": "https://localhost:8080/"
        },
        "id": "Fg9W8MnyIZRA",
        "outputId": "ba9ac390-e64a-4a7e-8da8-d708affc271c"
      },
      "outputs": [
        {
          "name": "stdout",
          "output_type": "stream",
          "text": [
            "Total number of parameters: 163,009,536\n"
          ]
        }
      ],
      "source": [
        "total_params = sum(p.numel() for p in model.parameters())\n",
        "print(f\"Total number of parameters: {total_params:,}\")"
      ]
    },
    {
      "cell_type": "markdown",
      "metadata": {
        "id": "9u_3yt-FIZRA"
      },
      "source": [
        "Earlier, we spoke of initializing a 124\n",
        "million parameter GPT model, so why is the actual number of parameters 163 million, as\n",
        "shown in the preceding code output?"
      ]
    },
    {
      "cell_type": "markdown",
      "metadata": {
        "id": "YwtwfyFHIZRA"
      },
      "source": [
        "The reason is a concept called weight tying that is used in the original GPT-2\n",
        "architecture, which means that the original GPT-2 architecture is reusing the weights from\n",
        "the token embedding layer in its output layer.\n",
        "\n",
        "To understand what this means, let's take a\n",
        "look at the shapes of the token embedding layer and linear output layer that we initialized\n",
        "on the model via the GPTModel earlier"
      ]
    },
    {
      "cell_type": "code",
      "execution_count": null,
      "metadata": {
        "colab": {
          "base_uri": "https://localhost:8080/"
        },
        "id": "gZDNa9uTIZRA",
        "outputId": "6bed0667-4042-4b95-aef1-db7d1b5abefb"
      },
      "outputs": [
        {
          "name": "stdout",
          "output_type": "stream",
          "text": [
            "Token embedding layer shape: torch.Size([50257, 768])\n",
            "Output layer shape: torch.Size([50257, 768])\n"
          ]
        }
      ],
      "source": [
        "print(\"Token embedding layer shape:\", model.tok_emb.weight.shape)\n",
        "print(\"Output layer shape:\", model.out_head.weight.shape)"
      ]
    },
    {
      "cell_type": "markdown",
      "metadata": {
        "id": "2QHq2_1QIZRA"
      },
      "source": [
        "As we can see based on the print outputs, the weight tensors for both these layers have the\n",
        "same shape"
      ]
    },
    {
      "cell_type": "markdown",
      "metadata": {
        "id": "a2pc7xRQIZRA"
      },
      "source": [
        "The token embedding and output layers are very large due to the number of rows for the\n",
        "50,257 in the tokenizer's vocabulary. Let's remove the output layer parameter count from\n",
        "the total GPT-2 model count according to the weight tying"
      ]
    },
    {
      "cell_type": "code",
      "execution_count": null,
      "metadata": {
        "colab": {
          "base_uri": "https://localhost:8080/"
        },
        "id": "22gG_maaIZRA",
        "outputId": "bba6b67c-0b17-4336-f382-2e9bcc652bb7"
      },
      "outputs": [
        {
          "name": "stdout",
          "output_type": "stream",
          "text": [
            "Number of trainable parameters considering weight tying: 124,412,160\n"
          ]
        }
      ],
      "source": [
        "total_params_gpt2 = total_params - sum(p.numel() for p in model.out_head.parameters())\n",
        "print(f\"Number of trainable parameters considering weight tying: {total_params_gpt2:,}\")"
      ]
    },
    {
      "cell_type": "markdown",
      "metadata": {
        "id": "cKBk8ePFIZRA"
      },
      "source": [
        "As we can see, the model is now only 124 million parameters large, matching the original\n",
        "size of the GPT-2 model."
      ]
    },
    {
      "cell_type": "markdown",
      "metadata": {
        "id": "QyTHuFF1IZRA"
      },
      "source": [
        "   \n",
        "Weight tying reduces the overall memory footprint and computational complexity of the\n",
        "model. However, in my experience, using separate token embedding and output layers\n",
        "results in better training and model performance; hence, we are using separate layers in\n",
        "our GPTModel implementation. The same is true for modern LLMs."
      ]
    },
    {
      "cell_type": "markdown",
      "metadata": {
        "id": "xYtKH5jbIZRA"
      },
      "source": [
        "Lastly, let us compute the memory requirements of the 163 million parameters in our\n",
        "GPTModel object"
      ]
    },
    {
      "cell_type": "code",
      "execution_count": null,
      "metadata": {
        "colab": {
          "base_uri": "https://localhost:8080/"
        },
        "id": "7W7-_9pMIZRA",
        "outputId": "e45b1799-14e2-4f38-db95-7fc865fc3a2c"
      },
      "outputs": [
        {
          "name": "stdout",
          "output_type": "stream",
          "text": [
            "Total size of the model: 621.83 MB\n"
          ]
        }
      ],
      "source": [
        "total_size_bytes = total_params * 4 #A\n",
        "total_size_mb = total_size_bytes / (1024 * 1024) #B\n",
        "print(f\"Total size of the model: {total_size_mb:.2f} MB\")"
      ]
    },
    {
      "cell_type": "markdown",
      "metadata": {
        "id": "YdqhsL04IZRA"
      },
      "source": [
        "   \n",
        "In conclusion, by calculating the memory requirements for the 163 million parameters in\n",
        "our GPTModel object and assuming each parameter is a 32-bit float taking up 4 bytes, we\n",
        "find that the total size of the model amounts to 621.83 MB, illustrating the relatively large\n",
        "storage capacity required to accommodate even relatively small LLMs."
      ]
    },
    {
      "cell_type": "markdown",
      "metadata": {
        "id": "xcAux7UUIZRB"
      },
      "source": [
        "   \n",
        "In this section, we implemented the GPTModel architecture and saw that it outputs\n",
        "numeric tensors of shape [batch_size, num_tokens, vocab_size]. In the next section,\n",
        "we will write the code to convert these output tensors into text."
      ]
    },
    {
      "cell_type": "markdown",
      "metadata": {
        "id": "RT5hUxDJIZRB"
      },
      "source": [
        "## **GPT ARCHITECTURE PART 7: GENERATING TEXT FROM OUTPUT TOKENS**"
      ]
    },
    {
      "cell_type": "markdown",
      "metadata": {
        "id": "p16jW4rCIZRB"
      },
      "source": [
        "Let us implement the token-generation process as follows"
      ]
    },
    {
      "cell_type": "markdown",
      "metadata": {
        "id": "VYyfVbREIZRB"
      },
      "source": [
        "Step 1: idx is a (batch, n_tokens) array of indices in the current context\n",
        "\n",
        "Step 2: Crop current context if it exceeds the supported context size E.g., if LLM supports only 5 tokens, and the\n",
        "context size is 10 then only the last 5 tokens are used as context\n",
        "\n",
        "Step 3: Focus only on the last time step, so that (batch, n_token, vocab_size) becomes (batch, vocab_size)\n",
        "\n",
        "Step 4: probas has shape (batch, vocab_size)\n",
        "\n",
        "Step 5: idx_next has shape (batch, 1)\n",
        "\n",
        "Step 6: Append sampled index to the running sequence, where idx has shape (batch, n_tokens+1)"
      ]
    },
    {
      "cell_type": "code",
      "execution_count": null,
      "metadata": {
        "id": "BvaGC0NKIZRB"
      },
      "outputs": [],
      "source": [
        "def generate_text_simple(model, idx, max_new_tokens, context_size):\n",
        "    # idx is (batch, n_tokens) array of indices in the current context\n",
        "    for _ in range(max_new_tokens):\n",
        "\n",
        "        # Crop current context if it exceeds the supported context size\n",
        "        # E.g., if LLM supports only 5 tokens, and the context size is 10\n",
        "        # then only the last 5 tokens are used as context\n",
        "        idx_cond = idx[:, -context_size:]\n",
        "\n",
        "        # Get the predictions\n",
        "        with torch.no_grad():\n",
        "            logits = model(idx_cond)\n",
        "\n",
        "        # Focus only on the last time step\n",
        "        # (batch, n_tokens, vocab_size) becomes (batch, vocab_size)\n",
        "        logits = logits[:, -1, :]\n",
        "\n",
        "        # Apply softmax to get probabilities\n",
        "        probas = torch.softmax(logits, dim=-1)  # (batch, vocab_size)\n",
        "\n",
        "        # Get the idx of the vocab entry with the highest probability value\n",
        "        idx_next = torch.argmax(probas, dim=-1, keepdim=True)  # (batch, 1)\n",
        "\n",
        "        # Append sampled index to the running sequence\n",
        "        idx = torch.cat((idx, idx_next), dim=1)  # (batch, n_tokens+1)\n",
        "\n",
        "    return idx"
      ]
    },
    {
      "cell_type": "markdown",
      "metadata": {
        "id": "m8WpA3eQIZRB"
      },
      "source": [
        "   \n",
        "In the preceeding code, the generate_text_simple function, we use a softmax function to\n",
        "convert the logits into a probability distribution from which we identify the position with the\n",
        "highest value via torch.argmax.\n",
        "\n",
        "The softmax function is monotonic, meaning it preserves\n",
        "the order of its inputs when transformed into outputs.\n",
        "\n",
        "So, in practice, the softmax step is\n",
        "redundant since the position with the highest score in the softmax output tensor is the\n",
        "same position in the logit tensor.\n",
        "\n",
        "In other words, we could apply the torch.argmax function\n",
        "to the logits tensor directly and get identical results.\n",
        "\n",
        "However, we coded the conversion to\n",
        "illustrate the full process of transforming logits to probabilities, which can add additional\n",
        "intuition, such as that the model generates the most likely next token, which is known as\n",
        "greedy decoding."
      ]
    },
    {
      "cell_type": "markdown",
      "metadata": {
        "id": "b6on4cD2IZRB"
      },
      "source": [
        "    \n",
        "In the next chapter, when we will implement the GPT training code, we will also\n",
        "introduce additional sampling techniques where we modify the softmax outputs such that\n",
        "the model doesn't always select the most likely token, which introduces variability and\n",
        "creativity in the generated text."
      ]
    },
    {
      "cell_type": "markdown",
      "metadata": {
        "id": "_TM6zOZWIZRB"
      },
      "source": [
        "Let's now try out the generate_text_simple function with the \"Hello, I am\" context\n",
        "as model input"
      ]
    },
    {
      "cell_type": "markdown",
      "metadata": {
        "id": "pRfxKQGPIZRB"
      },
      "source": [
        "First, we encode the input context into token IDs:"
      ]
    },
    {
      "cell_type": "code",
      "execution_count": null,
      "metadata": {
        "colab": {
          "base_uri": "https://localhost:8080/"
        },
        "id": "3SbglOTJIZRB",
        "outputId": "906135b8-e9cb-4515-9d0c-fe387c0701ae"
      },
      "outputs": [
        {
          "name": "stdout",
          "output_type": "stream",
          "text": [
            "encoded: [15496, 11, 314, 716]\n",
            "encoded_tensor.shape: torch.Size([1, 4])\n"
          ]
        }
      ],
      "source": [
        "start_context = \"Hello, I am\"\n",
        "encoded = tokenizer.encode(start_context)\n",
        "print(\"encoded:\", encoded)\n",
        "encoded_tensor = torch.tensor(encoded).unsqueeze(0) #A\n",
        "print(\"encoded_tensor.shape:\", encoded_tensor.shape)"
      ]
    },
    {
      "cell_type": "markdown",
      "metadata": {
        "id": "ii6vWsRWIZRB"
      },
      "source": [
        "Next, we put the model into `.eval()` mode, which disables random components like\n",
        "dropout, which are only used during training, and use the generate_text_simple function\n",
        "on the encoded input tensor"
      ]
    },
    {
      "cell_type": "markdown",
      "metadata": {
        "id": "ptMjhOtOIZRB"
      },
      "source": [
        "We disable dropout since we are not training the model"
      ]
    },
    {
      "cell_type": "code",
      "execution_count": null,
      "metadata": {
        "colab": {
          "base_uri": "https://localhost:8080/"
        },
        "id": "VhGGUifAIZRB",
        "outputId": "92375fed-0a6b-4a4f-f0c1-9e83ce3815f9"
      },
      "outputs": [
        {
          "name": "stdout",
          "output_type": "stream",
          "text": [
            "Output: tensor([[15496,    11,   314,   716, 27018, 24086, 47843, 30961, 42348,  7267]])\n",
            "Output length: 10\n"
          ]
        }
      ],
      "source": [
        "model.eval() #A\n",
        "out = generate_text_simple(\n",
        "model=model,\n",
        "idx=encoded_tensor,\n",
        "max_new_tokens=6,\n",
        "context_size=GPT_CONFIG_124M[\"context_length\"]\n",
        ")\n",
        "print(\"Output:\", out)\n",
        "print(\"Output length:\", len(out[0]))"
      ]
    },
    {
      "cell_type": "markdown",
      "metadata": {
        "id": "fXyydYgoIZRB"
      },
      "source": [
        "Using the .decode method of the tokenizer, we can convert the IDs back into text"
      ]
    },
    {
      "cell_type": "code",
      "execution_count": null,
      "metadata": {
        "colab": {
          "base_uri": "https://localhost:8080/"
        },
        "id": "iMust-p1IZRC",
        "outputId": "cc56c6a0-b178-4605-c0ed-01e449e36f38"
      },
      "outputs": [
        {
          "name": "stdout",
          "output_type": "stream",
          "text": [
            "Hello, I am Featureiman Byeswickattribute argue\n"
          ]
        }
      ],
      "source": [
        "decoded_text = tokenizer.decode(out.squeeze(0).tolist())\n",
        "print(decoded_text)"
      ]
    },
    {
      "cell_type": "markdown",
      "metadata": {
        "id": "roeqQTuSIZRC"
      },
      "source": [
        "As we can see, based on the preceding output, the model generated gibberish, which is not\n",
        "at all coherent text.\n",
        "\n",
        "What happened?\n",
        "\n",
        "The reason why the model is unable to produce coherent text is that we haven't trained it yet.\n",
        "\n",
        "So far, we just\n",
        "implemented the GPT architecture and initialized a GPT model instance with initial random\n",
        "weights."
      ]
    },
    {
      "cell_type": "markdown",
      "metadata": {
        "id": "sN4flDE83-YY"
      },
      "source": []
    },
    {
      "cell_type": "markdown",
      "metadata": {
        "id": "X3sVSwybUt5N"
      },
      "source": [
        "# **EVALUATING GENERATIVE TEXT MODELS**"
      ]
    },
    {
      "cell_type": "markdown",
      "metadata": {
        "id": "D4KhIx6zUt5N"
      },
      "source": [
        "### **GPT Model class we coded earlier**"
      ]
    },
    {
      "cell_type": "code",
      "execution_count": null,
      "metadata": {
        "id": "cjb3oxcwUt5N"
      },
      "outputs": [],
      "source": [
        "class GPTModel(nn.Module):\n",
        "    def __init__(self, cfg):\n",
        "        super().__init__()\n",
        "        self.tok_emb = nn.Embedding(cfg[\"vocab_size\"], cfg[\"emb_dim\"])\n",
        "        self.pos_emb = nn.Embedding(cfg[\"context_length\"], cfg[\"emb_dim\"])\n",
        "        self.drop_emb = nn.Dropout(cfg[\"drop_rate\"])\n",
        "\n",
        "        self.trf_blocks = nn.Sequential(\n",
        "            *[TransformerBlock(cfg) for _ in range(cfg[\"n_layers\"])])\n",
        "\n",
        "        self.final_norm = LayerNorm(cfg[\"emb_dim\"])\n",
        "        self.out_head = nn.Linear(\n",
        "            cfg[\"emb_dim\"], cfg[\"vocab_size\"], bias=False\n",
        "        )\n",
        "\n",
        "    def forward(self, in_idx):\n",
        "        batch_size, seq_len = in_idx.shape\n",
        "        tok_embeds = self.tok_emb(in_idx)\n",
        "        pos_embeds = self.pos_emb(torch.arange(seq_len, device=in_idx.device))\n",
        "        x = tok_embeds + pos_embeds  # Shape [batch_size, num_tokens, emb_size]\n",
        "        x = self.drop_emb(x)\n",
        "        x = self.trf_blocks(x)\n",
        "        x = self.final_norm(x)\n",
        "        logits = self.out_head(x)\n",
        "        return logits"
      ]
    },
    {
      "cell_type": "markdown",
      "metadata": {
        "id": "2OBlN7noUt5O"
      },
      "source": [
        "### **Using GPT to generate text**"
      ]
    },
    {
      "cell_type": "markdown",
      "metadata": {
        "id": "LdYmXu17Ut5O"
      },
      "source": [
        "We initialize a GPT model using the code from the previous chapter"
      ]
    },
    {
      "cell_type": "code",
      "execution_count": null,
      "metadata": {
        "id": "RZwRATEdUt5O"
      },
      "outputs": [],
      "source": [
        "import torch\n",
        "\n",
        "GPT_CONFIG_124M = {\n",
        "    \"vocab_size\": 50257,   # Vocabulary size\n",
        "    \"context_length\": 256, # Shortened context length (orig: 1024)\n",
        "    \"emb_dim\": 768,        # Embedding dimension\n",
        "    \"n_heads\": 12,         # Number of attention heads\n",
        "    \"n_layers\": 12,        # Number of layers\n",
        "    \"drop_rate\": 0.1,      # Dropout rate\n",
        "    \"qkv_bias\": False      # Query-key-value bias\n",
        "}\n",
        "\n",
        "torch.manual_seed(123)\n",
        "model = GPTModel(GPT_CONFIG_124M)\n",
        "model.eval();  # Disable dropout during inference"
      ]
    },
    {
      "cell_type": "markdown",
      "metadata": {
        "id": "ImoU4Hc3Ut5O"
      },
      "source": [
        "We reduce the context length (context_length) of only 256 tokens to reduce the computational resource requirements for training the model, whereas the original 124 million parameter GPT-2 model used 1024 tokens\n",
        "\n",
        "This is so that more readers will be able to follow and execute the code examples on their laptop computer"
      ]
    },
    {
      "cell_type": "markdown",
      "metadata": {
        "id": "XgKfx9pLUt5O"
      },
      "source": [
        "Next, we use the `generate_text_simple` function from the previous chapter to generate text.\n",
        "\n",
        "In addition, we define two convenience functions, `text_to_token_ids and `token_ids_to_text`, for converting between token and text representations that we use throughout this chapter"
      ]
    },
    {
      "cell_type": "code",
      "execution_count": null,
      "metadata": {
        "colab": {
          "base_uri": "https://localhost:8080/"
        },
        "id": "u6BrjgpGUt5O",
        "outputId": "57cd928e-ad66-41a5-88c7-65e263fc70eb"
      },
      "outputs": [
        {
          "name": "stdout",
          "output_type": "stream",
          "text": [
            "Output text:\n",
            " Every effort moves you rentingetic wasnم refres RexMeCHicular stren\n"
          ]
        }
      ],
      "source": [
        "import tiktoken\n",
        "\n",
        "def text_to_token_ids(text, tokenizer):\n",
        "    encoded = tokenizer.encode(text, allowed_special={'<|endoftext|>'})\n",
        "    encoded_tensor = torch.tensor(encoded).unsqueeze(0) # add batch dimension\n",
        "    return encoded_tensor\n",
        "\n",
        "def token_ids_to_text(token_ids, tokenizer):\n",
        "    flat = token_ids.squeeze(0) # remove batch dimension\n",
        "    return tokenizer.decode(flat.tolist())\n",
        "\n",
        "start_context = \"Every effort moves you\"\n",
        "tokenizer = tiktoken.get_encoding(\"gpt2\")\n",
        "\n",
        "token_ids = generate_text_simple(\n",
        "    model=model,\n",
        "    idx=text_to_token_ids(start_context, tokenizer),\n",
        "    max_new_tokens=10,\n",
        "    context_size=GPT_CONFIG_124M[\"context_length\"]\n",
        ")\n",
        "\n",
        "print(\"Output text:\\n\", token_ids_to_text(token_ids, tokenizer))"
      ]
    },
    {
      "cell_type": "markdown",
      "metadata": {
        "id": "nDOkd_yoUt5O"
      },
      "source": [
        "As we can see above, the model does not produce good text because it has not been trained yet\n",
        "\n",
        "How do we measure or capture what \"good text\" is, in a numeric form, to track it during training?\n",
        "\n",
        "The next subsection introduces metrics to calculate a loss metric for the generated outputs that we can use to measure the training progress\n",
        "\n",
        "The next chapters on finetuning LLMs will also introduce additional ways to measure model quality\n"
      ]
    },
    {
      "cell_type": "markdown",
      "metadata": {
        "id": "nOvqBcrKUt5O"
      },
      "source": [
        "### **Calculating the text generation loss: cross-entropy and perplexity**"
      ]
    },
    {
      "cell_type": "markdown",
      "metadata": {
        "id": "TRhEj2OtUt5O"
      },
      "source": [
        "Suppose we have an inputs tensor containing the token IDs for 2 training examples (rows)\n",
        "\n",
        "Corresponding to the inputs, the targets contain the desired token IDs that we want the model to generate\n",
        "\n",
        "Notice that the targets are the inputs shifted by 1 position, as explained in chapter 2 when we implemented the data loader"
      ]
    },
    {
      "cell_type": "code",
      "execution_count": null,
      "metadata": {
        "id": "XgfA6zRiUt5O"
      },
      "outputs": [],
      "source": [
        "inputs = torch.tensor([[16833, 3626, 6100],   # [\"every effort moves\",\n",
        "                       [40,    1107, 588]])   #  \"I really like\"]\n",
        "\n",
        "targets = torch.tensor([[3626, 6100, 345  ],  # [\" effort moves you\",\n",
        "                        [1107,  588, 11311]]) #  \" really like chocolate\"]"
      ]
    },
    {
      "cell_type": "markdown",
      "metadata": {
        "id": "WQp_ZYi9Ut5O"
      },
      "source": [
        "Feeding the inputs to the model, we obtain the logits vector for the 2 input examples that consist of 3 tokens each\n",
        "\n",
        "Each of the tokens is a 50,257-dimensional vector corresponding to the size of the vocabulary\n",
        "\n",
        "Applying the softmax function, we can turn the logits tensor into a tensor of the same dimension containing probability scores"
      ]
    },
    {
      "cell_type": "code",
      "execution_count": null,
      "metadata": {
        "colab": {
          "base_uri": "https://localhost:8080/"
        },
        "id": "SpfiEadjUt5O",
        "outputId": "fb6eb3bf-c824-4871-de70-bf7dc42bb2d4"
      },
      "outputs": [
        {
          "name": "stdout",
          "output_type": "stream",
          "text": [
            "torch.Size([2, 3, 50257])\n"
          ]
        }
      ],
      "source": [
        "with torch.no_grad():\n",
        "    logits = model(inputs)\n",
        "\n",
        "probas = torch.softmax(logits, dim=-1) # Probability of each token in vocabulary\n",
        "print(probas.shape) # Shape: (batch_size, num_tokens, vocab_size)"
      ]
    },
    {
      "cell_type": "markdown",
      "metadata": {
        "id": "AYw9FuopUt5O"
      },
      "source": [
        "As discussed in the previous chapter, we can apply the argmax function to convert the probability scores into predicted token IDs.\n",
        "\n",
        "The softmax function above produced a 50,257-dimensional vector for each token; the argmax function returns the position of the highest probability score in this vector, which is the predicted token ID for the given token.\n",
        "\n",
        "Since we have 2 input batches with 3 tokens each, we obtain 2 by 3 predicted token IDs:"
      ]
    },
    {
      "cell_type": "code",
      "execution_count": null,
      "metadata": {
        "colab": {
          "base_uri": "https://localhost:8080/"
        },
        "id": "Oc8GO_zcUt5O",
        "outputId": "7437b982-6a32-4b15-9baa-1a3f7af7d38c"
      },
      "outputs": [
        {
          "name": "stdout",
          "output_type": "stream",
          "text": [
            "Token IDs:\n",
            " tensor([[[16657],\n",
            "         [  339],\n",
            "         [42826]],\n",
            "\n",
            "        [[49906],\n",
            "         [29669],\n",
            "         [41751]]])\n"
          ]
        }
      ],
      "source": [
        "token_ids = torch.argmax(probas, dim=-1, keepdim=True)\n",
        "print(\"Token IDs:\\n\", token_ids)"
      ]
    },
    {
      "cell_type": "markdown",
      "metadata": {
        "id": "NA-P9VAFUt5P"
      },
      "source": [
        "If we decode these tokens, we find that these are quite different from the tokens we want the model to predict, namely the target tokens.\n",
        "\n",
        "That's because the model wasn't trained yet.\n",
        "\n",
        "To train the model, we need to know how far it is away from the correct predictions (targets)"
      ]
    },
    {
      "cell_type": "code",
      "execution_count": null,
      "metadata": {
        "colab": {
          "base_uri": "https://localhost:8080/"
        },
        "id": "yt5Mf_kvUt5P",
        "outputId": "5ede6ddf-336f-4796-9b47-5d1ac430bb29"
      },
      "outputs": [
        {
          "name": "stdout",
          "output_type": "stream",
          "text": [
            "Targets batch 1:  effort moves you\n",
            "Outputs batch 1:  Armed heNetflix\n"
          ]
        }
      ],
      "source": [
        "print(f\"Targets batch 1: {token_ids_to_text(targets[0], tokenizer)}\")\n",
        "print(f\"Outputs batch 1: {token_ids_to_text(token_ids[0].flatten(), tokenizer)}\")"
      ]
    },
    {
      "cell_type": "markdown",
      "metadata": {
        "id": "XQT6CmADUt5P"
      },
      "source": [
        "### **Cross-entropy loss**"
      ]
    },
    {
      "cell_type": "markdown",
      "metadata": {
        "id": "L_g2NSCvUt5P"
      },
      "source": [
        "The token probabilities corresponding to the target indices are as follows:\n"
      ]
    },
    {
      "cell_type": "code",
      "execution_count": null,
      "metadata": {
        "colab": {
          "base_uri": "https://localhost:8080/"
        },
        "id": "csshdy9yUt5P",
        "outputId": "251acb24-ae19-406d-d595-5867791384ee"
      },
      "outputs": [
        {
          "name": "stdout",
          "output_type": "stream",
          "text": [
            "Text 1: tensor([    0.0001,     0.0000,     0.0000])\n",
            "Text 2: tensor([    0.0000,     0.0001,     0.0000])\n"
          ]
        }
      ],
      "source": [
        "text_idx = 0\n",
        "target_probas_1 = probas[text_idx, [0, 1, 2], targets[text_idx]]\n",
        "print(\"Text 1:\", target_probas_1)\n",
        "\n",
        "text_idx = 1\n",
        "target_probas_2 = probas[text_idx, [0, 1, 2], targets[text_idx]]\n",
        "print(\"Text 2:\", target_probas_2)"
      ]
    },
    {
      "cell_type": "markdown",
      "metadata": {
        "id": "Cz1g-mzWUt5P"
      },
      "source": [
        "We want to maximize all these values, bringing them close to a probability of 1.\n",
        "    \n",
        "In mathematical optimization, it is easier to maximize the logarithm of the probability score than the probability score itself."
      ]
    },
    {
      "cell_type": "code",
      "execution_count": null,
      "metadata": {
        "colab": {
          "base_uri": "https://localhost:8080/"
        },
        "id": "hMz_N7T6Ut5P",
        "outputId": "a2002534-540c-4f27-a1dc-8af3ca73f984"
      },
      "outputs": [
        {
          "name": "stdout",
          "output_type": "stream",
          "text": [
            "tensor([ -9.5042, -10.3796, -11.3677, -11.4798,  -9.7764, -12.2561])\n"
          ]
        }
      ],
      "source": [
        "# Compute logarithm of all token probabilities\n",
        "log_probas = torch.log(torch.cat((target_probas_1, target_probas_2)))\n",
        "print(log_probas)"
      ]
    },
    {
      "cell_type": "markdown",
      "metadata": {
        "id": "0NcsLWT1Ut5P"
      },
      "source": [
        "Next, we compute the average log probability:"
      ]
    },
    {
      "cell_type": "code",
      "execution_count": null,
      "metadata": {
        "colab": {
          "base_uri": "https://localhost:8080/"
        },
        "id": "S9VO4y-GUt5P",
        "outputId": "2f4f2db5-ac62-4a0e-d530-da3c1f14791c"
      },
      "outputs": [
        {
          "name": "stdout",
          "output_type": "stream",
          "text": [
            "tensor(-10.7940)\n"
          ]
        }
      ],
      "source": [
        "# Calculate the average probability for each token\n",
        "avg_log_probas = torch.mean(log_probas)\n",
        "print(avg_log_probas)"
      ]
    },
    {
      "cell_type": "markdown",
      "metadata": {
        "id": "YNwxn9CwUt5P"
      },
      "source": [
        "The goal is to make this average log probability as large as possible by optimizing the model weights.\n",
        "\n",
        "Due to the log, the largest possible value is 0, and we are currently far away from 0.\n",
        "\n",
        "In deep learning, instead of maximizing the average log-probability, it's a standard convention to minimize the negative average log-probability value; in our case, instead of maximizing -10.7722 so that it approaches 0, in deep learning, we would minimize 10.7722 so that it approaches 0.\n",
        "\n",
        "The value negative of -10.7722, i.e., 10.7722, is also called cross-entropy loss in deep learning."
      ]
    },
    {
      "cell_type": "code",
      "execution_count": null,
      "metadata": {
        "colab": {
          "base_uri": "https://localhost:8080/"
        },
        "id": "uhtSQ0-1Ut5P",
        "outputId": "2a4591e9-5ce0-4fe4-93a3-45a32e923cb7"
      },
      "outputs": [
        {
          "name": "stdout",
          "output_type": "stream",
          "text": [
            "tensor(10.7940)\n"
          ]
        }
      ],
      "source": [
        "neg_avg_log_probas = avg_log_probas * -1\n",
        "print(neg_avg_log_probas)"
      ]
    },
    {
      "cell_type": "markdown",
      "metadata": {
        "id": "KNvlOsegUt5P"
      },
      "source": [
        "PyTorch already implements a cross_entropy function that carries out the previous steps\n",
        "\n",
        "Before we apply the cross_entropy function, let's check the shape of the logits and targets"
      ]
    },
    {
      "cell_type": "code",
      "execution_count": null,
      "metadata": {
        "colab": {
          "base_uri": "https://localhost:8080/"
        },
        "id": "99EW7WKjUt5P",
        "outputId": "33292643-98b5-4c54-cd8a-8994d175fc77"
      },
      "outputs": [
        {
          "name": "stdout",
          "output_type": "stream",
          "text": [
            "Logits shape: torch.Size([2, 3, 50257])\n",
            "Targets shape: torch.Size([2, 3])\n"
          ]
        }
      ],
      "source": [
        "# Logits have shape (batch_size, num_tokens, vocab_size)\n",
        "print(\"Logits shape:\", logits.shape)\n",
        "\n",
        "# Targets have shape (batch_size, num_tokens)\n",
        "print(\"Targets shape:\", targets.shape)"
      ]
    },
    {
      "cell_type": "markdown",
      "metadata": {
        "id": "b6V8w9pQUt5Q"
      },
      "source": [
        "For the cross_entropy function in PyTorch, we want to flatten these tensors by combining them over the batch dimension"
      ]
    },
    {
      "cell_type": "code",
      "execution_count": null,
      "metadata": {
        "colab": {
          "background_save": true
        },
        "id": "9mMGn9IlUt5Q"
      },
      "outputs": [],
      "source": [
        "logits_flat = logits.flatten(0, 1)\n",
        "targets_flat = targets.flatten()\n",
        "\n",
        "print(\"Flattened logits:\", logits_flat.shape)\n",
        "print(\"Flattened targets:\", targets_flat.shape)"
      ]
    },
    {
      "cell_type": "markdown",
      "metadata": {
        "id": "yoj4QElqUt5Q"
      },
      "source": [
        "Note that the targets are the token IDs, which also represent the index positions in the logits tensors that we want to maximize.\n",
        "    \n",
        "The cross_entropy function in PyTorch will automatically take care of applying the softmax and log-probability computation internally over those token indices in the logits that are to be maximized"
      ]
    },
    {
      "cell_type": "code",
      "execution_count": null,
      "metadata": {
        "colab": {
          "background_save": true
        },
        "id": "w8OKdW90Ut5Q"
      },
      "outputs": [],
      "source": [
        "loss = torch.nn.functional.cross_entropy(logits_flat, targets_flat)\n",
        "print(loss)"
      ]
    },
    {
      "cell_type": "markdown",
      "metadata": {
        "id": "SV1raew0Ut5Q"
      },
      "source": [
        "### **Perplexity**"
      ]
    },
    {
      "cell_type": "markdown",
      "metadata": {
        "id": "bPjRZ9FhUt5Q"
      },
      "source": [
        "A concept related to the cross-entropy loss is the perplexity of an LLM.\n",
        "\n",
        "The perplexity is simply the exponential of the cross-entropy loss."
      ]
    },
    {
      "cell_type": "code",
      "execution_count": null,
      "metadata": {
        "colab": {
          "background_save": true
        },
        "id": "AKmJpPAgUt5Q"
      },
      "outputs": [],
      "source": [
        "perplexity = torch.exp(loss)\n",
        "print(perplexity)"
      ]
    },
    {
      "cell_type": "markdown",
      "metadata": {
        "id": "no9cKT64Ut5Q"
      },
      "source": [
        "The perplexity is often considered more interpretable because it can be understood as the effective vocabulary size that the model is uncertain about at each step (in the example above, that'd be 48,725 words or tokens).\n",
        "\n",
        "In other words, perplexity provides a measure of how well the probability distribution predicted by the model matches the actual distribution of the words in the dataset.\n",
        "    \n",
        "Similar to the loss, a lower perplexity indicates that the model predictions are closer to the actual distribution"
      ]
    },
    {
      "cell_type": "markdown",
      "metadata": {
        "id": "l5nI2eVwUt5Q"
      },
      "source": [
        "### **Calculating the training and validation set losses**"
      ]
    },
    {
      "cell_type": "markdown",
      "metadata": {
        "id": "EFhedz4OUt5Q"
      },
      "source": [
        "We use a relatively small dataset for training the LLM (in fact, only one short story)\n",
        "\n",
        "The reasons are:\n",
        "\n",
        "You can run the code examples in a few minutes on a laptop computer without a suitable GPU.\n",
        "\n",
        "The training finishes relatively fast (minutes instead of weeks), which is good for educational purposes.\n",
        "    \n",
        "We use a text from the public domain, which can be included in this GitHub repository without violating any usage rights or bloating the repository size.\n",
        "    \n",
        "For example, Llama 2 7B required 184,320 GPU hours on A100 GPUs to be trained on 2 trillion tokens\n",
        "\n",
        "At the time of this writing, the hourly cost of an 8xA100 cloud server at AWS is approximately 30 dollars.\n",
        "\n",
        "So, via an off-the-envelope calculation, training this LLM would cost 184,320 / 8 * 30 = 690,000 dollars\n",
        "\n"
      ]
    },
    {
      "cell_type": "code",
      "execution_count": null,
      "metadata": {
        "colab": {
          "background_save": true
        },
        "id": "sPARFx5WUt5Q"
      },
      "outputs": [],
      "source": [
        "import os\n",
        "import urllib.request\n",
        "\n",
        "file_path = \"the-verdict.txt\"\n",
        "url = \"https://raw.githubusercontent.com/rasbt/LLMs-from-scratch/main/ch02/01_main-chapter-code/the-verdict.txt\"\n",
        "\n",
        "if not os.path.exists(file_path):\n",
        "    with urllib.request.urlopen(url) as response:\n",
        "        text_data = response.read().decode('utf-8')\n",
        "    with open(file_path, \"w\", encoding=\"utf-8\") as file:\n",
        "        file.write(text_data)\n",
        "else:\n",
        "    with open(file_path, \"r\", encoding=\"utf-8\") as file:\n",
        "        text_data = file.read()"
      ]
    },
    {
      "cell_type": "markdown",
      "metadata": {
        "id": "OQ81_jxQUt5Q"
      },
      "source": [
        "A quick check that the text loaded ok by printing the first and last 100 words"
      ]
    },
    {
      "cell_type": "code",
      "execution_count": null,
      "metadata": {
        "colab": {
          "base_uri": "https://localhost:8080/"
        },
        "id": "mu8zS1uiUt5Q",
        "outputId": "045bad65-15f1-4668-9f2f-143c6e7ec8ab"
      },
      "outputs": [
        {
          "name": "stdout",
          "output_type": "stream",
          "text": [
            "I had always thought Jack Gisburn rather a cheap genius--though a\n",
            "\n",
            "good fellow enough--so it was no\n"
          ]
        }
      ],
      "source": [
        "# First 100 characters\n",
        "print(text_data[:99])"
      ]
    },
    {
      "cell_type": "code",
      "execution_count": null,
      "metadata": {
        "colab": {
          "base_uri": "https://localhost:8080/"
        },
        "id": "ltcBPjG5Ut5R",
        "outputId": "2d551ebd-2750-4e86-fef1-fc19ae419a15"
      },
      "outputs": [
        {
          "name": "stdout",
          "output_type": "stream",
          "text": [
            "and alone, and happen once--but\n",
            "\n",
            "there's no exterminating our kind of art.\"\n",
            "\n",
            "The End of The Verdict\n"
          ]
        }
      ],
      "source": [
        "# Last 100 characters\n",
        "print(text_data[-99:])"
      ]
    },
    {
      "cell_type": "code",
      "execution_count": null,
      "metadata": {
        "colab": {
          "background_save": true
        },
        "id": "FXCtbAoYUt5R"
      },
      "outputs": [],
      "source": [
        "total_characters = len(text_data)\n",
        "total_tokens = len(tokenizer.encode(text_data))\n",
        "\n",
        "print(\"Characters:\", total_characters)\n",
        "print(\"Tokens:\", total_tokens)"
      ]
    },
    {
      "cell_type": "markdown",
      "metadata": {
        "id": "Y-h4oAJtUt5R"
      },
      "source": [
        "With 5,145 tokens, the text is very short for training an LLM, but again, it's for educational purposes (we will also load pretrained weights later).\n",
        "\n",
        "Next, we divide the dataset into a training and a validation set and use the data loaders from chapter 2 to prepare the batches for LLM training.\n",
        "    \n",
        "For visualization purposes, the figure below assumes a max_length=6, but for the training loader, we set the max_length equal to the context length that the LLM supports.\n",
        "\n",
        "Since we train the LLM to predict the next word in the text, the targets look the same as these inputs, except that the targets are shifted by one position    "
      ]
    },
    {
      "cell_type": "code",
      "execution_count": null,
      "metadata": {
        "id": "fwxa9OYqUt5R"
      },
      "outputs": [],
      "source": [
        "# Train/validation ratio\n",
        "train_ratio = 0.90\n",
        "split_idx = int(train_ratio * len(text_data))\n",
        "train_data = text_data[:split_idx]\n",
        "val_data = text_data[split_idx:]\n",
        "\n",
        "\n",
        "torch.manual_seed(123)\n",
        "\n",
        "train_loader = create_dataloader_v1(\n",
        "    train_data,\n",
        "    batch_size=2,\n",
        "    max_length=GPT_CONFIG_124M[\"context_length\"],\n",
        "    stride=GPT_CONFIG_124M[\"context_length\"],\n",
        "    drop_last=True,\n",
        "    shuffle=True,\n",
        "    num_workers=0\n",
        ")\n",
        "\n",
        "val_loader = create_dataloader_v1(\n",
        "    val_data,\n",
        "    batch_size=2,\n",
        "    max_length=GPT_CONFIG_124M[\"context_length\"],\n",
        "    stride=GPT_CONFIG_124M[\"context_length\"],\n",
        "    drop_last=False,\n",
        "    shuffle=False,\n",
        "    num_workers=0\n",
        ")"
      ]
    },
    {
      "cell_type": "code",
      "execution_count": null,
      "metadata": {
        "colab": {
          "background_save": true
        },
        "id": "X84GkJQdUt5R"
      },
      "outputs": [],
      "source": [
        "# Sanity check\n",
        "\n",
        "if total_tokens * (train_ratio) < GPT_CONFIG_124M[\"context_length\"]:\n",
        "    print(\"Not enough tokens for the training loader. \"\n",
        "          \"Try to lower the `GPT_CONFIG_124M['context_length']` or \"\n",
        "          \"increase the `training_ratio`\")\n",
        "\n",
        "if total_tokens * (1-train_ratio) < GPT_CONFIG_124M[\"context_length\"]:\n",
        "    print(\"Not enough tokens for the validation loader. \"\n",
        "          \"Try to lower the `GPT_CONFIG_124M['context_length']` or \"\n",
        "          \"decrease the `training_ratio`\")"
      ]
    },
    {
      "cell_type": "markdown",
      "metadata": {
        "id": "NXW9YdFzUt5R"
      },
      "source": [
        "We use a relatively small batch size to reduce the computational resource demand, and because the dataset is very small to begin with.\n",
        "\n",
        "Llama 2 7B was trained with a batch size of 1024, for example."
      ]
    },
    {
      "cell_type": "markdown",
      "metadata": {
        "id": "rITfC8iLUt5R"
      },
      "source": [
        "An optional check that the data was loaded correctly"
      ]
    },
    {
      "cell_type": "code",
      "execution_count": null,
      "metadata": {
        "colab": {
          "background_save": true
        },
        "id": "sqtIdyfmUt5R"
      },
      "outputs": [],
      "source": [
        "print(\"Train loader:\")\n",
        "for x, y in train_loader:\n",
        "    print(x.shape, y.shape)\n",
        "\n",
        "print(\"\\nValidation loader:\")\n",
        "for x, y in val_loader:\n",
        "    print(x.shape, y.shape)"
      ]
    },
    {
      "cell_type": "markdown",
      "metadata": {
        "id": "laLsAobXUt5S"
      },
      "source": [
        "An optional check that the data was loaded correctly"
      ]
    },
    {
      "cell_type": "code",
      "execution_count": null,
      "metadata": {
        "colab": {
          "background_save": true
        },
        "id": "RBZE3IvLUt5S"
      },
      "outputs": [],
      "source": [
        "train_tokens = 0\n",
        "for input_batch, target_batch in train_loader:\n",
        "    train_tokens += input_batch.numel()\n",
        "\n",
        "val_tokens = 0\n",
        "for input_batch, target_batch in val_loader:\n",
        "    val_tokens += input_batch.numel()\n",
        "\n",
        "print(\"Training tokens:\", train_tokens)\n",
        "print(\"Validation tokens:\", val_tokens)\n",
        "print(\"All tokens:\", train_tokens + val_tokens)"
      ]
    },
    {
      "cell_type": "markdown",
      "metadata": {
        "id": "kBE0GESYUt5S"
      },
      "source": [
        "Next, we implement a utility function to calculate the cross-entropy loss of a given batch.\n",
        "\n",
        "In addition, we implement a second utility function to compute the loss for a user-specified number of batches in a data loader"
      ]
    },
    {
      "cell_type": "code",
      "execution_count": null,
      "metadata": {
        "colab": {
          "background_save": true
        },
        "id": "71gREdTDUt5S"
      },
      "outputs": [],
      "source": [
        "def calc_loss_batch(input_batch, target_batch, model, device):\n",
        "    input_batch, target_batch = input_batch.to(device), target_batch.to(device)\n",
        "    logits = model(input_batch)\n",
        "    loss = torch.nn.functional.cross_entropy(logits.flatten(0, 1), target_batch.flatten())\n",
        "    return loss\n",
        "\n",
        "\n",
        "def calc_loss_loader(data_loader, model, device, num_batches=None):\n",
        "    total_loss = 0.\n",
        "    if len(data_loader) == 0:\n",
        "        return float(\"nan\")\n",
        "    elif num_batches is None:\n",
        "        num_batches = len(data_loader)\n",
        "    else:\n",
        "        # Reduce the number of batches to match the total number of batches in the data loader\n",
        "        # if num_batches exceeds the number of batches in the data loader\n",
        "        num_batches = min(num_batches, len(data_loader))\n",
        "    for i, (input_batch, target_batch) in enumerate(data_loader):\n",
        "        if i < num_batches:\n",
        "            loss = calc_loss_batch(input_batch, target_batch, model, device)\n",
        "            total_loss += loss.item()\n",
        "        else:\n",
        "            break\n",
        "    return total_loss / num_batches"
      ]
    },
    {
      "cell_type": "markdown",
      "metadata": {
        "id": "-JaNIPpyUt5S"
      },
      "source": [
        "If you have a machine with a CUDA-supported GPU, the LLM will train on the GPU without making any changes to the code.\n",
        "    \n",
        "Via the device setting, we ensure that the data is loaded onto the same device as the LLM model."
      ]
    },
    {
      "cell_type": "code",
      "execution_count": null,
      "metadata": {
        "colab": {
          "base_uri": "https://localhost:8080/"
        },
        "id": "1ZNPFh3lUt5T",
        "outputId": "8882c132-9abc-4a00-cdb0-7b9a561be8ce"
      },
      "outputs": [
        {
          "name": "stdout",
          "output_type": "stream",
          "text": [
            "Training loss: 10.97004451751709\n",
            "Validation loss: 10.984174728393555\n"
          ]
        }
      ],
      "source": [
        "device = torch.device(\"cuda\" if torch.cuda.is_available() else \"cpu\")\n",
        "\n",
        "# Note:\n",
        "# Uncommenting the following lines will allow the code to run on Apple Silicon chips, if applicable,\n",
        "# which is approximately 2x faster than on an Apple CPU (as measured on an M3 MacBook Air).\n",
        "# However, the resulting loss values may be slightly different.\n",
        "\n",
        "#if torch.cuda.is_available():\n",
        "#    device = torch.device(\"cuda\")\n",
        "#elif torch.backends.mps.is_available():\n",
        "#    device = torch.device(\"mps\")\n",
        "#else:\n",
        "#    device = torch.device(\"cpu\")\n",
        "#\n",
        "# print(f\"Using {device} device.\")\n",
        "\n",
        "\n",
        "model.to(device) # no assignment model = model.to(device) necessary for nn.Module classes\n",
        "\n",
        "\n",
        "torch.manual_seed(123) # For reproducibility due to the shuffling in the data loader\n",
        "\n",
        "with torch.no_grad(): # Disable gradient tracking for efficiency because we are not training, yet\n",
        "    train_loss = calc_loss_loader(train_loader, model, device)\n",
        "    val_loss = calc_loss_loader(val_loader, model, device)\n",
        "\n",
        "print(\"Training loss:\", train_loss)\n",
        "print(\"Validation loss:\", val_loss)"
      ]
    },
    {
      "cell_type": "code",
      "execution_count": null,
      "metadata": {
        "colab": {
          "background_save": true
        },
        "id": "_Vby0GwcUt5T"
      },
      "outputs": [],
      "source": []
    }
  ],
  "metadata": {
    "colab": {
      "provenance": [],
      "toc_visible": true
    },
    "kernelspec": {
      "display_name": "Python 3 (ipykernel)",
      "language": "python",
      "name": "python3"
    },
    "language_info": {
      "codemirror_mode": {
        "name": "ipython",
        "version": 3
      },
      "file_extension": ".py",
      "mimetype": "text/x-python",
      "name": "python",
      "nbconvert_exporter": "python",
      "pygments_lexer": "ipython3",
      "version": "3.12.2"
    }
  },
  "nbformat": 4,
  "nbformat_minor": 0
}